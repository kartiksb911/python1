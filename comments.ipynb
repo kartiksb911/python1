{
 "cells": [
  {
   "cell_type": "markdown",
   "id": "dc43d909-adb6-4719-a401-5c64d61012c5",
   "metadata": {},
   "source": [
    "## markdown in python"
   ]
  },
  {
   "cell_type": "code",
   "execution_count": null,
   "id": "258fea75-9b84-45ae-82ac-51559bdc52fd",
   "metadata": {},
   "outputs": [],
   "source": []
  },
  {
   "cell_type": "markdown",
   "id": "a332f639-552e-45b0-8a3d-6828db5ed96e",
   "metadata": {},
   "source": [
    "**Markdown is a simple way to format text that looks great on any device.\n",
    "It doesn’t do anything fancy like change the font size, color, or type —\n",
    "just the essentials, using keyboard symbols you already know.**"
   ]
  },
  {
   "cell_type": "code",
   "execution_count": null,
   "id": "d7e4f746-3706-43e9-bacd-dfbe976ac2f7",
   "metadata": {},
   "outputs": [],
   "source": [
    "*Italic*    \t_Italic_     \tItalic\n",
    "**Bold**  \t__Bold__     \tBold"
   ]
  },
  {
   "cell_type": "code",
   "execution_count": null,
   "id": "62625649-2014-46ea-8296-b4724d332224",
   "metadata": {},
   "outputs": [],
   "source": []
  },
  {
   "cell_type": "markdown",
   "id": "b7562977-47b2-46a0-b200-48397f547fe5",
   "metadata": {},
   "source": [
    "## comments in python"
   ]
  },
  {
   "cell_type": "code",
   "execution_count": null,
   "id": "0f083fc4-177a-41ee-a9b3-c1f2c8cedbcb",
   "metadata": {},
   "outputs": [],
   "source": []
  },
  {
   "cell_type": "markdown",
   "id": "cd435b07-446e-4a4e-b83b-df5851123c85",
   "metadata": {},
   "source": [
    "**comments enhance the code readability and help the coder to undestand the code**\n",
    "\n",
    "**(# --->> hash mark) is used and it ignore the line**"
   ]
  },
  {
   "cell_type": "code",
   "execution_count": 1,
   "id": "89f6dd71-d004-4f1b-8c8e-74d3143caa98",
   "metadata": {
    "tags": []
   },
   "outputs": [
    {
     "name": "stdout",
     "output_type": "stream",
     "text": [
      "comment\n"
     ]
    }
   ],
   "source": [
    "# this is comment\n",
    "print(\"comment\")"
   ]
  },
  {
   "cell_type": "code",
   "execution_count": null,
   "id": "a959bbf2-8500-45ff-b109-004b6267de1c",
   "metadata": {},
   "outputs": [],
   "source": []
  },
  {
   "cell_type": "code",
   "execution_count": 2,
   "id": "b28c52b2-f951-444c-9c48-0cf1e79e8b7a",
   "metadata": {
    "tags": []
   },
   "outputs": [
    {
     "name": "stdout",
     "output_type": "stream",
     "text": [
      "comment\n"
     ]
    }
   ],
   "source": [
    "print(\"comment\") # this is comment"
   ]
  },
  {
   "cell_type": "code",
   "execution_count": null,
   "id": "b0fa827e-52e4-4e01-9c16-5293511992b0",
   "metadata": {},
   "outputs": [],
   "source": []
  },
  {
   "cell_type": "code",
   "execution_count": 3,
   "id": "310480e8-470a-4a33-aa01-7bad68d18fca",
   "metadata": {
    "tags": []
   },
   "outputs": [
    {
     "name": "stdout",
     "output_type": "stream",
     "text": [
      "tom\n"
     ]
    }
   ],
   "source": [
    "# this is the comment\n",
    "# written in more than one line\n",
    "\n",
    "print(\"tom\")"
   ]
  },
  {
   "cell_type": "code",
   "execution_count": null,
   "id": "a3f478d7-7f61-47c6-9372-e61aca6b9125",
   "metadata": {},
   "outputs": [],
   "source": []
  },
  {
   "cell_type": "code",
   "execution_count": 4,
   "id": "73788b50-5c9e-4d09-827f-ee22af70e67e",
   "metadata": {
    "tags": []
   },
   "outputs": [
    {
     "name": "stdout",
     "output_type": "stream",
     "text": [
      "tom\n"
     ]
    }
   ],
   "source": [
    "\"\"\"this is the comment\n",
    " written in\n",
    " more than one line\"\"\"\n",
    "\n",
    "print(\"tom\")"
   ]
  },
  {
   "cell_type": "code",
   "execution_count": null,
   "id": "37ca40da-2539-45e9-8773-3a4c0b0f0500",
   "metadata": {},
   "outputs": [],
   "source": []
  },
  {
   "cell_type": "code",
   "execution_count": 5,
   "id": "49de3228-55b1-472b-8bb9-b1daa7426aea",
   "metadata": {
    "tags": []
   },
   "outputs": [
    {
     "name": "stdout",
     "output_type": "stream",
     "text": [
      "tom\n"
     ]
    }
   ],
   "source": [
    "\"\"\"\n",
    "this is the comment\n",
    " written in\n",
    " more than one line\n",
    " \"\"\"\n",
    "\n",
    "print(\"tom\")"
   ]
  },
  {
   "cell_type": "code",
   "execution_count": 8,
   "id": "f5bad333-f727-4c6a-a0d3-5c65e5c9e777",
   "metadata": {
    "tags": []
   },
   "outputs": [
    {
     "name": "stdout",
     "output_type": "stream",
     "text": [
      "THIS is the comment\n",
      " written in\n",
      " more than one line\n",
      " \n"
     ]
    }
   ],
   "source": [
    "\"\"\"this is the comment\n",
    " written in\n",
    " more than one line\n",
    " \"\"\"\n",
    "s=\"\"\"THIS is the comment\n",
    " written in\n",
    " more than one line\n",
    " \"\"\"\n",
    "print(s)\n"
   ]
  },
  {
   "cell_type": "markdown",
   "id": "2538c2e3-0f5c-4c41-868c-5dc1010515c9",
   "metadata": {},
   "source": [
    "### docstring in python"
   ]
  },
  {
   "cell_type": "markdown",
   "id": "ead89bf0-5f68-4918-8363-75c124aafdaa",
   "metadata": {},
   "source": [
    "**python docstring are the strings which help to understand a function , class , module and \n",
    "used after the function**"
   ]
  },
  {
   "cell_type": "code",
   "execution_count": 10,
   "id": "311cc197-2702-46c3-a6b2-7bd5b3182843",
   "metadata": {
    "tags": []
   },
   "outputs": [
    {
     "name": "stdout",
     "output_type": "stream",
     "text": [
      "123\n"
     ]
    }
   ],
   "source": [
    "def fxn():\n",
    "    \"\"\" this is my docstr\"\"\"\n",
    "    print(\"123\")\n",
    "fxn()    "
   ]
  },
  {
   "cell_type": "code",
   "execution_count": 11,
   "id": "03d2fe05-5330-46f3-a54a-159193647953",
   "metadata": {
    "tags": []
   },
   "outputs": [
    {
     "name": "stdout",
     "output_type": "stream",
     "text": [
      " this is my docstr\n"
     ]
    }
   ],
   "source": [
    "# attribut.__doc__\n",
    "\n",
    "print(fxn.__doc__)"
   ]
  },
  {
   "cell_type": "code",
   "execution_count": null,
   "id": "675d36b3-1591-4a97-80f7-a88b8b260a9b",
   "metadata": {},
   "outputs": [],
   "source": []
  },
  {
   "cell_type": "code",
   "execution_count": 14,
   "id": "d729e0d2-9cbf-4749-80a0-41eb86136b8f",
   "metadata": {
    "tags": []
   },
   "outputs": [
    {
     "name": "stdout",
     "output_type": "stream",
     "text": [
      "123\n"
     ]
    }
   ],
   "source": [
    "def fxn():\n",
    "    print(\"123\")\n",
    "    \"\"\" this is my docstr\"\"\"     # it is count as comment because it is not used after the function\n",
    "fxn()       "
   ]
  },
  {
   "cell_type": "code",
   "execution_count": 15,
   "id": "ef818831-d64e-4612-9c55-c73387e9233a",
   "metadata": {
    "tags": []
   },
   "outputs": [
    {
     "name": "stdout",
     "output_type": "stream",
     "text": [
      "None\n"
     ]
    }
   ],
   "source": [
    "print(fxn.__doc__)"
   ]
  },
  {
   "cell_type": "code",
   "execution_count": null,
   "id": "214cb4de-729f-424e-a523-578cf858ea63",
   "metadata": {},
   "outputs": [],
   "source": []
  }
 ],
 "metadata": {
  "kernelspec": {
   "display_name": "Python 3 (ipykernel)",
   "language": "python",
   "name": "python3"
  },
  "language_info": {
   "codemirror_mode": {
    "name": "ipython",
    "version": 3
   },
   "file_extension": ".py",
   "mimetype": "text/x-python",
   "name": "python",
   "nbconvert_exporter": "python",
   "pygments_lexer": "ipython3",
   "version": "3.11.5"
  }
 },
 "nbformat": 4,
 "nbformat_minor": 5
}
