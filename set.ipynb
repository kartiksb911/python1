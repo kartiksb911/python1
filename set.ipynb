{
 "cells": [
  {
   "cell_type": "markdown",
   "id": "f3abd3d5-f1a9-4011-ac7e-4fe659a89d57",
   "metadata": {},
   "source": [
    "#### set = hetrogeneous and homogeneous , duplicate not allowed ,\n",
    "#### unordered , indexing/slicing not allowed ,unchangeble"
   ]
  },
  {
   "cell_type": "code",
   "execution_count": 1,
   "id": "a9e4a698-a84b-4bb1-87b5-a172e7449cc2",
   "metadata": {
    "tags": []
   },
   "outputs": [
    {
     "data": {
      "text/plain": [
       "set"
      ]
     },
     "execution_count": 1,
     "metadata": {},
     "output_type": "execute_result"
    }
   ],
   "source": [
    "s = {1,2,3,1}\n",
    "type(s)"
   ]
  },
  {
   "cell_type": "code",
   "execution_count": 10,
   "id": "c9948189-6494-43fa-acef-435a2c853c60",
   "metadata": {
    "tags": []
   },
   "outputs": [
    {
     "data": {
      "text/plain": [
       "1"
      ]
     },
     "execution_count": 10,
     "metadata": {},
     "output_type": "execute_result"
    }
   ],
   "source": [
    "s1 = { True,1,1,1,1,1,1,1,True }\n",
    "len(s1)"
   ]
  },
  {
   "cell_type": "code",
   "execution_count": 3,
   "id": "b4387830-6876-4413-bb10-e72bd7a3d46a",
   "metadata": {
    "tags": []
   },
   "outputs": [
    {
     "data": {
      "text/plain": [
       "4"
      ]
     },
     "execution_count": 3,
     "metadata": {},
     "output_type": "execute_result"
    }
   ],
   "source": [
    "s2 = { 1,2,3,4,1,2,3,4 }\n",
    "len(s2)"
   ]
  },
  {
   "cell_type": "code",
   "execution_count": 4,
   "id": "7dc431d5-f489-48d7-981a-02f5e6363c74",
   "metadata": {
    "tags": []
   },
   "outputs": [
    {
     "data": {
      "text/plain": [
       "4"
      ]
     },
     "execution_count": 4,
     "metadata": {},
     "output_type": "execute_result"
    }
   ],
   "source": [
    "max(s2)"
   ]
  },
  {
   "cell_type": "code",
   "execution_count": 5,
   "id": "51bd2c7e-8126-4cac-8a88-628057c814bb",
   "metadata": {
    "tags": []
   },
   "outputs": [
    {
     "data": {
      "text/plain": [
       "1"
      ]
     },
     "execution_count": 5,
     "metadata": {},
     "output_type": "execute_result"
    }
   ],
   "source": [
    "min(s2)"
   ]
  },
  {
   "cell_type": "markdown",
   "id": "086f5ec8-b7e5-4f54-b203-558519d36d1e",
   "metadata": {},
   "source": [
    "### doesn't support multiplication and addition of two set"
   ]
  },
  {
   "cell_type": "code",
   "execution_count": 6,
   "id": "cb16d7a8-49dc-4aeb-85ef-79cc001eda0f",
   "metadata": {
    "tags": []
   },
   "outputs": [
    {
     "ename": "TypeError",
     "evalue": "unsupported operand type(s) for *: 'set' and 'int'",
     "output_type": "error",
     "traceback": [
      "\u001b[1;31m---------------------------------------------------------------------------\u001b[0m",
      "\u001b[1;31mTypeError\u001b[0m                                 Traceback (most recent call last)",
      "Cell \u001b[1;32mIn[6], line 1\u001b[0m\n\u001b[1;32m----> 1\u001b[0m s\u001b[38;5;241m*\u001b[39m\u001b[38;5;241m3\u001b[39m\n\u001b[0;32m      2\u001b[0m s\n",
      "\u001b[1;31mTypeError\u001b[0m: unsupported operand type(s) for *: 'set' and 'int'"
     ]
    }
   ],
   "source": [
    "s*3\n",
    "s"
   ]
  },
  {
   "cell_type": "code",
   "execution_count": 7,
   "id": "508823fc-3fc7-4a9a-8a45-49c1add9006b",
   "metadata": {
    "tags": []
   },
   "outputs": [
    {
     "ename": "TypeError",
     "evalue": "unsupported operand type(s) for +: 'set' and 'set'",
     "output_type": "error",
     "traceback": [
      "\u001b[1;31m---------------------------------------------------------------------------\u001b[0m",
      "\u001b[1;31mTypeError\u001b[0m                                 Traceback (most recent call last)",
      "Cell \u001b[1;32mIn[7], line 1\u001b[0m\n\u001b[1;32m----> 1\u001b[0m s\u001b[38;5;241m+\u001b[39ms1\n",
      "\u001b[1;31mTypeError\u001b[0m: unsupported operand type(s) for +: 'set' and 'set'"
     ]
    }
   ],
   "source": [
    "s+s1"
   ]
  },
  {
   "cell_type": "code",
   "execution_count": 8,
   "id": "e57e540b-ad4f-47d6-905b-5636b519b0bf",
   "metadata": {},
   "outputs": [
    {
     "data": {
      "text/plain": [
       "{2, 3}"
      ]
     },
     "execution_count": 8,
     "metadata": {},
     "output_type": "execute_result"
    }
   ],
   "source": [
    "s-s1   ## element of A which are not present in the B is called == difference"
   ]
  },
  {
   "cell_type": "code",
   "execution_count": null,
   "id": "ab3b1adb-3dc7-408c-9fa5-99535695e768",
   "metadata": {},
   "outputs": [],
   "source": []
  },
  {
   "cell_type": "markdown",
   "id": "69cbcb78-e4ba-4b95-9d3b-9477f5356d89",
   "metadata": {
    "tags": []
   },
   "source": [
    "## method of set -------->>>>>>\n",
    "\n"
   ]
  },
  {
   "cell_type": "code",
   "execution_count": 1,
   "id": "37dcb56c-6561-41d2-821f-2754c630ebf3",
   "metadata": {
    "tags": []
   },
   "outputs": [],
   "source": [
    "s3 = {1,2,3,4}"
   ]
  },
  {
   "cell_type": "code",
   "execution_count": 2,
   "id": "68b726f2-c4e9-4956-b701-c6235448e58b",
   "metadata": {
    "tags": []
   },
   "outputs": [],
   "source": [
    "s4 = s3.copy()"
   ]
  },
  {
   "cell_type": "code",
   "execution_count": 3,
   "id": "23280104-ed09-4fdd-b134-3d065f640390",
   "metadata": {
    "tags": []
   },
   "outputs": [
    {
     "data": {
      "text/plain": [
       "{1, 2, 3, 4}"
      ]
     },
     "execution_count": 3,
     "metadata": {},
     "output_type": "execute_result"
    }
   ],
   "source": [
    "s4"
   ]
  },
  {
   "cell_type": "code",
   "execution_count": null,
   "id": "f8d82b3e-76ce-4619-a500-a95ef7b68c58",
   "metadata": {},
   "outputs": [],
   "source": []
  },
  {
   "cell_type": "markdown",
   "id": "0fccfedf-305b-4fc2-998c-c8d3ebcfa19d",
   "metadata": {},
   "source": [
    "### clear and delete "
   ]
  },
  {
   "cell_type": "code",
   "execution_count": 27,
   "id": "200db30d-981b-4a16-b5cf-069b535ee67b",
   "metadata": {
    "tags": []
   },
   "outputs": [
    {
     "data": {
      "text/plain": [
       "{1, 2, 3, 4, 8}"
      ]
     },
     "execution_count": 27,
     "metadata": {},
     "output_type": "execute_result"
    }
   ],
   "source": [
    "s3"
   ]
  },
  {
   "cell_type": "code",
   "execution_count": 11,
   "id": "d1e836c1-c0d0-4ec8-98b9-8ccc57eb821f",
   "metadata": {
    "tags": []
   },
   "outputs": [],
   "source": [
    "s3.clear()"
   ]
  },
  {
   "cell_type": "code",
   "execution_count": 12,
   "id": "48b19049-6eca-4fb5-8340-2004ee4343bd",
   "metadata": {
    "tags": []
   },
   "outputs": [
    {
     "data": {
      "text/plain": [
       "set()"
      ]
     },
     "execution_count": 12,
     "metadata": {},
     "output_type": "execute_result"
    }
   ],
   "source": [
    "s3"
   ]
  },
  {
   "cell_type": "code",
   "execution_count": 28,
   "id": "f2c96f7f-2030-4b05-9b01-420e9c52c1f4",
   "metadata": {
    "tags": []
   },
   "outputs": [
    {
     "data": {
      "text/plain": [
       "5"
      ]
     },
     "execution_count": 28,
     "metadata": {},
     "output_type": "execute_result"
    }
   ],
   "source": [
    "len(s3)"
   ]
  },
  {
   "cell_type": "code",
   "execution_count": 29,
   "id": "3796df7d-6141-412c-917a-b2a8a46b5937",
   "metadata": {
    "tags": []
   },
   "outputs": [],
   "source": [
    "del(s3)"
   ]
  },
  {
   "cell_type": "code",
   "execution_count": 31,
   "id": "9b4f8b64-13b6-467d-952a-5331a0ef9335",
   "metadata": {
    "tags": []
   },
   "outputs": [
    {
     "ename": "NameError",
     "evalue": "name 's3' is not defined",
     "output_type": "error",
     "traceback": [
      "\u001b[1;31m---------------------------------------------------------------------------\u001b[0m",
      "\u001b[1;31mNameError\u001b[0m                                 Traceback (most recent call last)",
      "Cell \u001b[1;32mIn[31], line 1\u001b[0m\n\u001b[1;32m----> 1\u001b[0m s3\n",
      "\u001b[1;31mNameError\u001b[0m: name 's3' is not defined"
     ]
    }
   ],
   "source": [
    "s3 ## completlly delete the set"
   ]
  },
  {
   "cell_type": "code",
   "execution_count": null,
   "id": "a03e1003-266c-44ae-8efe-cc88a20a7112",
   "metadata": {},
   "outputs": [],
   "source": []
  },
  {
   "cell_type": "code",
   "execution_count": null,
   "id": "d4b24efe-3d95-4e5a-a6cf-e5f6aab2ec78",
   "metadata": {},
   "outputs": [],
   "source": []
  },
  {
   "cell_type": "markdown",
   "id": "66aa0020-963e-4959-a434-9b7c5e7f97ee",
   "metadata": {},
   "source": [
    "### add element ( only one argumrnt is add)"
   ]
  },
  {
   "cell_type": "code",
   "execution_count": 32,
   "id": "8f19ffd6-d241-42db-9643-a4566b3332e8",
   "metadata": {
    "tags": []
   },
   "outputs": [],
   "source": [
    "s5 = { \"hello\" , 3.2 ,True ,(2,3) }\n"
   ]
  },
  {
   "cell_type": "code",
   "execution_count": 22,
   "id": "c15043e6-6168-424d-a6f7-3fca84f76ffc",
   "metadata": {
    "tags": []
   },
   "outputs": [
    {
     "data": {
      "text/plain": [
       "{(2, 3), 3.2, True, 'add', 'hello'}"
      ]
     },
     "execution_count": 22,
     "metadata": {},
     "output_type": "execute_result"
    }
   ],
   "source": [
    "s5.add(\"add\" )\n",
    "s5"
   ]
  },
  {
   "cell_type": "markdown",
   "id": "3fcf4150-9f6f-40a1-856f-f25c39958768",
   "metadata": {},
   "source": [
    "### update element ( add more than one argument in the set )"
   ]
  },
  {
   "cell_type": "code",
   "execution_count": 24,
   "id": "c90a643b-dc89-496e-842f-f6e768c6e21d",
   "metadata": {
    "tags": []
   },
   "outputs": [],
   "source": [
    "s5.update([(9,8),\"*\"])"
   ]
  },
  {
   "cell_type": "code",
   "execution_count": 25,
   "id": "24d293d6-b94c-471c-8df7-eaf4574e2ccd",
   "metadata": {
    "tags": []
   },
   "outputs": [
    {
     "data": {
      "text/plain": [
       "{(2, 3), (9, 8), '*', 3.2, True, 'add', 'hello'}"
      ]
     },
     "execution_count": 25,
     "metadata": {},
     "output_type": "execute_result"
    }
   ],
   "source": [
    "s5"
   ]
  },
  {
   "cell_type": "markdown",
   "id": "bf41f61a-856d-4322-8c84-9dde70915e97",
   "metadata": {},
   "source": [
    "#### important = set only add or update only imutable in it \n",
    "#### means add / update = string ,int ,tuple \n",
    "#### don't add / update = list ,dict"
   ]
  },
  {
   "cell_type": "code",
   "execution_count": null,
   "id": "9ca6d7d1-a61d-4222-9475-cf4407e50188",
   "metadata": {},
   "outputs": [],
   "source": []
  },
  {
   "cell_type": "markdown",
   "id": "628023dc-3c09-4df6-a43e-20a5554ec9fe",
   "metadata": {},
   "source": [
    "#### remove = if element is present otherwise it show error "
   ]
  },
  {
   "cell_type": "code",
   "execution_count": 32,
   "id": "0b44fab0-197f-45de-9705-0913ae68ca36",
   "metadata": {
    "tags": []
   },
   "outputs": [],
   "source": [
    "s5.remove((9, 8))"
   ]
  },
  {
   "cell_type": "code",
   "execution_count": 33,
   "id": "3f1b896d-8517-4b22-8a71-832fd7188e33",
   "metadata": {
    "tags": []
   },
   "outputs": [
    {
     "data": {
      "text/plain": [
       "{'*', 3.2, True, 'add', 'hello'}"
      ]
     },
     "execution_count": 33,
     "metadata": {},
     "output_type": "execute_result"
    }
   ],
   "source": [
    "s5"
   ]
  },
  {
   "cell_type": "code",
   "execution_count": 34,
   "id": "539ec9e4-2a61-4a3c-9bd3-484a165c2ac7",
   "metadata": {
    "tags": []
   },
   "outputs": [
    {
     "ename": "KeyError",
     "evalue": "'kartik'",
     "output_type": "error",
     "traceback": [
      "\u001b[1;31m---------------------------------------------------------------------------\u001b[0m",
      "\u001b[1;31mKeyError\u001b[0m                                  Traceback (most recent call last)",
      "Cell \u001b[1;32mIn[34], line 1\u001b[0m\n\u001b[1;32m----> 1\u001b[0m s5\u001b[38;5;241m.\u001b[39mremove(\u001b[38;5;124m\"\u001b[39m\u001b[38;5;124mkartik\u001b[39m\u001b[38;5;124m\"\u001b[39m)\n",
      "\u001b[1;31mKeyError\u001b[0m: 'kartik'"
     ]
    }
   ],
   "source": [
    "s5.remove(\"kartik\")"
   ]
  },
  {
   "cell_type": "markdown",
   "id": "45ff95e1-7687-476e-8495-0944eddaecd4",
   "metadata": {},
   "source": [
    "### discard = if element is present or not it doesn't show error"
   ]
  },
  {
   "cell_type": "code",
   "execution_count": 35,
   "id": "0240d7b0-034a-42dd-bec6-bc07c9477401",
   "metadata": {
    "tags": []
   },
   "outputs": [
    {
     "data": {
      "text/plain": [
       "{'*', 3.2, True, 'add', 'hello'}"
      ]
     },
     "execution_count": 35,
     "metadata": {},
     "output_type": "execute_result"
    }
   ],
   "source": [
    "s5.discard(\"kartik\")\n",
    "s5"
   ]
  },
  {
   "cell_type": "code",
   "execution_count": 36,
   "id": "5fe8a3a7-0029-4ea7-838f-db41af576a74",
   "metadata": {
    "tags": []
   },
   "outputs": [
    {
     "data": {
      "text/plain": [
       "{'*', 3.2, True, 'add'}"
      ]
     },
     "execution_count": 36,
     "metadata": {},
     "output_type": "execute_result"
    }
   ],
   "source": [
    "s5.discard(\"hello\")\n",
    "s5"
   ]
  },
  {
   "cell_type": "code",
   "execution_count": null,
   "id": "249536c7-738e-495e-a5fe-b94bf83d5553",
   "metadata": {},
   "outputs": [],
   "source": []
  },
  {
   "cell_type": "markdown",
   "id": "bcd06007-b4ce-4f7f-a460-12fc76bf85e7",
   "metadata": {},
   "source": [
    "### union(all element) and intersection(common element)"
   ]
  },
  {
   "cell_type": "code",
   "execution_count": 7,
   "id": "f48e3914-55b5-41be-81ed-d0c0e8ffe30d",
   "metadata": {
    "tags": []
   },
   "outputs": [],
   "source": [
    "s0 = { 1,2,3,4}\n",
    "s01 = { 3,4,5,6}"
   ]
  },
  {
   "cell_type": "code",
   "execution_count": 8,
   "id": "a330e8c5-4b65-4f3e-b89c-09a10c4976c6",
   "metadata": {
    "tags": []
   },
   "outputs": [
    {
     "data": {
      "text/plain": [
       "{1, 2, 3, 4, 5, 6}"
      ]
     },
     "execution_count": 8,
     "metadata": {},
     "output_type": "execute_result"
    }
   ],
   "source": [
    "s0.union(s01)"
   ]
  },
  {
   "cell_type": "code",
   "execution_count": 9,
   "id": "d5efa74c-29eb-4516-ae21-7dbe59c99b3c",
   "metadata": {
    "tags": []
   },
   "outputs": [
    {
     "data": {
      "text/plain": [
       "{3, 4}"
      ]
     },
     "execution_count": 9,
     "metadata": {},
     "output_type": "execute_result"
    }
   ],
   "source": [
    "s01.intersection(s0)"
   ]
  },
  {
   "cell_type": "code",
   "execution_count": 10,
   "id": "3058b2fe-fd75-4b82-899c-7907b88cbd91",
   "metadata": {},
   "outputs": [
    {
     "name": "stdout",
     "output_type": "stream",
     "text": [
      "{1, 2, 3, 4}\n",
      "{3, 4, 5, 6}\n"
     ]
    }
   ],
   "source": [
    "print(s0)\n",
    "print(s01)"
   ]
  },
  {
   "cell_type": "code",
   "execution_count": null,
   "id": "856b2463-7f34-45ec-92f4-4f411c0d56dd",
   "metadata": {},
   "outputs": [],
   "source": []
  },
  {
   "cell_type": "code",
   "execution_count": 11,
   "id": "7be0d3ed-a968-4eb9-b346-9fd1b2af2faf",
   "metadata": {
    "tags": []
   },
   "outputs": [
    {
     "data": {
      "text/plain": [
       "False"
      ]
     },
     "execution_count": 11,
     "metadata": {},
     "output_type": "execute_result"
    }
   ],
   "source": [
    " ### Docstring: Return True if two sets have a null intersection\n",
    "    \n",
    "s0.isdisjoint(s01)"
   ]
  },
  {
   "cell_type": "code",
   "execution_count": null,
   "id": "15744ed6-763e-4661-a67c-87ab8c016024",
   "metadata": {},
   "outputs": [],
   "source": []
  },
  {
   "cell_type": "code",
   "execution_count": 12,
   "id": "4318b4eb-1fa1-40dc-b050-ec60b91092f8",
   "metadata": {
    "tags": []
   },
   "outputs": [
    {
     "data": {
      "text/plain": [
       "False"
      ]
     },
     "execution_count": 12,
     "metadata": {},
     "output_type": "execute_result"
    }
   ],
   "source": [
    "### Docstring: Report whether another set contains this set.\n",
    "\n",
    "s0.issubset(s01)"
   ]
  },
  {
   "cell_type": "code",
   "execution_count": null,
   "id": "bebb85e2-2044-4f80-a9a1-d0c5e1dd7951",
   "metadata": {},
   "outputs": [],
   "source": []
  },
  {
   "cell_type": "code",
   "execution_count": 13,
   "id": "31bb85e2-1f3d-463b-b19c-e49d4e958358",
   "metadata": {
    "tags": []
   },
   "outputs": [
    {
     "data": {
      "text/plain": [
       "False"
      ]
     },
     "execution_count": 13,
     "metadata": {},
     "output_type": "execute_result"
    }
   ],
   "source": [
    "### Docstring: Report whether this set contains another set.\n",
    "\n",
    "s0.issuperset(s01)"
   ]
  },
  {
   "cell_type": "code",
   "execution_count": null,
   "id": "62ded263-b10d-4135-b1d4-5c4b02fad673",
   "metadata": {},
   "outputs": [],
   "source": []
  },
  {
   "cell_type": "markdown",
   "id": "e7af08b7-c24d-44a1-8cd9-80fc966446ce",
   "metadata": {},
   "source": [
    "### union and update difference"
   ]
  },
  {
   "cell_type": "code",
   "execution_count": 33,
   "id": "5c1cb706-9ef6-464d-8fdd-e3dd200fd16c",
   "metadata": {
    "tags": []
   },
   "outputs": [],
   "source": [
    "u = { 1,2,3,4}\n",
    "d = { 3,4,5,6}"
   ]
  },
  {
   "cell_type": "code",
   "execution_count": 34,
   "id": "a9608132-5fac-4b42-a0af-099daab56012",
   "metadata": {
    "tags": []
   },
   "outputs": [
    {
     "data": {
      "text/plain": [
       "{1, 2, 3, 4, 5, 6}"
      ]
     },
     "execution_count": 34,
     "metadata": {},
     "output_type": "execute_result"
    }
   ],
   "source": [
    "u.union(d)"
   ]
  },
  {
   "cell_type": "code",
   "execution_count": 35,
   "id": "556ef830-8a5a-4023-a640-675070a569a0",
   "metadata": {
    "tags": []
   },
   "outputs": [
    {
     "data": {
      "text/plain": [
       "{1, 2, 3, 4}"
      ]
     },
     "execution_count": 35,
     "metadata": {},
     "output_type": "execute_result"
    }
   ],
   "source": [
    "u"
   ]
  },
  {
   "cell_type": "code",
   "execution_count": 36,
   "id": "ddcd6856-a9a6-4d2f-aee1-c28faf358c6a",
   "metadata": {
    "tags": []
   },
   "outputs": [],
   "source": [
    "u.update(d)"
   ]
  },
  {
   "cell_type": "code",
   "execution_count": 37,
   "id": "56f8687f-ebe2-48df-a924-98af0c909bb0",
   "metadata": {
    "tags": []
   },
   "outputs": [
    {
     "data": {
      "text/plain": [
       "{1, 2, 3, 4, 5, 6}"
      ]
     },
     "execution_count": 37,
     "metadata": {},
     "output_type": "execute_result"
    }
   ],
   "source": [
    "u"
   ]
  },
  {
   "cell_type": "code",
   "execution_count": null,
   "id": "2dcdbc4c-021f-4c1b-a4ad-04b45cd62fbc",
   "metadata": {},
   "outputs": [],
   "source": []
  },
  {
   "cell_type": "markdown",
   "id": "10d4700a-84ef-42f3-b163-c303bfc45d54",
   "metadata": {},
   "source": [
    "# set vs frozenset"
   ]
  },
  {
   "cell_type": "code",
   "execution_count": 4,
   "id": "d0d839eb-4ec6-4583-a34c-12d2ee67dc23",
   "metadata": {
    "tags": []
   },
   "outputs": [],
   "source": [
    "## set ----> mutable \n",
    "## frozenset ---->> immutable"
   ]
  },
  {
   "cell_type": "code",
   "execution_count": null,
   "id": "cd9de5ba-d23c-44ca-a05f-d30204b43d09",
   "metadata": {},
   "outputs": [],
   "source": []
  },
  {
   "cell_type": "code",
   "execution_count": 5,
   "id": "ccdff44c-26e9-411e-9504-a45e6782116c",
   "metadata": {
    "tags": []
   },
   "outputs": [],
   "source": [
    "set_obj = set([1,2,3])\n",
    "set_obj.add(4)"
   ]
  },
  {
   "cell_type": "code",
   "execution_count": 6,
   "id": "3aafdce5-7408-4229-a1e1-97517224d4aa",
   "metadata": {
    "tags": []
   },
   "outputs": [
    {
     "data": {
      "text/plain": [
       "{1, 2, 3, 4}"
      ]
     },
     "execution_count": 6,
     "metadata": {},
     "output_type": "execute_result"
    }
   ],
   "source": [
    "set_obj"
   ]
  },
  {
   "cell_type": "code",
   "execution_count": null,
   "id": "8d13a659-e393-4ca3-854c-9e384bbfab64",
   "metadata": {},
   "outputs": [],
   "source": []
  },
  {
   "cell_type": "code",
   "execution_count": 7,
   "id": "65aa2b2c-201d-4685-b062-4cbd027789b0",
   "metadata": {
    "tags": []
   },
   "outputs": [
    {
     "ename": "AttributeError",
     "evalue": "'frozenset' object has no attribute 'add'",
     "output_type": "error",
     "traceback": [
      "\u001b[1;31m---------------------------------------------------------------------------\u001b[0m",
      "\u001b[1;31mAttributeError\u001b[0m                            Traceback (most recent call last)",
      "Cell \u001b[1;32mIn[7], line 2\u001b[0m\n\u001b[0;32m      1\u001b[0m froz_obj \u001b[38;5;241m=\u001b[39m \u001b[38;5;28mfrozenset\u001b[39m([\u001b[38;5;241m1\u001b[39m,\u001b[38;5;241m2\u001b[39m,\u001b[38;5;241m3\u001b[39m])\n\u001b[1;32m----> 2\u001b[0m froz_obj\u001b[38;5;241m.\u001b[39madd(\u001b[38;5;241m4\u001b[39m)\n\u001b[0;32m      3\u001b[0m froz_obj\n",
      "\u001b[1;31mAttributeError\u001b[0m: 'frozenset' object has no attribute 'add'"
     ]
    }
   ],
   "source": [
    "froz_obj = frozenset([1,2,3])\n",
    "froz_obj.add(4)\n",
    "froz_obj"
   ]
  },
  {
   "cell_type": "code",
   "execution_count": null,
   "id": "2a33ba3a-214d-483d-afcb-e6d7c8ed9984",
   "metadata": {},
   "outputs": [],
   "source": []
  },
  {
   "cell_type": "code",
   "execution_count": 8,
   "id": "6f11df44-b9bd-4d85-b0e4-ecb3ddd61066",
   "metadata": {
    "tags": []
   },
   "outputs": [],
   "source": [
    "import os"
   ]
  },
  {
   "cell_type": "code",
   "execution_count": 9,
   "id": "ce54cc1c-f452-490c-be2b-a9275d985dee",
   "metadata": {
    "tags": []
   },
   "outputs": [
    {
     "ename": "TypeError",
     "evalue": "stat: path should be string, bytes, os.PathLike or integer, not set",
     "output_type": "error",
     "traceback": [
      "\u001b[1;31m---------------------------------------------------------------------------\u001b[0m",
      "\u001b[1;31mTypeError\u001b[0m                                 Traceback (most recent call last)",
      "Cell \u001b[1;32mIn[9], line 1\u001b[0m\n\u001b[1;32m----> 1\u001b[0m os\u001b[38;5;241m.\u001b[39mpath\u001b[38;5;241m.\u001b[39mgetsize(set_obj)\n",
      "File \u001b[1;32m<frozen genericpath>:50\u001b[0m, in \u001b[0;36mgetsize\u001b[1;34m(filename)\u001b[0m\n",
      "\u001b[1;31mTypeError\u001b[0m: stat: path should be string, bytes, os.PathLike or integer, not set"
     ]
    }
   ],
   "source": [
    "os.path.getsize(set_obj)"
   ]
  },
  {
   "cell_type": "code",
   "execution_count": null,
   "id": "6beae1d9-343f-41a5-8dd4-36455479b9b6",
   "metadata": {},
   "outputs": [],
   "source": []
  }
 ],
 "metadata": {
  "kernelspec": {
   "display_name": "Python 3 (ipykernel)",
   "language": "python",
   "name": "python3"
  },
  "language_info": {
   "codemirror_mode": {
    "name": "ipython",
    "version": 3
   },
   "file_extension": ".py",
   "mimetype": "text/x-python",
   "name": "python",
   "nbconvert_exporter": "python",
   "pygments_lexer": "ipython3",
   "version": "3.11.5"
  }
 },
 "nbformat": 4,
 "nbformat_minor": 5
}
