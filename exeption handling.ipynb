{
 "cells": [
  {
   "cell_type": "markdown",
   "id": "9cb81046-4fe4-460c-bc00-23277b9ba890",
   "metadata": {},
   "source": [
    "## try - *run the code*\n",
    "## except - *execute the code if there is qn exeption*"
   ]
  },
  {
   "cell_type": "code",
   "execution_count": 1,
   "id": "8b6d856b-d2bd-484c-a5f7-3218e915a890",
   "metadata": {
    "tags": []
   },
   "outputs": [
    {
     "name": "stdin",
     "output_type": "stream",
     "text": [
      "enter your number here:  7\n"
     ]
    },
    {
     "name": "stdout",
     "output_type": "stream",
     "text": [
      "can't add int and str\n"
     ]
    }
   ],
   "source": [
    "try:\n",
    "    a = input(\"enter your number here: \")\n",
    "    b = a+4\n",
    "    print(b)\n",
    "except:\n",
    "    print(\"can't add int and str\")"
   ]
  },
  {
   "cell_type": "code",
   "execution_count": null,
   "id": "7360425b-5f18-4e0c-a5a3-98852e414780",
   "metadata": {},
   "outputs": [],
   "source": []
  },
  {
   "cell_type": "code",
   "execution_count": 3,
   "id": "f0a4df2f-a801-4a03-8750-750588881f15",
   "metadata": {
    "tags": []
   },
   "outputs": [
    {
     "name": "stdin",
     "output_type": "stream",
     "text": [
      " 0\n"
     ]
    },
    {
     "name": "stdout",
     "output_type": "stream",
     "text": [
      "zeroDivisionError\n"
     ]
    }
   ],
   "source": [
    "try:\n",
    "    n1 = int(input())\n",
    "    a = 3/n1\n",
    "except :\n",
    "    print(\"zeroDivisionError\")\n",
    "    "
   ]
  },
  {
   "cell_type": "code",
   "execution_count": null,
   "id": "92e094a9-684c-4da0-bb4d-d38c0938e4f8",
   "metadata": {},
   "outputs": [],
   "source": []
  },
  {
   "cell_type": "code",
   "execution_count": 8,
   "id": "382582d2-8da4-46a1-a5d9-9aedfd4a956a",
   "metadata": {
    "tags": []
   },
   "outputs": [
    {
     "name": "stdin",
     "output_type": "stream",
     "text": [
      " 3\n"
     ]
    },
    {
     "name": "stdout",
     "output_type": "stream",
     "text": [
      "ok\n"
     ]
    }
   ],
   "source": [
    "try:\n",
    "    n1 = int(input())\n",
    "    a = 3/n1\n",
    "except:\n",
    "    print(\"zeroDivisionError\")\n",
    "else:\n",
    "    print(\"ok\")"
   ]
  },
  {
   "cell_type": "code",
   "execution_count": null,
   "id": "cb77436e-acdd-4358-8b71-dfd6b0e71470",
   "metadata": {},
   "outputs": [],
   "source": []
  },
  {
   "cell_type": "code",
   "execution_count": null,
   "id": "3ab9a0e4-0e79-4d2e-8c22-8152d78717e2",
   "metadata": {},
   "outputs": [],
   "source": [
    "    "
   ]
  },
  {
   "cell_type": "code",
   "execution_count": null,
   "id": "e845318a-a33a-4dc3-a181-17052dcebc27",
   "metadata": {},
   "outputs": [],
   "source": []
  },
  {
   "cell_type": "code",
   "execution_count": null,
   "id": "28230a52-3907-4de4-a528-56f927bbb6bd",
   "metadata": {},
   "outputs": [],
   "source": []
  },
  {
   "cell_type": "code",
   "execution_count": null,
   "id": "af90b04c-64b3-450b-867e-bcf84c1c4965",
   "metadata": {},
   "outputs": [],
   "source": []
  }
 ],
 "metadata": {
  "kernelspec": {
   "display_name": "Python 3 (ipykernel)",
   "language": "python",
   "name": "python3"
  },
  "language_info": {
   "codemirror_mode": {
    "name": "ipython",
    "version": 3
   },
   "file_extension": ".py",
   "mimetype": "text/x-python",
   "name": "python",
   "nbconvert_exporter": "python",
   "pygments_lexer": "ipython3",
   "version": "3.11.5"
  }
 },
 "nbformat": 4,
 "nbformat_minor": 5
}
