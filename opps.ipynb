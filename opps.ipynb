{
 "cells": [
  {
   "cell_type": "code",
   "execution_count": 3,
   "id": "304829b2-84c7-45e6-8023-5c16aceec0a3",
   "metadata": {
    "tags": []
   },
   "outputs": [],
   "source": [
    "class bike:\n",
    "    pass"
   ]
  },
  {
   "cell_type": "code",
   "execution_count": null,
   "id": "a19632d2-e751-4915-95cf-94711f2ca637",
   "metadata": {},
   "outputs": [],
   "source": []
  },
  {
   "cell_type": "code",
   "execution_count": 7,
   "id": "ddb262c9-3987-4223-a510-d88a3cd31669",
   "metadata": {
    "tags": []
   },
   "outputs": [],
   "source": [
    "class car:\n",
    "    speed=500"
   ]
  },
  {
   "cell_type": "code",
   "execution_count": 8,
   "id": "32c79c7a-81be-4b86-8453-4911b6ab84c4",
   "metadata": {
    "tags": []
   },
   "outputs": [
    {
     "name": "stdout",
     "output_type": "stream",
     "text": [
      "500\n"
     ]
    }
   ],
   "source": [
    "car1 = car()\n",
    "print(car1.speed)"
   ]
  },
  {
   "cell_type": "markdown",
   "id": "b191e290-d4b1-47aa-8510-2a1ea010f032",
   "metadata": {},
   "source": [
    "# *1st*"
   ]
  },
  {
   "cell_type": "code",
   "execution_count": 9,
   "id": "bda87336-29e9-4404-b0fe-be86c94130bb",
   "metadata": {
    "tags": []
   },
   "outputs": [],
   "source": [
    "class person:\n",
    "    def __init__(self,name,age,group):\n",
    "        self.name = name\n",
    "        self.age = age\n",
    "        self.group = group\n",
    "        "
   ]
  },
  {
   "cell_type": "code",
   "execution_count": 11,
   "id": "0e5c957b-bd3c-4c9c-80f2-b7b5b0db17ec",
   "metadata": {
    "tags": []
   },
   "outputs": [],
   "source": [
    "person1 =person(\"kartik\",22,\"A\")"
   ]
  },
  {
   "cell_type": "code",
   "execution_count": 13,
   "id": "2eb5d5db-6b06-40eb-8b93-573264b1b5f7",
   "metadata": {
    "tags": []
   },
   "outputs": [
    {
     "data": {
      "text/plain": [
       "22"
      ]
     },
     "execution_count": 13,
     "metadata": {},
     "output_type": "execute_result"
    }
   ],
   "source": [
    "person1.age"
   ]
  },
  {
   "cell_type": "code",
   "execution_count": 14,
   "id": "a287cb40-d5eb-4cc0-bc66-08c0a2f8d9f1",
   "metadata": {
    "tags": []
   },
   "outputs": [
    {
     "data": {
      "text/plain": [
       "'kartik'"
      ]
     },
     "execution_count": 14,
     "metadata": {},
     "output_type": "execute_result"
    }
   ],
   "source": [
    "person1.name"
   ]
  },
  {
   "cell_type": "code",
   "execution_count": null,
   "id": "314066cf-1e50-4583-b9f2-956f34bd4653",
   "metadata": {},
   "outputs": [],
   "source": []
  },
  {
   "cell_type": "code",
   "execution_count": 15,
   "id": "0181e77d-b6e3-4cf7-aaf1-8bfd7e222f4d",
   "metadata": {
    "tags": []
   },
   "outputs": [],
   "source": [
    "person2 = person(\"ram\",21,\"B\")"
   ]
  },
  {
   "cell_type": "code",
   "execution_count": 16,
   "id": "294e7e7b-c52d-4b4b-b099-77f70df7b7c1",
   "metadata": {
    "tags": []
   },
   "outputs": [
    {
     "data": {
      "text/plain": [
       "'B'"
      ]
     },
     "execution_count": 16,
     "metadata": {},
     "output_type": "execute_result"
    }
   ],
   "source": [
    "person2.group"
   ]
  },
  {
   "cell_type": "markdown",
   "id": "5691be65-befd-4923-9ef4-f5a6f2ec6a1e",
   "metadata": {},
   "source": [
    "# *2nd*"
   ]
  },
  {
   "cell_type": "code",
   "execution_count": 36,
   "id": "c1040e18-ac2f-4e3a-ac91-e78d248eb66e",
   "metadata": {
    "tags": []
   },
   "outputs": [],
   "source": [
    "class dog:\n",
    "    def __init__(self,name,color,age):\n",
    "        self.name=name\n",
    "        self.color=color\n",
    "        self.age=age\n",
    "        \n",
    "        "
   ]
  },
  {
   "cell_type": "code",
   "execution_count": 37,
   "id": "19dcce24-d4f6-4407-8659-d3cc203f511d",
   "metadata": {
    "tags": []
   },
   "outputs": [],
   "source": [
    "dog1 = dog(\"cenk\",\"black\",4)"
   ]
  },
  {
   "cell_type": "code",
   "execution_count": 38,
   "id": "89f9d0e2-ee76-41a3-8986-f964bc753de8",
   "metadata": {
    "tags": []
   },
   "outputs": [
    {
     "data": {
      "text/plain": [
       "'cenk'"
      ]
     },
     "execution_count": 38,
     "metadata": {},
     "output_type": "execute_result"
    }
   ],
   "source": [
    "dog1.name"
   ]
  },
  {
   "cell_type": "code",
   "execution_count": 39,
   "id": "3009f264-4d81-43fa-8794-fbfb0a397795",
   "metadata": {
    "tags": []
   },
   "outputs": [],
   "source": [
    "dog2 = dog(\"blu\",\"grey\",6)"
   ]
  },
  {
   "cell_type": "code",
   "execution_count": 40,
   "id": "dc5beac7-a14f-4fa7-b7b1-a5b8c224ec4a",
   "metadata": {
    "tags": []
   },
   "outputs": [
    {
     "data": {
      "text/plain": [
       "'grey'"
      ]
     },
     "execution_count": 40,
     "metadata": {},
     "output_type": "execute_result"
    }
   ],
   "source": [
    "dog2.color"
   ]
  },
  {
   "cell_type": "code",
   "execution_count": 41,
   "id": "e79e9ae2-546a-4176-becb-2800833f6837",
   "metadata": {
    "tags": []
   },
   "outputs": [
    {
     "name": "stdout",
     "output_type": "stream",
     "text": [
      "blu is my name , grey is my color and i am 6 years old\n"
     ]
    }
   ],
   "source": [
    "print(f\"{dog2.name} is my name , {dog2.color} is my color and i am {dog2.age} years old\")"
   ]
  },
  {
   "cell_type": "code",
   "execution_count": null,
   "id": "7feee20a-8591-4cf4-acb7-e1913dd7592f",
   "metadata": {},
   "outputs": [],
   "source": []
  },
  {
   "cell_type": "code",
   "execution_count": 42,
   "id": "7699b7f9-ef6b-4299-abbd-46163fa04ff7",
   "metadata": {
    "tags": []
   },
   "outputs": [
    {
     "name": "stdout",
     "output_type": "stream",
     "text": [
      "cenk is my name , black is my color and i am 4 years old\n"
     ]
    }
   ],
   "source": [
    "print(f\"{dog1.name} is my name , {dog1.color} is my color and i am {dog1.age} years old\")"
   ]
  },
  {
   "cell_type": "code",
   "execution_count": null,
   "id": "09a59a22-fc80-4845-a0cb-6fdf6d763532",
   "metadata": {},
   "outputs": [],
   "source": []
  },
  {
   "cell_type": "code",
   "execution_count": 1,
   "id": "a8c327ed-c4c4-4fbd-93fa-8e0215a0a1e4",
   "metadata": {
    "tags": []
   },
   "outputs": [],
   "source": [
    "class bike:\n",
    "    def __init__(self,name,color,speed):\n",
    "        self.name = name\n",
    "        self.color=color\n",
    "        self.speed=speed\n",
    "        \n",
    "    def info(self):\n",
    "        print(f\"name-->{self.name} ,color--->{self.color},speed--->{self.speed}\")"
   ]
  },
  {
   "cell_type": "code",
   "execution_count": 2,
   "id": "a81b3b9b-3342-4398-ba26-3a9bce71fe4a",
   "metadata": {
    "tags": []
   },
   "outputs": [],
   "source": [
    "bike1=bike(\"Hero\",\"Red\",90)\n",
    "bike2=bike(\"Tata\",\"black\",100)"
   ]
  },
  {
   "cell_type": "code",
   "execution_count": 3,
   "id": "4b73441b-ee1b-4128-b3ea-496f5e2786ea",
   "metadata": {
    "tags": []
   },
   "outputs": [
    {
     "name": "stdout",
     "output_type": "stream",
     "text": [
      "name-->Hero ,color--->Red,speed--->90\n"
     ]
    }
   ],
   "source": [
    "bike1.info()"
   ]
  },
  {
   "cell_type": "code",
   "execution_count": 4,
   "id": "1cd0a8c9-7b9a-4eef-87c3-7e459efca518",
   "metadata": {
    "tags": []
   },
   "outputs": [
    {
     "data": {
      "text/plain": [
       "100"
      ]
     },
     "execution_count": 4,
     "metadata": {},
     "output_type": "execute_result"
    }
   ],
   "source": [
    "bike2.speed"
   ]
  },
  {
   "cell_type": "code",
   "execution_count": 5,
   "id": "6bdaf23b-4028-4a47-8de6-94a696e7735a",
   "metadata": {
    "tags": []
   },
   "outputs": [
    {
     "name": "stdout",
     "output_type": "stream",
     "text": [
      "name-->Tata ,color--->black,speed--->100\n"
     ]
    }
   ],
   "source": [
    "bike2.info()"
   ]
  },
  {
   "cell_type": "code",
   "execution_count": null,
   "id": "9970690a-9d7a-4c85-a0c9-ecba2c3f3d36",
   "metadata": {},
   "outputs": [],
   "source": []
  },
  {
   "cell_type": "code",
   "execution_count": null,
   "id": "e741195a-f9af-4d73-90d9-204ee1ce7fe3",
   "metadata": {},
   "outputs": [],
   "source": []
  },
  {
   "cell_type": "markdown",
   "id": "a5a96572-810f-4200-be86-609baf4ab642",
   "metadata": {},
   "source": [
    "# *3rd*"
   ]
  },
  {
   "cell_type": "code",
   "execution_count": 38,
   "id": "179bfbd5-014d-47ba-952b-c9fdb1a3e7fd",
   "metadata": {
    "tags": []
   },
   "outputs": [],
   "source": [
    "class Car:\n",
    "    def __init__(self,model,color):\n",
    "        self.model = model\n",
    "        self.color = color\n",
    "        \n",
    "    def info(self):\n",
    "        return self.model , self.color "
   ]
  },
  {
   "cell_type": "code",
   "execution_count": 39,
   "id": "1c97812d-837d-419e-ab47-e95a30cbb3d3",
   "metadata": {
    "tags": []
   },
   "outputs": [],
   "source": [
    "car1 = Car(\"Tata\" , \"black\")\n",
    "car2 = Car(\"TESLA\" , \"red\")"
   ]
  },
  {
   "cell_type": "code",
   "execution_count": 40,
   "id": "8f7a0290-4671-4f03-9326-879b03f697e3",
   "metadata": {
    "tags": []
   },
   "outputs": [
    {
     "data": {
      "text/plain": [
       "'Tata'"
      ]
     },
     "execution_count": 40,
     "metadata": {},
     "output_type": "execute_result"
    }
   ],
   "source": [
    "car1.model"
   ]
  },
  {
   "cell_type": "code",
   "execution_count": 41,
   "id": "f8821a80-ac4d-4e67-9b61-4ae5f69abd63",
   "metadata": {
    "tags": []
   },
   "outputs": [],
   "source": [
    "car1.model = \"BMW\""
   ]
  },
  {
   "cell_type": "code",
   "execution_count": 42,
   "id": "bfd0cf81-0b28-4ebd-a90d-db2f75eaf465",
   "metadata": {
    "tags": []
   },
   "outputs": [
    {
     "data": {
      "text/plain": [
       "'BMW'"
      ]
     },
     "execution_count": 42,
     "metadata": {},
     "output_type": "execute_result"
    }
   ],
   "source": [
    "car1.model"
   ]
  },
  {
   "cell_type": "code",
   "execution_count": null,
   "id": "140dc552-b0c5-4804-84c7-9bb09c5e5663",
   "metadata": {},
   "outputs": [],
   "source": []
  },
  {
   "cell_type": "code",
   "execution_count": 43,
   "id": "0cd688cf-f6d8-4a65-beb4-f8bdaf37d368",
   "metadata": {
    "tags": []
   },
   "outputs": [],
   "source": [
    "car2.model = \"xyzabc\""
   ]
  },
  {
   "cell_type": "code",
   "execution_count": 44,
   "id": "76cba762-44ee-4f96-a91c-96a79a415bcb",
   "metadata": {
    "tags": []
   },
   "outputs": [
    {
     "data": {
      "text/plain": [
       "'xyzabc'"
      ]
     },
     "execution_count": 44,
     "metadata": {},
     "output_type": "execute_result"
    }
   ],
   "source": [
    "car2.model"
   ]
  },
  {
   "cell_type": "code",
   "execution_count": null,
   "id": "d9a4046c-36f3-4c8a-a9fa-05c636158dcd",
   "metadata": {},
   "outputs": [],
   "source": []
  },
  {
   "cell_type": "code",
   "execution_count": 48,
   "id": "89c55941-c089-4377-9f0c-96dd1abfd4cd",
   "metadata": {
    "tags": []
   },
   "outputs": [
    {
     "data": {
      "text/plain": [
       "('xyzabc', 'red')"
      ]
     },
     "execution_count": 48,
     "metadata": {},
     "output_type": "execute_result"
    }
   ],
   "source": [
    "car2.info()"
   ]
  },
  {
   "cell_type": "code",
   "execution_count": null,
   "id": "30be227a-abef-48c2-9579-3b0ef128ab4d",
   "metadata": {},
   "outputs": [],
   "source": []
  },
  {
   "cell_type": "code",
   "execution_count": 49,
   "id": "452de6b7-18cd-4b47-8e28-f2acb90b761b",
   "metadata": {
    "tags": []
   },
   "outputs": [
    {
     "data": {
      "text/plain": [
       "('BMW', 'black')"
      ]
     },
     "execution_count": 49,
     "metadata": {},
     "output_type": "execute_result"
    }
   ],
   "source": [
    "car1.info()"
   ]
  },
  {
   "cell_type": "code",
   "execution_count": null,
   "id": "e7a2e2d1-8c55-452b-ba8c-dd44c644947a",
   "metadata": {},
   "outputs": [],
   "source": []
  },
  {
   "cell_type": "markdown",
   "id": "75088b83-0c57-498c-9c97-f18cb055d917",
   "metadata": {},
   "source": [
    "## *this is the big issue because everyone can change my detail*"
   ]
  },
  {
   "cell_type": "code",
   "execution_count": null,
   "id": "4fc514fd-d246-4080-ba95-29ea9b1e2219",
   "metadata": {},
   "outputs": [],
   "source": []
  },
  {
   "cell_type": "code",
   "execution_count": 1,
   "id": "4682c25b-a812-4565-9ea3-a3c94ef6abd9",
   "metadata": {
    "tags": []
   },
   "outputs": [],
   "source": [
    "class person:\n",
    "    def __init__(self,name,number,standrad):\n",
    "        self.name=name\n",
    "        self.__number=number\n",
    "        self.standrad=standrad\n",
    "        \n",
    "    def getinfo(self):\n",
    "        return \"ind\"+self.__number"
   ]
  },
  {
   "cell_type": "code",
   "execution_count": 2,
   "id": "b618a821-e518-4e56-9385-1104f80d888b",
   "metadata": {
    "tags": []
   },
   "outputs": [],
   "source": [
    "p1=person(\"Emily\",\"111111111\",\"xxxxxxx678\")"
   ]
  },
  {
   "cell_type": "code",
   "execution_count": 3,
   "id": "b54929ee-b8e4-4211-916b-cbc6eb9223fb",
   "metadata": {
    "tags": []
   },
   "outputs": [
    {
     "data": {
      "text/plain": [
       "'Emily'"
      ]
     },
     "execution_count": 3,
     "metadata": {},
     "output_type": "execute_result"
    }
   ],
   "source": [
    "p1.name"
   ]
  },
  {
   "cell_type": "code",
   "execution_count": 4,
   "id": "755f3cbe-1e7b-4569-a116-e4d345ab9f9c",
   "metadata": {
    "tags": []
   },
   "outputs": [
    {
     "data": {
      "text/plain": [
       "'ind111111111'"
      ]
     },
     "execution_count": 4,
     "metadata": {},
     "output_type": "execute_result"
    }
   ],
   "source": [
    "p1.getinfo()"
   ]
  },
  {
   "cell_type": "code",
   "execution_count": 5,
   "id": "09ea5939-1c89-49ea-825b-3626b9ebe833",
   "metadata": {
    "tags": []
   },
   "outputs": [
    {
     "ename": "AttributeError",
     "evalue": "'person' object has no attribute '__number'",
     "output_type": "error",
     "traceback": [
      "\u001b[1;31m---------------------------------------------------------------------------\u001b[0m",
      "\u001b[1;31mAttributeError\u001b[0m                            Traceback (most recent call last)",
      "Cell \u001b[1;32mIn[5], line 1\u001b[0m\n\u001b[1;32m----> 1\u001b[0m p1\u001b[38;5;241m.\u001b[39m__number\n",
      "\u001b[1;31mAttributeError\u001b[0m: 'person' object has no attribute '__number'"
     ]
    }
   ],
   "source": [
    "p1.__number"
   ]
  },
  {
   "cell_type": "code",
   "execution_count": null,
   "id": "79ae6639-09b2-46c5-8176-f99aa36262a7",
   "metadata": {},
   "outputs": [],
   "source": []
  },
  {
   "cell_type": "markdown",
   "id": "c8f66497-a0b6-4b88-b7a5-bf9aab34dee5",
   "metadata": {},
   "source": [
    "# *we can only see [name] and [standrad] when pressing the {tab}*"
   ]
  },
  {
   "cell_type": "code",
   "execution_count": 10,
   "id": "152135c3-dfed-4b92-8a63-3119a85f6638",
   "metadata": {
    "tags": []
   },
   "outputs": [
    {
     "data": {
      "text/plain": [
       "'xxxxxxx678'"
      ]
     },
     "execution_count": 10,
     "metadata": {},
     "output_type": "execute_result"
    }
   ],
   "source": [
    "p1.standrad"
   ]
  },
  {
   "cell_type": "code",
   "execution_count": 13,
   "id": "91f36d0d-0275-472b-9625-b17227bf523e",
   "metadata": {
    "tags": []
   },
   "outputs": [],
   "source": [
    "p1.__number=2222222"
   ]
  },
  {
   "cell_type": "code",
   "execution_count": 23,
   "id": "3a15bc6b-25bb-4cf2-87cc-f101e65d46e0",
   "metadata": {
    "tags": []
   },
   "outputs": [
    {
     "data": {
      "text/plain": [
       "2222222"
      ]
     },
     "execution_count": 23,
     "metadata": {},
     "output_type": "execute_result"
    }
   ],
   "source": [
    "p1.__number"
   ]
  },
  {
   "cell_type": "code",
   "execution_count": null,
   "id": "44ed5464-69c6-46a1-88b4-824689f38dfe",
   "metadata": {},
   "outputs": [],
   "source": []
  },
  {
   "cell_type": "code",
   "execution_count": 12,
   "id": "5b1ce7c3-1590-4259-b7af-4cd942f7fc32",
   "metadata": {
    "tags": []
   },
   "outputs": [
    {
     "data": {
      "text/plain": [
       "'ind111111111'"
      ]
     },
     "execution_count": 12,
     "metadata": {},
     "output_type": "execute_result"
    }
   ],
   "source": [
    "p1.getinfo()"
   ]
  },
  {
   "cell_type": "code",
   "execution_count": null,
   "id": "daaf42ce-334c-4797-9a4f-ece262cb9e2c",
   "metadata": {},
   "outputs": [],
   "source": []
  },
  {
   "cell_type": "markdown",
   "id": "c8dded4b-9578-48ed-a287-fe68c3fa74c1",
   "metadata": {},
   "source": [
    "### another example"
   ]
  },
  {
   "cell_type": "code",
   "execution_count": 14,
   "id": "e93e2e1f-e431-490a-a00e-dea9ab71d316",
   "metadata": {
    "tags": []
   },
   "outputs": [],
   "source": [
    "class employee:\n",
    "    def __init__(self,adharNo,name,mobile):\n",
    "        self.__aadhar = adharNo\n",
    "        self.name = name\n",
    "        self.mobile = mobile\n",
    "        \n",
    "    def getAadharforUN(self):\n",
    "        return \"IND\" + self.__aadhar\n"
   ]
  },
  {
   "cell_type": "code",
   "execution_count": 15,
   "id": "5b809005-9514-4cf1-9724-e9253cf2b169",
   "metadata": {
    "tags": []
   },
   "outputs": [],
   "source": [
    "e1=employee(\"xxx123\",\"mayank\",\"987654\")"
   ]
  },
  {
   "cell_type": "code",
   "execution_count": 30,
   "id": "68aa1660-35af-454b-ab8d-b3057996bb7b",
   "metadata": {
    "tags": []
   },
   "outputs": [
    {
     "data": {
      "text/plain": [
       "'INDxxx123'"
      ]
     },
     "execution_count": 30,
     "metadata": {},
     "output_type": "execute_result"
    }
   ],
   "source": [
    "e1.getAadharforUN()"
   ]
  },
  {
   "cell_type": "code",
   "execution_count": null,
   "id": "c415bb56-04b4-4304-902c-3225b8439b89",
   "metadata": {},
   "outputs": [],
   "source": []
  },
  {
   "cell_type": "code",
   "execution_count": 16,
   "id": "01fb4a5f-8bc7-41b5-a05d-08ce10cde676",
   "metadata": {},
   "outputs": [
    {
     "ename": "AttributeError",
     "evalue": "'employee' object has no attribute '__aadhar'",
     "output_type": "error",
     "traceback": [
      "\u001b[1;31m---------------------------------------------------------------------------\u001b[0m",
      "\u001b[1;31mAttributeError\u001b[0m                            Traceback (most recent call last)",
      "Cell \u001b[1;32mIn[16], line 1\u001b[0m\n\u001b[1;32m----> 1\u001b[0m e1\u001b[38;5;241m.\u001b[39m__aadhar\n",
      "\u001b[1;31mAttributeError\u001b[0m: 'employee' object has no attribute '__aadhar'"
     ]
    }
   ],
   "source": [
    "e1.__aadhar"
   ]
  },
  {
   "cell_type": "code",
   "execution_count": 20,
   "id": "fee9ea4f-3ce2-4d33-999a-1723b94ef40a",
   "metadata": {},
   "outputs": [],
   "source": [
    "e1.__aadhar=\"nnnnnnnnn123\""
   ]
  },
  {
   "cell_type": "code",
   "execution_count": 21,
   "id": "432f66a0-6242-4980-87b1-d5690d3c841c",
   "metadata": {
    "tags": []
   },
   "outputs": [
    {
     "data": {
      "text/plain": [
       "'nnnnnnnnn123'"
      ]
     },
     "execution_count": 21,
     "metadata": {},
     "output_type": "execute_result"
    }
   ],
   "source": [
    "e1.__aadhar"
   ]
  },
  {
   "cell_type": "code",
   "execution_count": 22,
   "id": "967d1201-234b-45ea-b824-a20934d4b9fb",
   "metadata": {
    "tags": []
   },
   "outputs": [
    {
     "data": {
      "text/plain": [
       "'INDxxx123'"
      ]
     },
     "execution_count": 22,
     "metadata": {},
     "output_type": "execute_result"
    }
   ],
   "source": [
    "e1.getAadharforUN()"
   ]
  },
  {
   "cell_type": "code",
   "execution_count": null,
   "id": "93b7bf26-639c-43a8-aef9-9406482093fe",
   "metadata": {},
   "outputs": [],
   "source": []
  },
  {
   "cell_type": "code",
   "execution_count": 6,
   "id": "7870092f-cdca-4d56-9fae-5479b69a50c5",
   "metadata": {},
   "outputs": [],
   "source": [
    "class bank:\n",
    "    def __init__(self,name,accountNum):\n",
    "        self._name=name #protected\n",
    "        self.__accountNum = accountNum #private\n",
    "    def show(self):\n",
    "        print(self._name)\n",
    "        print(self.__accountNum)"
   ]
  },
  {
   "cell_type": "code",
   "execution_count": 7,
   "id": "68994a62-6cd9-4822-9501-f1c7d92385d7",
   "metadata": {
    "tags": []
   },
   "outputs": [],
   "source": [
    "obj=bank(\"kartik\",\"xxxx897\")"
   ]
  },
  {
   "cell_type": "code",
   "execution_count": 8,
   "id": "a14ccf9c-9024-4e06-9360-e1d76f37e11b",
   "metadata": {
    "tags": []
   },
   "outputs": [
    {
     "name": "stdout",
     "output_type": "stream",
     "text": [
      "kartik\n",
      "xxxx897\n"
     ]
    }
   ],
   "source": [
    "obj.show()"
   ]
  },
  {
   "cell_type": "code",
   "execution_count": 11,
   "id": "00bbf11f-4a3d-4a9a-8681-ec67667cec94",
   "metadata": {
    "tags": []
   },
   "outputs": [
    {
     "data": {
      "text/plain": [
       "'kartik'"
      ]
     },
     "execution_count": 11,
     "metadata": {},
     "output_type": "execute_result"
    }
   ],
   "source": [
    "obj._name   #protected"
   ]
  },
  {
   "cell_type": "code",
   "execution_count": 12,
   "id": "b3f9b26e-2a64-4a62-a30f-a7d2abcefdaa",
   "metadata": {
    "tags": []
   },
   "outputs": [
    {
     "ename": "AttributeError",
     "evalue": "'bank' object has no attribute '__accountNum'",
     "output_type": "error",
     "traceback": [
      "\u001b[1;31m---------------------------------------------------------------------------\u001b[0m",
      "\u001b[1;31mAttributeError\u001b[0m                            Traceback (most recent call last)",
      "Cell \u001b[1;32mIn[12], line 1\u001b[0m\n\u001b[1;32m----> 1\u001b[0m obj\u001b[38;5;241m.\u001b[39m__accountNum\n",
      "\u001b[1;31mAttributeError\u001b[0m: 'bank' object has no attribute '__accountNum'"
     ]
    }
   ],
   "source": [
    "obj.__accountNum #private"
   ]
  },
  {
   "cell_type": "code",
   "execution_count": null,
   "id": "fdc7b68b-fde7-4bc5-b4d3-16faad25a4cb",
   "metadata": {},
   "outputs": [],
   "source": []
  },
  {
   "cell_type": "markdown",
   "id": "76b38901-e456-4c34-a440-cdea73c3a160",
   "metadata": {},
   "source": [
    "# *getter and setter*"
   ]
  },
  {
   "cell_type": "markdown",
   "id": "21ddeaa3-0b4a-4e9b-b220-e31ec2054c28",
   "metadata": {},
   "source": [
    "**getter and setter are used to access and change our private variable**"
   ]
  },
  {
   "cell_type": "code",
   "execution_count": null,
   "id": "536ab44c-6609-4246-aff8-b9788474f86a",
   "metadata": {},
   "outputs": [],
   "source": []
  },
  {
   "cell_type": "code",
   "execution_count": 23,
   "id": "36bbfe22-1d3b-47dd-b31a-863a7db89909",
   "metadata": {
    "tags": []
   },
   "outputs": [],
   "source": [
    "class student:\n",
    "    def __init__(self,name,mobile):\n",
    "        self.__name=name\n",
    "        self.__mobile=mobile\n",
    "    def get_changeName(self):\n",
    "        print(self.__name)\n",
    "    def set_changeName(self,newName):\n",
    "        self.__name=newName\n",
    "        \n",
    "    def get_changeMobile(self):\n",
    "        print(self.__mobile)\n",
    "    def set_changeMobile(self,NewMbile):\n",
    "        self.__mobile=NewMbile\n",
    "    \n",
    "        "
   ]
  },
  {
   "cell_type": "code",
   "execution_count": 28,
   "id": "cbd3c690-e6ad-4653-8152-a4a0855d6526",
   "metadata": {
    "tags": []
   },
   "outputs": [],
   "source": [
    "student1=student(\"kartik\" , 9876342)"
   ]
  },
  {
   "cell_type": "code",
   "execution_count": 29,
   "id": "12b8f37b-937c-4774-ae97-450d8f0addbd",
   "metadata": {
    "tags": []
   },
   "outputs": [
    {
     "name": "stdout",
     "output_type": "stream",
     "text": [
      "kartik\n"
     ]
    }
   ],
   "source": [
    "student1.get_changeName()"
   ]
  },
  {
   "cell_type": "code",
   "execution_count": 30,
   "id": "d3194e91-67e6-48ac-a60b-f323b5a23405",
   "metadata": {
    "tags": []
   },
   "outputs": [
    {
     "name": "stdout",
     "output_type": "stream",
     "text": [
      "9876342\n"
     ]
    }
   ],
   "source": [
    "student1.get_changeMobile()"
   ]
  },
  {
   "cell_type": "code",
   "execution_count": 31,
   "id": "32c9bc5e-5843-40bb-9db2-9651de8dbf1b",
   "metadata": {
    "tags": []
   },
   "outputs": [],
   "source": [
    "student1.set_changeMobile(\"xxxx123\")"
   ]
  },
  {
   "cell_type": "code",
   "execution_count": 32,
   "id": "be8a2ca2-452f-447f-8b23-a8127913f5cc",
   "metadata": {
    "tags": []
   },
   "outputs": [
    {
     "name": "stdout",
     "output_type": "stream",
     "text": [
      "xxxx123\n"
     ]
    }
   ],
   "source": [
    "student1.get_changeMobile()"
   ]
  },
  {
   "cell_type": "code",
   "execution_count": 33,
   "id": "07e2f3a8-54ed-4caa-ade5-f7cb37e46f9f",
   "metadata": {
    "tags": []
   },
   "outputs": [],
   "source": [
    "student1.set_changeName(\"Pooja\")"
   ]
  },
  {
   "cell_type": "code",
   "execution_count": 34,
   "id": "9174cb4d-ec35-4af0-a015-9450c80233f1",
   "metadata": {
    "tags": []
   },
   "outputs": [
    {
     "name": "stdout",
     "output_type": "stream",
     "text": [
      "Pooja\n"
     ]
    }
   ],
   "source": [
    "student1.get_changeName()"
   ]
  },
  {
   "cell_type": "code",
   "execution_count": null,
   "id": "0b099dcf-e3da-4693-8d84-0a68240d591e",
   "metadata": {},
   "outputs": [],
   "source": []
  },
  {
   "cell_type": "markdown",
   "id": "308c8f1e-bff0-459e-b16a-5879309d0f1f",
   "metadata": {},
   "source": [
    "## *polymorphism*"
   ]
  },
  {
   "cell_type": "markdown",
   "id": "cbb26064-9d75-47d3-9cc6-21fc166efcec",
   "metadata": {},
   "source": [
    "## *operator overloading*"
   ]
  },
  {
   "cell_type": "code",
   "execution_count": 55,
   "id": "d43fd7cf-43ab-4e2b-860c-dc9f6696cd7b",
   "metadata": {
    "tags": []
   },
   "outputs": [
    {
     "data": {
      "text/plain": [
       "5"
      ]
     },
     "execution_count": 55,
     "metadata": {},
     "output_type": "execute_result"
    }
   ],
   "source": [
    "x=\"hello\"\n",
    "len(x)       #return number of characters"
   ]
  },
  {
   "cell_type": "code",
   "execution_count": 56,
   "id": "618ecbd0-e99c-47e6-bf99-389a20643f7f",
   "metadata": {
    "tags": []
   },
   "outputs": [
    {
     "data": {
      "text/plain": [
       "1"
      ]
     },
     "execution_count": 56,
     "metadata": {},
     "output_type": "execute_result"
    }
   ],
   "source": [
    "y=[\"hello\"]   #return no of items\n",
    "len(y)"
   ]
  },
  {
   "cell_type": "code",
   "execution_count": 57,
   "id": "bc3f0c78-419e-4762-ad82-92ba12129e50",
   "metadata": {
    "tags": []
   },
   "outputs": [
    {
     "data": {
      "text/plain": [
       "3"
      ]
     },
     "execution_count": 57,
     "metadata": {},
     "output_type": "execute_result"
    }
   ],
   "source": [
    "1+2"
   ]
  },
  {
   "cell_type": "code",
   "execution_count": 58,
   "id": "0a34d3bb-232d-4905-b91a-459ff9f3729d",
   "metadata": {
    "tags": []
   },
   "outputs": [
    {
     "data": {
      "text/plain": [
       "'12'"
      ]
     },
     "execution_count": 58,
     "metadata": {},
     "output_type": "execute_result"
    }
   ],
   "source": [
    "\"1\"+\"2\""
   ]
  },
  {
   "cell_type": "code",
   "execution_count": null,
   "id": "34c4e1df-a95f-402b-bd75-e3eb4a8227b7",
   "metadata": {},
   "outputs": [],
   "source": []
  },
  {
   "cell_type": "markdown",
   "id": "f9d41660-8ce8-41df-8a1c-e11870ec8f8b",
   "metadata": {
    "tags": []
   },
   "source": [
    "## *method overloading*"
   ]
  },
  {
   "cell_type": "code",
   "execution_count": 37,
   "id": "86c52b2c-fdc7-4ee3-8b89-79d1069fb448",
   "metadata": {
    "tags": []
   },
   "outputs": [],
   "source": [
    " #\"\"\" same method have different argument and different o/p \"\"\"\n"
   ]
  },
  {
   "cell_type": "code",
   "execution_count": 54,
   "id": "dadb14b2-b852-4c4e-9e1d-48df2e91d19e",
   "metadata": {
    "tags": []
   },
   "outputs": [],
   "source": [
    "def sum(a,b):\n",
    "    return a+b"
   ]
  },
  {
   "cell_type": "code",
   "execution_count": 55,
   "id": "1fb3b836-4e9c-49c6-a8c0-f5c50eb8a134",
   "metadata": {
    "tags": []
   },
   "outputs": [
    {
     "data": {
      "text/plain": [
       "3"
      ]
     },
     "execution_count": 55,
     "metadata": {},
     "output_type": "execute_result"
    }
   ],
   "source": [
    "sum(1,2)"
   ]
  },
  {
   "cell_type": "code",
   "execution_count": 56,
   "id": "0b5ff028-a3ed-42cc-94ab-6b1a6292f1c8",
   "metadata": {
    "tags": []
   },
   "outputs": [
    {
     "data": {
      "text/plain": [
       "'KS'"
      ]
     },
     "execution_count": 56,
     "metadata": {},
     "output_type": "execute_result"
    }
   ],
   "source": [
    "sum(\"K\",\"S\")"
   ]
  },
  {
   "cell_type": "code",
   "execution_count": null,
   "id": "ae7db3b2-7ae7-46e5-af00-49d7a616ebf5",
   "metadata": {},
   "outputs": [],
   "source": []
  },
  {
   "cell_type": "code",
   "execution_count": 41,
   "id": "d6535965-16b0-46fe-b0f5-f375d2c487a2",
   "metadata": {
    "tags": []
   },
   "outputs": [],
   "source": [
    "def area(radius):\n",
    "    return 3.14*radius**2\n",
    "def area(l,b):\n",
    "    return l*b\n"
   ]
  },
  {
   "cell_type": "code",
   "execution_count": 42,
   "id": "27ca6a13-9768-4202-8b78-ea6d9e966904",
   "metadata": {
    "tags": []
   },
   "outputs": [
    {
     "ename": "TypeError",
     "evalue": "area() missing 1 required positional argument: 'b'",
     "output_type": "error",
     "traceback": [
      "\u001b[1;31m---------------------------------------------------------------------------\u001b[0m",
      "\u001b[1;31mTypeError\u001b[0m                                 Traceback (most recent call last)",
      "Cell \u001b[1;32mIn[42], line 1\u001b[0m\n\u001b[1;32m----> 1\u001b[0m area(\u001b[38;5;241m2\u001b[39m)\n",
      "\u001b[1;31mTypeError\u001b[0m: area() missing 1 required positional argument: 'b'"
     ]
    }
   ],
   "source": [
    "area(2)"
   ]
  },
  {
   "cell_type": "code",
   "execution_count": null,
   "id": "97e096b4-3021-4e63-a27d-5f3fa53203be",
   "metadata": {},
   "outputs": [],
   "source": []
  },
  {
   "cell_type": "code",
   "execution_count": 43,
   "id": "66c7c004-0c5d-4dfe-afd3-6a041f624f69",
   "metadata": {
    "tags": []
   },
   "outputs": [
    {
     "data": {
      "text/plain": [
       "6"
      ]
     },
     "execution_count": 43,
     "metadata": {},
     "output_type": "execute_result"
    }
   ],
   "source": [
    "area(2,3)"
   ]
  },
  {
   "cell_type": "markdown",
   "id": "139e27d0-e21f-48ea-b9f9-7a832097236d",
   "metadata": {},
   "source": [
    "#### python doesn't support overloading"
   ]
  },
  {
   "cell_type": "code",
   "execution_count": null,
   "id": "11d99b64-286d-4e6b-b89f-53950be35508",
   "metadata": {},
   "outputs": [],
   "source": []
  },
  {
   "cell_type": "markdown",
   "id": "e783a5a2-73ec-4820-8437-427496f43967",
   "metadata": {},
   "source": [
    "## **method overriding**"
   ]
  },
  {
   "cell_type": "code",
   "execution_count": 44,
   "id": "8b77ce43-9fc5-49a4-83fc-7c1d371793d4",
   "metadata": {
    "tags": []
   },
   "outputs": [],
   "source": [
    "# same function have differnt o/p"
   ]
  },
  {
   "cell_type": "code",
   "execution_count": 46,
   "id": "64514626-444e-401d-8ef4-518cef81e993",
   "metadata": {
    "tags": []
   },
   "outputs": [
    {
     "data": {
      "text/plain": [
       "2"
      ]
     },
     "execution_count": 46,
     "metadata": {},
     "output_type": "execute_result"
    }
   ],
   "source": [
    "max(1,2)"
   ]
  },
  {
   "cell_type": "code",
   "execution_count": 49,
   "id": "46589eee-db56-4f4f-9ed6-67510eaeff0b",
   "metadata": {
    "tags": []
   },
   "outputs": [],
   "source": [
    "def max(a,b):\n",
    "    return a+b"
   ]
  },
  {
   "cell_type": "code",
   "execution_count": 50,
   "id": "e536d075-542a-4466-b690-9f12306cac1d",
   "metadata": {
    "tags": []
   },
   "outputs": [
    {
     "data": {
      "text/plain": [
       "3"
      ]
     },
     "execution_count": 50,
     "metadata": {},
     "output_type": "execute_result"
    }
   ],
   "source": [
    "max(1,2)"
   ]
  },
  {
   "cell_type": "code",
   "execution_count": null,
   "id": "73d69230-4c61-4c6e-81d6-ae98a1b011af",
   "metadata": {},
   "outputs": [],
   "source": []
  },
  {
   "cell_type": "markdown",
   "id": "e198687f-52ae-4cfc-a91e-faf03d063d49",
   "metadata": {},
   "source": [
    "# *different classes but same method*"
   ]
  },
  {
   "cell_type": "code",
   "execution_count": 59,
   "id": "227aa2c4-a3f3-47df-afff-8932a2ce875c",
   "metadata": {
    "tags": []
   },
   "outputs": [],
   "source": [
    "class mycar:\n",
    "    def __init__(self,brand,speed):\n",
    "        self.brand=brand\n",
    "        self.speed=speed\n",
    "    def move(self):\n",
    "        print(\"drive\")\n",
    "        \n",
    "class boat:\n",
    "    def __init__(self,brand,speed):\n",
    "        self.brand=brand\n",
    "        self.speed=speed\n",
    "    def move(self):\n",
    "        print(\"sail\")\n",
    "\n",
    "class plane:\n",
    "    def __init__(self,brand,speed):\n",
    "        self.brand=brand\n",
    "        self.speed=speed\n",
    "    def move(self):\n",
    "        print(\"fly\")\n"
   ]
  },
  {
   "cell_type": "code",
   "execution_count": 62,
   "id": "f3185c2b-31ec-47c0-a8b0-db0904ee7da5",
   "metadata": {
    "tags": []
   },
   "outputs": [],
   "source": [
    "car1= mycar(\"Tesla\",\"444kmph\")\n",
    "boat1=boat(\"titanic\",\"500kmph\")\n",
    "plane1=plane(\"AirIndia\",\"666kmph\")           "
   ]
  },
  {
   "cell_type": "code",
   "execution_count": 63,
   "id": "00a1dd4b-4471-4d28-8a9b-589193a679ea",
   "metadata": {
    "tags": []
   },
   "outputs": [
    {
     "name": "stdout",
     "output_type": "stream",
     "text": [
      "drive\n",
      "sail\n",
      "fly\n"
     ]
    }
   ],
   "source": [
    "for i in (car1,boat1,plane1):\n",
    "    i.move()"
   ]
  },
  {
   "cell_type": "code",
   "execution_count": 64,
   "id": "4a0ae484-01d3-44b3-9979-e1bf8254100c",
   "metadata": {
    "tags": []
   },
   "outputs": [
    {
     "name": "stdout",
     "output_type": "stream",
     "text": [
      "drive\n"
     ]
    }
   ],
   "source": [
    "car1.move()"
   ]
  },
  {
   "cell_type": "code",
   "execution_count": 65,
   "id": "dd6eacf6-f51e-4898-87a1-1d3f6a8986a5",
   "metadata": {
    "tags": []
   },
   "outputs": [
    {
     "name": "stdout",
     "output_type": "stream",
     "text": [
      "fly\n"
     ]
    }
   ],
   "source": [
    "plane1.move()"
   ]
  },
  {
   "cell_type": "code",
   "execution_count": null,
   "id": "077993ba-4a8a-4cf3-9103-6fe092a929d2",
   "metadata": {},
   "outputs": [],
   "source": []
  },
  {
   "cell_type": "code",
   "execution_count": null,
   "id": "f6d8ea82-62f5-4e7b-8c56-258ab7a83bdc",
   "metadata": {},
   "outputs": [],
   "source": []
  }
 ],
 "metadata": {
  "kernelspec": {
   "display_name": "Python 3 (ipykernel)",
   "language": "python",
   "name": "python3"
  },
  "language_info": {
   "codemirror_mode": {
    "name": "ipython",
    "version": 3
   },
   "file_extension": ".py",
   "mimetype": "text/x-python",
   "name": "python",
   "nbconvert_exporter": "python",
   "pygments_lexer": "ipython3",
   "version": "3.11.5"
  }
 },
 "nbformat": 4,
 "nbformat_minor": 5
}
