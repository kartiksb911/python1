{
 "cells": [
  {
   "cell_type": "markdown",
   "id": "7fa3597c-ee48-40da-96bb-87040114a703",
   "metadata": {},
   "source": [
    "## enumerate function in python"
   ]
  },
  {
   "cell_type": "code",
   "execution_count": null,
   "id": "1a3d75da-e34f-4380-b660-d162bc4ca8b0",
   "metadata": {},
   "outputs": [],
   "source": []
  },
  {
   "cell_type": "markdown",
   "id": "40833960-4890-409f-acdc-6c21c549c348",
   "metadata": {},
   "source": [
    "*enumerate is a built in function which allow you to loop over sequence(string,list,tuple,range)\n",
    "and get the index and value of each element in the sequence*"
   ]
  },
  {
   "cell_type": "code",
   "execution_count": 1,
   "id": "25866c75-9776-4578-8c53-e2d62ef06919",
   "metadata": {
    "tags": []
   },
   "outputs": [
    {
     "name": "stdout",
     "output_type": "stream",
     "text": [
      "0 apple\n",
      "1 mango\n",
      "2 cherry\n"
     ]
    }
   ],
   "source": [
    "fruits = [\"apple\" , \"mango\" , \"cherry\"]\n",
    "for index, i in enumerate(fruits):\n",
    "    print(index,i)"
   ]
  },
  {
   "cell_type": "code",
   "execution_count": null,
   "id": "501b38d7-75a1-4edc-ae78-43a32b766506",
   "metadata": {},
   "outputs": [],
   "source": []
  },
  {
   "cell_type": "code",
   "execution_count": 2,
   "id": "7711ab66-8386-4243-9ecd-b6444f21dbe0",
   "metadata": {
    "tags": []
   },
   "outputs": [
    {
     "name": "stdout",
     "output_type": "stream",
     "text": [
      "apple 0\n",
      "mango 1\n",
      "cherry 2\n"
     ]
    }
   ],
   "source": [
    "fruits = [\"apple\" , \"mango\" , \"cherry\"]\n",
    "for index, i in enumerate(fruits):\n",
    "    print(i,index)"
   ]
  },
  {
   "cell_type": "code",
   "execution_count": null,
   "id": "f1e2157f-8b3a-43d5-ac7e-6b1d8ccc2b29",
   "metadata": {},
   "outputs": [],
   "source": []
  },
  {
   "cell_type": "code",
   "execution_count": 3,
   "id": "5a311d3b-53cc-48eb-8862-2fc84a9f7ff1",
   "metadata": {
    "tags": []
   },
   "outputs": [
    {
     "name": "stdout",
     "output_type": "stream",
     "text": [
      "8 apple\n",
      "9 mango\n",
      "10 cherry\n"
     ]
    }
   ],
   "source": [
    "for index,i in enumerate(fruits,start=8):\n",
    "    print(index,i)"
   ]
  },
  {
   "cell_type": "code",
   "execution_count": null,
   "id": "2ed70ae4-94cd-4bb6-9e7d-8413bce5e849",
   "metadata": {},
   "outputs": [],
   "source": []
  },
  {
   "cell_type": "code",
   "execution_count": null,
   "id": "20b3515a-d3b5-45eb-94ae-8fb96dc49015",
   "metadata": {},
   "outputs": [],
   "source": []
  },
  {
   "cell_type": "code",
   "execution_count": 4,
   "id": "671508c4-6506-4189-b28f-eeaa23a36da2",
   "metadata": {},
   "outputs": [
    {
     "name": "stdout",
     "output_type": "stream",
     "text": [
      "0 - apple\n",
      "1 - mango\n",
      "2 - cherry\n"
     ]
    }
   ],
   "source": [
    "fruits = [\"apple\" , \"mango\" , \"cherry\"]\n",
    "for index, i in enumerate(fruits):\n",
    "    print(index,i ,sep=\" - \")"
   ]
  },
  {
   "cell_type": "code",
   "execution_count": 5,
   "id": "78da8b05-7421-4d80-9b45-1d556046c46e",
   "metadata": {},
   "outputs": [
    {
     "name": "stdout",
     "output_type": "stream",
     "text": [
      "0 apple - 1 mango - 2 cherry - "
     ]
    }
   ],
   "source": [
    "fruits = [\"apple\" , \"mango\" , \"cherry\"]\n",
    "for index, i in enumerate(fruits):\n",
    "    print(index,i ,end=\" - \")"
   ]
  },
  {
   "cell_type": "code",
   "execution_count": null,
   "id": "eaa30144-efcf-4f07-a5b2-ac8ab99b0454",
   "metadata": {},
   "outputs": [],
   "source": []
  },
  {
   "cell_type": "code",
   "execution_count": 6,
   "id": "fcfc0c25-8898-4539-bfd8-4085db415d51",
   "metadata": {
    "tags": []
   },
   "outputs": [],
   "source": [
    "color=(\"red\",\"black\",\"yellow\")\n"
   ]
  },
  {
   "cell_type": "code",
   "execution_count": 7,
   "id": "f25839d2-3cbb-4807-8e12-04ee1cb6b001",
   "metadata": {
    "tags": []
   },
   "outputs": [
    {
     "name": "stdout",
     "output_type": "stream",
     "text": [
      "(1, 'red')\n",
      "(2, 'black')\n",
      "(3, 'yellow')\n"
     ]
    }
   ],
   "source": [
    "for i in enumerate(color,1):\n",
    "    print(i)"
   ]
  },
  {
   "cell_type": "code",
   "execution_count": null,
   "id": "fcb09817-230d-4f48-a4b8-1bea7beada03",
   "metadata": {},
   "outputs": [],
   "source": []
  },
  {
   "cell_type": "code",
   "execution_count": 4,
   "id": "afb886fa-4131-48bd-9dac-98d92453018f",
   "metadata": {},
   "outputs": [
    {
     "name": "stdout",
     "output_type": "stream",
     "text": [
      "('kartik', 11)\n",
      "('sharma', 22)\n",
      "('bhardwaj', 3)\n"
     ]
    }
   ],
   "source": [
    "a= (\"kartik\" , \"sharma\",\"bhardwaj\")\n",
    "b=(11,22,3,6,0)\n",
    "for i in zip(a,b):\n",
    "    print(i)"
   ]
  },
  {
   "cell_type": "code",
   "execution_count": null,
   "id": "541cf3b6-00ad-4516-9a50-14a76ca7ff00",
   "metadata": {},
   "outputs": [],
   "source": []
  },
  {
   "cell_type": "markdown",
   "id": "120356de-06d2-4301-8590-d2d3e89d22a6",
   "metadata": {},
   "source": [
    "# *sort vs sorted*"
   ]
  },
  {
   "cell_type": "code",
   "execution_count": 8,
   "id": "301d602d-544b-4a22-ad65-4179e98648b9",
   "metadata": {
    "tags": []
   },
   "outputs": [],
   "source": [
    "tup1 = (87,6.7,445,-1,0)\n"
   ]
  },
  {
   "cell_type": "code",
   "execution_count": 9,
   "id": "16aec786-c9cc-4261-89f3-5a3367ac8d66",
   "metadata": {
    "tags": []
   },
   "outputs": [
    {
     "name": "stdout",
     "output_type": "stream",
     "text": [
      "[-1, 0, 6.7, 87, 445]\n"
     ]
    }
   ],
   "source": [
    "print(sorted(tup1))"
   ]
  },
  {
   "cell_type": "code",
   "execution_count": 10,
   "id": "b3de2d3c-78a3-4402-a68e-81483ef94ead",
   "metadata": {
    "tags": []
   },
   "outputs": [
    {
     "data": {
      "text/plain": [
       "(87, 6.7, 445, -1, 0)"
      ]
     },
     "execution_count": 10,
     "metadata": {},
     "output_type": "execute_result"
    }
   ],
   "source": [
    "tup1"
   ]
  },
  {
   "cell_type": "code",
   "execution_count": null,
   "id": "3f554465-ad81-475d-a927-895307da0b4b",
   "metadata": {},
   "outputs": [],
   "source": []
  },
  {
   "cell_type": "code",
   "execution_count": 11,
   "id": "b4d03cec-9525-4389-8044-ac3b724668c6",
   "metadata": {
    "tags": []
   },
   "outputs": [
    {
     "ename": "AttributeError",
     "evalue": "'tuple' object has no attribute 'sort'",
     "output_type": "error",
     "traceback": [
      "\u001b[1;31m---------------------------------------------------------------------------\u001b[0m",
      "\u001b[1;31mAttributeError\u001b[0m                            Traceback (most recent call last)",
      "Cell \u001b[1;32mIn[11], line 1\u001b[0m\n\u001b[1;32m----> 1\u001b[0m tup1\u001b[38;5;241m.\u001b[39msort\n",
      "\u001b[1;31mAttributeError\u001b[0m: 'tuple' object has no attribute 'sort'"
     ]
    }
   ],
   "source": [
    "tup1.sort"
   ]
  },
  {
   "cell_type": "code",
   "execution_count": null,
   "id": "a86b4a1d-b7a0-4f13-ab17-2c9d33e34cd4",
   "metadata": {},
   "outputs": [],
   "source": []
  },
  {
   "cell_type": "markdown",
   "id": "3d535c13-6b46-4ff3-be0e-099c6aa3e000",
   "metadata": {},
   "source": [
    "## *sorted ---> doesnot update list :::: sort --> update the list*"
   ]
  },
  {
   "cell_type": "code",
   "execution_count": null,
   "id": "985d7751-d61e-4071-b88a-29a95b85c4ac",
   "metadata": {
    "tags": []
   },
   "outputs": [],
   "source": [
    "list_1= [34,56,21,-349,0]"
   ]
  },
  {
   "cell_type": "code",
   "execution_count": null,
   "id": "c11706bb-d352-48c0-b006-eb4f784d365a",
   "metadata": {
    "tags": []
   },
   "outputs": [],
   "source": [
    "sorted(list_1)"
   ]
  },
  {
   "cell_type": "code",
   "execution_count": null,
   "id": "94f4026a-82e5-421b-8b24-084c6e11a3df",
   "metadata": {
    "tags": []
   },
   "outputs": [],
   "source": [
    "list_1"
   ]
  },
  {
   "cell_type": "code",
   "execution_count": null,
   "id": "1210c72a-1b60-4895-bc84-9666777dc262",
   "metadata": {},
   "outputs": [],
   "source": []
  },
  {
   "cell_type": "code",
   "execution_count": null,
   "id": "64948029-66ee-4aba-bdcb-d6f51b619dbb",
   "metadata": {
    "tags": []
   },
   "outputs": [],
   "source": [
    "list_1.sort()"
   ]
  },
  {
   "cell_type": "code",
   "execution_count": null,
   "id": "2d0c6d23-6ef5-406f-ae64-3db3f5f220f8",
   "metadata": {
    "tags": []
   },
   "outputs": [],
   "source": [
    "list_1"
   ]
  },
  {
   "cell_type": "code",
   "execution_count": null,
   "id": "bca22f4b-a3d9-461e-bb9c-702cb71285a9",
   "metadata": {},
   "outputs": [],
   "source": []
  },
  {
   "cell_type": "code",
   "execution_count": null,
   "id": "449835e4-e1e3-4121-b3e2-4d496d487f60",
   "metadata": {},
   "outputs": [],
   "source": [
    "l1 = [\"m\",\"A\",\"a\",\"ram\",\"RAM\",\"x\",\"kartik\"]"
   ]
  },
  {
   "cell_type": "code",
   "execution_count": null,
   "id": "0ec28528-b5ea-4bd5-ab60-94ddc811a07f",
   "metadata": {
    "tags": []
   },
   "outputs": [],
   "source": [
    "l1.sort(reverse=True)"
   ]
  },
  {
   "cell_type": "code",
   "execution_count": null,
   "id": "87768b01-28c7-4d89-a9c6-610c7a01a8a8",
   "metadata": {
    "tags": []
   },
   "outputs": [],
   "source": [
    "l1"
   ]
  },
  {
   "cell_type": "code",
   "execution_count": null,
   "id": "22e783b1-680a-4a39-b20b-087fed9efbf9",
   "metadata": {},
   "outputs": [],
   "source": []
  },
  {
   "cell_type": "markdown",
   "id": "905f2820-b564-4b91-be80-e63808d1e560",
   "metadata": {},
   "source": [
    "# copy"
   ]
  },
  {
   "cell_type": "code",
   "execution_count": 1,
   "id": "d7e432dc-630f-46c8-a054-c7b4f892d22f",
   "metadata": {
    "tags": []
   },
   "outputs": [],
   "source": [
    "l1 = [\"kartik\",\"ankit\",\"aayush\",\"subham\",1]"
   ]
  },
  {
   "cell_type": "code",
   "execution_count": 2,
   "id": "3d963a6a-e7c3-4873-8569-56cbb98afb26",
   "metadata": {
    "tags": []
   },
   "outputs": [],
   "source": [
    "l2 = l1"
   ]
  },
  {
   "cell_type": "code",
   "execution_count": 3,
   "id": "7cab5852-b0b0-452a-8e4f-273739734dab",
   "metadata": {
    "tags": []
   },
   "outputs": [
    {
     "data": {
      "text/plain": [
       "['kartik', 'ankit', 'aayush', 'subham', 1]"
      ]
     },
     "execution_count": 3,
     "metadata": {},
     "output_type": "execute_result"
    }
   ],
   "source": [
    "l2"
   ]
  },
  {
   "cell_type": "code",
   "execution_count": null,
   "id": "06b8cb15-32a2-4364-b3da-42c4cabf71ec",
   "metadata": {},
   "outputs": [],
   "source": []
  },
  {
   "cell_type": "code",
   "execution_count": 4,
   "id": "47b54df3-c533-4d70-92c7-60e108b5f17a",
   "metadata": {
    "tags": []
   },
   "outputs": [
    {
     "name": "stdout",
     "output_type": "stream",
     "text": [
      "3102222536128\n"
     ]
    },
    {
     "data": {
      "text/plain": [
       "3102222536128"
      ]
     },
     "execution_count": 4,
     "metadata": {},
     "output_type": "execute_result"
    }
   ],
   "source": [
    "print(id(l1))\n",
    "id(l2)"
   ]
  },
  {
   "cell_type": "code",
   "execution_count": null,
   "id": "99d0b396-ad94-4493-9652-67769fad718b",
   "metadata": {},
   "outputs": [],
   "source": []
  },
  {
   "cell_type": "code",
   "execution_count": 5,
   "id": "60698320-a2b3-4b62-8e6f-69047bbb8ae2",
   "metadata": {
    "tags": []
   },
   "outputs": [
    {
     "data": {
      "text/plain": [
       "1"
      ]
     },
     "execution_count": 5,
     "metadata": {},
     "output_type": "execute_result"
    }
   ],
   "source": [
    "l1.pop()"
   ]
  },
  {
   "cell_type": "code",
   "execution_count": 6,
   "id": "0f98e9ce-e698-4482-85e8-128897fa4b9a",
   "metadata": {
    "tags": []
   },
   "outputs": [
    {
     "data": {
      "text/plain": [
       "['kartik', 'ankit', 'aayush', 'subham']"
      ]
     },
     "execution_count": 6,
     "metadata": {},
     "output_type": "execute_result"
    }
   ],
   "source": [
    "l1"
   ]
  },
  {
   "cell_type": "code",
   "execution_count": 7,
   "id": "09eb5be5-ea08-4596-9610-813bdca78780",
   "metadata": {
    "tags": []
   },
   "outputs": [
    {
     "data": {
      "text/plain": [
       "['kartik', 'ankit', 'aayush', 'subham']"
      ]
     },
     "execution_count": 7,
     "metadata": {},
     "output_type": "execute_result"
    }
   ],
   "source": [
    "l2"
   ]
  },
  {
   "cell_type": "code",
   "execution_count": null,
   "id": "73320f9f-0423-42e8-bdba-a6875de742de",
   "metadata": {},
   "outputs": [],
   "source": []
  },
  {
   "cell_type": "code",
   "execution_count": 8,
   "id": "098f6d48-854e-4d21-a500-1e7708a05fad",
   "metadata": {
    "tags": []
   },
   "outputs": [],
   "source": [
    "import copy"
   ]
  },
  {
   "cell_type": "code",
   "execution_count": 9,
   "id": "d2dd9040-5e92-419d-8f93-eee2fd2fd7f7",
   "metadata": {
    "tags": []
   },
   "outputs": [],
   "source": [
    "l1= copy.copy(l2)    #shallow copy"
   ]
  },
  {
   "cell_type": "code",
   "execution_count": 10,
   "id": "b48314b0-cd74-4ab0-b78f-217240a58a52",
   "metadata": {
    "tags": []
   },
   "outputs": [
    {
     "name": "stdout",
     "output_type": "stream",
     "text": [
      "3102221790400\n",
      "3102222536128\n"
     ]
    }
   ],
   "source": [
    "print(id(l1))\n",
    "print(id(l2))"
   ]
  },
  {
   "cell_type": "code",
   "execution_count": 11,
   "id": "bad2dd01-89f4-4ecf-a6cd-5caa958350d0",
   "metadata": {
    "tags": []
   },
   "outputs": [
    {
     "name": "stdout",
     "output_type": "stream",
     "text": [
      "['kartik', 'ankit', 'aayush', 'subham']\n",
      "['kartik', 'ankit', 'aayush', 'subham']\n"
     ]
    }
   ],
   "source": [
    "print(l1)\n",
    "print(l2)"
   ]
  },
  {
   "cell_type": "code",
   "execution_count": 12,
   "id": "8c789837-9496-432d-a1c0-10546b59b156",
   "metadata": {
    "tags": []
   },
   "outputs": [],
   "source": [
    "l2.append(2000000)"
   ]
  },
  {
   "cell_type": "code",
   "execution_count": 13,
   "id": "9c2f268a-9444-4004-a138-0f8daec842f7",
   "metadata": {
    "tags": []
   },
   "outputs": [
    {
     "data": {
      "text/plain": [
       "['kartik', 'ankit', 'aayush', 'subham']"
      ]
     },
     "execution_count": 13,
     "metadata": {},
     "output_type": "execute_result"
    }
   ],
   "source": [
    "l1"
   ]
  },
  {
   "cell_type": "code",
   "execution_count": 14,
   "id": "8de93c06-e809-471f-a1df-b53c799cd841",
   "metadata": {
    "tags": []
   },
   "outputs": [
    {
     "data": {
      "text/plain": [
       "['kartik', 'ankit', 'aayush', 'subham', 2000000]"
      ]
     },
     "execution_count": 14,
     "metadata": {},
     "output_type": "execute_result"
    }
   ],
   "source": [
    "l2"
   ]
  },
  {
   "cell_type": "code",
   "execution_count": null,
   "id": "b87ac655-f822-4ff7-a37b-917172c2da6b",
   "metadata": {},
   "outputs": [],
   "source": []
  },
  {
   "cell_type": "code",
   "execution_count": null,
   "id": "dfb162d2-ed8e-4ce6-8e8c-cf1cf54d55f9",
   "metadata": {},
   "outputs": [],
   "source": []
  },
  {
   "cell_type": "code",
   "execution_count": 15,
   "id": "8ead4fcc-1594-4fc3-8cfc-d1ccc9508c5c",
   "metadata": {
    "tags": []
   },
   "outputs": [],
   "source": [
    "l1 = copy.deepcopy(l2)"
   ]
  },
  {
   "cell_type": "code",
   "execution_count": 16,
   "id": "9c3321c7-ebe3-4da8-9f09-6d048505c51e",
   "metadata": {
    "tags": []
   },
   "outputs": [
    {
     "name": "stdout",
     "output_type": "stream",
     "text": [
      "['kartik', 'ankit', 'aayush', 'subham', 2000000]\n",
      "['kartik', 'ankit', 'aayush', 'subham', 2000000]\n"
     ]
    }
   ],
   "source": [
    "print(l1)\n",
    "print(l2)"
   ]
  },
  {
   "cell_type": "code",
   "execution_count": 17,
   "id": "2e8062f8-40e4-4b57-b286-ca5ca951cd60",
   "metadata": {
    "tags": []
   },
   "outputs": [
    {
     "name": "stdout",
     "output_type": "stream",
     "text": [
      "3102222084480\n",
      "3102222536128\n"
     ]
    }
   ],
   "source": [
    "print(id(l1))\n",
    "print(id(l2))"
   ]
  },
  {
   "cell_type": "code",
   "execution_count": 18,
   "id": "4c64b96b-41db-4d26-9722-992653ce3e0f",
   "metadata": {
    "tags": []
   },
   "outputs": [
    {
     "data": {
      "text/plain": [
       "2000000"
      ]
     },
     "execution_count": 18,
     "metadata": {},
     "output_type": "execute_result"
    }
   ],
   "source": [
    "l1.pop()"
   ]
  },
  {
   "cell_type": "code",
   "execution_count": 19,
   "id": "7b6ffe7d-e77d-4748-9d92-26425b7dc52e",
   "metadata": {
    "tags": []
   },
   "outputs": [
    {
     "name": "stdout",
     "output_type": "stream",
     "text": [
      "['kartik', 'ankit', 'aayush', 'subham']\n",
      "['kartik', 'ankit', 'aayush', 'subham', 2000000]\n"
     ]
    }
   ],
   "source": [
    "print(l1)\n",
    "print(l2)"
   ]
  },
  {
   "cell_type": "code",
   "execution_count": null,
   "id": "3c579da5-591a-424f-8af6-601c5ce98ca7",
   "metadata": {},
   "outputs": [],
   "source": []
  },
  {
   "cell_type": "code",
   "execution_count": 20,
   "id": "d9de7e31-e5a5-4af3-8196-712ec89715b4",
   "metadata": {
    "tags": []
   },
   "outputs": [],
   "source": [
    "r = range(5)"
   ]
  },
  {
   "cell_type": "code",
   "execution_count": 22,
   "id": "afdaec5a-8ac4-40d9-9e3d-8795f0e9e54c",
   "metadata": {
    "tags": []
   },
   "outputs": [
    {
     "name": "stdout",
     "output_type": "stream",
     "text": [
      "<class 'range'>\n"
     ]
    }
   ],
   "source": [
    "print(type(r))"
   ]
  },
  {
   "cell_type": "code",
   "execution_count": 23,
   "id": "87cb5c67-7f1a-4bfc-a909-d89e1adfa3a1",
   "metadata": {
    "tags": []
   },
   "outputs": [
    {
     "data": {
      "text/plain": [
       "[0, 1, 2, 3, 4]"
      ]
     },
     "execution_count": 23,
     "metadata": {},
     "output_type": "execute_result"
    }
   ],
   "source": [
    "[i for i in r]"
   ]
  },
  {
   "cell_type": "code",
   "execution_count": 24,
   "id": "38260ff8-20a5-4646-a8ec-b02f197e1858",
   "metadata": {
    "tags": []
   },
   "outputs": [
    {
     "name": "stdout",
     "output_type": "stream",
     "text": [
      "0\n",
      "1\n",
      "2\n",
      "3\n",
      "4\n"
     ]
    }
   ],
   "source": [
    "for i in r:\n",
    "    print(i)"
   ]
  },
  {
   "cell_type": "code",
   "execution_count": 25,
   "id": "93d21e52-dc32-4b50-abee-50afa8d07fe8",
   "metadata": {
    "tags": []
   },
   "outputs": [
    {
     "name": "stdout",
     "output_type": "stream",
     "text": [
      "<class 'range'>\n"
     ]
    }
   ],
   "source": [
    "print(type(r))"
   ]
  },
  {
   "cell_type": "code",
   "execution_count": null,
   "id": "410dd94c-68b9-417a-bc45-01f0a307be5d",
   "metadata": {},
   "outputs": [],
   "source": []
  }
 ],
 "metadata": {
  "kernelspec": {
   "display_name": "Python 3 (ipykernel)",
   "language": "python",
   "name": "python3"
  },
  "language_info": {
   "codemirror_mode": {
    "name": "ipython",
    "version": 3
   },
   "file_extension": ".py",
   "mimetype": "text/x-python",
   "name": "python",
   "nbconvert_exporter": "python",
   "pygments_lexer": "ipython3",
   "version": "3.11.5"
  }
 },
 "nbformat": 4,
 "nbformat_minor": 5
}
