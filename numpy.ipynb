{
 "cells": [
  {
   "cell_type": "markdown",
   "id": "1d6d5034-ff77-4e36-9f0c-e9d3dab7c401",
   "metadata": {},
   "source": [
    "# numpy = for mathematical operation like arrays , matrices , fourier transform etc."
   ]
  },
  {
   "cell_type": "code",
   "execution_count": null,
   "id": "df697bfa-db31-41da-a55c-159279fe2c04",
   "metadata": {},
   "outputs": [],
   "source": []
  },
  {
   "cell_type": "code",
   "execution_count": 1,
   "id": "de5397da-8384-45e1-9732-5581a4302389",
   "metadata": {
    "tags": []
   },
   "outputs": [],
   "source": [
    "import numpy as np"
   ]
  },
  {
   "cell_type": "code",
   "execution_count": 2,
   "id": "ac419baa-8851-4a84-a9cc-30b5fcc956af",
   "metadata": {
    "tags": []
   },
   "outputs": [
    {
     "data": {
      "text/plain": [
       "array([  2,   4,  56, 422,  32,   1])"
      ]
     },
     "execution_count": 2,
     "metadata": {},
     "output_type": "execute_result"
    }
   ],
   "source": [
    "np.array([2,4,56,422,32,1]) # 1D array"
   ]
  },
  {
   "cell_type": "code",
   "execution_count": 3,
   "id": "6829f4f9-5343-4f87-a181-8b3bf31d6012",
   "metadata": {
    "tags": []
   },
   "outputs": [],
   "source": [
    "a = np.array([2,4,56,422,32,1]) # vector"
   ]
  },
  {
   "cell_type": "code",
   "execution_count": 4,
   "id": "2b78c33d-917b-4079-a1bc-1123563c7c2e",
   "metadata": {
    "tags": []
   },
   "outputs": [
    {
     "data": {
      "text/plain": [
       "array([  2,   4,  56, 422,  32,   1])"
      ]
     },
     "execution_count": 4,
     "metadata": {},
     "output_type": "execute_result"
    }
   ],
   "source": [
    "a"
   ]
  },
  {
   "cell_type": "code",
   "execution_count": 5,
   "id": "1e4b5d8b-609c-4bdf-9249-a8c0c37d034e",
   "metadata": {
    "tags": []
   },
   "outputs": [
    {
     "data": {
      "text/plain": [
       "numpy.ndarray"
      ]
     },
     "execution_count": 5,
     "metadata": {},
     "output_type": "execute_result"
    }
   ],
   "source": [
    "type(a)"
   ]
  },
  {
   "cell_type": "code",
   "execution_count": null,
   "id": "53d7a9c2-dd23-4cde-835e-14d52200a2b3",
   "metadata": {},
   "outputs": [],
   "source": []
  },
  {
   "cell_type": "markdown",
   "id": "903b5fc5-cd36-4931-b1d3-9b25067488c1",
   "metadata": {},
   "source": [
    "## 2d array (matrix)"
   ]
  },
  {
   "cell_type": "code",
   "execution_count": 10,
   "id": "9920d0c1-9aa2-454e-bb3a-01a7ed399dc1",
   "metadata": {
    "tags": []
   },
   "outputs": [
    {
     "name": "stdout",
     "output_type": "stream",
     "text": [
      "[[ 1.   3.   4. ]\n",
      " [ 2.   6.7 76. ]]\n"
     ]
    }
   ],
   "source": [
    "b = np.array([[1,3,4],[2,6.7,76]])\n",
    "print(b)"
   ]
  },
  {
   "cell_type": "code",
   "execution_count": null,
   "id": "06e6b8b9-2c1f-41a7-9d16-b4813d473e63",
   "metadata": {},
   "outputs": [],
   "source": []
  },
  {
   "cell_type": "markdown",
   "id": "72207764-3bb1-49d1-9150-97e6f44d8d03",
   "metadata": {},
   "source": [
    "## 3d array (tensor)"
   ]
  },
  {
   "cell_type": "code",
   "execution_count": 14,
   "id": "dd7a70b2-e0c9-49ee-b276-2226f99b52a4",
   "metadata": {
    "tags": []
   },
   "outputs": [
    {
     "name": "stdout",
     "output_type": "stream",
     "text": [
      "[[1.  3.  5.  9. ]\n",
      " [0.3 2.  4.5 6. ]\n",
      " [1.  2.  3.  3. ]\n",
      " [2.  2.  2.  2. ]]\n"
     ]
    }
   ],
   "source": [
    "c = np.array([[1,3,5,9],[0.3,2,4.5,6],[1,2,3,3],[2,2,2,2]])\n",
    "print(c)"
   ]
  },
  {
   "cell_type": "code",
   "execution_count": null,
   "id": "6afde218-418f-40d7-ac92-ca4e620bea49",
   "metadata": {},
   "outputs": [],
   "source": []
  },
  {
   "cell_type": "markdown",
   "id": "d220bb60-9caf-4f53-9e61-c6f5fa7d8482",
   "metadata": {},
   "source": [
    "# dtype ----> data type"
   ]
  },
  {
   "cell_type": "code",
   "execution_count": 17,
   "id": "624ce400-62e7-4f50-8a77-5ed1c141b532",
   "metadata": {
    "tags": []
   },
   "outputs": [
    {
     "data": {
      "text/plain": [
       "array([[1.+0.j, 2.+0.j, 3.+0.j],\n",
       "       [4.+0.j, 5.+0.j, 6.+0.j]])"
      ]
     },
     "execution_count": 17,
     "metadata": {},
     "output_type": "execute_result"
    }
   ],
   "source": [
    "np.array([[1,2,3],[4,5,6]] , dtype = complex)"
   ]
  },
  {
   "cell_type": "code",
   "execution_count": null,
   "id": "6cd3e5a9-45e0-4dff-a4bc-591b523cb740",
   "metadata": {},
   "outputs": [],
   "source": []
  },
  {
   "cell_type": "code",
   "execution_count": 19,
   "id": "05e88d81-c2df-4cbf-a086-4287bffa825b",
   "metadata": {
    "tags": []
   },
   "outputs": [
    {
     "data": {
      "text/plain": [
       "array([False,  True, False,  True,  True,  True])"
      ]
     },
     "execution_count": 19,
     "metadata": {},
     "output_type": "execute_result"
    }
   ],
   "source": [
    "np.array([0,1,0,3,4,5] , dtype=bool)"
   ]
  },
  {
   "cell_type": "code",
   "execution_count": null,
   "id": "f0d8c79b-2922-4c90-90da-edbf2fee81a9",
   "metadata": {},
   "outputs": [],
   "source": []
  },
  {
   "cell_type": "markdown",
   "id": "82d08208-a2d0-456d-96bb-c42d9e7a0b54",
   "metadata": {},
   "source": [
    "# arange and reshape"
   ]
  },
  {
   "cell_type": "code",
   "execution_count": 2,
   "id": "4387a1e2-8b7e-443b-8080-b64804c99e73",
   "metadata": {
    "tags": []
   },
   "outputs": [],
   "source": [
    "# arange(start,end,step)"
   ]
  },
  {
   "cell_type": "code",
   "execution_count": 21,
   "id": "b74534ff-8dac-4811-859e-1f2e88de330d",
   "metadata": {
    "tags": []
   },
   "outputs": [
    {
     "data": {
      "text/plain": [
       "array([0, 1, 2, 3, 4, 5, 6, 7, 8, 9])"
      ]
     },
     "execution_count": 21,
     "metadata": {},
     "output_type": "execute_result"
    }
   ],
   "source": [
    "np.arange(0,10)"
   ]
  },
  {
   "cell_type": "code",
   "execution_count": 29,
   "id": "3d3ca6af-7424-46d0-8c58-462fc4274012",
   "metadata": {
    "tags": []
   },
   "outputs": [
    {
     "data": {
      "text/plain": [
       "array([[ 1,  2,  3,  4,  5],\n",
       "       [ 6,  7,  8,  9, 10]])"
      ]
     },
     "execution_count": 29,
     "metadata": {},
     "output_type": "execute_result"
    }
   ],
   "source": [
    "np.arange(1,11).reshape(2,5)"
   ]
  },
  {
   "cell_type": "code",
   "execution_count": 32,
   "id": "e78693ef-f030-406e-8aea-fb47522b8349",
   "metadata": {
    "tags": []
   },
   "outputs": [
    {
     "data": {
      "text/plain": [
       "array([[ 1,  2],\n",
       "       [ 3,  4],\n",
       "       [ 5,  6],\n",
       "       [ 7,  8],\n",
       "       [ 9, 10]])"
      ]
     },
     "execution_count": 32,
     "metadata": {},
     "output_type": "execute_result"
    }
   ],
   "source": [
    "np.arange(1,11).reshape(5,2)"
   ]
  },
  {
   "cell_type": "code",
   "execution_count": 31,
   "id": "e335f2a2-1147-4871-856c-c8dee6c27232",
   "metadata": {
    "tags": []
   },
   "outputs": [
    {
     "ename": "ValueError",
     "evalue": "cannot reshape array of size 10 into shape (5,3)",
     "output_type": "error",
     "traceback": [
      "\u001b[1;31m---------------------------------------------------------------------------\u001b[0m",
      "\u001b[1;31mValueError\u001b[0m                                Traceback (most recent call last)",
      "Cell \u001b[1;32mIn[31], line 1\u001b[0m\n\u001b[1;32m----> 1\u001b[0m np\u001b[38;5;241m.\u001b[39marange(\u001b[38;5;241m1\u001b[39m,\u001b[38;5;241m11\u001b[39m)\u001b[38;5;241m.\u001b[39mreshape(\u001b[38;5;241m5\u001b[39m,\u001b[38;5;241m3\u001b[39m)\n",
      "\u001b[1;31mValueError\u001b[0m: cannot reshape array of size 10 into shape (5,3)"
     ]
    }
   ],
   "source": [
    "np.arange(1,11).reshape(5,3)"
   ]
  },
  {
   "cell_type": "code",
   "execution_count": null,
   "id": "116216a7-afbf-47d8-8620-15bce089654f",
   "metadata": {},
   "outputs": [],
   "source": []
  },
  {
   "cell_type": "markdown",
   "id": "cba73dae-5808-4f7f-a990-07ae7a8411cf",
   "metadata": {},
   "source": [
    "# zeros , ones and random --->>> use inside the tuple"
   ]
  },
  {
   "cell_type": "code",
   "execution_count": 38,
   "id": "acd6b96e-e08c-4ae1-8774-7ae51bf1321c",
   "metadata": {
    "tags": []
   },
   "outputs": [
    {
     "data": {
      "text/plain": [
       "array([[0., 0., 0.],\n",
       "       [0., 0., 0.]])"
      ]
     },
     "execution_count": 38,
     "metadata": {},
     "output_type": "execute_result"
    }
   ],
   "source": [
    "np.zeros((2,3))"
   ]
  },
  {
   "cell_type": "code",
   "execution_count": 34,
   "id": "456801b3-9d20-44b3-af21-73d78d9724f5",
   "metadata": {
    "tags": []
   },
   "outputs": [
    {
     "data": {
      "text/plain": [
       "array([[1., 1.],\n",
       "       [1., 1.],\n",
       "       [1., 1.],\n",
       "       [1., 1.]])"
      ]
     },
     "execution_count": 34,
     "metadata": {},
     "output_type": "execute_result"
    }
   ],
   "source": [
    "np.ones((4,2))"
   ]
  },
  {
   "cell_type": "code",
   "execution_count": null,
   "id": "e8575dd5-2bb1-4aea-a9e9-7f42ba0e9bf4",
   "metadata": {},
   "outputs": [],
   "source": []
  },
  {
   "cell_type": "code",
   "execution_count": 7,
   "id": "2c94832d-cb50-4c99-ab1f-015720148aeb",
   "metadata": {
    "tags": []
   },
   "outputs": [
    {
     "data": {
      "text/plain": [
       "array([0.73385447, 0.66131986, 0.39516952, 0.19844787])"
      ]
     },
     "execution_count": 7,
     "metadata": {},
     "output_type": "execute_result"
    }
   ],
   "source": [
    "np.random.random(4)"
   ]
  },
  {
   "cell_type": "code",
   "execution_count": 36,
   "id": "ab7b7169-3004-4736-9fb3-777b2b47c3c3",
   "metadata": {
    "tags": []
   },
   "outputs": [
    {
     "data": {
      "text/plain": [
       "array([[0.93193011, 0.91596012],\n",
       "       [0.98732709, 0.29820267],\n",
       "       [0.89321353, 0.61705976],\n",
       "       [0.84166746, 0.91537124]])"
      ]
     },
     "execution_count": 36,
     "metadata": {},
     "output_type": "execute_result"
    }
   ],
   "source": [
    "np.random.random((4,2))"
   ]
  },
  {
   "cell_type": "code",
   "execution_count": null,
   "id": "05509b0e-b2f4-4cbe-afbf-4b4a254271fb",
   "metadata": {},
   "outputs": [],
   "source": []
  },
  {
   "cell_type": "code",
   "execution_count": 9,
   "id": "82b9b7a1-e238-491d-8aad-e3df1f1509a7",
   "metadata": {
    "tags": []
   },
   "outputs": [
    {
     "data": {
      "text/plain": [
       "array([0.0438247 , 0.34433016, 0.43912557, 0.76501052])"
      ]
     },
     "execution_count": 9,
     "metadata": {},
     "output_type": "execute_result"
    }
   ],
   "source": [
    "np.random.rand(4) # [0,1)"
   ]
  },
  {
   "cell_type": "code",
   "execution_count": 5,
   "id": "7dc01b81-369d-4c3c-83e3-a52475aae90d",
   "metadata": {
    "tags": []
   },
   "outputs": [
    {
     "data": {
      "text/plain": [
       "array([[0.01852837, 0.18979311],\n",
       "       [0.05703191, 0.70195696],\n",
       "       [0.26242192, 0.67108474],\n",
       "       [0.05127912, 0.18202051]])"
      ]
     },
     "execution_count": 5,
     "metadata": {},
     "output_type": "execute_result"
    }
   ],
   "source": [
    "np.random.rand(4,2)"
   ]
  },
  {
   "cell_type": "code",
   "execution_count": null,
   "id": "33275a2a-f11d-4355-85b9-17a77b09f745",
   "metadata": {},
   "outputs": [],
   "source": []
  },
  {
   "cell_type": "code",
   "execution_count": 6,
   "id": "7abd273c-e4d8-4822-a8dc-8d8612b61d6f",
   "metadata": {
    "tags": []
   },
   "outputs": [
    {
     "data": {
      "text/plain": [
       "array([[-1.33191089, -0.90415454],\n",
       "       [-0.54587086,  0.85139087],\n",
       "       [ 0.57288522, -0.60040763],\n",
       "       [-0.1185364 ,  1.58980471]])"
      ]
     },
     "execution_count": 6,
     "metadata": {},
     "output_type": "execute_result"
    }
   ],
   "source": [
    "np.random.randn(4,2) # n = normal distribution value "
   ]
  },
  {
   "cell_type": "code",
   "execution_count": null,
   "id": "e14a0f87-67ab-41fa-bc08-e4f8499f65c3",
   "metadata": {},
   "outputs": [],
   "source": []
  },
  {
   "cell_type": "code",
   "execution_count": 9,
   "id": "f759f43f-5c11-4215-8904-65386d414b62",
   "metadata": {
    "tags": []
   },
   "outputs": [
    {
     "data": {
      "text/plain": [
       "20"
      ]
     },
     "execution_count": 9,
     "metadata": {},
     "output_type": "execute_result"
    }
   ],
   "source": [
    "np.random.randint(187)"
   ]
  },
  {
   "cell_type": "code",
   "execution_count": 10,
   "id": "31eeb903-ef8b-41d9-a53e-e5b8c08a893b",
   "metadata": {
    "tags": []
   },
   "outputs": [
    {
     "data": {
      "text/plain": [
       "240"
      ]
     },
     "execution_count": 10,
     "metadata": {},
     "output_type": "execute_result"
    }
   ],
   "source": [
    "np.random.randint(234,244)"
   ]
  },
  {
   "cell_type": "code",
   "execution_count": 14,
   "id": "a328d221-3e11-43a2-8a97-433bb65933ee",
   "metadata": {
    "tags": []
   },
   "outputs": [
    {
     "data": {
      "text/plain": [
       "array([249, 253, 238, 238, 249])"
      ]
     },
     "execution_count": 14,
     "metadata": {},
     "output_type": "execute_result"
    }
   ],
   "source": [
    "np.random.randint(234,256,5) #low value,high value,size"
   ]
  },
  {
   "cell_type": "code",
   "execution_count": null,
   "id": "5ae7b6a8-697e-4d17-921e-4f311ed8731d",
   "metadata": {},
   "outputs": [],
   "source": []
  },
  {
   "cell_type": "markdown",
   "id": "e26c011e-7c2b-421f-bc7c-5b19797b9636",
   "metadata": {},
   "source": [
    "# linspace -->> linear sequence"
   ]
  },
  {
   "cell_type": "code",
   "execution_count": 4,
   "id": "afa232cc-5ce0-4657-bcfa-3c5352ef3604",
   "metadata": {
    "tags": []
   },
   "outputs": [
    {
     "data": {
      "text/plain": [
       "array([1. , 1.4, 1.8, 2.2, 2.6, 3. ])"
      ]
     },
     "execution_count": 4,
     "metadata": {},
     "output_type": "execute_result"
    }
   ],
   "source": [
    "np.linspace(1,3,6) # Return evenly spaced numbers over a specified interval.\n"
   ]
  },
  {
   "cell_type": "code",
   "execution_count": null,
   "id": "7141df4e-92ad-4456-a4cb-57e79cc9b6a0",
   "metadata": {},
   "outputs": [],
   "source": []
  },
  {
   "cell_type": "code",
   "execution_count": 41,
   "id": "564cd78a-3be2-41c3-a807-a2d157ffbe00",
   "metadata": {
    "tags": []
   },
   "outputs": [],
   "source": [
    "# identity "
   ]
  },
  {
   "cell_type": "code",
   "execution_count": 42,
   "id": "1cde4b20-7eec-42da-8ca3-cf1cffa76518",
   "metadata": {
    "tags": []
   },
   "outputs": [
    {
     "data": {
      "text/plain": [
       "array([[1., 0., 0., 0.],\n",
       "       [0., 1., 0., 0.],\n",
       "       [0., 0., 1., 0.],\n",
       "       [0., 0., 0., 1.]])"
      ]
     },
     "execution_count": 42,
     "metadata": {},
     "output_type": "execute_result"
    }
   ],
   "source": [
    "np.identity(4)"
   ]
  },
  {
   "cell_type": "code",
   "execution_count": null,
   "id": "1b3216df-cd8f-4774-85fd-d09dc1331558",
   "metadata": {},
   "outputs": [],
   "source": []
  },
  {
   "cell_type": "markdown",
   "id": "a14724cf-1bab-4b83-908c-cbb8f6479ecb",
   "metadata": {},
   "source": [
    "# array operation "
   ]
  },
  {
   "cell_type": "code",
   "execution_count": 16,
   "id": "e971378e-0231-4c5b-9c7d-3ce198086f03",
   "metadata": {
    "tags": []
   },
   "outputs": [],
   "source": [
    "z1 = np.arange(12).reshape(3,4)\n",
    "z2 = np.arange(12,24).reshape(3,4)\n"
   ]
  },
  {
   "cell_type": "code",
   "execution_count": 46,
   "id": "6c843af4-1346-490e-a2bb-f7ba728f136d",
   "metadata": {
    "tags": []
   },
   "outputs": [
    {
     "data": {
      "text/plain": [
       "array([[ 0,  1,  2,  3],\n",
       "       [ 4,  5,  6,  7],\n",
       "       [ 8,  9, 10, 11]])"
      ]
     },
     "execution_count": 46,
     "metadata": {},
     "output_type": "execute_result"
    }
   ],
   "source": [
    "z1"
   ]
  },
  {
   "cell_type": "code",
   "execution_count": 47,
   "id": "a96dcf30-661f-4a4c-926f-0d7d335b7693",
   "metadata": {
    "tags": []
   },
   "outputs": [
    {
     "data": {
      "text/plain": [
       "array([[12, 13, 14, 15],\n",
       "       [16, 17, 18, 19],\n",
       "       [20, 21, 22, 23]])"
      ]
     },
     "execution_count": 47,
     "metadata": {},
     "output_type": "execute_result"
    }
   ],
   "source": [
    "z2"
   ]
  },
  {
   "cell_type": "code",
   "execution_count": 48,
   "id": "58fbf51b-2232-49a9-a0c0-67cdbdeaeed5",
   "metadata": {
    "tags": []
   },
   "outputs": [
    {
     "data": {
      "text/plain": [
       "array([[ 3,  4,  5,  6],\n",
       "       [ 7,  8,  9, 10],\n",
       "       [11, 12, 13, 14]])"
      ]
     },
     "execution_count": 48,
     "metadata": {},
     "output_type": "execute_result"
    }
   ],
   "source": [
    "z1+3"
   ]
  },
  {
   "cell_type": "code",
   "execution_count": 49,
   "id": "17326013-46af-48f0-a727-e631a2d0b1d7",
   "metadata": {
    "tags": []
   },
   "outputs": [
    {
     "data": {
      "text/plain": [
       "array([[ 2,  3,  4,  5],\n",
       "       [ 6,  7,  8,  9],\n",
       "       [10, 11, 12, 13]])"
      ]
     },
     "execution_count": 49,
     "metadata": {},
     "output_type": "execute_result"
    }
   ],
   "source": [
    "z2-10"
   ]
  },
  {
   "cell_type": "code",
   "execution_count": 50,
   "id": "b0a3218e-467c-42e1-9dee-7ccb92fc50b3",
   "metadata": {
    "tags": []
   },
   "outputs": [
    {
     "data": {
      "text/plain": [
       "array([[ 0,  2,  4,  6],\n",
       "       [ 8, 10, 12, 14],\n",
       "       [16, 18, 20, 22]])"
      ]
     },
     "execution_count": 50,
     "metadata": {},
     "output_type": "execute_result"
    }
   ],
   "source": [
    "z1*2"
   ]
  },
  {
   "cell_type": "code",
   "execution_count": 51,
   "id": "e0404ede-97e2-4dac-9679-1d35fa6c87e9",
   "metadata": {
    "tags": []
   },
   "outputs": [
    {
     "data": {
      "text/plain": [
       "array([[   0,    1,    8,   27],\n",
       "       [  64,  125,  216,  343],\n",
       "       [ 512,  729, 1000, 1331]], dtype=int32)"
      ]
     },
     "execution_count": 51,
     "metadata": {},
     "output_type": "execute_result"
    }
   ],
   "source": [
    "z1**3"
   ]
  },
  {
   "cell_type": "code",
   "execution_count": 52,
   "id": "de785525-5f7f-4e19-b7e7-ecfbc0e9e5b4",
   "metadata": {
    "tags": []
   },
   "outputs": [
    {
     "data": {
      "text/plain": [
       "array([[0, 1, 0, 1],\n",
       "       [0, 1, 0, 1],\n",
       "       [0, 1, 0, 1]], dtype=int32)"
      ]
     },
     "execution_count": 52,
     "metadata": {},
     "output_type": "execute_result"
    }
   ],
   "source": [
    "z2%2"
   ]
  },
  {
   "cell_type": "code",
   "execution_count": 53,
   "id": "dddd2d84-cf60-46e1-9e5f-06f4161b9c2e",
   "metadata": {
    "tags": []
   },
   "outputs": [
    {
     "data": {
      "text/plain": [
       "array([[  0,  13,  28,  45],\n",
       "       [ 64,  85, 108, 133],\n",
       "       [160, 189, 220, 253]])"
      ]
     },
     "execution_count": 53,
     "metadata": {},
     "output_type": "execute_result"
    }
   ],
   "source": [
    "z1*z2"
   ]
  },
  {
   "cell_type": "code",
   "execution_count": 54,
   "id": "851b268c-bbba-4009-ba03-cead8e54d1dd",
   "metadata": {
    "tags": []
   },
   "outputs": [
    {
     "data": {
      "text/plain": [
       "array([[False, False, False,  True],\n",
       "       [ True,  True,  True,  True],\n",
       "       [ True,  True,  True,  True]])"
      ]
     },
     "execution_count": 54,
     "metadata": {},
     "output_type": "execute_result"
    }
   ],
   "source": [
    "z1>2"
   ]
  },
  {
   "cell_type": "code",
   "execution_count": null,
   "id": "37effb7e-03e2-4da7-8269-3012f92ae1c9",
   "metadata": {},
   "outputs": [],
   "source": []
  },
  {
   "cell_type": "code",
   "execution_count": 55,
   "id": "8db36682-4303-4ead-a6e0-cd0ca1c50adc",
   "metadata": {
    "tags": []
   },
   "outputs": [
    {
     "data": {
      "text/plain": [
       "11"
      ]
     },
     "execution_count": 55,
     "metadata": {},
     "output_type": "execute_result"
    }
   ],
   "source": [
    "np.max(z1)"
   ]
  },
  {
   "cell_type": "code",
   "execution_count": 56,
   "id": "8f9dad18-38ea-4b0b-8ab0-1f98e173611a",
   "metadata": {
    "tags": []
   },
   "outputs": [
    {
     "data": {
      "text/plain": [
       "12"
      ]
     },
     "execution_count": 56,
     "metadata": {},
     "output_type": "execute_result"
    }
   ],
   "source": [
    "np.min(z2)"
   ]
  },
  {
   "cell_type": "code",
   "execution_count": 57,
   "id": "b71864a5-3e4b-4566-8cdb-62ab758166c1",
   "metadata": {
    "tags": []
   },
   "outputs": [
    {
     "data": {
      "text/plain": [
       "66"
      ]
     },
     "execution_count": 57,
     "metadata": {},
     "output_type": "execute_result"
    }
   ],
   "source": [
    "np.sum(z1)"
   ]
  },
  {
   "cell_type": "code",
   "execution_count": 60,
   "id": "3711e8e6-bb78-49e4-aee3-c259f9447ceb",
   "metadata": {
    "tags": []
   },
   "outputs": [
    {
     "data": {
      "text/plain": [
       "816826368"
      ]
     },
     "execution_count": 60,
     "metadata": {},
     "output_type": "execute_result"
    }
   ],
   "source": [
    "np.product(z2)"
   ]
  },
  {
   "cell_type": "code",
   "execution_count": 61,
   "id": "b01d9d61-aba2-43b1-b7d7-e0dbca0aca2f",
   "metadata": {
    "tags": []
   },
   "outputs": [
    {
     "data": {
      "text/plain": [
       "5.5"
      ]
     },
     "execution_count": 61,
     "metadata": {},
     "output_type": "execute_result"
    }
   ],
   "source": [
    "np.mean(z1)"
   ]
  },
  {
   "cell_type": "code",
   "execution_count": 62,
   "id": "3242ac08-4541-407a-ae42-3deea5f7adde",
   "metadata": {
    "tags": []
   },
   "outputs": [
    {
     "data": {
      "text/plain": [
       "3.452052529534663"
      ]
     },
     "execution_count": 62,
     "metadata": {},
     "output_type": "execute_result"
    }
   ],
   "source": [
    "np.std(z1)"
   ]
  },
  {
   "cell_type": "code",
   "execution_count": 64,
   "id": "8bb284ad-18ee-469c-8599-59d5148c993a",
   "metadata": {
    "tags": []
   },
   "outputs": [
    {
     "data": {
      "text/plain": [
       "11.916666666666666"
      ]
     },
     "execution_count": 64,
     "metadata": {},
     "output_type": "execute_result"
    }
   ],
   "source": [
    "np.var(z2)"
   ]
  },
  {
   "cell_type": "code",
   "execution_count": 65,
   "id": "c1a8cb41-061d-4a6c-86c7-93ffe7186fd8",
   "metadata": {
    "tags": []
   },
   "outputs": [
    {
     "data": {
      "text/plain": [
       "array([[-0.53657292,  0.42016704,  0.99060736,  0.65028784],\n",
       "       [-0.28790332, -0.96139749, -0.75098725,  0.14987721],\n",
       "       [ 0.91294525,  0.83665564, -0.00885131, -0.8462204 ]])"
      ]
     },
     "execution_count": 65,
     "metadata": {},
     "output_type": "execute_result"
    }
   ],
   "source": [
    "np.sin(z2)"
   ]
  },
  {
   "cell_type": "code",
   "execution_count": 67,
   "id": "9ffe4e72-0579-41ad-8236-cb7977ae7624",
   "metadata": {
    "tags": []
   },
   "outputs": [
    {
     "data": {
      "text/plain": [
       "array([[2.48490665, 2.56494936, 2.63905733, 2.7080502 ],\n",
       "       [2.77258872, 2.83321334, 2.89037176, 2.94443898],\n",
       "       [2.99573227, 3.04452244, 3.09104245, 3.13549422]])"
      ]
     },
     "execution_count": 67,
     "metadata": {},
     "output_type": "execute_result"
    }
   ],
   "source": [
    "np.log(z2)"
   ]
  },
  {
   "cell_type": "code",
   "execution_count": 68,
   "id": "99ebf546-84ec-4179-8743-8d0579dd98e3",
   "metadata": {
    "tags": []
   },
   "outputs": [
    {
     "data": {
      "text/plain": [
       "array([[1.62754791e+05, 4.42413392e+05, 1.20260428e+06, 3.26901737e+06],\n",
       "       [8.88611052e+06, 2.41549528e+07, 6.56599691e+07, 1.78482301e+08],\n",
       "       [4.85165195e+08, 1.31881573e+09, 3.58491285e+09, 9.74480345e+09]])"
      ]
     },
     "execution_count": 68,
     "metadata": {},
     "output_type": "execute_result"
    }
   ],
   "source": [
    "np.exp(z2)"
   ]
  },
  {
   "cell_type": "code",
   "execution_count": null,
   "id": "5eb98a8d-64ef-4a3e-8165-11ff6b6f91b1",
   "metadata": {},
   "outputs": [],
   "source": []
  },
  {
   "cell_type": "markdown",
   "id": "230a19a0-585b-4115-8703-4c075698e2fa",
   "metadata": {
    "tags": []
   },
   "source": [
    "# *ravel ---> converting any dimension to 1d*"
   ]
  },
  {
   "cell_type": "code",
   "execution_count": 74,
   "id": "5ab0a166-7269-4033-8416-5942d00c9c8a",
   "metadata": {
    "tags": []
   },
   "outputs": [
    {
     "data": {
      "text/plain": [
       "array([[ 0,  1,  2,  3],\n",
       "       [ 4,  5,  6,  7],\n",
       "       [ 8,  9, 10, 11]])"
      ]
     },
     "execution_count": 74,
     "metadata": {},
     "output_type": "execute_result"
    }
   ],
   "source": [
    "z1"
   ]
  },
  {
   "cell_type": "code",
   "execution_count": 75,
   "id": "44a8c7d4-63cd-4560-8610-f67e85ddc2a6",
   "metadata": {
    "tags": []
   },
   "outputs": [
    {
     "data": {
      "text/plain": [
       "array([ 0,  1,  2,  3,  4,  5,  6,  7,  8,  9, 10, 11])"
      ]
     },
     "execution_count": 75,
     "metadata": {},
     "output_type": "execute_result"
    }
   ],
   "source": [
    "np.ravel(z1)"
   ]
  },
  {
   "cell_type": "code",
   "execution_count": null,
   "id": "8468949a-2fba-41ab-b6cf-6dd6bf612455",
   "metadata": {},
   "outputs": [],
   "source": []
  },
  {
   "cell_type": "code",
   "execution_count": 76,
   "id": "af98e2dc-295f-4026-9c1d-90b7d45c5899",
   "metadata": {
    "tags": []
   },
   "outputs": [
    {
     "data": {
      "text/plain": [
       "array([12, 13, 14, 15, 16, 17, 18, 19, 20, 21, 22, 23])"
      ]
     },
     "execution_count": 76,
     "metadata": {},
     "output_type": "execute_result"
    }
   ],
   "source": [
    "z2.ravel()"
   ]
  },
  {
   "cell_type": "code",
   "execution_count": null,
   "id": "4777ae4c-bfcd-4f23-83ad-b4d257f55eed",
   "metadata": {},
   "outputs": [],
   "source": []
  },
  {
   "cell_type": "markdown",
   "id": "85f2068b-655e-45d0-8dd3-4782b3d47975",
   "metadata": {},
   "source": [
    "# **stacking ---> joining of arrays**"
   ]
  },
  {
   "cell_type": "markdown",
   "id": "b1c84cb8-9129-4847-894d-101baba3e3ac",
   "metadata": {},
   "source": [
    "## **stacking**   =====  *hstack* &  *vstack* "
   ]
  },
  {
   "cell_type": "code",
   "execution_count": 17,
   "id": "e5e4ab76-73bf-4533-8916-7658de9e0413",
   "metadata": {
    "tags": []
   },
   "outputs": [
    {
     "data": {
      "text/plain": [
       "array([[ 0,  1,  2,  3],\n",
       "       [ 4,  5,  6,  7],\n",
       "       [ 8,  9, 10, 11]])"
      ]
     },
     "execution_count": 17,
     "metadata": {},
     "output_type": "execute_result"
    }
   ],
   "source": [
    "z1"
   ]
  },
  {
   "cell_type": "code",
   "execution_count": 78,
   "id": "4267d7d6-a32e-42ee-8c49-05fc3016ae2d",
   "metadata": {
    "tags": []
   },
   "outputs": [
    {
     "data": {
      "text/plain": [
       "array([[12, 13, 14, 15],\n",
       "       [16, 17, 18, 19],\n",
       "       [20, 21, 22, 23]])"
      ]
     },
     "execution_count": 78,
     "metadata": {},
     "output_type": "execute_result"
    }
   ],
   "source": [
    "z2"
   ]
  },
  {
   "cell_type": "code",
   "execution_count": null,
   "id": "13b85cfb-8725-432d-aadc-85ee2b09e73c",
   "metadata": {},
   "outputs": [],
   "source": []
  },
  {
   "cell_type": "code",
   "execution_count": 82,
   "id": "c590804d-1f7d-4e05-b045-8a6312a27a3d",
   "metadata": {
    "tags": []
   },
   "outputs": [
    {
     "data": {
      "text/plain": [
       "array([[ 0,  1,  2,  3, 12, 13, 14, 15],\n",
       "       [ 4,  5,  6,  7, 16, 17, 18, 19],\n",
       "       [ 8,  9, 10, 11, 20, 21, 22, 23]])"
      ]
     },
     "execution_count": 82,
     "metadata": {},
     "output_type": "execute_result"
    }
   ],
   "source": [
    "np.hstack((z1,z2)) # horizental stack used inside the tuple"
   ]
  },
  {
   "cell_type": "code",
   "execution_count": null,
   "id": "79c91e11-56b8-47cc-a97c-78dc888eaa3d",
   "metadata": {},
   "outputs": [],
   "source": []
  },
  {
   "cell_type": "code",
   "execution_count": 83,
   "id": "6cee558e-6b4c-4732-acd8-bde1f7258797",
   "metadata": {
    "tags": []
   },
   "outputs": [
    {
     "data": {
      "text/plain": [
       "array([[ 0,  1,  2,  3],\n",
       "       [ 4,  5,  6,  7],\n",
       "       [ 8,  9, 10, 11],\n",
       "       [12, 13, 14, 15],\n",
       "       [16, 17, 18, 19],\n",
       "       [20, 21, 22, 23]])"
      ]
     },
     "execution_count": 83,
     "metadata": {},
     "output_type": "execute_result"
    }
   ],
   "source": [
    "np.vstack((z1,z2)) # vertical stack"
   ]
  },
  {
   "cell_type": "code",
   "execution_count": null,
   "id": "de427246-7a79-42c2-bcad-56be4e980a75",
   "metadata": {},
   "outputs": [],
   "source": []
  },
  {
   "cell_type": "markdown",
   "id": "234feb2e-954d-44c4-a586-f7a52008adbb",
   "metadata": {},
   "source": [
    "# splitting --> opposite of stacking "
   ]
  },
  {
   "cell_type": "markdown",
   "id": "0e14e7bd-08b8-4fab-915a-ba497f564617",
   "metadata": {},
   "source": [
    "## hsplit & vsplit "
   ]
  },
  {
   "cell_type": "code",
   "execution_count": 84,
   "id": "f9569cba-e817-42a6-93a9-961020f2c417",
   "metadata": {
    "tags": []
   },
   "outputs": [
    {
     "data": {
      "text/plain": [
       "array([[ 0,  1,  2,  3],\n",
       "       [ 4,  5,  6,  7],\n",
       "       [ 8,  9, 10, 11]])"
      ]
     },
     "execution_count": 84,
     "metadata": {},
     "output_type": "execute_result"
    }
   ],
   "source": [
    "z1"
   ]
  },
  {
   "cell_type": "code",
   "execution_count": 87,
   "id": "06e71e54-d273-47d8-ad03-5cf4131fa54a",
   "metadata": {
    "tags": []
   },
   "outputs": [
    {
     "data": {
      "text/plain": [
       "[array([[0, 1],\n",
       "        [4, 5],\n",
       "        [8, 9]]),\n",
       " array([[ 2,  3],\n",
       "        [ 6,  7],\n",
       "        [10, 11]])]"
      ]
     },
     "execution_count": 87,
     "metadata": {},
     "output_type": "execute_result"
    }
   ],
   "source": [
    "np.hsplit(z1,2)"
   ]
  },
  {
   "cell_type": "code",
   "execution_count": 88,
   "id": "a35b8719-3c04-4ebc-bc53-33a20f7391a9",
   "metadata": {
    "tags": []
   },
   "outputs": [
    {
     "data": {
      "text/plain": [
       "[array([[0],\n",
       "        [4],\n",
       "        [8]]),\n",
       " array([[1],\n",
       "        [5],\n",
       "        [9]]),\n",
       " array([[ 2],\n",
       "        [ 6],\n",
       "        [10]]),\n",
       " array([[ 3],\n",
       "        [ 7],\n",
       "        [11]])]"
      ]
     },
     "execution_count": 88,
     "metadata": {},
     "output_type": "execute_result"
    }
   ],
   "source": [
    "np.hsplit(z1,4)"
   ]
  },
  {
   "cell_type": "code",
   "execution_count": 89,
   "id": "424043f6-1576-4b7d-8c0e-2da8498861bd",
   "metadata": {
    "tags": []
   },
   "outputs": [
    {
     "data": {
      "text/plain": [
       "[array([[0, 1, 2, 3]]), array([[4, 5, 6, 7]]), array([[ 8,  9, 10, 11]])]"
      ]
     },
     "execution_count": 89,
     "metadata": {},
     "output_type": "execute_result"
    }
   ],
   "source": [
    "np.vsplit(z1,3)"
   ]
  },
  {
   "cell_type": "code",
   "execution_count": null,
   "id": "dfb2dac7-fd6b-4e52-abd5-b6238316cebf",
   "metadata": {},
   "outputs": [],
   "source": []
  },
  {
   "cell_type": "markdown",
   "id": "d7500fd9-c963-4d8a-9e65-0dc8d9fa0dae",
   "metadata": {},
   "source": [
    "# indexing and slicing "
   ]
  },
  {
   "cell_type": "code",
   "execution_count": 2,
   "id": "31095f0e-7f4d-4209-9c86-ade201a90fe2",
   "metadata": {
    "tags": []
   },
   "outputs": [],
   "source": [
    "import numpy as np"
   ]
  },
  {
   "cell_type": "code",
   "execution_count": 3,
   "id": "a49e5773-e603-40ed-b98c-97eed2f8924c",
   "metadata": {
    "tags": []
   },
   "outputs": [],
   "source": [
    "p1 = np.arange(10)\n",
    "p2 = np.arange(12).reshape(3,4)\n",
    "p3 = np.arange(8).reshape(2,2,2)"
   ]
  },
  {
   "cell_type": "code",
   "execution_count": 4,
   "id": "82fb339b-276c-4d5b-b8d0-5cae691c1c52",
   "metadata": {
    "tags": []
   },
   "outputs": [
    {
     "data": {
      "text/plain": [
       "array([0, 1, 2, 3, 4, 5, 6, 7, 8, 9])"
      ]
     },
     "execution_count": 4,
     "metadata": {},
     "output_type": "execute_result"
    }
   ],
   "source": [
    "p1"
   ]
  },
  {
   "cell_type": "code",
   "execution_count": 5,
   "id": "b8b25167-ab50-40d8-9a24-a4c041a2aaad",
   "metadata": {
    "tags": []
   },
   "outputs": [
    {
     "data": {
      "text/plain": [
       "0"
      ]
     },
     "execution_count": 5,
     "metadata": {},
     "output_type": "execute_result"
    }
   ],
   "source": [
    "p1[0]"
   ]
  },
  {
   "cell_type": "code",
   "execution_count": 6,
   "id": "f41c83b1-7867-466b-8f43-7f65687570bb",
   "metadata": {
    "tags": []
   },
   "outputs": [
    {
     "data": {
      "text/plain": [
       "4"
      ]
     },
     "execution_count": 6,
     "metadata": {},
     "output_type": "execute_result"
    }
   ],
   "source": [
    "p1[-6]"
   ]
  },
  {
   "cell_type": "code",
   "execution_count": null,
   "id": "07082406-0b6b-4823-887f-9f4e2c9c45f1",
   "metadata": {},
   "outputs": [],
   "source": [
    "# 2d"
   ]
  },
  {
   "cell_type": "code",
   "execution_count": 7,
   "id": "5c2ff512-5c4a-411f-8f43-876fcd9d2c65",
   "metadata": {
    "tags": []
   },
   "outputs": [
    {
     "data": {
      "text/plain": [
       "array([[ 0,  1,  2,  3],\n",
       "       [ 4,  5,  6,  7],\n",
       "       [ 8,  9, 10, 11]])"
      ]
     },
     "execution_count": 7,
     "metadata": {},
     "output_type": "execute_result"
    }
   ],
   "source": [
    "p2"
   ]
  },
  {
   "cell_type": "code",
   "execution_count": 9,
   "id": "9a7b09ea-ffa8-45a8-97d4-d877bc733452",
   "metadata": {
    "tags": []
   },
   "outputs": [
    {
     "data": {
      "text/plain": [
       "6"
      ]
     },
     "execution_count": 9,
     "metadata": {},
     "output_type": "execute_result"
    }
   ],
   "source": [
    "# fetching element 6\n",
    "\n",
    "p2[1,2] # 1st row 2nd column"
   ]
  },
  {
   "cell_type": "code",
   "execution_count": 35,
   "id": "9b90e7c7-fec0-4c86-8358-c4fa99c88273",
   "metadata": {
    "tags": []
   },
   "outputs": [
    {
     "data": {
      "text/plain": [
       "6"
      ]
     },
     "execution_count": 35,
     "metadata": {},
     "output_type": "execute_result"
    }
   ],
   "source": [
    "p2[1][2]"
   ]
  },
  {
   "cell_type": "code",
   "execution_count": 11,
   "id": "1898c99e-13ad-44a2-8736-334a4605c285",
   "metadata": {
    "tags": []
   },
   "outputs": [
    {
     "data": {
      "text/plain": [
       "11"
      ]
     },
     "execution_count": 11,
     "metadata": {},
     "output_type": "execute_result"
    }
   ],
   "source": [
    "# fetching element 11\n",
    "\n",
    "p2[2,3]"
   ]
  },
  {
   "cell_type": "code",
   "execution_count": 36,
   "id": "ae1c8a7f-5aa6-42d1-8b6f-88e90825946a",
   "metadata": {
    "tags": []
   },
   "outputs": [
    {
     "data": {
      "text/plain": [
       "11"
      ]
     },
     "execution_count": 36,
     "metadata": {},
     "output_type": "execute_result"
    }
   ],
   "source": [
    "p2[2][3]"
   ]
  },
  {
   "cell_type": "code",
   "execution_count": null,
   "id": "7d0f496e-f4e8-4e6f-9132-62d30777d55e",
   "metadata": {},
   "outputs": [],
   "source": []
  },
  {
   "cell_type": "code",
   "execution_count": 12,
   "id": "fc3f1c33-dd53-487a-b3df-d60a19e2b951",
   "metadata": {
    "tags": []
   },
   "outputs": [],
   "source": [
    "# 3d "
   ]
  },
  {
   "cell_type": "code",
   "execution_count": 13,
   "id": "7193c7f0-66d8-4b38-879e-94d0bd307815",
   "metadata": {
    "tags": []
   },
   "outputs": [
    {
     "data": {
      "text/plain": [
       "array([[[0, 1],\n",
       "        [2, 3]],\n",
       "\n",
       "       [[4, 5],\n",
       "        [6, 7]]])"
      ]
     },
     "execution_count": 13,
     "metadata": {},
     "output_type": "execute_result"
    }
   ],
   "source": [
    "p3"
   ]
  },
  {
   "cell_type": "code",
   "execution_count": 14,
   "id": "ec325569-0141-42ed-af4c-926f6b3bd51c",
   "metadata": {
    "tags": []
   },
   "outputs": [
    {
     "data": {
      "text/plain": [
       "5"
      ]
     },
     "execution_count": 14,
     "metadata": {},
     "output_type": "execute_result"
    }
   ],
   "source": [
    "# fetch element 5\n",
    "\n",
    "p3[1,0,1]"
   ]
  },
  {
   "cell_type": "code",
   "execution_count": 15,
   "id": "c42f9d70-a7e2-4d8b-9c6d-dccd3b5a47f5",
   "metadata": {
    "tags": []
   },
   "outputs": [
    {
     "data": {
      "text/plain": [
       "2"
      ]
     },
     "execution_count": 15,
     "metadata": {},
     "output_type": "execute_result"
    }
   ],
   "source": [
    "# fetch element 2 \n",
    "\n",
    "p3[0,1,0]\n",
    "   "
   ]
  },
  {
   "cell_type": "code",
   "execution_count": 16,
   "id": "db20a30d-87d0-4625-9b1e-ae525cb09b5a",
   "metadata": {
    "tags": []
   },
   "outputs": [
    {
     "data": {
      "text/plain": [
       "0"
      ]
     },
     "execution_count": 16,
     "metadata": {},
     "output_type": "execute_result"
    }
   ],
   "source": [
    "# fetch element 0\n",
    "\n",
    "p3[0,0,0]"
   ]
  },
  {
   "cell_type": "code",
   "execution_count": null,
   "id": "316e9d0a-9b24-45d6-9957-0c822ba6d997",
   "metadata": {},
   "outputs": [],
   "source": []
  },
  {
   "cell_type": "markdown",
   "id": "88e871ac-24ee-47df-a04e-65712b0b21b1",
   "metadata": {},
   "source": [
    "# slicing"
   ]
  },
  {
   "cell_type": "code",
   "execution_count": 17,
   "id": "e7374a57-3433-4833-b9f7-330cdca4dce5",
   "metadata": {
    "tags": []
   },
   "outputs": [
    {
     "data": {
      "text/plain": [
       "array([0, 1, 2, 3, 4, 5, 6, 7, 8, 9])"
      ]
     },
     "execution_count": 17,
     "metadata": {},
     "output_type": "execute_result"
    }
   ],
   "source": [
    "p1"
   ]
  },
  {
   "cell_type": "code",
   "execution_count": 18,
   "id": "c79c0640-3f7f-45a8-99e5-f118198077b5",
   "metadata": {
    "tags": []
   },
   "outputs": [
    {
     "data": {
      "text/plain": [
       "array([2, 3, 4])"
      ]
     },
     "execution_count": 18,
     "metadata": {},
     "output_type": "execute_result"
    }
   ],
   "source": [
    "# fetch 2,3,4\n",
    "\n",
    "p1[2:5]"
   ]
  },
  {
   "cell_type": "code",
   "execution_count": null,
   "id": "ca68fe54-3e9f-4ec0-b23a-3203bda5670b",
   "metadata": {},
   "outputs": [],
   "source": []
  },
  {
   "cell_type": "code",
   "execution_count": 19,
   "id": "87e0eb08-ecb0-45b9-9e4b-3a7b9840e9c9",
   "metadata": {
    "tags": []
   },
   "outputs": [],
   "source": [
    "# 2d "
   ]
  },
  {
   "cell_type": "code",
   "execution_count": 20,
   "id": "02893632-27fb-4504-a1d9-6d705704c1c7",
   "metadata": {
    "tags": []
   },
   "outputs": [
    {
     "data": {
      "text/plain": [
       "array([[ 0,  1,  2,  3],\n",
       "       [ 4,  5,  6,  7],\n",
       "       [ 8,  9, 10, 11]])"
      ]
     },
     "execution_count": 20,
     "metadata": {},
     "output_type": "execute_result"
    }
   ],
   "source": [
    "p2"
   ]
  },
  {
   "cell_type": "code",
   "execution_count": 22,
   "id": "29f38fd4-ec15-480d-a500-66944a0ccd1d",
   "metadata": {
    "tags": []
   },
   "outputs": [
    {
     "data": {
      "text/plain": [
       "array([0, 1, 2, 3])"
      ]
     },
     "execution_count": 22,
     "metadata": {},
     "output_type": "execute_result"
    }
   ],
   "source": [
    "# fetch 1st row\n",
    "\n",
    "p2[0,0:4]"
   ]
  },
  {
   "cell_type": "code",
   "execution_count": 23,
   "id": "599f98c7-3314-4d62-9e8e-2332dda0aeb2",
   "metadata": {
    "tags": []
   },
   "outputs": [
    {
     "data": {
      "text/plain": [
       "array([0, 1, 2, 3])"
      ]
     },
     "execution_count": 23,
     "metadata": {},
     "output_type": "execute_result"
    }
   ],
   "source": [
    "p2[0,:]"
   ]
  },
  {
   "cell_type": "code",
   "execution_count": null,
   "id": "0c336a41-dcad-4826-a305-50fcaa905b31",
   "metadata": {},
   "outputs": [],
   "source": []
  },
  {
   "cell_type": "code",
   "execution_count": 26,
   "id": "633e6d51-b3b4-45bf-b9cf-1fc9783db4e1",
   "metadata": {
    "tags": []
   },
   "outputs": [
    {
     "data": {
      "text/plain": [
       "array([ 2,  6, 10])"
      ]
     },
     "execution_count": 26,
     "metadata": {},
     "output_type": "execute_result"
    }
   ],
   "source": [
    "# fetch 3rd column\n",
    "\n",
    "p2[0:3,2]"
   ]
  },
  {
   "cell_type": "code",
   "execution_count": 27,
   "id": "3b64aef7-5b0e-4da2-ae42-374a30fcd0c2",
   "metadata": {
    "tags": []
   },
   "outputs": [
    {
     "data": {
      "text/plain": [
       "array([ 2,  6, 10])"
      ]
     },
     "execution_count": 27,
     "metadata": {},
     "output_type": "execute_result"
    }
   ],
   "source": [
    "p2[:,2]"
   ]
  },
  {
   "cell_type": "code",
   "execution_count": null,
   "id": "79746263-3f67-46ca-8899-211f765c1a36",
   "metadata": {},
   "outputs": [],
   "source": []
  },
  {
   "cell_type": "code",
   "execution_count": 37,
   "id": "299afd93-7b0c-4cad-8473-d7bdd53aa2cc",
   "metadata": {
    "tags": []
   },
   "outputs": [
    {
     "data": {
      "text/plain": [
       "array([[ 0,  1,  2,  3],\n",
       "       [ 4,  5,  6,  7],\n",
       "       [ 8,  9, 10, 11]])"
      ]
     },
     "execution_count": 37,
     "metadata": {},
     "output_type": "execute_result"
    }
   ],
   "source": [
    "p2"
   ]
  },
  {
   "cell_type": "code",
   "execution_count": 38,
   "id": "2cd3790f-a167-42c5-9544-3383811c1bf9",
   "metadata": {
    "tags": []
   },
   "outputs": [
    {
     "data": {
      "text/plain": [
       "array([[2, 3],\n",
       "       [6, 7]])"
      ]
     },
     "execution_count": 38,
     "metadata": {},
     "output_type": "execute_result"
    }
   ],
   "source": [
    "p2[:2,2:]"
   ]
  },
  {
   "cell_type": "code",
   "execution_count": null,
   "id": "1acb8179-9252-4b98-9cb4-58bbe45d9618",
   "metadata": {},
   "outputs": [],
   "source": []
  },
  {
   "cell_type": "code",
   "execution_count": 41,
   "id": "db33e252-ea8d-4f07-a3bb-64f9bc37dff8",
   "metadata": {
    "tags": []
   },
   "outputs": [],
   "source": [
    "x=np.arange(20)"
   ]
  },
  {
   "cell_type": "code",
   "execution_count": 42,
   "id": "ed469b60-3024-457a-98c2-d820e22e9383",
   "metadata": {
    "tags": []
   },
   "outputs": [
    {
     "data": {
      "text/plain": [
       "array([ 0,  1,  2,  3,  4,  5,  6,  7,  8,  9, 10, 11, 12, 13, 14, 15, 16,\n",
       "       17, 18, 19])"
      ]
     },
     "execution_count": 42,
     "metadata": {},
     "output_type": "execute_result"
    }
   ],
   "source": [
    "x"
   ]
  },
  {
   "cell_type": "code",
   "execution_count": 43,
   "id": "60ca1cb0-1a30-4bac-bbc3-e3a0bb768e15",
   "metadata": {
    "tags": []
   },
   "outputs": [],
   "source": [
    "x[0:5]=50"
   ]
  },
  {
   "cell_type": "code",
   "execution_count": 44,
   "id": "365e7446-fc70-47fe-a391-deab4d63d589",
   "metadata": {
    "tags": []
   },
   "outputs": [
    {
     "data": {
      "text/plain": [
       "array([50, 50, 50, 50, 50,  5,  6,  7,  8,  9, 10, 11, 12, 13, 14, 15, 16,\n",
       "       17, 18, 19])"
      ]
     },
     "execution_count": 44,
     "metadata": {},
     "output_type": "execute_result"
    }
   ],
   "source": [
    "x"
   ]
  },
  {
   "cell_type": "code",
   "execution_count": 47,
   "id": "6c0a9652-4370-4133-bea9-b4c5913948b8",
   "metadata": {
    "tags": []
   },
   "outputs": [
    {
     "data": {
      "text/plain": [
       "array([ True,  True,  True,  True,  True, False, False, False, False,\n",
       "       False, False, False, False, False, False, False, False, False,\n",
       "       False, False])"
      ]
     },
     "execution_count": 47,
     "metadata": {},
     "output_type": "execute_result"
    }
   ],
   "source": [
    "x>40"
   ]
  },
  {
   "cell_type": "code",
   "execution_count": null,
   "id": "54aa0b4b-aa2b-4e56-ac12-f1f2a94b0ee5",
   "metadata": {},
   "outputs": [],
   "source": []
  },
  {
   "cell_type": "code",
   "execution_count": null,
   "id": "34307930-d025-4f1d-8d13-a5dfe0330559",
   "metadata": {},
   "outputs": [],
   "source": []
  },
  {
   "cell_type": "code",
   "execution_count": 23,
   "id": "5497fe53-f715-4f89-a55a-ef438cdc44eb",
   "metadata": {
    "tags": []
   },
   "outputs": [],
   "source": [
    "arr1=np.random.randint(1,10,4)\n",
    "arr2=np.random.randint(10,20,4)"
   ]
  },
  {
   "cell_type": "code",
   "execution_count": 24,
   "id": "cb5177cd-3cdd-4ee5-8d87-3a8f91f00269",
   "metadata": {
    "tags": []
   },
   "outputs": [
    {
     "data": {
      "text/plain": [
       "array([6, 7, 8, 2])"
      ]
     },
     "execution_count": 24,
     "metadata": {},
     "output_type": "execute_result"
    }
   ],
   "source": [
    "arr1"
   ]
  },
  {
   "cell_type": "code",
   "execution_count": 25,
   "id": "7971f7b4-1442-4872-98f2-e691b7f98a6f",
   "metadata": {
    "tags": []
   },
   "outputs": [
    {
     "data": {
      "text/plain": [
       "array([11, 17, 19, 18])"
      ]
     },
     "execution_count": 25,
     "metadata": {},
     "output_type": "execute_result"
    }
   ],
   "source": [
    "arr2"
   ]
  },
  {
   "cell_type": "code",
   "execution_count": 28,
   "id": "496b2d9a-bf9d-44f6-bbf3-b8c0ab81a5c7",
   "metadata": {
    "tags": []
   },
   "outputs": [
    {
     "data": {
      "text/plain": [
       "array([ 6,  7,  8,  2, 11, 17, 19, 18])"
      ]
     },
     "execution_count": 28,
     "metadata": {},
     "output_type": "execute_result"
    }
   ],
   "source": [
    "np.concatenate((arr1,arr2))"
   ]
  },
  {
   "cell_type": "code",
   "execution_count": null,
   "id": "dee3b0f5-d7a4-4cf0-8ded-af9421686301",
   "metadata": {},
   "outputs": [],
   "source": []
  },
  {
   "cell_type": "code",
   "execution_count": 30,
   "id": "358eb285-d754-497f-9c0f-0b55a936ad20",
   "metadata": {
    "tags": []
   },
   "outputs": [
    {
     "data": {
      "text/plain": [
       "array([5, 5, 5, 2])"
      ]
     },
     "execution_count": 30,
     "metadata": {},
     "output_type": "execute_result"
    }
   ],
   "source": [
    "np.clip(arr1,1,5)"
   ]
  },
  {
   "cell_type": "code",
   "execution_count": null,
   "id": "f1d0c783-05e3-4dab-b39f-9f23398dd0ab",
   "metadata": {},
   "outputs": [],
   "source": []
  },
  {
   "cell_type": "code",
   "execution_count": null,
   "id": "774f9fb1-0140-4bc9-a228-7953a11fa8cb",
   "metadata": {},
   "outputs": [],
   "source": []
  },
  {
   "cell_type": "code",
   "execution_count": null,
   "id": "d70bb637-7961-4993-bb24-de4f270354a5",
   "metadata": {},
   "outputs": [],
   "source": []
  },
  {
   "cell_type": "code",
   "execution_count": null,
   "id": "551eda40-5644-47ef-9cd8-6e8d9b51a68e",
   "metadata": {},
   "outputs": [],
   "source": []
  },
  {
   "cell_type": "code",
   "execution_count": null,
   "id": "7f4af5f6-692f-478d-8a32-c7ec56bbd8d7",
   "metadata": {},
   "outputs": [],
   "source": []
  }
 ],
 "metadata": {
  "kernelspec": {
   "display_name": "Python 3 (ipykernel)",
   "language": "python",
   "name": "python3"
  },
  "language_info": {
   "codemirror_mode": {
    "name": "ipython",
    "version": 3
   },
   "file_extension": ".py",
   "mimetype": "text/x-python",
   "name": "python",
   "nbconvert_exporter": "python",
   "pygments_lexer": "ipython3",
   "version": "3.11.5"
  }
 },
 "nbformat": 4,
 "nbformat_minor": 5
}
