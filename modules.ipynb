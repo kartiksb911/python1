{
 "cells": [
  {
   "cell_type": "markdown",
   "id": "cd11a5d5-2e8b-417b-a8c1-f6a01aba7096",
   "metadata": {},
   "source": [
    "**modules**"
   ]
  },
  {
   "cell_type": "code",
   "execution_count": null,
   "id": "6435b717-6fa2-4123-aa54-b78d9c368c31",
   "metadata": {},
   "outputs": [],
   "source": []
  },
  {
   "cell_type": "markdown",
   "id": "0a040cd5-162b-4735-9e5a-400f6bf7f86b",
   "metadata": {},
   "source": [
    "*calendar*"
   ]
  },
  {
   "cell_type": "code",
   "execution_count": 39,
   "id": "5386ae23-7074-43f8-b51e-7f765390c13d",
   "metadata": {
    "tags": []
   },
   "outputs": [],
   "source": [
    "import calendar"
   ]
  },
  {
   "cell_type": "code",
   "execution_count": 2,
   "id": "eba0dfb8-320d-4f40-9dd0-5a84b6206895",
   "metadata": {
    "tags": []
   },
   "outputs": [
    {
     "name": "stdout",
     "output_type": "stream",
     "text": [
      "     April 2001\n",
      "Mo Tu We Th Fr Sa Su\n",
      "                   1\n",
      " 2  3  4  5  6  7  8\n",
      " 9 10 11 12 13 14 15\n",
      "16 17 18 19 20 21 22\n",
      "23 24 25 26 27 28 29\n",
      "30\n",
      "\n"
     ]
    }
   ],
   "source": [
    "print(calendar.month(2001,4))"
   ]
  },
  {
   "cell_type": "code",
   "execution_count": 4,
   "id": "c0ae1352-43b4-4c20-babd-1659e8aa8e96",
   "metadata": {
    "tags": []
   },
   "outputs": [
    {
     "data": {
      "text/plain": [
       "6"
      ]
     },
     "execution_count": 4,
     "metadata": {},
     "output_type": "execute_result"
    }
   ],
   "source": [
    "calendar.weekday(2001,4,1)"
   ]
  },
  {
   "cell_type": "code",
   "execution_count": 48,
   "id": "035f86db-f090-447b-b60d-c3737777dc9d",
   "metadata": {
    "tags": []
   },
   "outputs": [
    {
     "data": {
      "text/plain": [
       "'                                  2024\\n\\n      January                   February                   March\\nMo Tu We Th Fr Sa Su      Mo Tu We Th Fr Sa Su      Mo Tu We Th Fr Sa Su\\n 1  2  3  4  5  6  7                1  2  3  4                   1  2  3\\n 8  9 10 11 12 13 14       5  6  7  8  9 10 11       4  5  6  7  8  9 10\\n15 16 17 18 19 20 21      12 13 14 15 16 17 18      11 12 13 14 15 16 17\\n22 23 24 25 26 27 28      19 20 21 22 23 24 25      18 19 20 21 22 23 24\\n29 30 31                  26 27 28 29               25 26 27 28 29 30 31\\n\\n       April                      May                       June\\nMo Tu We Th Fr Sa Su      Mo Tu We Th Fr Sa Su      Mo Tu We Th Fr Sa Su\\n 1  2  3  4  5  6  7             1  2  3  4  5                      1  2\\n 8  9 10 11 12 13 14       6  7  8  9 10 11 12       3  4  5  6  7  8  9\\n15 16 17 18 19 20 21      13 14 15 16 17 18 19      10 11 12 13 14 15 16\\n22 23 24 25 26 27 28      20 21 22 23 24 25 26      17 18 19 20 21 22 23\\n29 30                     27 28 29 30 31            24 25 26 27 28 29 30\\n\\n        July                     August                  September\\nMo Tu We Th Fr Sa Su      Mo Tu We Th Fr Sa Su      Mo Tu We Th Fr Sa Su\\n 1  2  3  4  5  6  7                1  2  3  4                         1\\n 8  9 10 11 12 13 14       5  6  7  8  9 10 11       2  3  4  5  6  7  8\\n15 16 17 18 19 20 21      12 13 14 15 16 17 18       9 10 11 12 13 14 15\\n22 23 24 25 26 27 28      19 20 21 22 23 24 25      16 17 18 19 20 21 22\\n29 30 31                  26 27 28 29 30 31         23 24 25 26 27 28 29\\n                                                    30\\n\\n      October                   November                  December\\nMo Tu We Th Fr Sa Su      Mo Tu We Th Fr Sa Su      Mo Tu We Th Fr Sa Su\\n    1  2  3  4  5  6                   1  2  3                         1\\n 7  8  9 10 11 12 13       4  5  6  7  8  9 10       2  3  4  5  6  7  8\\n14 15 16 17 18 19 20      11 12 13 14 15 16 17       9 10 11 12 13 14 15\\n21 22 23 24 25 26 27      18 19 20 21 22 23 24      16 17 18 19 20 21 22\\n28 29 30 31               25 26 27 28 29 30         23 24 25 26 27 28 29\\n                                                    30 31\\n'"
      ]
     },
     "execution_count": 48,
     "metadata": {},
     "output_type": "execute_result"
    }
   ],
   "source": [
    "calendar.calendar(2024)"
   ]
  },
  {
   "cell_type": "code",
   "execution_count": null,
   "id": "b2835506-3dc7-4ae4-970a-5a8a827393ed",
   "metadata": {},
   "outputs": [],
   "source": []
  },
  {
   "cell_type": "code",
   "execution_count": null,
   "id": "a0d286a2-8099-44e2-ace1-adefcb34f43b",
   "metadata": {},
   "outputs": [],
   "source": [
    "        "
   ]
  },
  {
   "cell_type": "markdown",
   "id": "aa58b984-dbe2-40c7-bdd7-64858b3e186b",
   "metadata": {},
   "source": [
    "**maths**"
   ]
  },
  {
   "cell_type": "code",
   "execution_count": 5,
   "id": "5ab2b789-d83d-4100-8865-eb02bbe53e80",
   "metadata": {
    "tags": []
   },
   "outputs": [],
   "source": [
    "import math"
   ]
  },
  {
   "cell_type": "code",
   "execution_count": 6,
   "id": "80229fc8-aa2e-4db9-9616-ccb5390380a9",
   "metadata": {
    "tags": []
   },
   "outputs": [
    {
     "data": {
      "text/plain": [
       "8.831760866327848"
      ]
     },
     "execution_count": 6,
     "metadata": {},
     "output_type": "execute_result"
    }
   ],
   "source": [
    "math.sqrt(78)"
   ]
  },
  {
   "cell_type": "code",
   "execution_count": 7,
   "id": "80f71623-4673-4f15-80c0-b95719a4aaa4",
   "metadata": {
    "tags": []
   },
   "outputs": [
    {
     "data": {
      "text/plain": [
       "40320"
      ]
     },
     "execution_count": 7,
     "metadata": {},
     "output_type": "execute_result"
    }
   ],
   "source": [
    "math.factorial(8)"
   ]
  },
  {
   "cell_type": "code",
   "execution_count": 9,
   "id": "2d674e94-8b6f-4247-9edd-09a4705ecc69",
   "metadata": {
    "tags": []
   },
   "outputs": [
    {
     "data": {
      "text/plain": [
       "0.0"
      ]
     },
     "execution_count": 9,
     "metadata": {},
     "output_type": "execute_result"
    }
   ],
   "source": [
    "math.sin(0)"
   ]
  },
  {
   "cell_type": "code",
   "execution_count": null,
   "id": "7e40012a-d393-4a87-afe3-1551f24ffa9a",
   "metadata": {},
   "outputs": [],
   "source": []
  },
  {
   "cell_type": "markdown",
   "id": "e0440cb5-ed05-47b9-9b22-f0ebaf4f203d",
   "metadata": {
    "tags": []
   },
   "source": [
    "**keyword**"
   ]
  },
  {
   "cell_type": "code",
   "execution_count": 12,
   "id": "ee0ccb39-9592-4c34-bf28-e79bf6a8a580",
   "metadata": {
    "tags": []
   },
   "outputs": [],
   "source": [
    "import keyword"
   ]
  },
  {
   "cell_type": "code",
   "execution_count": 16,
   "id": "2a7e27f7-3110-4fbe-aaf3-ae177e47758f",
   "metadata": {
    "tags": []
   },
   "outputs": [
    {
     "name": "stdout",
     "output_type": "stream",
     "text": [
      "['False', 'None', 'True', 'and', 'as', 'assert', 'async', 'await', 'break', 'class', 'continue', 'def', 'del', 'elif', 'else', 'except', 'finally', 'for', 'from', 'global', 'if', 'import', 'in', 'is', 'lambda', 'nonlocal', 'not', 'or', 'pass', 'raise', 'return', 'try', 'while', 'with', 'yield']"
     ]
    }
   ],
   "source": [
    "print(keyword.kwlist , end =\"\")"
   ]
  },
  {
   "cell_type": "code",
   "execution_count": null,
   "id": "a2d0c62c-bee8-4d4b-aba3-1b3a904dc6df",
   "metadata": {},
   "outputs": [],
   "source": []
  },
  {
   "cell_type": "markdown",
   "id": "834ccbb3-9e00-463f-b243-6179a0791092",
   "metadata": {},
   "source": [
    "**time**"
   ]
  },
  {
   "cell_type": "code",
   "execution_count": 1,
   "id": "518ccebf-ee5c-4c69-87ae-b4f57a8c80cf",
   "metadata": {
    "tags": []
   },
   "outputs": [],
   "source": [
    "import time"
   ]
  },
  {
   "cell_type": "code",
   "execution_count": 2,
   "id": "556f0c68-3430-43c6-88a5-b2c8eea51893",
   "metadata": {
    "tags": []
   },
   "outputs": [
    {
     "data": {
      "text/plain": [
       "1712194354.9424076"
      ]
     },
     "execution_count": 2,
     "metadata": {},
     "output_type": "execute_result"
    }
   ],
   "source": [
    "## 1 jan 1970--->> sec\n",
    "time.time()"
   ]
  },
  {
   "cell_type": "code",
   "execution_count": null,
   "id": "94e8c5eb-6348-49d4-85a9-de4a339d9887",
   "metadata": {},
   "outputs": [],
   "source": []
  },
  {
   "cell_type": "code",
   "execution_count": 3,
   "id": "555fe379-0595-4220-9e84-d6bd89b7b6c2",
   "metadata": {
    "tags": []
   },
   "outputs": [
    {
     "data": {
      "text/plain": [
       "'2024,04,04'"
      ]
     },
     "execution_count": 3,
     "metadata": {},
     "output_type": "execute_result"
    }
   ],
   "source": [
    "time.strftime(\"%Y,%m,%d\")"
   ]
  },
  {
   "cell_type": "code",
   "execution_count": null,
   "id": "0e178c6b-b05e-44bc-88f4-6c4849958d85",
   "metadata": {},
   "outputs": [],
   "source": []
  },
  {
   "cell_type": "code",
   "execution_count": 4,
   "id": "91f69b21-f900-4399-9d00-61505c40d499",
   "metadata": {
    "tags": []
   },
   "outputs": [
    {
     "name": "stdout",
     "output_type": "stream",
     "text": [
      "hi\n"
     ]
    }
   ],
   "source": [
    "time.sleep(8)\n",
    "print(\"hi\")"
   ]
  },
  {
   "cell_type": "markdown",
   "id": "7ef358ef-05dd-4b25-a3e8-4a858f4ec49f",
   "metadata": {},
   "source": [
    "\"\"\" %Y  Year with century as a decimal number.\n",
    "%m  Month as a decimal number [01,12].\n",
    "%d  Day of the month as a decimal number [01,31].\n",
    "%H  Hour (24-hour clock) as a decimal number [00,23].\n",
    "%M  Minute as a decimal number [00,59].\n",
    "%S  Second as a decimal number [00,61].\n",
    "%z  Time zone offset from UTC.\n",
    "%a  Locale's abbreviated weekday name.\n",
    "%A  Locale's full weekday name.\n",
    "%b  Locale's abbreviated month name.\n",
    "%B  Locale's full month name.\n",
    "%c  Locale's appropriate date and time representation.\n",
    "%I  Hour (12-hour clock) as a decimal number [01,12].\n",
    "%p  Locale's equivalent of either AM or PM.\n",
    "\"\"\"\n",
    "\n",
    "\n"
   ]
  },
  {
   "cell_type": "code",
   "execution_count": 12,
   "id": "aa5fb50d-26d2-4f08-815a-1af5631749eb",
   "metadata": {
    "tags": []
   },
   "outputs": [
    {
     "data": {
      "text/plain": [
       "'07 ,09 ,51 ,Thursday ,AM'"
      ]
     },
     "execution_count": 12,
     "metadata": {},
     "output_type": "execute_result"
    }
   ],
   "source": [
    "time.strftime(\"%H ,%M ,%S ,%A ,%p\")"
   ]
  },
  {
   "cell_type": "code",
   "execution_count": null,
   "id": "045c5206-517a-4167-8fb5-a4f99da10599",
   "metadata": {},
   "outputs": [],
   "source": []
  },
  {
   "cell_type": "markdown",
   "id": "1349eb8f-e6c9-4d4e-a3bf-6d05e83697ca",
   "metadata": {},
   "source": [
    "**random**"
   ]
  },
  {
   "cell_type": "code",
   "execution_count": 22,
   "id": "eb1abd7f-be34-4e1e-be15-e94b142e9a06",
   "metadata": {
    "tags": []
   },
   "outputs": [],
   "source": [
    "import random"
   ]
  },
  {
   "cell_type": "code",
   "execution_count": 21,
   "id": "f8155600-fb36-42d6-920a-3f7a9339f517",
   "metadata": {
    "tags": []
   },
   "outputs": [
    {
     "data": {
      "text/plain": [
       "'r'"
      ]
     },
     "execution_count": 21,
     "metadata": {},
     "output_type": "execute_result"
    }
   ],
   "source": [
    "random.choice(\"string\")"
   ]
  },
  {
   "cell_type": "code",
   "execution_count": null,
   "id": "c22b4f83-3a89-41be-972d-1a03ec88e2a8",
   "metadata": {},
   "outputs": [],
   "source": []
  },
  {
   "cell_type": "code",
   "execution_count": 23,
   "id": "efd91a78-66e9-49c9-8781-a31c7359770d",
   "metadata": {
    "tags": []
   },
   "outputs": [
    {
     "data": {
      "text/plain": [
       "93"
      ]
     },
     "execution_count": 23,
     "metadata": {},
     "output_type": "execute_result"
    }
   ],
   "source": [
    "random.randrange(30,100,1)"
   ]
  },
  {
   "cell_type": "code",
   "execution_count": null,
   "id": "cec56223-c390-4fb6-aca1-9fff8ab0159f",
   "metadata": {},
   "outputs": [],
   "source": []
  },
  {
   "cell_type": "markdown",
   "id": "5233b6bc-51d3-4319-92e7-7660098ca7b9",
   "metadata": {},
   "source": [
    "**statistics**"
   ]
  },
  {
   "cell_type": "code",
   "execution_count": 30,
   "id": "3fb378a9-dc77-4396-a381-39ba3dce73f6",
   "metadata": {
    "tags": []
   },
   "outputs": [],
   "source": [
    "import statistics"
   ]
  },
  {
   "cell_type": "code",
   "execution_count": 31,
   "id": "bb1a81dd-c2ef-4d71-a7d9-c1b73686a565",
   "metadata": {
    "tags": []
   },
   "outputs": [
    {
     "data": {
      "text/plain": [
       "31.25"
      ]
     },
     "execution_count": 31,
     "metadata": {},
     "output_type": "execute_result"
    }
   ],
   "source": [
    "statistics.mean([20,30,30,45])"
   ]
  },
  {
   "cell_type": "code",
   "execution_count": 32,
   "id": "7d76d393-4a9d-4df1-85dd-446652cb0d06",
   "metadata": {
    "tags": []
   },
   "outputs": [
    {
     "data": {
      "text/plain": [
       "'red'"
      ]
     },
     "execution_count": 32,
     "metadata": {},
     "output_type": "execute_result"
    }
   ],
   "source": [
    "statistics.mode([\"red\",\"blue\",\"green\",\"red\",\"red\"])"
   ]
  },
  {
   "cell_type": "code",
   "execution_count": null,
   "id": "03517216-33c4-49af-8054-67a4db0e755e",
   "metadata": {},
   "outputs": [],
   "source": []
  },
  {
   "cell_type": "markdown",
   "id": "cb90d0eb-2f57-4b84-b9ed-89bcbbf55cda",
   "metadata": {},
   "source": [
    "**sys**"
   ]
  },
  {
   "cell_type": "code",
   "execution_count": 33,
   "id": "32383fe4-1c5f-4f37-be37-ce4c36c53a1a",
   "metadata": {
    "tags": []
   },
   "outputs": [],
   "source": [
    "import sys"
   ]
  },
  {
   "cell_type": "code",
   "execution_count": 34,
   "id": "7f10d69a-c0f6-4d63-883a-05ca5bf6ca91",
   "metadata": {
    "tags": []
   },
   "outputs": [
    {
     "data": {
      "text/plain": [
       "71"
      ]
     },
     "execution_count": 34,
     "metadata": {},
     "output_type": "execute_result"
    }
   ],
   "source": [
    "sys.getsizeof(\"kartik sharma bhardwaj\")"
   ]
  },
  {
   "cell_type": "code",
   "execution_count": null,
   "id": "c1f89f97-3e61-4a09-8af5-4ba3c769218b",
   "metadata": {},
   "outputs": [],
   "source": []
  },
  {
   "cell_type": "code",
   "execution_count": null,
   "id": "7f98bb32-96df-4d22-954e-2383eee93083",
   "metadata": {},
   "outputs": [],
   "source": []
  },
  {
   "cell_type": "code",
   "execution_count": null,
   "id": "5356d883-d8ef-47dc-847e-7a6bcab54032",
   "metadata": {},
   "outputs": [],
   "source": []
  },
  {
   "cell_type": "code",
   "execution_count": null,
   "id": "4aac8d11-b18b-4607-be2d-96b3c0c06265",
   "metadata": {},
   "outputs": [],
   "source": []
  },
  {
   "cell_type": "code",
   "execution_count": null,
   "id": "31f46a08-ab8c-418f-b100-12104b3ed125",
   "metadata": {},
   "outputs": [],
   "source": []
  },
  {
   "cell_type": "code",
   "execution_count": null,
   "id": "31faaebf-025b-4c97-9a49-c27e46c12fea",
   "metadata": {},
   "outputs": [],
   "source": []
  },
  {
   "cell_type": "code",
   "execution_count": null,
   "id": "1a2479b2-7cdb-4efe-a02e-8e4c7d625df2",
   "metadata": {},
   "outputs": [],
   "source": []
  }
 ],
 "metadata": {
  "kernelspec": {
   "display_name": "Python 3 (ipykernel)",
   "language": "python",
   "name": "python3"
  },
  "language_info": {
   "codemirror_mode": {
    "name": "ipython",
    "version": 3
   },
   "file_extension": ".py",
   "mimetype": "text/x-python",
   "name": "python",
   "nbconvert_exporter": "python",
   "pygments_lexer": "ipython3",
   "version": "3.11.5"
  }
 },
 "nbformat": 4,
 "nbformat_minor": 5
}
