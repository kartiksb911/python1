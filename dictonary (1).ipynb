{
 "cells": [
  {
   "cell_type": "markdown",
   "id": "32c621c4-a5ae-466d-ae29-1f77199effeb",
   "metadata": {},
   "source": [
    " **dictonary** = *mutable* ,*duplicate not allowed , indexing and slicing not possible*"
   ]
  },
  {
   "cell_type": "code",
   "execution_count": 1,
   "id": "99f7cf14-ae31-4df4-9fe9-33c6c3cc15c9",
   "metadata": {
    "tags": []
   },
   "outputs": [],
   "source": [
    "d ={}"
   ]
  },
  {
   "cell_type": "code",
   "execution_count": 2,
   "id": "3fae5469-c2d4-401c-bfa1-020da94e9c2f",
   "metadata": {
    "tags": []
   },
   "outputs": [
    {
     "data": {
      "text/plain": [
       "dict"
      ]
     },
     "execution_count": 2,
     "metadata": {},
     "output_type": "execute_result"
    }
   ],
   "source": [
    "type(d)"
   ]
  },
  {
   "cell_type": "code",
   "execution_count": 3,
   "id": "a0ee0f4b-8ca8-4fab-ab44-006db15f2bfe",
   "metadata": {
    "tags": []
   },
   "outputs": [],
   "source": [
    "d1= {'keys':'values'}"
   ]
  },
  {
   "cell_type": "code",
   "execution_count": 4,
   "id": "5a6a72c8-d7d7-42b6-935b-3b5aeabf4e9d",
   "metadata": {
    "tags": []
   },
   "outputs": [
    {
     "data": {
      "text/plain": [
       "{'keys': 'values'}"
      ]
     },
     "execution_count": 4,
     "metadata": {},
     "output_type": "execute_result"
    }
   ],
   "source": [
    "d1"
   ]
  },
  {
   "cell_type": "code",
   "execution_count": 5,
   "id": "10954abb-2d9d-4073-b3a7-7a62e5876501",
   "metadata": {
    "tags": []
   },
   "outputs": [],
   "source": [
    "d2={'name':'kartik','email':'kartiksb911@gmail.com','number':1234567}"
   ]
  },
  {
   "cell_type": "code",
   "execution_count": 6,
   "id": "c9627b10-cf42-4b05-90e9-4cc3ea1266d7",
   "metadata": {
    "tags": []
   },
   "outputs": [
    {
     "data": {
      "text/plain": [
       "{'name': 'kartik', 'email': 'kartiksb911@gmail.com', 'number': 1234567}"
      ]
     },
     "execution_count": 6,
     "metadata": {},
     "output_type": "execute_result"
    }
   ],
   "source": [
    "d2"
   ]
  },
  {
   "cell_type": "code",
   "execution_count": null,
   "id": "6aaed95d-4795-4aee-b1c2-182de00bf19e",
   "metadata": {},
   "outputs": [],
   "source": []
  },
  {
   "cell_type": "markdown",
   "id": "ff2c0fd7-2d7f-43a8-8821-3c79fc2e3ebb",
   "metadata": {},
   "source": [
    " **keys** =*string allowed*\n",
    " **bool**= *allowed*\n",
    " **int**=*allowed*\n",
    " **sepectial** charcter not allowed\n"
   ]
  },
  {
   "cell_type": "code",
   "execution_count": 7,
   "id": "aaffc716-eed2-4ff8-a073-8f2688aa9127",
   "metadata": {
    "tags": []
   },
   "outputs": [],
   "source": [
    "d3={234:'sudh','_wer':'kumar',True:2345}"
   ]
  },
  {
   "cell_type": "code",
   "execution_count": 8,
   "id": "1b411022-ac90-4744-875b-932de809d9ed",
   "metadata": {
    "tags": []
   },
   "outputs": [
    {
     "data": {
      "text/plain": [
       "'sudh'"
      ]
     },
     "execution_count": 8,
     "metadata": {},
     "output_type": "execute_result"
    }
   ],
   "source": [
    "d3[234]"
   ]
  },
  {
   "cell_type": "code",
   "execution_count": 9,
   "id": "bbd9cca4-70f3-4932-9860-feb94f40755f",
   "metadata": {
    "tags": []
   },
   "outputs": [
    {
     "data": {
      "text/plain": [
       "2345"
      ]
     },
     "execution_count": 9,
     "metadata": {},
     "output_type": "execute_result"
    }
   ],
   "source": [
    "d3[1]"
   ]
  },
  {
   "cell_type": "code",
   "execution_count": 10,
   "id": "1677c39a-cd49-4bb0-9af5-5184744e0c4a",
   "metadata": {
    "tags": []
   },
   "outputs": [],
   "source": [
    "d4={'name':'sudh', 'mail_id':'s@gmail.com' ,'name':'ram'}"
   ]
  },
  {
   "cell_type": "code",
   "execution_count": 11,
   "id": "9ab8faf3-f088-454b-8f7b-81c797cb1fcd",
   "metadata": {
    "tags": []
   },
   "outputs": [
    {
     "data": {
      "text/plain": [
       "'ram'"
      ]
     },
     "execution_count": 11,
     "metadata": {},
     "output_type": "execute_result"
    }
   ],
   "source": [
    "d4['name']"
   ]
  },
  {
   "cell_type": "markdown",
   "id": "cf2ed9eb-3440-47c7-8d60-c354ff172456",
   "metadata": {},
   "source": [
    "#### add and multiply not in dict"
   ]
  },
  {
   "cell_type": "code",
   "execution_count": 12,
   "id": "b846b35a-fc80-4c1a-87ed-3d8018a4ecd3",
   "metadata": {
    "tags": []
   },
   "outputs": [
    {
     "ename": "TypeError",
     "evalue": "unsupported operand type(s) for *: 'dict' and 'int'",
     "output_type": "error",
     "traceback": [
      "\u001b[1;31m---------------------------------------------------------------------------\u001b[0m",
      "\u001b[1;31mTypeError\u001b[0m                                 Traceback (most recent call last)",
      "Cell \u001b[1;32mIn[12], line 1\u001b[0m\n\u001b[1;32m----> 1\u001b[0m d3\u001b[38;5;241m*\u001b[39m\u001b[38;5;241m4\u001b[39m\n",
      "\u001b[1;31mTypeError\u001b[0m: unsupported operand type(s) for *: 'dict' and 'int'"
     ]
    }
   ],
   "source": [
    "d3*4"
   ]
  },
  {
   "cell_type": "code",
   "execution_count": 13,
   "id": "8bc2519a-feae-49cd-bc1a-b25d16a1dc99",
   "metadata": {
    "tags": []
   },
   "outputs": [
    {
     "ename": "TypeError",
     "evalue": "unsupported operand type(s) for +: 'dict' and 'dict'",
     "output_type": "error",
     "traceback": [
      "\u001b[1;31m---------------------------------------------------------------------------\u001b[0m",
      "\u001b[1;31mTypeError\u001b[0m                                 Traceback (most recent call last)",
      "Cell \u001b[1;32mIn[13], line 1\u001b[0m\n\u001b[1;32m----> 1\u001b[0m d3\u001b[38;5;241m+\u001b[39md4\n",
      "\u001b[1;31mTypeError\u001b[0m: unsupported operand type(s) for +: 'dict' and 'dict'"
     ]
    }
   ],
   "source": [
    "d3+d4"
   ]
  },
  {
   "cell_type": "code",
   "execution_count": null,
   "id": "c752a789-5eb0-427a-ad93-2f0b4c25aab2",
   "metadata": {},
   "outputs": [],
   "source": []
  },
  {
   "cell_type": "code",
   "execution_count": null,
   "id": "bca24f0f-205c-457b-b65a-c1a0fb764cbd",
   "metadata": {},
   "outputs": [],
   "source": []
  },
  {
   "cell_type": "markdown",
   "id": "72056585-d3af-499a-887c-ee17d3c19d72",
   "metadata": {},
   "source": [
    "### if key is same it will give the last value"
   ]
  },
  {
   "cell_type": "code",
   "execution_count": null,
   "id": "f8f9f652-c9ef-49db-ba50-892affe2015c",
   "metadata": {
    "tags": []
   },
   "outputs": [],
   "source": [
    "d5={'company':'pwskill','course':['web dev.', 'data science','java']}"
   ]
  },
  {
   "cell_type": "code",
   "execution_count": 16,
   "id": "db09fd44-751d-4eb8-a7ce-46072551fedc",
   "metadata": {
    "tags": []
   },
   "outputs": [
    {
     "data": {
      "text/plain": [
       "{'company': 'pwskill', 'course': ['web dev.', 'data science', 'java']}"
      ]
     },
     "execution_count": 16,
     "metadata": {},
     "output_type": "execute_result"
    }
   ],
   "source": [
    "d5"
   ]
  },
  {
   "cell_type": "code",
   "execution_count": 17,
   "id": "be1703c3-9d0f-4f12-baff-426c5d271327",
   "metadata": {
    "tags": []
   },
   "outputs": [
    {
     "data": {
      "text/plain": [
       "['web dev.', 'data science', 'java']"
      ]
     },
     "execution_count": 17,
     "metadata": {},
     "output_type": "execute_result"
    }
   ],
   "source": [
    "d5['course']"
   ]
  },
  {
   "cell_type": "code",
   "execution_count": 18,
   "id": "8b4d507b-3fb9-4962-ae17-f36a72460ab1",
   "metadata": {
    "tags": []
   },
   "outputs": [
    {
     "data": {
      "text/plain": [
       "'java'"
      ]
     },
     "execution_count": 18,
     "metadata": {},
     "output_type": "execute_result"
    }
   ],
   "source": [
    "d5['course'][2]"
   ]
  },
  {
   "cell_type": "code",
   "execution_count": 19,
   "id": "9303f175-8af0-4a9b-8965-8419f3e92ee1",
   "metadata": {
    "tags": []
   },
   "outputs": [],
   "source": [
    "d6={'number':[2,34,3,34,34],'assingment':(1,2,3,4,5,6),'lunch date':{12,14,28},'class time':{'web dev.':8,'datascience':7}}"
   ]
  },
  {
   "cell_type": "code",
   "execution_count": 20,
   "id": "d07edd8f-332a-46c3-8b53-c17a56e28d03",
   "metadata": {
    "tags": []
   },
   "outputs": [
    {
     "data": {
      "text/plain": [
       "{'number': [2, 34, 3, 34, 34],\n",
       " 'assingment': (1, 2, 3, 4, 5, 6),\n",
       " 'lunch date': {12, 14, 28},\n",
       " 'class time': {'web dev.': 8, 'datascience': 7}}"
      ]
     },
     "execution_count": 20,
     "metadata": {},
     "output_type": "execute_result"
    }
   ],
   "source": [
    "d6"
   ]
  },
  {
   "cell_type": "code",
   "execution_count": 21,
   "id": "c2e1fa3d-1872-4606-9bfa-359fcb1ec1ed",
   "metadata": {
    "tags": []
   },
   "outputs": [
    {
     "data": {
      "text/plain": [
       "7"
      ]
     },
     "execution_count": 21,
     "metadata": {},
     "output_type": "execute_result"
    }
   ],
   "source": [
    "d6['class time']['datascience']"
   ]
  },
  {
   "cell_type": "markdown",
   "id": "679a4c6e-e6a3-4dc6-8245-6e0874132799",
   "metadata": {},
   "source": [
    "### adding new elements"
   ]
  },
  {
   "cell_type": "code",
   "execution_count": 22,
   "id": "60ad8801-0652-47ac-8e9b-4f7b2d61c665",
   "metadata": {
    "tags": []
   },
   "outputs": [
    {
     "data": {
      "text/plain": [
       "{'number': [2, 34, 3, 34, 34],\n",
       " 'assingment': (1, 2, 3, 4, 5, 6),\n",
       " 'lunch date': {12, 14, 28},\n",
       " 'class time': {'web dev.': 8, 'datascience': 7}}"
      ]
     },
     "execution_count": 22,
     "metadata": {},
     "output_type": "execute_result"
    }
   ],
   "source": [
    "d6"
   ]
  },
  {
   "cell_type": "code",
   "execution_count": 23,
   "id": "b8e7d61c-2ad4-469c-bb3e-5c8bb5d853de",
   "metadata": {
    "tags": []
   },
   "outputs": [],
   "source": [
    "d6['mentor']='ram ','shyam'"
   ]
  },
  {
   "cell_type": "code",
   "execution_count": 24,
   "id": "17d1927c-6d28-486e-a599-63418726081f",
   "metadata": {
    "tags": []
   },
   "outputs": [
    {
     "data": {
      "text/plain": [
       "{'number': [2, 34, 3, 34, 34],\n",
       " 'assingment': (1, 2, 3, 4, 5, 6),\n",
       " 'lunch date': {12, 14, 28},\n",
       " 'class time': {'web dev.': 8, 'datascience': 7},\n",
       " 'mentor': ('ram ', 'shyam')}"
      ]
     },
     "execution_count": 24,
     "metadata": {},
     "output_type": "execute_result"
    }
   ],
   "source": [
    "d6"
   ]
  },
  {
   "cell_type": "markdown",
   "id": "2c830dfd-6ceb-4227-beed-075caa24d5ae",
   "metadata": {},
   "source": [
    "### delet any element"
   ]
  },
  {
   "cell_type": "code",
   "execution_count": 26,
   "id": "a1a5b12d-6580-4991-a877-21cc9b0d669a",
   "metadata": {
    "tags": []
   },
   "outputs": [],
   "source": [
    "del d6['number']"
   ]
  },
  {
   "cell_type": "code",
   "execution_count": 27,
   "id": "439d028d-f3fa-42e3-9ee6-df1c86bcf28a",
   "metadata": {
    "tags": []
   },
   "outputs": [
    {
     "data": {
      "text/plain": [
       "{'assingment': (1, 2, 3, 4, 5, 6),\n",
       " 'lunch date': {12, 14, 28},\n",
       " 'class time': {'web dev.': 8, 'datascience': 7},\n",
       " 'mentor': ('ram ', 'shyam')}"
      ]
     },
     "execution_count": 27,
     "metadata": {},
     "output_type": "execute_result"
    }
   ],
   "source": [
    "d6"
   ]
  },
  {
   "cell_type": "code",
   "execution_count": null,
   "id": "f70bb6a2-927a-4aae-ba8f-e6c8d5e8baaa",
   "metadata": {},
   "outputs": [],
   "source": []
  },
  {
   "cell_type": "code",
   "execution_count": 28,
   "id": "bad74e7a-0d1c-4f95-bf4a-ccfb42cc1fff",
   "metadata": {
    "tags": []
   },
   "outputs": [
    {
     "data": {
      "text/plain": [
       "dict_keys(['assingment', 'lunch date', 'class time', 'mentor'])"
      ]
     },
     "execution_count": 28,
     "metadata": {},
     "output_type": "execute_result"
    }
   ],
   "source": [
    "d6.keys()"
   ]
  },
  {
   "cell_type": "code",
   "execution_count": null,
   "id": "809a6605-b4bd-45b1-8f42-faf1abea7cf7",
   "metadata": {},
   "outputs": [],
   "source": []
  },
  {
   "cell_type": "code",
   "execution_count": 29,
   "id": "a83a50a8-4cb4-4e9f-9401-343cff391064",
   "metadata": {
    "tags": []
   },
   "outputs": [
    {
     "data": {
      "text/plain": [
       "dict_values([(1, 2, 3, 4, 5, 6), {12, 28, 14}, {'web dev.': 8, 'datascience': 7}, ('ram ', 'shyam')])"
      ]
     },
     "execution_count": 29,
     "metadata": {},
     "output_type": "execute_result"
    }
   ],
   "source": [
    "d6.values()"
   ]
  },
  {
   "cell_type": "code",
   "execution_count": null,
   "id": "bdf74ba4-cbda-4725-a6e4-0bf4b78d8071",
   "metadata": {},
   "outputs": [],
   "source": []
  },
  {
   "cell_type": "code",
   "execution_count": 30,
   "id": "bdb2de5a-755f-4920-aa2b-b5d9918bed44",
   "metadata": {
    "tags": []
   },
   "outputs": [
    {
     "data": {
      "text/plain": [
       "[(1, 2, 3, 4, 5, 6),\n",
       " {12, 14, 28},\n",
       " {'web dev.': 8, 'datascience': 7},\n",
       " ('ram ', 'shyam')]"
      ]
     },
     "execution_count": 30,
     "metadata": {},
     "output_type": "execute_result"
    }
   ],
   "source": [
    "list(d6.values())"
   ]
  },
  {
   "cell_type": "code",
   "execution_count": null,
   "id": "f9eacdfe-823e-4411-acb2-377d881c1cff",
   "metadata": {},
   "outputs": [],
   "source": []
  },
  {
   "cell_type": "code",
   "execution_count": 31,
   "id": "cbb75b4b-bb41-4124-a22c-d70076a760b3",
   "metadata": {
    "tags": []
   },
   "outputs": [
    {
     "data": {
      "text/plain": [
       "dict_items([('assingment', (1, 2, 3, 4, 5, 6)), ('lunch date', {12, 28, 14}), ('class time', {'web dev.': 8, 'datascience': 7}), ('mentor', ('ram ', 'shyam'))])"
      ]
     },
     "execution_count": 31,
     "metadata": {},
     "output_type": "execute_result"
    }
   ],
   "source": [
    "d6.items()"
   ]
  },
  {
   "cell_type": "code",
   "execution_count": null,
   "id": "d5311224-9b85-455f-9fea-29431549a27b",
   "metadata": {},
   "outputs": [],
   "source": []
  },
  {
   "cell_type": "code",
   "execution_count": 32,
   "id": "f890982f-398d-4248-b543-bc4379111d80",
   "metadata": {
    "tags": []
   },
   "outputs": [
    {
     "data": {
      "text/plain": [
       "[('assingment', (1, 2, 3, 4, 5, 6)),\n",
       " ('lunch date', {12, 14, 28}),\n",
       " ('class time', {'web dev.': 8, 'datascience': 7}),\n",
       " ('mentor', ('ram ', 'shyam'))]"
      ]
     },
     "execution_count": 32,
     "metadata": {},
     "output_type": "execute_result"
    }
   ],
   "source": [
    "list(d6.items())"
   ]
  },
  {
   "cell_type": "code",
   "execution_count": null,
   "id": "38e5e2e6-6ec1-4a08-8af3-be48d58bfcd0",
   "metadata": {},
   "outputs": [],
   "source": []
  },
  {
   "cell_type": "code",
   "execution_count": 33,
   "id": "93e70d03-4b77-4ef4-af62-e1596f7f071b",
   "metadata": {
    "tags": []
   },
   "outputs": [
    {
     "data": {
      "text/plain": [
       "('ram ', 'shyam')"
      ]
     },
     "execution_count": 33,
     "metadata": {},
     "output_type": "execute_result"
    }
   ],
   "source": [
    "d6.pop('mentor')"
   ]
  },
  {
   "cell_type": "code",
   "execution_count": null,
   "id": "6c3757e9-e8ec-484b-9144-c232dacefcf6",
   "metadata": {},
   "outputs": [],
   "source": []
  },
  {
   "cell_type": "code",
   "execution_count": 34,
   "id": "cb91391b-f223-41df-8df0-78f322a1befa",
   "metadata": {
    "tags": []
   },
   "outputs": [
    {
     "data": {
      "text/plain": [
       "{'assingment': (1, 2, 3, 4, 5, 6),\n",
       " 'lunch date': {12, 14, 28},\n",
       " 'class time': {'web dev.': 8, 'datascience': 7}}"
      ]
     },
     "execution_count": 34,
     "metadata": {},
     "output_type": "execute_result"
    }
   ],
   "source": [
    "d6"
   ]
  },
  {
   "cell_type": "code",
   "execution_count": 36,
   "id": "2c644109-aef2-4a73-9ff9-96fa5dd5ee21",
   "metadata": {
    "tags": []
   },
   "outputs": [
    {
     "data": {
      "text/plain": [
       "3"
      ]
     },
     "execution_count": 36,
     "metadata": {},
     "output_type": "execute_result"
    }
   ],
   "source": [
    "len(d6)"
   ]
  },
  {
   "cell_type": "code",
   "execution_count": 1,
   "id": "583f4843-606c-4274-85e7-17ebc156c57d",
   "metadata": {
    "tags": []
   },
   "outputs": [],
   "source": [
    "d7={'apple':40 , 'orange':60}\n",
    "d8={'cherry':56 , 'cheku':70}"
   ]
  },
  {
   "cell_type": "code",
   "execution_count": 2,
   "id": "c2bb5d17-4a88-4d4c-81c4-30f1503996d8",
   "metadata": {
    "tags": []
   },
   "outputs": [],
   "source": [
    "d7.update(d8)"
   ]
  },
  {
   "cell_type": "code",
   "execution_count": 3,
   "id": "7aec6ea9-7d00-4a2a-add5-85b16b71f73b",
   "metadata": {
    "tags": []
   },
   "outputs": [
    {
     "data": {
      "text/plain": [
       "{'apple': 40, 'orange': 60, 'cherry': 56, 'cheku': 70}"
      ]
     },
     "execution_count": 3,
     "metadata": {},
     "output_type": "execute_result"
    }
   ],
   "source": [
    "d7"
   ]
  },
  {
   "cell_type": "code",
   "execution_count": 4,
   "id": "6b2d50df-d985-4bb9-92a4-2b1a6f265895",
   "metadata": {
    "tags": []
   },
   "outputs": [
    {
     "data": {
      "text/plain": [
       "{'cherry': 56, 'cheku': 70}"
      ]
     },
     "execution_count": 4,
     "metadata": {},
     "output_type": "execute_result"
    }
   ],
   "source": [
    "d8"
   ]
  },
  {
   "cell_type": "code",
   "execution_count": null,
   "id": "0bbc2ff7-53b1-47d8-b851-a40f1177303b",
   "metadata": {},
   "outputs": [],
   "source": []
  },
  {
   "cell_type": "code",
   "execution_count": 5,
   "id": "42055231-ae2b-491a-9d08-11eaad9609d6",
   "metadata": {
    "tags": []
   },
   "outputs": [
    {
     "data": {
      "text/plain": [
       "70"
      ]
     },
     "execution_count": 5,
     "metadata": {},
     "output_type": "execute_result"
    }
   ],
   "source": [
    "## Signature: d7.get(key, default=None, /)\n",
    "#*Docstring: Return the value for key if key is in the dictionary, else default.\n",
    "#Type:      builtin_function_or_method\n",
    "\n",
    "d7.get(\"cheku\")"
   ]
  },
  {
   "cell_type": "code",
   "execution_count": 6,
   "id": "4ae7228b-ad75-4ff9-a13d-d00010d58871",
   "metadata": {
    "tags": []
   },
   "outputs": [],
   "source": [
    "d7.get(\"mango\")"
   ]
  },
  {
   "cell_type": "code",
   "execution_count": 7,
   "id": "93a1cf88-7eb9-4a22-92ca-d65c08eec8d5",
   "metadata": {
    "tags": []
   },
   "outputs": [
    {
     "data": {
      "text/plain": [
       "{'apple': 40, 'orange': 60, 'cherry': 56, 'cheku': 70}"
      ]
     },
     "execution_count": 7,
     "metadata": {},
     "output_type": "execute_result"
    }
   ],
   "source": [
    "d7"
   ]
  },
  {
   "cell_type": "code",
   "execution_count": null,
   "id": "14e02840-4acd-4e7d-86c3-3f1f572053f0",
   "metadata": {},
   "outputs": [],
   "source": []
  },
  {
   "cell_type": "code",
   "execution_count": 19,
   "id": "681259a4-9a95-42a6-b1f7-2b0991c97bde",
   "metadata": {
    "tags": []
   },
   "outputs": [
    {
     "data": {
      "text/plain": [
       "45"
      ]
     },
     "execution_count": 19,
     "metadata": {},
     "output_type": "execute_result"
    }
   ],
   "source": [
    "#Signature: d8.setdefault(key, default=None, /)\n",
    "#Docstring:\n",
    "#Insert key with a value of default if key is not in the dictionary.\n",
    "\n",
    "#Return the value for key if key is in the dictionary, else default.\n",
    "\n",
    "\n",
    "d8.setdefault(\"mangoes\",45)"
   ]
  },
  {
   "cell_type": "code",
   "execution_count": 20,
   "id": "c3d91295-24ef-47a3-9b2f-514858e5c15a",
   "metadata": {
    "tags": []
   },
   "outputs": [
    {
     "data": {
      "text/plain": [
       "{'cherry': 56, 'cheku': 70, 'mangoes': 45}"
      ]
     },
     "execution_count": 20,
     "metadata": {},
     "output_type": "execute_result"
    }
   ],
   "source": [
    "d8"
   ]
  },
  {
   "cell_type": "code",
   "execution_count": null,
   "id": "7c3940d9-c0d5-49e9-a04b-3a00d0923107",
   "metadata": {},
   "outputs": [],
   "source": []
  }
 ],
 "metadata": {
  "kernelspec": {
   "display_name": "Python 3 (ipykernel)",
   "language": "python",
   "name": "python3"
  },
  "language_info": {
   "codemirror_mode": {
    "name": "ipython",
    "version": 3
   },
   "file_extension": ".py",
   "mimetype": "text/x-python",
   "name": "python",
   "nbconvert_exporter": "python",
   "pygments_lexer": "ipython3",
   "version": "3.11.5"
  }
 },
 "nbformat": 4,
 "nbformat_minor": 5
}
