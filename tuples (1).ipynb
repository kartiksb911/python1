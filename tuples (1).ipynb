{
 "cells": [
  {
   "cell_type": "markdown",
   "id": "0d7b539d-9e79-4101-a311-619796316a32",
   "metadata": {},
   "source": [
    "### tuples    = homogenous and hetrogenous , imutable , orderd , indexing and slicing ,sequential \n"
   ]
  },
  {
   "cell_type": "code",
   "execution_count": 1,
   "id": "d6006263-491e-4c01-919d-ed95b12199bd",
   "metadata": {
    "tags": []
   },
   "outputs": [],
   "source": [
    "tupp1=(5)\n",
    "tupp2=(5,)"
   ]
  },
  {
   "cell_type": "code",
   "execution_count": 17,
   "id": "c90e015a-d8df-4ea6-b07a-87f5326b497b",
   "metadata": {
    "tags": []
   },
   "outputs": [
    {
     "data": {
      "text/plain": [
       "9"
      ]
     },
     "execution_count": 17,
     "metadata": {},
     "output_type": "execute_result"
    }
   ],
   "source": [
    "5 + (4)"
   ]
  },
  {
   "cell_type": "code",
   "execution_count": 18,
   "id": "936e69d6-7371-4c17-8657-35c5c6713c0e",
   "metadata": {
    "tags": []
   },
   "outputs": [
    {
     "ename": "TypeError",
     "evalue": "unsupported operand type(s) for +: 'int' and 'tuple'",
     "output_type": "error",
     "traceback": [
      "\u001b[1;31m---------------------------------------------------------------------------\u001b[0m",
      "\u001b[1;31mTypeError\u001b[0m                                 Traceback (most recent call last)",
      "Cell \u001b[1;32mIn[18], line 1\u001b[0m\n\u001b[1;32m----> 1\u001b[0m \u001b[38;5;241m5\u001b[39m \u001b[38;5;241m+\u001b[39m (\u001b[38;5;241m4\u001b[39m,)\n",
      "\u001b[1;31mTypeError\u001b[0m: unsupported operand type(s) for +: 'int' and 'tuple'"
     ]
    }
   ],
   "source": [
    "5 + (4,)"
   ]
  },
  {
   "cell_type": "code",
   "execution_count": null,
   "id": "8be9187e-4845-4284-a488-4bd4b3cc37cc",
   "metadata": {},
   "outputs": [],
   "source": [
    "\"\"\" pytohon simplly works on maths formulas\n",
    "\"\"\""
   ]
  },
  {
   "cell_type": "code",
   "execution_count": null,
   "id": "ca31bc1e-5611-4e2d-a909-2ef1ebe94813",
   "metadata": {},
   "outputs": [],
   "source": []
  },
  {
   "cell_type": "code",
   "execution_count": 3,
   "id": "808c715d-5bbd-4741-af36-c15d79a58000",
   "metadata": {
    "tags": []
   },
   "outputs": [
    {
     "name": "stdout",
     "output_type": "stream",
     "text": [
      "<class 'int'>\n",
      "<class 'tuple'>\n"
     ]
    }
   ],
   "source": [
    "print(type(tupp1))\n",
    "print(type(tupp2))      "
   ]
  },
  {
   "cell_type": "code",
   "execution_count": null,
   "id": "04473bc5-0c30-4855-a2ac-9055874a8e65",
   "metadata": {},
   "outputs": [],
   "source": []
  },
  {
   "cell_type": "code",
   "execution_count": 1,
   "id": "320b38bb-7010-4526-ad5a-a333466c1539",
   "metadata": {
    "tags": []
   },
   "outputs": [
    {
     "data": {
      "text/plain": [
       "tuple"
      ]
     },
     "execution_count": 1,
     "metadata": {},
     "output_type": "execute_result"
    }
   ],
   "source": [
    "x=0,34,2,34\n",
    "type(x)"
   ]
  },
  {
   "cell_type": "code",
   "execution_count": 2,
   "id": "21516abd-98ae-461a-9677-c6cd1c1e3f48",
   "metadata": {
    "tags": []
   },
   "outputs": [
    {
     "name": "stdout",
     "output_type": "stream",
     "text": [
      "(0, 34, 2, 34)\n"
     ]
    }
   ],
   "source": [
    "print(x)"
   ]
  },
  {
   "cell_type": "code",
   "execution_count": 3,
   "id": "fc7f4a0d-6e6d-484c-8c1f-ac57e510ebff",
   "metadata": {
    "tags": []
   },
   "outputs": [
    {
     "name": "stdout",
     "output_type": "stream",
     "text": [
      "1 --> 0\n",
      "2 --> 34\n",
      "3 --> 2\n",
      "4 --> 34\n"
     ]
    }
   ],
   "source": [
    "for index,i in enumerate(x,1):\n",
    "    print(index,i,sep=\" --> \")"
   ]
  },
  {
   "cell_type": "code",
   "execution_count": null,
   "id": "e77a09ed-228a-4057-865e-b275c604ab93",
   "metadata": {},
   "outputs": [],
   "source": []
  },
  {
   "cell_type": "code",
   "execution_count": 1,
   "id": "cd406f76-5035-4434-9df7-5e32b9955fd0",
   "metadata": {},
   "outputs": [
    {
     "name": "stdout",
     "output_type": "stream",
     "text": [
      "<class 'tuple'>\n",
      "((1, 2, 3), (4, 5), 1, 2, 3)\n"
     ]
    }
   ],
   "source": [
    "a = (1,2,3)\n",
    "b = a ,(4,5)\n",
    "a = b+a\n",
    "print(type(b))\n",
    "print(a)"
   ]
  },
  {
   "cell_type": "code",
   "execution_count": null,
   "id": "c0843e5d-0d1d-4421-bd43-c044a8b1acde",
   "metadata": {},
   "outputs": [],
   "source": []
  },
  {
   "cell_type": "code",
   "execution_count": 1,
   "id": "f88141c7-e0ae-43b5-997d-3e4396f0dbe0",
   "metadata": {
    "tags": []
   },
   "outputs": [],
   "source": [
    "# homogeneus\n",
    "tupp3=(1,2,1,2,1)\n",
    "\n",
    "# hetrogeneus\n",
    "tupp4 = ( 1,2 ,3,\"k\" ,(\"E\",))"
   ]
  },
  {
   "cell_type": "code",
   "execution_count": 16,
   "id": "5b601473-9632-4f34-bfba-35afa0907aec",
   "metadata": {
    "tags": []
   },
   "outputs": [
    {
     "name": "stdout",
     "output_type": "stream",
     "text": [
      "<class 'tuple'>\n",
      "<class 'tuple'>\n"
     ]
    }
   ],
   "source": [
    "print(type(tupp3))\n",
    "print(type(tupp4))"
   ]
  },
  {
   "cell_type": "code",
   "execution_count": null,
   "id": "08352723-0f5c-42fe-ba2e-55377e3dcd79",
   "metadata": {},
   "outputs": [],
   "source": []
  },
  {
   "cell_type": "code",
   "execution_count": null,
   "id": "4894aa22-6701-4ec0-964c-860160f57e31",
   "metadata": {},
   "outputs": [],
   "source": []
  },
  {
   "cell_type": "code",
   "execution_count": 2,
   "id": "4927a617-f14d-467c-b537-64ac544ef3a1",
   "metadata": {
    "tags": []
   },
   "outputs": [],
   "source": [
    "tup1 =(100 , 'b',True , 'c',False)"
   ]
  },
  {
   "cell_type": "code",
   "execution_count": 3,
   "id": "2f61fc2f-76cd-4e7b-94b6-84298d9e1bd7",
   "metadata": {
    "tags": []
   },
   "outputs": [
    {
     "data": {
      "text/plain": [
       "(100, 'b', True, 'c', False)"
      ]
     },
     "execution_count": 3,
     "metadata": {},
     "output_type": "execute_result"
    }
   ],
   "source": [
    "tup1"
   ]
  },
  {
   "cell_type": "code",
   "execution_count": 5,
   "id": "a3ecc378-3ce5-40ec-95c0-40e5c139caf8",
   "metadata": {
    "tags": []
   },
   "outputs": [
    {
     "data": {
      "text/plain": [
       "tuple"
      ]
     },
     "execution_count": 5,
     "metadata": {},
     "output_type": "execute_result"
    }
   ],
   "source": [
    "type(tup1)"
   ]
  },
  {
   "cell_type": "markdown",
   "id": "b0616373-890b-42ff-a48c-1407eb8cb017",
   "metadata": {},
   "source": [
    "### extracting individual elements\n"
   ]
  },
  {
   "cell_type": "code",
   "execution_count": 6,
   "id": "2315d6c3-9e20-4385-a11f-cefd30dc56d3",
   "metadata": {
    "tags": []
   },
   "outputs": [
    {
     "data": {
      "text/plain": [
       "'b'"
      ]
     },
     "execution_count": 6,
     "metadata": {},
     "output_type": "execute_result"
    }
   ],
   "source": [
    "tup1[1]"
   ]
  },
  {
   "cell_type": "code",
   "execution_count": 8,
   "id": "2fc671c5-1ad9-4e1f-b2a8-8c4cda484c81",
   "metadata": {
    "tags": []
   },
   "outputs": [
    {
     "data": {
      "text/plain": [
       "'b'"
      ]
     },
     "execution_count": 8,
     "metadata": {},
     "output_type": "execute_result"
    }
   ],
   "source": [
    "tup1[-4]"
   ]
  },
  {
   "cell_type": "code",
   "execution_count": 10,
   "id": "8befe03b-b06c-4ad8-882b-e81a1ef199bc",
   "metadata": {
    "tags": []
   },
   "outputs": [
    {
     "data": {
      "text/plain": [
       "(100, 'b')"
      ]
     },
     "execution_count": 10,
     "metadata": {},
     "output_type": "execute_result"
    }
   ],
   "source": [
    "tup1[-8:-3]"
   ]
  },
  {
   "cell_type": "markdown",
   "id": "d232a6e5-f181-4364-9cc3-1f42b7adf2d8",
   "metadata": {},
   "source": [
    "####  once you creat a tuple you can't add  in it \n"
   ]
  },
  {
   "cell_type": "code",
   "execution_count": 12,
   "id": "d2670f12-9a51-4c65-91b4-7558c879004c",
   "metadata": {
    "tags": []
   },
   "outputs": [
    {
     "ename": "TypeError",
     "evalue": "'tuple' object does not support item assignment",
     "output_type": "error",
     "traceback": [
      "\u001b[1;31m---------------------------------------------------------------------------\u001b[0m",
      "\u001b[1;31mTypeError\u001b[0m                                 Traceback (most recent call last)",
      "Cell \u001b[1;32mIn[12], line 1\u001b[0m\n\u001b[1;32m----> 1\u001b[0m tup1[\u001b[38;5;241m2\u001b[39m] \u001b[38;5;241m=\u001b[39m \u001b[38;5;124m'\u001b[39m\u001b[38;5;124my\u001b[39m\u001b[38;5;124m'\u001b[39m\n",
      "\u001b[1;31mTypeError\u001b[0m: 'tuple' object does not support item assignment"
     ]
    }
   ],
   "source": [
    "tup1[2] = 'y'"
   ]
  },
  {
   "cell_type": "code",
   "execution_count": 14,
   "id": "628c4dd1-43fb-4270-8194-7441f5e5a80e",
   "metadata": {
    "tags": []
   },
   "outputs": [
    {
     "data": {
      "text/plain": [
       "5"
      ]
     },
     "execution_count": 14,
     "metadata": {},
     "output_type": "execute_result"
    }
   ],
   "source": [
    "len(tup1)"
   ]
  },
  {
   "cell_type": "code",
   "execution_count": null,
   "id": "8987c743-67bf-4a8c-9812-6092909b6ae9",
   "metadata": {},
   "outputs": [],
   "source": []
  },
  {
   "cell_type": "code",
   "execution_count": 1,
   "id": "067928bc-185e-4aaf-9d66-d3f592d57f1e",
   "metadata": {
    "tags": []
   },
   "outputs": [],
   "source": [
    "t8 =(1,3,\"ram\",(4,5),[7,8])"
   ]
  },
  {
   "cell_type": "code",
   "execution_count": 2,
   "id": "e550ac8f-1309-4cf4-a7f4-a36fe51acde2",
   "metadata": {
    "tags": []
   },
   "outputs": [
    {
     "ename": "TypeError",
     "evalue": "'tuple' object does not support item assignment",
     "output_type": "error",
     "traceback": [
      "\u001b[1;31m---------------------------------------------------------------------------\u001b[0m",
      "\u001b[1;31mTypeError\u001b[0m                                 Traceback (most recent call last)",
      "Cell \u001b[1;32mIn[2], line 1\u001b[0m\n\u001b[1;32m----> 1\u001b[0m t8[\u001b[38;5;241m4\u001b[39m]\u001b[38;5;241m=\u001b[39m\u001b[38;5;124m\"\u001b[39m\u001b[38;5;124mk\u001b[39m\u001b[38;5;124m\"\u001b[39m\n",
      "\u001b[1;31mTypeError\u001b[0m: 'tuple' object does not support item assignment"
     ]
    }
   ],
   "source": [
    "t8[4]=\"k\""
   ]
  },
  {
   "cell_type": "code",
   "execution_count": 3,
   "id": "5de3ca0a-fc80-4202-8a6a-7dcc7d399025",
   "metadata": {
    "tags": []
   },
   "outputs": [
    {
     "data": {
      "text/plain": [
       "8"
      ]
     },
     "execution_count": 3,
     "metadata": {},
     "output_type": "execute_result"
    }
   ],
   "source": [
    "t8[4][1]"
   ]
  },
  {
   "cell_type": "code",
   "execution_count": 4,
   "id": "1f67e517-13a9-4282-9c6d-18c49deaa4b0",
   "metadata": {
    "tags": []
   },
   "outputs": [],
   "source": [
    "t8[4][1] =\"L\""
   ]
  },
  {
   "cell_type": "code",
   "execution_count": 5,
   "id": "4b59b7d8-64d9-4b40-888f-9553cfc15999",
   "metadata": {
    "tags": []
   },
   "outputs": [
    {
     "data": {
      "text/plain": [
       "(1, 3, 'ram', (4, 5), [7, 'L'])"
      ]
     },
     "execution_count": 5,
     "metadata": {},
     "output_type": "execute_result"
    }
   ],
   "source": [
    "t8"
   ]
  },
  {
   "cell_type": "code",
   "execution_count": null,
   "id": "384ecf07-62b7-4f59-b02b-dc96b70faff3",
   "metadata": {},
   "outputs": [],
   "source": []
  },
  {
   "cell_type": "code",
   "execution_count": 4,
   "id": "121f8389-3474-4d11-9e01-ec8d1b292026",
   "metadata": {
    "tags": []
   },
   "outputs": [],
   "source": [
    "t9 = (1,2,[[3,4],8])"
   ]
  },
  {
   "cell_type": "code",
   "execution_count": 5,
   "id": "ba2ac18a-7c9b-4da0-8707-bd01627d6fef",
   "metadata": {
    "tags": []
   },
   "outputs": [
    {
     "data": {
      "text/plain": [
       "[[3, 4], 8]"
      ]
     },
     "execution_count": 5,
     "metadata": {},
     "output_type": "execute_result"
    }
   ],
   "source": [
    "t9[2]"
   ]
  },
  {
   "cell_type": "code",
   "execution_count": 7,
   "id": "a80b3eea-031d-4c88-87bb-1f8d4401ccf6",
   "metadata": {
    "tags": []
   },
   "outputs": [],
   "source": [
    "t9[2][1]=\"K\""
   ]
  },
  {
   "cell_type": "code",
   "execution_count": 8,
   "id": "c7e75139-8848-47ba-9f83-c232ff4fe1c0",
   "metadata": {
    "tags": []
   },
   "outputs": [
    {
     "data": {
      "text/plain": [
       "(1, 2, [[3, 4], 'K'])"
      ]
     },
     "execution_count": 8,
     "metadata": {},
     "output_type": "execute_result"
    }
   ],
   "source": [
    "t9"
   ]
  },
  {
   "cell_type": "markdown",
   "id": "35eb708b-1e12-4943-8ff8-b53da2527111",
   "metadata": {},
   "source": [
    "### adding of two tuple \n"
   ]
  },
  {
   "cell_type": "code",
   "execution_count": 15,
   "id": "48e082f0-b72c-4f9e-bd7d-7123fa8a402a",
   "metadata": {
    "tags": []
   },
   "outputs": [],
   "source": [
    "tup1=(1,2,3)\n",
    "tup2=(3,4,5)"
   ]
  },
  {
   "cell_type": "code",
   "execution_count": 16,
   "id": "004bc3a0-791a-4012-839d-d2450cc3def9",
   "metadata": {
    "tags": []
   },
   "outputs": [
    {
     "data": {
      "text/plain": [
       "(1, 2, 3, 3, 4, 5)"
      ]
     },
     "execution_count": 16,
     "metadata": {},
     "output_type": "execute_result"
    }
   ],
   "source": [
    "tup1+tup2"
   ]
  },
  {
   "cell_type": "markdown",
   "id": "e6ddc75e-a430-41b7-97e7-1cac48ae511d",
   "metadata": {},
   "source": [
    "### repating of element\n"
   ]
  },
  {
   "cell_type": "code",
   "execution_count": 17,
   "id": "d1ba3175-1d32-4142-acac-4b1db535d9ca",
   "metadata": {
    "tags": []
   },
   "outputs": [],
   "source": [
    "tup1=('kartik','8')"
   ]
  },
  {
   "cell_type": "code",
   "execution_count": 18,
   "id": "362025d8-1aa6-4537-b8c2-7691a050d53b",
   "metadata": {
    "tags": []
   },
   "outputs": [
    {
     "data": {
      "text/plain": [
       "('kartik', '8', 'kartik', '8', 'kartik', '8')"
      ]
     },
     "execution_count": 18,
     "metadata": {},
     "output_type": "execute_result"
    }
   ],
   "source": [
    "tup1*3"
   ]
  },
  {
   "cell_type": "code",
   "execution_count": 19,
   "id": "ee5996ed-102b-46cb-8803-528dcc6d5bb4",
   "metadata": {
    "tags": []
   },
   "outputs": [],
   "source": [
    "tup2=(6,7,8,9)"
   ]
  },
  {
   "cell_type": "code",
   "execution_count": 20,
   "id": "48f5bb56-7d57-4729-bcd0-547b39c1077c",
   "metadata": {
    "tags": []
   },
   "outputs": [
    {
     "data": {
      "text/plain": [
       "('kartik', '8', 'kartik', '8', 'kartik', '8', 6, 7, 8, 9)"
      ]
     },
     "execution_count": 20,
     "metadata": {},
     "output_type": "execute_result"
    }
   ],
   "source": [
    "tup1*3+tup2"
   ]
  },
  {
   "cell_type": "markdown",
   "id": "0e8f8214-1ea7-4433-8212-4194120812d1",
   "metadata": {},
   "source": [
    "# tuple function "
   ]
  },
  {
   "cell_type": "code",
   "execution_count": 1,
   "id": "d8d0799e-b33b-4fc5-afcb-1736d341d365",
   "metadata": {
    "tags": []
   },
   "outputs": [],
   "source": [
    "tup1=(-1,0,8,7,67)"
   ]
  },
  {
   "cell_type": "code",
   "execution_count": 2,
   "id": "04385470-a22e-405f-b9e1-68876e431132",
   "metadata": {
    "tags": []
   },
   "outputs": [
    {
     "data": {
      "text/plain": [
       "-1"
      ]
     },
     "execution_count": 2,
     "metadata": {},
     "output_type": "execute_result"
    }
   ],
   "source": [
    "min(tup1)"
   ]
  },
  {
   "cell_type": "code",
   "execution_count": 3,
   "id": "6c9d5eb4-ac23-496f-ae13-47334afb1c2d",
   "metadata": {
    "tags": []
   },
   "outputs": [
    {
     "data": {
      "text/plain": [
       "67"
      ]
     },
     "execution_count": 3,
     "metadata": {},
     "output_type": "execute_result"
    }
   ],
   "source": [
    "max(tup1)"
   ]
  },
  {
   "cell_type": "markdown",
   "id": "bbb505a0-dc3d-4727-b86c-052d7ffd9414",
   "metadata": {},
   "source": [
    "# tuple method"
   ]
  },
  {
   "cell_type": "code",
   "execution_count": 5,
   "id": "40661f02-284d-4105-ab37-88aff8dde4b7",
   "metadata": {},
   "outputs": [
    {
     "data": {
      "text/plain": [
       "1"
      ]
     },
     "execution_count": 5,
     "metadata": {},
     "output_type": "execute_result"
    }
   ],
   "source": [
    "tup1.count(0)"
   ]
  },
  {
   "cell_type": "code",
   "execution_count": 6,
   "id": "490f57a2-f0b0-4379-b26c-8c5356f1bdbf",
   "metadata": {
    "tags": []
   },
   "outputs": [
    {
     "data": {
      "text/plain": [
       "4"
      ]
     },
     "execution_count": 6,
     "metadata": {},
     "output_type": "execute_result"
    }
   ],
   "source": [
    "tup1.index(67)"
   ]
  },
  {
   "cell_type": "code",
   "execution_count": null,
   "id": "cc169a43-467e-40aa-a361-5a122ff683d0",
   "metadata": {},
   "outputs": [],
   "source": []
  }
 ],
 "metadata": {
  "kernelspec": {
   "display_name": "Python 3 (ipykernel)",
   "language": "python",
   "name": "python3"
  },
  "language_info": {
   "codemirror_mode": {
    "name": "ipython",
    "version": 3
   },
   "file_extension": ".py",
   "mimetype": "text/x-python",
   "name": "python",
   "nbconvert_exporter": "python",
   "pygments_lexer": "ipython3",
   "version": "3.11.5"
  }
 },
 "nbformat": 4,
 "nbformat_minor": 5
}
