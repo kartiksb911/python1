{
 "cells": [
  {
   "cell_type": "code",
   "execution_count": 4,
   "id": "698d2fb8-423b-401d-93a6-d1f8afed3250",
   "metadata": {
    "tags": []
   },
   "outputs": [],
   "source": [
    "l=[2,3,4,5,6,'sudh','pwskills',23.45,True]"
   ]
  },
  {
   "cell_type": "code",
   "execution_count": 5,
   "id": "681dd1fd-d42d-4fc5-909e-170ed4cc2438",
   "metadata": {
    "tags": []
   },
   "outputs": [
    {
     "name": "stdout",
     "output_type": "stream",
     "text": [
      "2\n",
      "3\n",
      "4\n",
      "5\n",
      "6\n",
      "sudh\n",
      "pwskills\n",
      "23.45\n",
      "True\n"
     ]
    }
   ],
   "source": [
    "for i in l:\n",
    "    print(i)"
   ]
  },
  {
   "cell_type": "code",
   "execution_count": 6,
   "id": "788a9536-e7a8-4eed-b208-73c5ca63a8fa",
   "metadata": {
    "tags": []
   },
   "outputs": [
    {
     "name": "stdout",
     "output_type": "stream",
     "text": [
      "<class 'int'>\n",
      "<class 'int'>\n",
      "<class 'int'>\n",
      "<class 'int'>\n",
      "<class 'int'>\n",
      "<class 'str'>\n",
      "<class 'str'>\n",
      "<class 'float'>\n",
      "<class 'bool'>\n"
     ]
    }
   ],
   "source": [
    "for i in l:\n",
    "    print(type(i))"
   ]
  },
  {
   "cell_type": "code",
   "execution_count": 7,
   "id": "d352a356-4e31-4d1e-a610-0267ad81d473",
   "metadata": {
    "tags": []
   },
   "outputs": [
    {
     "name": "stdout",
     "output_type": "stream",
     "text": [
      "0\n",
      "1\n",
      "2\n",
      "3\n",
      "4\n",
      "5\n",
      "6\n",
      "7\n",
      "8\n"
     ]
    }
   ],
   "source": [
    "for i in l:\n",
    "    print(l.index(i))"
   ]
  },
  {
   "cell_type": "code",
   "execution_count": 9,
   "id": "f72c70a8-0b0e-4bd4-960b-4733bb3ee825",
   "metadata": {
    "tags": []
   },
   "outputs": [
    {
     "name": "stdout",
     "output_type": "stream",
     "text": [
      "2\n",
      "3\n",
      "4\n",
      "5\n",
      "6\n",
      "sudh\n",
      "pwskills\n",
      "23.45\n",
      "True\n"
     ]
    }
   ],
   "source": [
    "for i in l:\n",
    "    print(str(i))"
   ]
  },
  {
   "cell_type": "code",
   "execution_count": 10,
   "id": "a08a1536-0902-46f9-a1fa-460ac7a4f33f",
   "metadata": {
    "tags": []
   },
   "outputs": [
    {
     "name": "stdout",
     "output_type": "stream",
     "text": [
      "2.0\n",
      "3.0\n",
      "4.0\n",
      "5.0\n",
      "6.0\n"
     ]
    },
    {
     "ename": "ValueError",
     "evalue": "could not convert string to float: 'sudh'",
     "output_type": "error",
     "traceback": [
      "\u001b[1;31m---------------------------------------------------------------------------\u001b[0m",
      "\u001b[1;31mValueError\u001b[0m                                Traceback (most recent call last)",
      "Cell \u001b[1;32mIn[10], line 2\u001b[0m\n\u001b[0;32m      1\u001b[0m \u001b[38;5;28;01mfor\u001b[39;00m i \u001b[38;5;129;01min\u001b[39;00m l:\n\u001b[1;32m----> 2\u001b[0m     \u001b[38;5;28mprint\u001b[39m(\u001b[38;5;28mfloat\u001b[39m(i))\n",
      "\u001b[1;31mValueError\u001b[0m: could not convert string to float: 'sudh'"
     ]
    }
   ],
   "source": [
    "for i in l:\n",
    "    print(float(i))"
   ]
  },
  {
   "cell_type": "code",
   "execution_count": 11,
   "id": "f1cc7f41-af9e-4cda-aa4c-c0c9680f3e8a",
   "metadata": {
    "tags": []
   },
   "outputs": [
    {
     "name": "stdout",
     "output_type": "stream",
     "text": [
      "True\n",
      "True\n",
      "True\n",
      "True\n",
      "True\n",
      "True\n",
      "True\n",
      "True\n",
      "True\n"
     ]
    }
   ],
   "source": [
    "for i in l:\n",
    "    print(bool(i))\n",
    "\n"
   ]
  },
  {
   "cell_type": "code",
   "execution_count": 13,
   "id": "67c52931-0373-455b-9a3d-0743248b67b2",
   "metadata": {
    "tags": []
   },
   "outputs": [
    {
     "data": {
      "text/plain": [
       "[2, 3, 4, 5, 6, 'sudh', 'pwskills', 23.45, True]"
      ]
     },
     "execution_count": 13,
     "metadata": {},
     "output_type": "execute_result"
    }
   ],
   "source": [
    "l"
   ]
  },
  {
   "cell_type": "code",
   "execution_count": 12,
   "id": "99a3330a-c503-473e-b717-bfc4db8367c4",
   "metadata": {
    "tags": []
   },
   "outputs": [
    {
     "data": {
      "text/plain": [
       "'sudh'"
      ]
     },
     "execution_count": 12,
     "metadata": {},
     "output_type": "execute_result"
    }
   ],
   "source": [
    "l[5]"
   ]
  },
  {
   "cell_type": "code",
   "execution_count": 13,
   "id": "225f11c1-6c49-4bb8-8315-ed1754620b24",
   "metadata": {
    "tags": []
   },
   "outputs": [],
   "source": [
    "l[6]=7"
   ]
  },
  {
   "cell_type": "code",
   "execution_count": 14,
   "id": "4821baed-7eb1-4985-818a-1ecb28ebbb00",
   "metadata": {
    "tags": []
   },
   "outputs": [
    {
     "data": {
      "text/plain": [
       "[2, 3, 4, 5, 6, 'sudh', 7, 23.45, True]"
      ]
     },
     "execution_count": 14,
     "metadata": {},
     "output_type": "execute_result"
    }
   ],
   "source": [
    "l"
   ]
  },
  {
   "cell_type": "markdown",
   "id": "3c350ab1-b277-4383-bdb6-b89053a14acc",
   "metadata": {},
   "source": [
    " # loops"
   ]
  },
  {
   "cell_type": "code",
   "execution_count": 15,
   "id": "f2db9988-6eb9-4c6c-befa-5f6e8cc8732b",
   "metadata": {
    "tags": []
   },
   "outputs": [
    {
     "name": "stdout",
     "output_type": "stream",
     "text": [
      "hi\n",
      "hi\n"
     ]
    }
   ],
   "source": [
    "print(\"hi\")\n",
    "print(\"hi\")"
   ]
  },
  {
   "cell_type": "code",
   "execution_count": 2,
   "id": "086ca3aa-9b12-439b-8b72-cf378703883e",
   "metadata": {
    "tags": []
   },
   "outputs": [
    {
     "data": {
      "text/plain": [
       "'hihi'"
      ]
     },
     "execution_count": 2,
     "metadata": {},
     "output_type": "execute_result"
    }
   ],
   "source": [
    "\"hi\"*2"
   ]
  },
  {
   "cell_type": "code",
   "execution_count": 3,
   "id": "ce05e121-1c0d-4aee-897d-802fb7428f13",
   "metadata": {
    "tags": []
   },
   "outputs": [
    {
     "name": "stdout",
     "output_type": "stream",
     "text": [
      "1\n",
      "2\n",
      "3\n",
      "4\n"
     ]
    }
   ],
   "source": [
    "print(1)\n",
    "print(2)\n",
    "print(3)\n",
    "print(4)"
   ]
  },
  {
   "cell_type": "markdown",
   "id": "1efe3c39-14f0-4061-8bb4-c632c1a71f9a",
   "metadata": {},
   "source": [
    " # whlile loop"
   ]
  },
  {
   "cell_type": "markdown",
   "id": "e3de8c3c-15e5-4c1e-9a19-a6954bbaf1af",
   "metadata": {
    "tags": []
   },
   "source": [
    "start = 0 \n",
    "end =4 "
   ]
  },
  {
   "cell_type": "markdown",
   "id": "839faeb9-f0cc-4735-b9b7-9cc81920cb7b",
   "metadata": {},
   "source": [
    "while start<end:\n",
    "print(start) \n",
    " it will go to infinity"
   ]
  },
  {
   "cell_type": "code",
   "execution_count": 2,
   "id": "4523270f-5299-4dce-b09b-b1aee8f257c6",
   "metadata": {
    "tags": []
   },
   "outputs": [],
   "source": [
    "start = 0 \n",
    "end =4 "
   ]
  },
  {
   "cell_type": "code",
   "execution_count": 3,
   "id": "4d845a00-86a2-4abc-b5a1-cdd63aa8810a",
   "metadata": {
    "tags": []
   },
   "outputs": [
    {
     "name": "stdout",
     "output_type": "stream",
     "text": [
      "0\n",
      "1\n",
      "2\n",
      "3\n"
     ]
    }
   ],
   "source": [
    "while start<end:\n",
    "    print(start)\n",
    "    start = start +1"
   ]
  },
  {
   "cell_type": "code",
   "execution_count": 4,
   "id": "3eed5092-5f06-4922-b1f5-f4b7b75190e0",
   "metadata": {
    "tags": []
   },
   "outputs": [
    {
     "data": {
      "text/plain": [
       "(4, 4)"
      ]
     },
     "execution_count": 4,
     "metadata": {},
     "output_type": "execute_result"
    }
   ],
   "source": [
    "start , end"
   ]
  },
  {
   "cell_type": "code",
   "execution_count": 1,
   "id": "e666e532-9334-42bf-b034-8ff4d7c92458",
   "metadata": {},
   "outputs": [
    {
     "name": "stdout",
     "output_type": "stream",
     "text": [
      "1\n",
      " i am out\n",
      "2\n",
      " i am out\n",
      "3\n",
      " i am out\n",
      "4\n",
      " i am out\n"
     ]
    }
   ],
   "source": [
    "start = 1\n",
    "end = 5\n",
    "while start<end and True :\n",
    "    print(start)\n",
    "    start = start+1\n",
    "    print( \" i am out\")"
   ]
  },
  {
   "cell_type": "code",
   "execution_count": 2,
   "id": "bcf8a985-3f4b-4731-ac49-540004c79ca6",
   "metadata": {
    "tags": []
   },
   "outputs": [
    {
     "name": "stdout",
     "output_type": "stream",
     "text": [
      "1\n",
      "2\n",
      "3\n",
      "4\n",
      " i am out\n"
     ]
    }
   ],
   "source": [
    "start = 1\n",
    "end = 5\n",
    "while start<end and True :\n",
    "    print(start)\n",
    "    start = start+1\n",
    "else:    \n",
    "    print( \" i am out\")"
   ]
  },
  {
   "cell_type": "code",
   "execution_count": 5,
   "id": "50a10ae1-0805-4701-b775-99cfd17fb084",
   "metadata": {
    "tags": []
   },
   "outputs": [
    {
     "name": "stdout",
     "output_type": "stream",
     "text": [
      " i am out\n"
     ]
    }
   ],
   "source": [
    "start = 12\n",
    "end =2\n",
    "while start<end and True :\n",
    "    print(start)\n",
    "    start = start+1\n",
    "else:    \n",
    "    print( \" i am out\")"
   ]
  },
  {
   "cell_type": "code",
   "execution_count": 7,
   "id": "3badcc41-199a-4df7-9337-5fb4bb66c7e9",
   "metadata": {
    "tags": []
   },
   "outputs": [
    {
     "name": "stdout",
     "output_type": "stream",
     "text": [
      "-20.0\n",
      "-25.0\n",
      "-33.333333333333336\n",
      "-50.0\n",
      "-100.0\n"
     ]
    },
    {
     "ename": "ZeroDivisionError",
     "evalue": "division by zero",
     "output_type": "error",
     "traceback": [
      "\u001b[1;31m---------------------------------------------------------------------------\u001b[0m",
      "\u001b[1;31mZeroDivisionError\u001b[0m                         Traceback (most recent call last)",
      "Cell \u001b[1;32mIn[7], line 4\u001b[0m\n\u001b[0;32m      2\u001b[0m end \u001b[38;5;241m=\u001b[39m\u001b[38;5;241m5\u001b[39m\n\u001b[0;32m      3\u001b[0m \u001b[38;5;28;01mwhile\u001b[39;00m start\u001b[38;5;241m<\u001b[39mend :\n\u001b[1;32m----> 4\u001b[0m     \u001b[38;5;28mprint\u001b[39m(\u001b[38;5;241m100\u001b[39m\u001b[38;5;241m/\u001b[39mstart)\n\u001b[0;32m      5\u001b[0m     start \u001b[38;5;241m=\u001b[39m start\u001b[38;5;241m+\u001b[39m\u001b[38;5;241m1\u001b[39m\n\u001b[0;32m      6\u001b[0m \u001b[38;5;28;01melse\u001b[39;00m:    \n",
      "\u001b[1;31mZeroDivisionError\u001b[0m: division by zero"
     ]
    }
   ],
   "source": [
    "start = -5\n",
    "end =5\n",
    "while start<end :\n",
    "    print(100/start)\n",
    "    start = start+1\n",
    "else:    \n",
    "    print( \" i am out\")"
   ]
  },
  {
   "cell_type": "code",
   "execution_count": 11,
   "id": "5591850a-48cf-46cf-93ee-5c2363cb86c7",
   "metadata": {
    "tags": []
   },
   "outputs": [
    {
     "name": "stdout",
     "output_type": "stream",
     "text": [
      "-20.0\n",
      "-25.0\n",
      "-33.333333333333336\n",
      "-50.0\n",
      "-100.0\n"
     ]
    },
    {
     "data": {
      "text/plain": [
       "(0, 5)"
      ]
     },
     "execution_count": 11,
     "metadata": {},
     "output_type": "execute_result"
    }
   ],
   "source": [
    "start = -5\n",
    "end =5\n",
    "while start<end :\n",
    "    if start==0:\n",
    "        break\n",
    "    print(100/start)\n",
    "    start = start+1\n",
    "else:    \n",
    "    print( \" i am out\")\n",
    "start , end "
   ]
  },
  {
   "cell_type": "code",
   "execution_count": null,
   "id": "279a3bdf-9a07-491e-9196-62e67102ccf9",
   "metadata": {},
   "outputs": [],
   "source": []
  },
  {
   "cell_type": "code",
   "execution_count": 4,
   "id": "4b709b68-6c46-4447-aea6-7c4f801e23e1",
   "metadata": {
    "tags": []
   },
   "outputs": [
    {
     "name": "stdout",
     "output_type": "stream",
     "text": [
      "-20.0\n",
      "-25.0\n",
      "-33.333333333333336\n",
      "-50.0\n",
      "-100.0\n",
      "100.0\n",
      "50.0\n",
      "33.333333333333336\n",
      "25.0\n",
      " i am out\n"
     ]
    }
   ],
   "source": [
    "start = -5\n",
    "end =5\n",
    "while start<end :\n",
    "    if start==0:\n",
    "        start = start+1\n",
    "        continue\n",
    "    print(100/start)\n",
    "    start=start+1\n",
    "    \n",
    "      \n",
    "    \n",
    "else:    \n",
    "    print( \" i am out\")\n"
   ]
  },
  {
   "cell_type": "code",
   "execution_count": null,
   "id": "e5c33e28-de2d-4036-a02b-111afd33e62d",
   "metadata": {},
   "outputs": [],
   "source": []
  },
  {
   "cell_type": "markdown",
   "id": "21d0a07a-97e8-4d0b-bd6d-73b885f52577",
   "metadata": {},
   "source": [
    "# for loop"
   ]
  },
  {
   "cell_type": "code",
   "execution_count": 10,
   "id": "9ea301e6-b875-4ddc-b973-e3c153d3940e",
   "metadata": {
    "tags": []
   },
   "outputs": [
    {
     "name": "stdout",
     "output_type": "stream",
     "text": [
      "1\n",
      "2\n",
      "3\n",
      "4\n",
      "5\n"
     ]
    }
   ],
   "source": [
    "start = 0\n",
    "li = [ 1,2,3,4,5]\n",
    "for i in li:\n",
    "    print(i)"
   ]
  },
  {
   "cell_type": "code",
   "execution_count": 11,
   "id": "4dce0b51-445a-4185-974a-cc2ac64af2bb",
   "metadata": {
    "tags": []
   },
   "outputs": [
    {
     "name": "stdout",
     "output_type": "stream",
     "text": [
      "m\n",
      "a\n",
      "y\n",
      "a\n",
      "n\n",
      "k\n"
     ]
    }
   ],
   "source": [
    "str1 =\"mayank\"\n",
    "for char in str1:\n",
    "    print(char)"
   ]
  },
  {
   "cell_type": "code",
   "execution_count": 12,
   "id": "913ad432-9738-49f1-a1b6-8f377c997268",
   "metadata": {
    "tags": []
   },
   "outputs": [
    {
     "name": "stdout",
     "output_type": "stream",
     "text": [
      "m a y a n k "
     ]
    }
   ],
   "source": [
    "str1 =\"mayank\"\n",
    "for char in str1:\n",
    "    print(char , sep =\"<>\" , end =\" \")"
   ]
  },
  {
   "cell_type": "code",
   "execution_count": 13,
   "id": "98032162-acc0-440d-8e84-e7cc2272ad6a",
   "metadata": {
    "tags": []
   },
   "outputs": [
    {
     "name": "stdout",
     "output_type": "stream",
     "text": [
      "m a y a n k "
     ]
    }
   ],
   "source": [
    "str1 =\"mayank\"\n",
    "for char in str1:\n",
    "    print(char , sep =\"\" , end =\" \")"
   ]
  },
  {
   "cell_type": "code",
   "execution_count": 14,
   "id": "13bb1d8d-7a85-4ad7-a5ef-6e95507d268f",
   "metadata": {
    "tags": []
   },
   "outputs": [
    {
     "name": "stdout",
     "output_type": "stream",
     "text": [
      "mayank"
     ]
    }
   ],
   "source": [
    "str1 =\"mayank\"\n",
    "for char in str1:\n",
    "    print(char , sep =\"\" , end =\"\")"
   ]
  },
  {
   "cell_type": "code",
   "execution_count": 15,
   "id": "ff1f8aa5-fffe-48a5-b265-53c38036c3bd",
   "metadata": {
    "tags": []
   },
   "outputs": [
    {
     "name": "stdout",
     "output_type": "stream",
     "text": [
      "m a y a n k "
     ]
    }
   ],
   "source": [
    "str1 =\"mayank\"\n",
    "for char in str1:\n",
    "    print(char , end =\" \")"
   ]
  },
  {
   "cell_type": "markdown",
   "id": "e56069cc-9a00-4ef2-bcb4-5bafbde07f3e",
   "metadata": {},
   "source": [
    "# range"
   ]
  },
  {
   "cell_type": "code",
   "execution_count": 23,
   "id": "3d10649a-297e-4ba7-97a1-fb9b673899e4",
   "metadata": {
    "tags": []
   },
   "outputs": [
    {
     "data": {
      "text/plain": [
       "range(0, 3)"
      ]
     },
     "execution_count": 23,
     "metadata": {},
     "output_type": "execute_result"
    }
   ],
   "source": [
    "range(3)"
   ]
  },
  {
   "cell_type": "code",
   "execution_count": 24,
   "id": "4e2eb6d4-66d4-4e3b-8e72-374201f6240a",
   "metadata": {
    "tags": []
   },
   "outputs": [
    {
     "data": {
      "text/plain": [
       "[0, 1, 2]"
      ]
     },
     "execution_count": 24,
     "metadata": {},
     "output_type": "execute_result"
    }
   ],
   "source": [
    "list(range(3))"
   ]
  },
  {
   "cell_type": "code",
   "execution_count": 26,
   "id": "8e935db1-4e7d-4416-ae04-e166d9df2b7e",
   "metadata": {
    "tags": []
   },
   "outputs": [
    {
     "data": {
      "text/plain": [
       "(0, 1, 2)"
      ]
     },
     "execution_count": 26,
     "metadata": {},
     "output_type": "execute_result"
    }
   ],
   "source": [
    "tuple(range(0,3))"
   ]
  },
  {
   "cell_type": "code",
   "execution_count": 27,
   "id": "36aca5b4-8d4c-4484-9b6e-f21298000cf9",
   "metadata": {
    "tags": []
   },
   "outputs": [
    {
     "data": {
      "text/plain": [
       "[-1, 0, 1]"
      ]
     },
     "execution_count": 27,
     "metadata": {},
     "output_type": "execute_result"
    }
   ],
   "source": [
    "list(range(-1,2))"
   ]
  },
  {
   "cell_type": "code",
   "execution_count": 28,
   "id": "1a7ccc87-1e7e-4ebf-835d-21e77644d0ed",
   "metadata": {
    "tags": []
   },
   "outputs": [
    {
     "data": {
      "text/plain": [
       "[]"
      ]
     },
     "execution_count": 28,
     "metadata": {},
     "output_type": "execute_result"
    }
   ],
   "source": [
    "list(range(5,2))"
   ]
  },
  {
   "cell_type": "code",
   "execution_count": 29,
   "id": "96e44795-2cff-4879-8ed3-52ef00d63b93",
   "metadata": {
    "tags": []
   },
   "outputs": [
    {
     "data": {
      "text/plain": [
       "[5, 4, 3]"
      ]
     },
     "execution_count": 29,
     "metadata": {},
     "output_type": "execute_result"
    }
   ],
   "source": [
    "list(range(5,2,-1))"
   ]
  },
  {
   "cell_type": "code",
   "execution_count": 15,
   "id": "fcb8d04b-3fed-4e8f-8577-9a83c098f06b",
   "metadata": {
    "tags": []
   },
   "outputs": [
    {
     "name": "stdout",
     "output_type": "stream",
     "text": [
      "0\n",
      "1\n",
      "2\n",
      "3\n",
      "4\n"
     ]
    }
   ],
   "source": [
    "for i in range(5):\n",
    "    print(i)\n"
   ]
  },
  {
   "cell_type": "code",
   "execution_count": 17,
   "id": "37cdeeb8-43d4-40a1-8b72-4e9facc4b148",
   "metadata": {
    "tags": []
   },
   "outputs": [
    {
     "name": "stdout",
     "output_type": "stream",
     "text": [
      "0 1 2 "
     ]
    }
   ],
   "source": [
    "for i in range(3):\n",
    "    print(i,end=\" \")\n"
   ]
  },
  {
   "cell_type": "code",
   "execution_count": 16,
   "id": "48c500f4-fc36-4d9a-8bf0-b63fd6f06e9c",
   "metadata": {
    "tags": []
   },
   "outputs": [
    {
     "name": "stdout",
     "output_type": "stream",
     "text": [
      "1 2 3 "
     ]
    }
   ],
   "source": [
    "for i in range(3):\n",
    "    print(i+1,end=\" \")"
   ]
  },
  {
   "cell_type": "code",
   "execution_count": 17,
   "id": "4172d5f3-207e-46aa-b205-5b6e900381b9",
   "metadata": {
    "tags": []
   },
   "outputs": [
    {
     "name": "stdout",
     "output_type": "stream",
     "text": [
      "2 3 4 "
     ]
    }
   ],
   "source": [
    "for i in range(3):\n",
    "    print(i+2,end=\" \")"
   ]
  },
  {
   "cell_type": "code",
   "execution_count": null,
   "id": "8eef6d60-f152-4299-8fb1-7c5f9402b5d6",
   "metadata": {},
   "outputs": [],
   "source": []
  },
  {
   "cell_type": "code",
   "execution_count": 24,
   "id": "ce35db73-0f0f-4d97-920d-cdafb28611c5",
   "metadata": {
    "tags": []
   },
   "outputs": [
    {
     "name": "stdout",
     "output_type": "stream",
     "text": [
      "0\n",
      "1\n",
      "2\n",
      "0\n",
      "1\n",
      "2\n",
      "3\n"
     ]
    }
   ],
   "source": [
    "for i in range(3):\n",
    "    print(i )\n",
    "for j in range(4):\n",
    "    print(j )"
   ]
  },
  {
   "cell_type": "code",
   "execution_count": 16,
   "id": "71227028-aa78-4295-a837-632607f80d57",
   "metadata": {
    "tags": []
   },
   "outputs": [
    {
     "name": "stdout",
     "output_type": "stream",
     "text": [
      "0 0\n",
      "0 1\n",
      "0 2\n",
      "0 3\n",
      "1 0\n",
      "1 1\n",
      "1 2\n",
      "1 3\n",
      "2 0\n",
      "2 1\n",
      "2 2\n",
      "2 3\n"
     ]
    }
   ],
   "source": [
    "for i in range(3):\n",
    "    for j in range(4):\n",
    "        print(i,  j)"
   ]
  },
  {
   "cell_type": "code",
   "execution_count": 17,
   "id": "647a4bfd-5d73-428c-8ac3-cfa76371d853",
   "metadata": {
    "tags": []
   },
   "outputs": [
    {
     "name": "stdout",
     "output_type": "stream",
     "text": [
      "0 0 0 1 0 2 0 3 1 0 1 1 1 2 1 3 2 0 2 1 2 2 2 3 "
     ]
    }
   ],
   "source": [
    "for i in range(3):\n",
    "    for j in range(4):\n",
    "        print(i,  j ,end=\" \")"
   ]
  },
  {
   "cell_type": "code",
   "execution_count": 18,
   "id": "787f5963-d67d-4fe4-80b1-0705d3ecb714",
   "metadata": {
    "tags": []
   },
   "outputs": [
    {
     "name": "stdout",
     "output_type": "stream",
     "text": [
      "0 0 0 1 0 2 0 3 \n",
      "1 0 1 1 1 2 1 3 \n",
      "2 0 2 1 2 2 2 3 \n"
     ]
    }
   ],
   "source": [
    "for i in range(3):\n",
    "    for j in range(4):\n",
    "        print(i,  j ,end=\" \")\n",
    "    print()   "
   ]
  },
  {
   "cell_type": "code",
   "execution_count": null,
   "id": "9ad4d0a5-35d4-4cc5-a875-c47db4c17fb9",
   "metadata": {},
   "outputs": [],
   "source": []
  },
  {
   "cell_type": "code",
   "execution_count": 25,
   "id": "9feffd0d-52a5-4c6f-aeb7-3cf06813a326",
   "metadata": {
    "tags": []
   },
   "outputs": [
    {
     "name": "stdout",
     "output_type": "stream",
     "text": [
      "0 1 2 0 1 2 3 "
     ]
    }
   ],
   "source": [
    "for i in range(3):\n",
    "    print(i,end=\" \" )\n",
    "for j in range(4):\n",
    "    print(j,end=\" \" )"
   ]
  },
  {
   "cell_type": "code",
   "execution_count": 2,
   "id": "0f069430-8c46-4341-a3cc-f13b7342c41b",
   "metadata": {
    "tags": []
   },
   "outputs": [
    {
     "name": "stdout",
     "output_type": "stream",
     "text": [
      "0 1 2 0\n",
      "1\n",
      "2\n",
      "3\n",
      " \n"
     ]
    }
   ],
   "source": [
    "for i in range(3):\n",
    "    print(i,end=\" \" )\n",
    "for j in range(4):\n",
    "    print(j )\n",
    "print(\" \")   "
   ]
  },
  {
   "cell_type": "code",
   "execution_count": null,
   "id": "feae8a7f-7b49-45ae-8af9-186208aafa23",
   "metadata": {},
   "outputs": [],
   "source": []
  },
  {
   "cell_type": "code",
   "execution_count": 19,
   "id": "a082b644-e127-42b1-9bad-1c2e9a61da66",
   "metadata": {
    "tags": []
   },
   "outputs": [
    {
     "name": "stdout",
     "output_type": "stream",
     "text": [
      "i i i i i i  \n",
      "i i i i i i  \n",
      "i i i i i i  \n",
      "i i i i i i  \n",
      "i i i i i i  \n",
      "i i i i i i  \n"
     ]
    }
   ],
   "source": [
    "for i in range(0,6):\n",
    "    for j in range(0,6):\n",
    "        print(\"i\",end=\" \")\n",
    "    print(\" \") \n",
    "   \n"
   ]
  },
  {
   "cell_type": "code",
   "execution_count": 14,
   "id": "4234c2ec-da03-4abb-b101-6682074f5009",
   "metadata": {},
   "outputs": [
    {
     "name": "stdout",
     "output_type": "stream",
     "text": [
      "\n",
      "\n",
      "\n",
      "\n",
      "\n",
      "\n"
     ]
    }
   ],
   "source": [
    "'''\n",
    "   pattren based question\n",
    "'''"
   ]
  },
  {
   "cell_type": "code",
   "execution_count": null,
   "id": "9c8b4088-ff0d-4636-8de5-6c54dcaf5fde",
   "metadata": {},
   "outputs": [],
   "source": [
    "# i = repeats elements(1111)\n",
    "# j = different elements(1234)\n",
    "# print() = new line"
   ]
  },
  {
   "cell_type": "code",
   "execution_count": 20,
   "id": "4bbacb5b-817a-444e-8d89-584de21d3039",
   "metadata": {
    "tags": []
   },
   "outputs": [
    {
     "name": "stdout",
     "output_type": "stream",
     "text": [
      "1 1 1 1 1 \n",
      "2 2 2 2 \n",
      "3 3 3 \n",
      "4 4 \n",
      "5 \n"
     ]
    }
   ],
   "source": [
    "for i in range(1,6):\n",
    "    for j in range(i,6):\n",
    "        print(i,end=\" \")\n",
    "    print()    "
   ]
  },
  {
   "cell_type": "code",
   "execution_count": null,
   "id": "4255ffcf-dc16-4967-aa49-8427bbfeeb8a",
   "metadata": {},
   "outputs": [],
   "source": []
  },
  {
   "cell_type": "code",
   "execution_count": 21,
   "id": "e59d3cae-145f-4bb4-9d70-c5e5a17be58c",
   "metadata": {},
   "outputs": [
    {
     "name": "stdout",
     "output_type": "stream",
     "text": [
      "1 2 3 4 5 \n",
      "2 3 4 5 \n",
      "3 4 5 \n",
      "4 5 \n",
      "5 \n"
     ]
    }
   ],
   "source": [
    "for i in range(1,6):\n",
    "    for j in range(i,6):\n",
    "        print(j,end=\" \")\n",
    "    print()    \n",
    "        "
   ]
  },
  {
   "cell_type": "code",
   "execution_count": 22,
   "id": "128e705e-b0e9-4587-b963-79617d003450",
   "metadata": {},
   "outputs": [
    {
     "name": "stdout",
     "output_type": "stream",
     "text": [
      "* * * * \n",
      "* * * \n",
      "* * \n",
      "* \n"
     ]
    }
   ],
   "source": [
    "for i in range(1,5):\n",
    "    for j in range(i,5):\n",
    "        print(\"*\",end=\" \")\n",
    "    print()    "
   ]
  },
  {
   "cell_type": "code",
   "execution_count": 23,
   "id": "a70f8fa0-00fe-481f-b644-d03ab9d67330",
   "metadata": {
    "tags": []
   },
   "outputs": [
    {
     "name": "stdout",
     "output_type": "stream",
     "text": [
      "5 5 5 5 5 \n",
      "4 4 4 4 \n",
      "3 3 3 \n",
      "2 2 \n",
      "1 \n"
     ]
    }
   ],
   "source": [
    "for i in range(5,0,-1):\n",
    "    for j in range(0,i):\n",
    "        print(i,end=\" \")\n",
    "    print()    "
   ]
  },
  {
   "cell_type": "code",
   "execution_count": 9,
   "id": "ecce1d08-7464-492c-9a36-abaac2c1ae55",
   "metadata": {
    "tags": []
   },
   "outputs": [
    {
     "name": "stdout",
     "output_type": "stream",
     "text": [
      "0 1 2 3 4 \n",
      "0 1 2 3 \n",
      "0 1 2 \n",
      "0 1 \n",
      "0 \n"
     ]
    }
   ],
   "source": [
    "for i in range(5,0,-1):\n",
    "    for j in range(0,i):\n",
    "        print(j , end=\" \")\n",
    "    print()"
   ]
  },
  {
   "cell_type": "code",
   "execution_count": 10,
   "id": "757aeb72-37d8-4854-beeb-14a649f33e22",
   "metadata": {
    "tags": []
   },
   "outputs": [
    {
     "name": "stdout",
     "output_type": "stream",
     "text": [
      "0 1 2 3 4 5 \n",
      "0 1 2 3 4 \n",
      "0 1 2 3 \n",
      "0 1 2 \n",
      "0 1 \n"
     ]
    }
   ],
   "source": [
    "for i in range(5,0,-1):\n",
    "    for j in range(0,i+1):\n",
    "        print(j , end=\" \")\n",
    "    print()"
   ]
  },
  {
   "cell_type": "code",
   "execution_count": 11,
   "id": "be92268e-83d8-44a7-ac8e-53ae9a81e38e",
   "metadata": {
    "tags": []
   },
   "outputs": [
    {
     "name": "stdout",
     "output_type": "stream",
     "text": [
      "1 2 3 4 \n",
      "1 2 3 \n",
      "1 2 \n",
      "1 \n",
      "\n"
     ]
    }
   ],
   "source": [
    "for i in range(5,0,-1):\n",
    "    for j in range(1,i):\n",
    "        print(j , end=\" \")\n",
    "    print()"
   ]
  },
  {
   "cell_type": "code",
   "execution_count": 13,
   "id": "567e0e53-8077-4d05-9d95-876d9b55d356",
   "metadata": {
    "tags": []
   },
   "outputs": [
    {
     "name": "stdout",
     "output_type": "stream",
     "text": [
      "5 5 5 5 5 \n",
      "4 4 4 4 \n",
      "3 3 3 \n",
      "2 2 \n",
      "1 \n"
     ]
    }
   ],
   "source": [
    "for i in range(5,0,-1):\n",
    "    for j in range(1,i+1):\n",
    "        print(i , end=\" \")\n",
    "    print()"
   ]
  },
  {
   "cell_type": "code",
   "execution_count": 1,
   "id": "773849e4-859a-4fca-9013-8e46949f72a6",
   "metadata": {},
   "outputs": [
    {
     "name": "stdout",
     "output_type": "stream",
     "text": [
      "1 2 3 4 5 \n",
      "1 2 3 4 \n",
      "1 2 3 \n",
      "1 2 \n",
      "1 \n"
     ]
    }
   ],
   "source": [
    "for i in range(5,0,-1):\n",
    "    for j in range(1,i+1):\n",
    "        print(j , end=\" \")\n",
    "    print()"
   ]
  },
  {
   "cell_type": "code",
   "execution_count": 2,
   "id": "8e94692e-cc39-4aaa-ac60-04857901cee9",
   "metadata": {
    "tags": []
   },
   "outputs": [
    {
     "name": "stdout",
     "output_type": "stream",
     "text": [
      "k\n",
      "ka\n",
      "kar\n",
      "kart\n",
      "karti\n",
      "kartik\n",
      "karti\n",
      "kart\n",
      "kar\n",
      "ka\n",
      "k\n",
      "\n"
     ]
    }
   ],
   "source": [
    "l=\"kartik\"\n",
    "x=0\n",
    "for i in l:\n",
    "    x=x+1\n",
    "    print(l[0:x])\n",
    "for i in l:\n",
    "    x=x-1\n",
    "    print(l[0:x])"
   ]
  },
  {
   "cell_type": "code",
   "execution_count": 1,
   "id": "dc21b80c-aabf-485a-ac59-ed9e1699fe3b",
   "metadata": {},
   "outputs": [
    {
     "name": "stdout",
     "output_type": "stream",
     "text": [
      "\n",
      "j \n",
      "j j \n",
      "j j j \n",
      "j j j j \n",
      "j j j j j \n"
     ]
    }
   ],
   "source": [
    "for i in range(6,0,-1):\n",
    "    for j in range(i,6):\n",
    "        print(\"j\",end=\" \")\n",
    "    print()    "
   ]
  },
  {
   "cell_type": "code",
   "execution_count": 2,
   "id": "87c5e178-1707-426e-8721-46c6f2340946",
   "metadata": {
    "tags": []
   },
   "outputs": [
    {
     "name": "stdout",
     "output_type": "stream",
     "text": [
      "j j j j j j \n",
      "j j j j j \n",
      "j j j j \n",
      "j j j \n",
      "j j \n",
      "j \n"
     ]
    }
   ],
   "source": [
    "for i in range(6,0,-1):\n",
    "    for j in range(i,0,-1):\n",
    "        print(\"j\",end=\" \")\n",
    "    print()    "
   ]
  },
  {
   "cell_type": "code",
   "execution_count": 19,
   "id": "8545d7ab-9bea-4871-9a46-4684feb91b9f",
   "metadata": {},
   "outputs": [
    {
     "name": "stdout",
     "output_type": "stream",
     "text": [
      "1 \n",
      "1 2 \n",
      "1 2 3 \n",
      "1 2 3 4 \n",
      "1 2 3 4 5 \n"
     ]
    }
   ],
   "source": [
    "for i in range(1,6):\n",
    "        for j in range(1,i+1):\n",
    "            print(j, end=\" \")\n",
    "        print()    "
   ]
  },
  {
   "cell_type": "code",
   "execution_count": 18,
   "id": "812873ee-1910-4458-aaae-9cae08da10ba",
   "metadata": {
    "tags": []
   },
   "outputs": [
    {
     "name": "stdout",
     "output_type": "stream",
     "text": [
      "\n",
      "2 \n",
      "2 3 \n",
      "2 3 4 \n",
      "2 3 4 5 \n"
     ]
    }
   ],
   "source": [
    "for i in range(1,6):\n",
    "    for j in range(1,i):\n",
    "        print(j+1,end=\" \")\n",
    "    print()"
   ]
  },
  {
   "cell_type": "code",
   "execution_count": 1,
   "id": "273f3a68-b9a6-4396-a486-01a8608016b3",
   "metadata": {},
   "outputs": [
    {
     "name": "stdout",
     "output_type": "stream",
     "text": [
      "1 \n",
      "2 3 \n",
      "4 5 6 \n",
      "7 8 9 10 \n",
      "11 12 13 14 15 \n"
     ]
    }
   ],
   "source": [
    "num = 1\n",
    "for i in range(5):\n",
    "    for j in range(i+1):\n",
    "        print(num , end=\" \")\n",
    "        num = num+1\n",
    "    print()    "
   ]
  },
  {
   "cell_type": "code",
   "execution_count": null,
   "id": "e33d46c0-9522-4ccc-ab4f-1998be174b5b",
   "metadata": {},
   "outputs": [],
   "source": []
  }
 ],
 "metadata": {
  "kernelspec": {
   "display_name": "Python 3 (ipykernel)",
   "language": "python",
   "name": "python3"
  },
  "language_info": {
   "codemirror_mode": {
    "name": "ipython",
    "version": 3
   },
   "file_extension": ".py",
   "mimetype": "text/x-python",
   "name": "python",
   "nbconvert_exporter": "python",
   "pygments_lexer": "ipython3",
   "version": "3.11.5"
  }
 },
 "nbformat": 4,
 "nbformat_minor": 5
}
