{
 "cells": [
  {
   "cell_type": "markdown",
   "id": "502fa309-5137-4003-8293-f00dd381ef21",
   "metadata": {},
   "source": [
    "## function"
   ]
  },
  {
   "cell_type": "markdown",
   "id": "5b130823-bb23-4c5e-9e01-288f3cfc0b1d",
   "metadata": {},
   "source": [
    "**pass statement ---->>> to avoid from getting error**"
   ]
  },
  {
   "cell_type": "code",
   "execution_count": 3,
   "id": "7f13b917-9aed-44f3-9044-8d1c4c366417",
   "metadata": {
    "tags": []
   },
   "outputs": [
    {
     "ename": "IndentationError",
     "evalue": "expected an indented block after function definition on line 1 (703830422.py, line 3)",
     "output_type": "error",
     "traceback": [
      "\u001b[1;36m  Cell \u001b[1;32mIn[3], line 3\u001b[1;36m\u001b[0m\n\u001b[1;33m    fun()\u001b[0m\n\u001b[1;37m    ^\u001b[0m\n\u001b[1;31mIndentationError\u001b[0m\u001b[1;31m:\u001b[0m expected an indented block after function definition on line 1\n"
     ]
    }
   ],
   "source": [
    "def fun():\n",
    "    \n",
    "fun()    "
   ]
  },
  {
   "cell_type": "code",
   "execution_count": null,
   "id": "ff9580fe-f20d-4ae0-a9a2-1f24c5209902",
   "metadata": {},
   "outputs": [],
   "source": []
  },
  {
   "cell_type": "code",
   "execution_count": 4,
   "id": "f85bf2ed-89c4-4722-adde-156f8a120c80",
   "metadata": {
    "tags": []
   },
   "outputs": [],
   "source": [
    "def fun1():\n",
    "    pass\n",
    "fun1()"
   ]
  },
  {
   "cell_type": "code",
   "execution_count": null,
   "id": "7a19220f-4ea5-4066-af10-e4cda2a917e3",
   "metadata": {},
   "outputs": [],
   "source": []
  },
  {
   "cell_type": "markdown",
   "id": "6f515105-1a0c-434b-9e69-5856a95ea952",
   "metadata": {},
   "source": [
    "### print vs return"
   ]
  },
  {
   "cell_type": "markdown",
   "id": "5cb97025-8137-4b57-b442-eba8b34f0683",
   "metadata": {},
   "source": [
    "### print --->>> dont store the value"
   ]
  },
  {
   "cell_type": "code",
   "execution_count": 5,
   "id": "24a5e6ef-3e3e-433e-b557-1d1b97cc9e80",
   "metadata": {
    "tags": []
   },
   "outputs": [
    {
     "name": "stdout",
     "output_type": "stream",
     "text": [
      "4\n"
     ]
    }
   ],
   "source": [
    "def fn1():\n",
    "    print(4)\n",
    "fn1()    "
   ]
  },
  {
   "cell_type": "code",
   "execution_count": 6,
   "id": "c32a9722-cec3-4d51-948b-14dee25732fe",
   "metadata": {
    "tags": []
   },
   "outputs": [
    {
     "name": "stdout",
     "output_type": "stream",
     "text": [
      "4\n"
     ]
    },
    {
     "ename": "TypeError",
     "evalue": "unsupported operand type(s) for +: 'NoneType' and 'int'",
     "output_type": "error",
     "traceback": [
      "\u001b[1;31m---------------------------------------------------------------------------\u001b[0m",
      "\u001b[1;31mTypeError\u001b[0m                                 Traceback (most recent call last)",
      "Cell \u001b[1;32mIn[6], line 1\u001b[0m\n\u001b[1;32m----> 1\u001b[0m fn1()\u001b[38;5;241m+\u001b[39m\u001b[38;5;241m10\u001b[39m\n",
      "\u001b[1;31mTypeError\u001b[0m: unsupported operand type(s) for +: 'NoneType' and 'int'"
     ]
    }
   ],
   "source": [
    "fn1()+10"
   ]
  },
  {
   "cell_type": "code",
   "execution_count": null,
   "id": "b3a052e6-a208-4a64-8398-8d10c9321433",
   "metadata": {},
   "outputs": [],
   "source": []
  },
  {
   "cell_type": "markdown",
   "id": "14248aed-5b61-4f89-a13c-07d6c3a12933",
   "metadata": {},
   "source": [
    "### return --->>> store the value"
   ]
  },
  {
   "cell_type": "code",
   "execution_count": 9,
   "id": "4ec4f704-6569-410d-8044-71a8412149b9",
   "metadata": {
    "tags": []
   },
   "outputs": [
    {
     "data": {
      "text/plain": [
       "4"
      ]
     },
     "execution_count": 9,
     "metadata": {},
     "output_type": "execute_result"
    }
   ],
   "source": [
    "def fn2():\n",
    "    return 4\n",
    "fn2()"
   ]
  },
  {
   "cell_type": "code",
   "execution_count": 10,
   "id": "fc2c0a40-f245-4eaa-ac26-cf28dbdfd443",
   "metadata": {
    "tags": []
   },
   "outputs": [
    {
     "data": {
      "text/plain": [
       "14"
      ]
     },
     "execution_count": 10,
     "metadata": {},
     "output_type": "execute_result"
    }
   ],
   "source": [
    "fn2()+10"
   ]
  },
  {
   "cell_type": "code",
   "execution_count": null,
   "id": "e5195078-0637-4407-8f56-730513e94ecd",
   "metadata": {},
   "outputs": [],
   "source": []
  },
  {
   "cell_type": "markdown",
   "id": "f74b8d16-8004-4696-986e-705d33c20097",
   "metadata": {},
   "source": [
    "### parameter vs arguments"
   ]
  },
  {
   "cell_type": "markdown",
   "id": "8ed116a5-1756-42c1-8356-7e4cfcd0b060",
   "metadata": {},
   "source": [
    "**fun1(a,b) --->>> parameter**\n",
    "\n",
    "**when call the function fun1(3,4) --->>> argument**"
   ]
  },
  {
   "cell_type": "markdown",
   "id": "a75ff5ba-8262-47a1-bfe3-42bb308d083d",
   "metadata": {},
   "source": [
    "### positional argument"
   ]
  },
  {
   "cell_type": "code",
   "execution_count": 11,
   "id": "17424d36-9d31-498b-9be1-b12b24a3d3cf",
   "metadata": {
    "tags": []
   },
   "outputs": [],
   "source": [
    "def add(a,b,c):\n",
    "    return a+b"
   ]
  },
  {
   "cell_type": "code",
   "execution_count": 12,
   "id": "de1279e8-103c-46cf-9618-a77290fff340",
   "metadata": {
    "tags": []
   },
   "outputs": [
    {
     "data": {
      "text/plain": [
       "11"
      ]
     },
     "execution_count": 12,
     "metadata": {},
     "output_type": "execute_result"
    }
   ],
   "source": [
    "add(8,3,4)"
   ]
  },
  {
   "cell_type": "code",
   "execution_count": 13,
   "id": "944747af-cc4f-4890-a99d-7a60a91ad16d",
   "metadata": {
    "tags": []
   },
   "outputs": [
    {
     "data": {
      "text/plain": [
       "7"
      ]
     },
     "execution_count": 13,
     "metadata": {},
     "output_type": "execute_result"
    }
   ],
   "source": [
    "add(3,4,8)"
   ]
  },
  {
   "cell_type": "code",
   "execution_count": null,
   "id": "b58e70ba-fbc1-4d7e-b383-3c7248db19b3",
   "metadata": {},
   "outputs": [],
   "source": []
  },
  {
   "cell_type": "markdown",
   "id": "2a6b5158-f2cb-4f9d-baa4-8e0e347d452f",
   "metadata": {},
   "source": [
    "### keyword argument"
   ]
  },
  {
   "cell_type": "code",
   "execution_count": 30,
   "id": "3b42a675-99eb-47bd-9c1d-08e2aee96afb",
   "metadata": {
    "tags": []
   },
   "outputs": [],
   "source": [
    "def add1(a,b,c):\n",
    "    return a+b"
   ]
  },
  {
   "cell_type": "code",
   "execution_count": 31,
   "id": "9eb0d528-e53e-457d-8b89-195ba85e1c04",
   "metadata": {
    "tags": []
   },
   "outputs": [
    {
     "data": {
      "text/plain": [
       "5"
      ]
     },
     "execution_count": 31,
     "metadata": {},
     "output_type": "execute_result"
    }
   ],
   "source": [
    "add1(a=2,b=3,c=5)"
   ]
  },
  {
   "cell_type": "code",
   "execution_count": 32,
   "id": "7f30f5ee-efcc-4504-82c4-0d3fbb411bce",
   "metadata": {
    "tags": []
   },
   "outputs": [
    {
     "data": {
      "text/plain": [
       "6"
      ]
     },
     "execution_count": 32,
     "metadata": {},
     "output_type": "execute_result"
    }
   ],
   "source": [
    "add1(3,b=3,c=5)"
   ]
  },
  {
   "cell_type": "code",
   "execution_count": 33,
   "id": "8ddfe101-4a4f-440c-adc8-6b31b824a73e",
   "metadata": {
    "tags": []
   },
   "outputs": [
    {
     "ename": "SyntaxError",
     "evalue": "positional argument follows keyword argument (3766726665.py, line 1)",
     "output_type": "error",
     "traceback": [
      "\u001b[1;36m  Cell \u001b[1;32mIn[33], line 1\u001b[1;36m\u001b[0m\n\u001b[1;33m    add1(a=4,5,c=3)\u001b[0m\n\u001b[1;37m                  ^\u001b[0m\n\u001b[1;31mSyntaxError\u001b[0m\u001b[1;31m:\u001b[0m positional argument follows keyword argument\n"
     ]
    }
   ],
   "source": [
    "add1(a=4,5,c=3)"
   ]
  },
  {
   "cell_type": "code",
   "execution_count": 35,
   "id": "c88947b4-4977-40e3-9d89-4035c7bc598a",
   "metadata": {
    "tags": []
   },
   "outputs": [
    {
     "ename": "SyntaxError",
     "evalue": "positional argument follows keyword argument (1230256409.py, line 1)",
     "output_type": "error",
     "traceback": [
      "\u001b[1;36m  Cell \u001b[1;32mIn[35], line 1\u001b[1;36m\u001b[0m\n\u001b[1;33m    add1(a=2,3,4)\u001b[0m\n\u001b[1;37m                ^\u001b[0m\n\u001b[1;31mSyntaxError\u001b[0m\u001b[1;31m:\u001b[0m positional argument follows keyword argument\n"
     ]
    }
   ],
   "source": [
    "add1(a=2,3,4)"
   ]
  },
  {
   "cell_type": "code",
   "execution_count": null,
   "id": "339cc774-c7e9-42a5-aa5b-cb690cbc0c12",
   "metadata": {},
   "outputs": [],
   "source": []
  },
  {
   "cell_type": "markdown",
   "id": "0e5e12a7-d8aa-4647-8b0d-bfdf81bc4c9c",
   "metadata": {},
   "source": [
    "### default argument"
   ]
  },
  {
   "cell_type": "code",
   "execution_count": 45,
   "id": "c8c31484-d90c-445f-90aa-10611de9eb4a",
   "metadata": {
    "tags": []
   },
   "outputs": [],
   "source": [
    "def mob(name=\"kartik\" , country=\"India\"):\n",
    "    print(\"my name is \"+name +\" and i am from :\" + country)"
   ]
  },
  {
   "cell_type": "code",
   "execution_count": 46,
   "id": "667abf12-7369-46fc-98cf-3a7999440cf3",
   "metadata": {
    "tags": []
   },
   "outputs": [
    {
     "name": "stdout",
     "output_type": "stream",
     "text": [
      "my name is harry and i am from :Norway\n",
      "my name is kartik and i am from :India\n",
      "my name is tom and i am from :paris\n"
     ]
    }
   ],
   "source": [
    "mob(\"harry\",\"Norway\")\n",
    "mob()\n",
    "mob(\"tom\",\"paris\")"
   ]
  },
  {
   "cell_type": "code",
   "execution_count": null,
   "id": "dc38a3a5-79e2-4ec6-b3e6-7c7771a3715d",
   "metadata": {},
   "outputs": [],
   "source": []
  },
  {
   "cell_type": "code",
   "execution_count": 47,
   "id": "ce843041-fa22-4d3f-9cef-afa5bdebac6f",
   "metadata": {
    "tags": []
   },
   "outputs": [],
   "source": [
    "def con(a,b=\"+91\"):\n",
    "    print( b+ \"-\"+a)\n"
   ]
  },
  {
   "cell_type": "code",
   "execution_count": 48,
   "id": "bbcb5845-7e3d-4fe1-8a44-08f44018d58f",
   "metadata": {
    "tags": []
   },
   "outputs": [
    {
     "name": "stdout",
     "output_type": "stream",
     "text": [
      "+91-9467034399\n",
      "+01-3456777\n"
     ]
    }
   ],
   "source": [
    "con(str(9467034399))\n",
    "con(str(3456777),\"+01\")"
   ]
  },
  {
   "cell_type": "code",
   "execution_count": null,
   "id": "a3b24433-62bd-4251-bcac-894994aeda1f",
   "metadata": {},
   "outputs": [],
   "source": []
  },
  {
   "cell_type": "markdown",
   "id": "472cf2ee-a6c0-45ec-86fc-b82b560adcb8",
   "metadata": {},
   "source": [
    "### variable length/word argument"
   ]
  },
  {
   "cell_type": "code",
   "execution_count": 49,
   "id": "5e03a6a4-b7a3-4fef-81aa-d1ae6dba305a",
   "metadata": {
    "tags": []
   },
   "outputs": [],
   "source": [
    "def word(*args):\n",
    "    return args"
   ]
  },
  {
   "cell_type": "code",
   "execution_count": 51,
   "id": "eae4b9f0-cc89-41ac-8db1-bbbb71490498",
   "metadata": {
    "tags": []
   },
   "outputs": [],
   "source": [
    "w=word(1,2,3,4,5,6,7)"
   ]
  },
  {
   "cell_type": "code",
   "execution_count": 52,
   "id": "d81c581c-1f8c-4325-8ac3-fa7b947b53ec",
   "metadata": {
    "tags": []
   },
   "outputs": [
    {
     "data": {
      "text/plain": [
       "(1, 2, 3, 4, 5, 6, 7)"
      ]
     },
     "execution_count": 52,
     "metadata": {},
     "output_type": "execute_result"
    }
   ],
   "source": [
    "w"
   ]
  },
  {
   "cell_type": "code",
   "execution_count": 53,
   "id": "a19b5389-aabe-42ac-a81d-0ddce484cd48",
   "metadata": {
    "tags": []
   },
   "outputs": [
    {
     "data": {
      "text/plain": [
       "tuple"
      ]
     },
     "execution_count": 53,
     "metadata": {},
     "output_type": "execute_result"
    }
   ],
   "source": [
    "type(w)"
   ]
  },
  {
   "cell_type": "code",
   "execution_count": 54,
   "id": "b97665c1-bc95-4465-96ec-361d12611387",
   "metadata": {
    "tags": []
   },
   "outputs": [
    {
     "name": "stdout",
     "output_type": "stream",
     "text": [
      "1 2 3 4 5 6 7 "
     ]
    }
   ],
   "source": [
    "for i in w:\n",
    "    print(i,end=\" \")"
   ]
  },
  {
   "cell_type": "code",
   "execution_count": null,
   "id": "8688f165-7fe8-4584-b4ea-f3a0cc886d65",
   "metadata": {},
   "outputs": [],
   "source": []
  },
  {
   "cell_type": "markdown",
   "id": "7f8cfc80-dab3-4758-b9e3-5e3206cae44e",
   "metadata": {},
   "source": [
    "### kwargs"
   ]
  },
  {
   "cell_type": "code",
   "execution_count": 70,
   "id": "3ddc4529-bf15-4ab3-bc19-3f652b20edc1",
   "metadata": {
    "tags": []
   },
   "outputs": [],
   "source": [
    "def cv(**kwargs):\n",
    "    return kwargs"
   ]
  },
  {
   "cell_type": "code",
   "execution_count": 73,
   "id": "d62a7335-9f3f-4ceb-aef6-3baab1a03d9a",
   "metadata": {
    "tags": []
   },
   "outputs": [
    {
     "data": {
      "text/plain": [
       "{'a': 1, 'b': 4}"
      ]
     },
     "execution_count": 73,
     "metadata": {},
     "output_type": "execute_result"
    }
   ],
   "source": [
    "cv(a=1,b=4)"
   ]
  },
  {
   "cell_type": "code",
   "execution_count": 74,
   "id": "cc200d05-b269-4c9c-a0ae-ff5e4e0a09b4",
   "metadata": {
    "tags": []
   },
   "outputs": [],
   "source": [
    "d =cv(a=1,b=4)"
   ]
  },
  {
   "cell_type": "code",
   "execution_count": 75,
   "id": "aa633482-e98e-42f4-af90-9972e99182d7",
   "metadata": {
    "tags": []
   },
   "outputs": [
    {
     "data": {
      "text/plain": [
       "dict"
      ]
     },
     "execution_count": 75,
     "metadata": {},
     "output_type": "execute_result"
    }
   ],
   "source": [
    "type(d)"
   ]
  },
  {
   "cell_type": "code",
   "execution_count": 76,
   "id": "a753fb59-cc7f-4765-81f2-b4a4d54f01a0",
   "metadata": {
    "tags": []
   },
   "outputs": [
    {
     "name": "stdout",
     "output_type": "stream",
     "text": [
      "a\n",
      "b\n"
     ]
    }
   ],
   "source": [
    "### by default we itreate over keys\n",
    "\n",
    "for i in d:\n",
    "    print(i)"
   ]
  },
  {
   "cell_type": "markdown",
   "id": "7f5cd9eb-bca0-40ad-b2ca-6015978c2ec6",
   "metadata": {},
   "source": [
    "### itreate over keys"
   ]
  },
  {
   "cell_type": "code",
   "execution_count": 77,
   "id": "f302de67-bce8-485a-976c-67515bacfb25",
   "metadata": {
    "tags": []
   },
   "outputs": [
    {
     "name": "stdout",
     "output_type": "stream",
     "text": [
      "a\n",
      "b\n"
     ]
    }
   ],
   "source": [
    "for i in d.keys():\n",
    "    print(i)"
   ]
  },
  {
   "cell_type": "markdown",
   "id": "90a6f029-559e-4b4e-b6f5-0421d4094c7e",
   "metadata": {},
   "source": [
    "## itreate over values"
   ]
  },
  {
   "cell_type": "code",
   "execution_count": 78,
   "id": "dc0e60dd-3bc3-4f7a-97d6-58c7046c550c",
   "metadata": {
    "tags": []
   },
   "outputs": [
    {
     "name": "stdout",
     "output_type": "stream",
     "text": [
      "1\n",
      "4\n"
     ]
    }
   ],
   "source": [
    "for i in d.values():\n",
    "    print(i)\n"
   ]
  },
  {
   "cell_type": "code",
   "execution_count": 79,
   "id": "c3d95f6b-4be7-43b5-b6aa-f5819aa18f4c",
   "metadata": {
    "tags": []
   },
   "outputs": [
    {
     "name": "stdout",
     "output_type": "stream",
     "text": [
      "('a', 1)\n",
      "('b', 4)\n"
     ]
    }
   ],
   "source": [
    "for i in d.items():\n",
    "    print(i)\n"
   ]
  },
  {
   "cell_type": "code",
   "execution_count": null,
   "id": "4d2a7292-dceb-481c-9e77-284218484af3",
   "metadata": {},
   "outputs": [],
   "source": []
  },
  {
   "cell_type": "markdown",
   "id": "01e00849-de3d-459b-b20c-86d543ae9ed0",
   "metadata": {},
   "source": [
    "### scope of variable"
   ]
  },
  {
   "cell_type": "code",
   "execution_count": null,
   "id": "2ab4d6b6-af03-42fc-87ad-5082b91c013c",
   "metadata": {},
   "outputs": [],
   "source": [
    "\"\"\"local and global\n",
    "\"\"\""
   ]
  },
  {
   "cell_type": "code",
   "execution_count": 2,
   "id": "02f5e1a7-8f0b-455e-88eb-f49877fb8baf",
   "metadata": {},
   "outputs": [
    {
     "name": "stdout",
     "output_type": "stream",
     "text": [
      "local\n",
      "global\n"
     ]
    }
   ],
   "source": [
    "n=\"global\"\n",
    "def fxn():\n",
    "    n=\"local\"\n",
    "    print(n)\n",
    "fxn()\n",
    "print(n)\n",
    "    "
   ]
  },
  {
   "cell_type": "code",
   "execution_count": null,
   "id": "9e21f194-b3ef-4425-9b92-6c53bca17416",
   "metadata": {},
   "outputs": [],
   "source": []
  },
  {
   "cell_type": "code",
   "execution_count": null,
   "id": "3135e883-5368-4339-b0b5-3348fc81c4d1",
   "metadata": {},
   "outputs": [],
   "source": []
  },
  {
   "cell_type": "code",
   "execution_count": null,
   "id": "be93007d-5e97-4e0b-a457-17c50b58ce3b",
   "metadata": {},
   "outputs": [],
   "source": []
  }
 ],
 "metadata": {
  "kernelspec": {
   "display_name": "Python 3 (ipykernel)",
   "language": "python",
   "name": "python3"
  },
  "language_info": {
   "codemirror_mode": {
    "name": "ipython",
    "version": 3
   },
   "file_extension": ".py",
   "mimetype": "text/x-python",
   "name": "python",
   "nbconvert_exporter": "python",
   "pygments_lexer": "ipython3",
   "version": "3.11.5"
  },
  "toc-autonumbering": false,
  "toc-showcode": true,
  "toc-showmarkdowntxt": false
 },
 "nbformat": 4,
 "nbformat_minor": 5
}
