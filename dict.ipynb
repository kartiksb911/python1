{
 "cells": [
  {
   "cell_type": "code",
   "execution_count": 1,
   "id": "e5098ec2-fb09-454b-83a4-125fb0a8eeb0",
   "metadata": {
    "tags": []
   },
   "outputs": [
    {
     "name": "stdout",
     "output_type": "stream",
     "text": [
      "<class 'dict'>\n"
     ]
    }
   ],
   "source": [
    "d ={}\n",
    "print(type(d))"
   ]
  },
  {
   "cell_type": "code",
   "execution_count": 2,
   "id": "54e7fbaa-8a8d-4298-bc9f-3d7514fb8863",
   "metadata": {
    "tags": []
   },
   "outputs": [
    {
     "data": {
      "text/plain": [
       "dict"
      ]
     },
     "execution_count": 2,
     "metadata": {},
     "output_type": "execute_result"
    }
   ],
   "source": [
    "my_dict = {}\n",
    "type(my_dict)"
   ]
  },
  {
   "cell_type": "code",
   "execution_count": 3,
   "id": "025e476d-687c-4485-9dfe-c1ce11b6f411",
   "metadata": {
    "tags": []
   },
   "outputs": [],
   "source": [
    "mydict = {1:\"one\" ,\"A\":\"two\" ,3:\"three\"}"
   ]
  },
  {
   "cell_type": "code",
   "execution_count": 5,
   "id": "708a8385-bd1d-48e3-8808-26fc1cef2e2b",
   "metadata": {
    "tags": []
   },
   "outputs": [
    {
     "name": "stdout",
     "output_type": "stream",
     "text": [
      "dict_keys([1, 'A', 3])\n",
      "dict_values(['one', 'two', 'three'])\n",
      "dict_items([(1, 'one'), ('A', 'two'), (3, 'three')])\n"
     ]
    }
   ],
   "source": [
    "print(mydict.keys())\n",
    "print(mydict.values())\n",
    "print(mydict.items())"
   ]
  },
  {
   "cell_type": "code",
   "execution_count": null,
   "id": "51a0d295-4963-40ca-9fd3-4ab0f7e5aa81",
   "metadata": {},
   "outputs": [],
   "source": []
  },
  {
   "cell_type": "markdown",
   "id": "bbed1d03-4f11-43d1-ac3d-875901bd98f5",
   "metadata": {},
   "source": [
    "## accessing items"
   ]
  },
  {
   "cell_type": "code",
   "execution_count": 6,
   "id": "bd00c338-feab-45c0-9902-df1d293d6277",
   "metadata": {
    "tags": []
   },
   "outputs": [],
   "source": [
    "dict_1 = {1:\"one\",2:\"two\",3:\"three\",4:\"four\"}"
   ]
  },
  {
   "cell_type": "code",
   "execution_count": 7,
   "id": "70837628-b728-40e7-9b95-c1d048d163df",
   "metadata": {
    "tags": []
   },
   "outputs": [
    {
     "data": {
      "text/plain": [
       "'one'"
      ]
     },
     "execution_count": 7,
     "metadata": {},
     "output_type": "execute_result"
    }
   ],
   "source": [
    "dict_1[1]"
   ]
  },
  {
   "cell_type": "code",
   "execution_count": 10,
   "id": "fdf46c84-de25-46d0-91a6-8ba369d2c35d",
   "metadata": {
    "tags": []
   },
   "outputs": [
    {
     "data": {
      "text/plain": [
       "{1: 'the value is changed', 2: 'two', 3: 'three', 4: 'four'}"
      ]
     },
     "execution_count": 10,
     "metadata": {},
     "output_type": "execute_result"
    }
   ],
   "source": [
    "dict_1[1] =\"the value is changed\"\n",
    "dict_1"
   ]
  },
  {
   "cell_type": "code",
   "execution_count": null,
   "id": "5ba813de-66f0-496d-8095-7ab6683ae16a",
   "metadata": {},
   "outputs": [],
   "source": []
  },
  {
   "cell_type": "code",
   "execution_count": 11,
   "id": "67572c8f-d9de-40ed-9c25-ff30c969eeae",
   "metadata": {
    "tags": []
   },
   "outputs": [
    {
     "data": {
      "text/plain": [
       "'the value is changed'"
      ]
     },
     "execution_count": 11,
     "metadata": {},
     "output_type": "execute_result"
    }
   ],
   "source": [
    "dict_1.get(1)"
   ]
  },
  {
   "cell_type": "code",
   "execution_count": null,
   "id": "5fcaba70-8bd6-4045-95f5-f71f4d9358a1",
   "metadata": {},
   "outputs": [],
   "source": []
  },
  {
   "cell_type": "markdown",
   "id": "9c74cab5-c687-4fe9-990c-f85a507b3e09",
   "metadata": {},
   "source": [
    "## add ,remove,change items"
   ]
  },
  {
   "cell_type": "code",
   "execution_count": 12,
   "id": "c742f50a-8165-4e0a-8855-38830335859f",
   "metadata": {
    "tags": []
   },
   "outputs": [],
   "source": [
    "d_2 = {\"Name\":\"kartik\",\"DOB\":2002,\"id\":\"xx123\",\"address\":\"India\"}"
   ]
  },
  {
   "cell_type": "code",
   "execution_count": 13,
   "id": "ab6883f2-b191-4371-95ac-5fc27a5841e8",
   "metadata": {
    "tags": []
   },
   "outputs": [
    {
     "data": {
      "text/plain": [
       "{'Name': 'harry', 'DOB': 2002, 'id': 'xx123', 'address': 'India'}"
      ]
     },
     "execution_count": 13,
     "metadata": {},
     "output_type": "execute_result"
    }
   ],
   "source": [
    "d_2[\"Name\"]=\"harry\"\n",
    "d_2"
   ]
  },
  {
   "cell_type": "code",
   "execution_count": 14,
   "id": "0e5ac29f-7447-46ac-8b5d-65334f497316",
   "metadata": {
    "tags": []
   },
   "outputs": [
    {
     "data": {
      "text/plain": [
       "{'Name': 'harry',\n",
       " 'DOB': 2002,\n",
       " 'id': 'xx123',\n",
       " 'address': 'India',\n",
       " 'job': 'analyst'}"
      ]
     },
     "execution_count": 14,
     "metadata": {},
     "output_type": "execute_result"
    }
   ],
   "source": [
    "d_2[\"job\"]=\"analyst\"\n",
    "d_2"
   ]
  },
  {
   "cell_type": "code",
   "execution_count": 16,
   "id": "485a1ee1-a0d2-464e-990b-fa84dc38043b",
   "metadata": {
    "tags": []
   },
   "outputs": [
    {
     "data": {
      "text/plain": [
       "{'DOB': 2002, 'id': 'xx123', 'address': 'India', 'job': 'analyst'}"
      ]
     },
     "execution_count": 16,
     "metadata": {},
     "output_type": "execute_result"
    }
   ],
   "source": [
    "d_2.pop(\"Name\")\n",
    "d_2"
   ]
  },
  {
   "cell_type": "code",
   "execution_count": 17,
   "id": "c795e491-d403-410c-8faa-deab6c20dca5",
   "metadata": {
    "tags": []
   },
   "outputs": [
    {
     "data": {
      "text/plain": [
       "{'id': 'xx123', 'address': 'India', 'job': 'analyst'}"
      ]
     },
     "execution_count": 17,
     "metadata": {},
     "output_type": "execute_result"
    }
   ],
   "source": [
    "del d_2[\"DOB\"]\n",
    "d_2"
   ]
  },
  {
   "cell_type": "code",
   "execution_count": 18,
   "id": "10bbfa75-b195-4dc5-8910-b988707937d2",
   "metadata": {
    "tags": []
   },
   "outputs": [
    {
     "data": {
      "text/plain": [
       "{}"
      ]
     },
     "execution_count": 18,
     "metadata": {},
     "output_type": "execute_result"
    }
   ],
   "source": [
    "d_2.clear()\n",
    "d_2"
   ]
  },
  {
   "cell_type": "code",
   "execution_count": 19,
   "id": "8276f492-993c-407a-b9f2-df1144dddddd",
   "metadata": {
    "tags": []
   },
   "outputs": [
    {
     "ename": "NameError",
     "evalue": "name 'd_2' is not defined",
     "output_type": "error",
     "traceback": [
      "\u001b[1;31m---------------------------------------------------------------------------\u001b[0m",
      "\u001b[1;31mNameError\u001b[0m                                 Traceback (most recent call last)",
      "Cell \u001b[1;32mIn[19], line 2\u001b[0m\n\u001b[0;32m      1\u001b[0m \u001b[38;5;28;01mdel\u001b[39;00m d_2\n\u001b[1;32m----> 2\u001b[0m d_2\n",
      "\u001b[1;31mNameError\u001b[0m: name 'd_2' is not defined"
     ]
    }
   ],
   "source": [
    "del d_2\n",
    "d_2"
   ]
  },
  {
   "cell_type": "code",
   "execution_count": null,
   "id": "6e2078c6-00ae-43ae-bfbb-1ee020ae496e",
   "metadata": {},
   "outputs": [],
   "source": []
  },
  {
   "cell_type": "code",
   "execution_count": 20,
   "id": "ac5fa7e5-9794-4159-93df-af6e641bc1fc",
   "metadata": {
    "tags": []
   },
   "outputs": [
    {
     "data": {
      "text/plain": [
       "{1: None, 2: None, 3: None, 4: None}"
      ]
     },
     "execution_count": 20,
     "metadata": {},
     "output_type": "execute_result"
    }
   ],
   "source": [
    "keys = {1,2,3,4}\n",
    "d3 = dict.fromkeys(keys)\n",
    "d3"
   ]
  },
  {
   "cell_type": "code",
   "execution_count": null,
   "id": "416e95d1-a067-45c1-aa4e-5325cc04f51f",
   "metadata": {},
   "outputs": [],
   "source": []
  },
  {
   "cell_type": "code",
   "execution_count": 21,
   "id": "9385ba6e-2bdf-4204-952f-e460308d4684",
   "metadata": {
    "tags": []
   },
   "outputs": [],
   "source": [
    "k={4,5,6,7}\n",
    "v=\"A\"\n",
    "d4 = dict.fromkeys(k,v)"
   ]
  },
  {
   "cell_type": "code",
   "execution_count": 22,
   "id": "27c4264f-4181-411f-a297-e2d6f8721e2e",
   "metadata": {
    "tags": []
   },
   "outputs": [
    {
     "data": {
      "text/plain": [
       "{4: 'A', 5: 'A', 6: 'A', 7: 'A'}"
      ]
     },
     "execution_count": 22,
     "metadata": {},
     "output_type": "execute_result"
    }
   ],
   "source": [
    "d4"
   ]
  },
  {
   "cell_type": "code",
   "execution_count": null,
   "id": "64552433-bbfa-414a-a001-997803cd4063",
   "metadata": {},
   "outputs": [],
   "source": []
  },
  {
   "cell_type": "code",
   "execution_count": 23,
   "id": "d16fbcf4-7bdc-4a74-8047-531857f1570c",
   "metadata": {
    "tags": []
   },
   "outputs": [
    {
     "data": {
      "text/plain": [
       "{1: ['A', 'B', 'C'],\n",
       " 2: ['A', 'B', 'C'],\n",
       " 3: ['A', 'B', 'C'],\n",
       " 4: ['A', 'B', 'C']}"
      ]
     },
     "execution_count": 23,
     "metadata": {},
     "output_type": "execute_result"
    }
   ],
   "source": [
    "k = {1,2,3,4}\n",
    "v = [\"A\",\"B\",\"C\"]\n",
    "d5 = dict.fromkeys(k,v)\n",
    "d5"
   ]
  },
  {
   "cell_type": "code",
   "execution_count": 24,
   "id": "33e9f1e8-3012-4fc8-ae98-d6dd44dd6201",
   "metadata": {
    "tags": []
   },
   "outputs": [
    {
     "data": {
      "text/plain": [
       "{1: ['A', 'B', 'C', 10],\n",
       " 2: ['A', 'B', 'C', 10],\n",
       " 3: ['A', 'B', 'C', 10],\n",
       " 4: ['A', 'B', 'C', 10]}"
      ]
     },
     "execution_count": 24,
     "metadata": {},
     "output_type": "execute_result"
    }
   ],
   "source": [
    "v.append(10)\n",
    "d5"
   ]
  },
  {
   "cell_type": "code",
   "execution_count": null,
   "id": "06fe9e28-06b1-41f1-80cb-feee4e1853e6",
   "metadata": {},
   "outputs": [],
   "source": []
  },
  {
   "cell_type": "code",
   "execution_count": 25,
   "id": "d14255d4-842c-48b1-931f-da0d1df2a8cf",
   "metadata": {
    "tags": []
   },
   "outputs": [],
   "source": [
    "d_2 = {\"Name\":\"kartik\",\"DOB\":2002,\"id\":\"xx123\",\"address\":\"India\"}"
   ]
  },
  {
   "cell_type": "code",
   "execution_count": 26,
   "id": "3d60a858-1b34-48d1-8844-2857e46b27a5",
   "metadata": {
    "tags": []
   },
   "outputs": [
    {
     "name": "stdout",
     "output_type": "stream",
     "text": [
      "Name\n",
      "DOB\n",
      "id\n",
      "address\n"
     ]
    }
   ],
   "source": [
    "for i in d_2:\n",
    "    print(i)"
   ]
  },
  {
   "cell_type": "code",
   "execution_count": null,
   "id": "9da3fe64-856e-409c-babe-d222ce4248fd",
   "metadata": {},
   "outputs": [],
   "source": []
  },
  {
   "cell_type": "code",
   "execution_count": 28,
   "id": "59e8ad6b-e6eb-4e98-99fe-4cc8c422a12b",
   "metadata": {
    "tags": []
   },
   "outputs": [
    {
     "name": "stdout",
     "output_type": "stream",
     "text": [
      "kartik\n",
      "2002\n",
      "xx123\n",
      "India\n"
     ]
    }
   ],
   "source": [
    "for i in d_2:\n",
    "    print(d_2[i])"
   ]
  },
  {
   "cell_type": "code",
   "execution_count": null,
   "id": "741f988f-3f4f-4872-a59e-5beba9ecb0a5",
   "metadata": {},
   "outputs": [],
   "source": []
  },
  {
   "cell_type": "code",
   "execution_count": 31,
   "id": "8e119d88-979e-4fb8-85eb-8d00cf93a6d6",
   "metadata": {
    "tags": []
   },
   "outputs": [
    {
     "name": "stdout",
     "output_type": "stream",
     "text": [
      "Name : kartik\n",
      "DOB : 2002\n",
      "id : xx123\n",
      "address : India\n"
     ]
    }
   ],
   "source": [
    "for i in d_2:\n",
    "    print(i,\":\",d_2[i])"
   ]
  },
  {
   "cell_type": "code",
   "execution_count": null,
   "id": "c7266c87-a046-4230-bedf-a4fa4f2aab16",
   "metadata": {},
   "outputs": [],
   "source": []
  },
  {
   "cell_type": "code",
   "execution_count": 32,
   "id": "35d986fa-5532-4795-8877-fab6a8a304b4",
   "metadata": {
    "tags": []
   },
   "outputs": [],
   "source": [
    "d1={1:\"@\"}\n",
    "d2={2:\"****\"}"
   ]
  },
  {
   "cell_type": "code",
   "execution_count": 33,
   "id": "3aaadaa3-577c-4f23-bbac-868a25118411",
   "metadata": {
    "tags": []
   },
   "outputs": [
    {
     "name": "stdout",
     "output_type": "stream",
     "text": [
      "{1: '@', 2: '****'}\n",
      "{2: '****'}\n"
     ]
    }
   ],
   "source": [
    "d1.update(d2)\n",
    "print(d1)\n",
    "print(d2)"
   ]
  },
  {
   "cell_type": "code",
   "execution_count": 34,
   "id": "d39caa6c-1af9-48cc-ba9c-a3553bbbff43",
   "metadata": {
    "tags": []
   },
   "outputs": [
    {
     "data": {
      "text/plain": [
       "{1: '@', 2: '****'}"
      ]
     },
     "execution_count": 34,
     "metadata": {},
     "output_type": "execute_result"
    }
   ],
   "source": [
    "d1"
   ]
  },
  {
   "cell_type": "code",
   "execution_count": 35,
   "id": "390ad722-824c-462a-ad4a-df497b970c0f",
   "metadata": {
    "tags": []
   },
   "outputs": [
    {
     "data": {
      "text/plain": [
       "{1: '@'}"
      ]
     },
     "execution_count": 35,
     "metadata": {},
     "output_type": "execute_result"
    }
   ],
   "source": [
    "d1.popitem()\n",
    "d1"
   ]
  },
  {
   "cell_type": "code",
   "execution_count": 38,
   "id": "e628e7cc-2f5a-44b5-9835-be45390ec7c5",
   "metadata": {
    "tags": []
   },
   "outputs": [
    {
     "data": {
      "text/plain": [
       "{1: '@', 2: 'alpha'}"
      ]
     },
     "execution_count": 38,
     "metadata": {},
     "output_type": "execute_result"
    }
   ],
   "source": [
    "d1.setdefault(2,\"alpha\")\n",
    "d1"
   ]
  },
  {
   "cell_type": "code",
   "execution_count": null,
   "id": "068189e8-538d-40e7-96c2-a6b868d789a0",
   "metadata": {},
   "outputs": [],
   "source": []
  },
  {
   "cell_type": "markdown",
   "id": "591a50a1-d664-4df1-82ac-8e3fb9db83d2",
   "metadata": {},
   "source": [
    "## membership "
   ]
  },
  {
   "cell_type": "code",
   "execution_count": 39,
   "id": "c837c410-97a3-4f0b-91ca-145a9a040cae",
   "metadata": {
    "tags": []
   },
   "outputs": [
    {
     "data": {
      "text/plain": [
       "{1: '@', 2: 'alpha'}"
      ]
     },
     "execution_count": 39,
     "metadata": {},
     "output_type": "execute_result"
    }
   ],
   "source": [
    "d1"
   ]
  },
  {
   "cell_type": "code",
   "execution_count": 40,
   "id": "ffdb7aa2-d042-4ac9-b312-95ee8230d0ff",
   "metadata": {
    "tags": []
   },
   "outputs": [
    {
     "data": {
      "text/plain": [
       "True"
      ]
     },
     "execution_count": 40,
     "metadata": {},
     "output_type": "execute_result"
    }
   ],
   "source": [
    "1 in d1"
   ]
  },
  {
   "cell_type": "code",
   "execution_count": 41,
   "id": "b827e529-4c6d-4e7a-82cd-54c17b83018f",
   "metadata": {
    "tags": []
   },
   "outputs": [
    {
     "data": {
      "text/plain": [
       "False"
      ]
     },
     "execution_count": 41,
     "metadata": {},
     "output_type": "execute_result"
    }
   ],
   "source": [
    "\"@\" in d1"
   ]
  },
  {
   "cell_type": "code",
   "execution_count": 42,
   "id": "a7c2aec2-5782-4be0-82fd-360526865e18",
   "metadata": {
    "tags": []
   },
   "outputs": [
    {
     "data": {
      "text/plain": [
       "False"
      ]
     },
     "execution_count": 42,
     "metadata": {},
     "output_type": "execute_result"
    }
   ],
   "source": [
    "\"alpha\" in d1"
   ]
  },
  {
   "cell_type": "code",
   "execution_count": null,
   "id": "f4623d8f-7b39-4516-9109-28bebadd39aa",
   "metadata": {},
   "outputs": [],
   "source": []
  },
  {
   "cell_type": "code",
   "execution_count": 44,
   "id": "779c0ba2-e107-41f1-ba52-3a8fae17eb37",
   "metadata": {
    "tags": []
   },
   "outputs": [
    {
     "data": {
      "text/plain": [
       "True"
      ]
     },
     "execution_count": 44,
     "metadata": {},
     "output_type": "execute_result"
    }
   ],
   "source": [
    "any(d1)"
   ]
  },
  {
   "cell_type": "code",
   "execution_count": 45,
   "id": "c89a9df8-f401-446f-bf16-daea7aa4c7fd",
   "metadata": {
    "tags": []
   },
   "outputs": [
    {
     "data": {
      "text/plain": [
       "True"
      ]
     },
     "execution_count": 45,
     "metadata": {},
     "output_type": "execute_result"
    }
   ],
   "source": [
    "all(d1)"
   ]
  },
  {
   "cell_type": "code",
   "execution_count": null,
   "id": "b7c28170-dcea-4bda-936b-1fa97a4718ed",
   "metadata": {},
   "outputs": [],
   "source": []
  },
  {
   "cell_type": "markdown",
   "id": "4554128f-5eb3-4d7a-8c4d-4c2278f29044",
   "metadata": {},
   "source": [
    "## comprehension "
   ]
  },
  {
   "cell_type": "code",
   "execution_count": 47,
   "id": "ace9bfe1-7bdb-4008-800f-26afecb7ce0e",
   "metadata": {
    "tags": []
   },
   "outputs": [
    {
     "data": {
      "text/plain": [
       "{1: 2, 2: 4, 3: 6, 4: 8}"
      ]
     },
     "execution_count": 47,
     "metadata": {},
     "output_type": "execute_result"
    }
   ],
   "source": [
    "double = {i:i*2 for i in range(1,5)}\n",
    "double"
   ]
  },
  {
   "cell_type": "code",
   "execution_count": null,
   "id": "0b0fca76-63bf-47a1-8b57-3ab066c30421",
   "metadata": {},
   "outputs": [],
   "source": []
  },
  {
   "cell_type": "code",
   "execution_count": 49,
   "id": "56415bf3-abe5-4449-87a9-ddfd78f05cd1",
   "metadata": {
    "tags": []
   },
   "outputs": [
    {
     "data": {
      "text/plain": [
       "{1: 1, 2: 4, 3: 9, 4: 16}"
      ]
     },
     "execution_count": 49,
     "metadata": {},
     "output_type": "execute_result"
    }
   ],
   "source": [
    "sq={i:i**2 for i in range(1,5)}\n",
    "sq"
   ]
  },
  {
   "cell_type": "code",
   "execution_count": null,
   "id": "e2f6e34d-4bca-40e4-9a4c-54f9a3afda80",
   "metadata": {},
   "outputs": [],
   "source": []
  },
  {
   "cell_type": "code",
   "execution_count": null,
   "id": "2888d676-6fe4-46b1-87f9-a952eaef4073",
   "metadata": {},
   "outputs": [],
   "source": []
  }
 ],
 "metadata": {
  "kernelspec": {
   "display_name": "Python 3 (ipykernel)",
   "language": "python",
   "name": "python3"
  },
  "language_info": {
   "codemirror_mode": {
    "name": "ipython",
    "version": 3
   },
   "file_extension": ".py",
   "mimetype": "text/x-python",
   "name": "python",
   "nbconvert_exporter": "python",
   "pygments_lexer": "ipython3",
   "version": "3.11.5"
  }
 },
 "nbformat": 4,
 "nbformat_minor": 5
}
