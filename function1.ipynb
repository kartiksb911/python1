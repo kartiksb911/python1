{
 "cells": [
  {
   "cell_type": "markdown",
   "id": "77963255-1ded-4088-b559-232c61ef74e3",
   "metadata": {},
   "source": [
    "**local and global variable**"
   ]
  },
  {
   "cell_type": "code",
   "execution_count": null,
   "id": "e8250ac3-e791-4d56-a020-c0b62baad625",
   "metadata": {},
   "outputs": [],
   "source": []
  },
  {
   "cell_type": "code",
   "execution_count": null,
   "id": "1beccee9-6739-4d7d-9d09-bb8fba1d92ed",
   "metadata": {},
   "outputs": [],
   "source": []
  },
  {
   "cell_type": "markdown",
   "id": "33dc2662-879a-433e-a59c-e485719d5095",
   "metadata": {
    "tags": []
   },
   "source": [
    "### return local variable"
   ]
  },
  {
   "cell_type": "code",
   "execution_count": 1,
   "id": "d9c9aa91-a247-4752-85e5-a1bd6a81ddc1",
   "metadata": {
    "tags": []
   },
   "outputs": [
    {
     "name": "stdout",
     "output_type": "stream",
     "text": [
      "global\n"
     ]
    },
    {
     "ename": "NameError",
     "evalue": "name 'x' is not defined",
     "output_type": "error",
     "traceback": [
      "\u001b[1;31m---------------------------------------------------------------------------\u001b[0m",
      "\u001b[1;31mNameError\u001b[0m                                 Traceback (most recent call last)",
      "Cell \u001b[1;32mIn[1], line 5\u001b[0m\n\u001b[0;32m      3\u001b[0m     \u001b[38;5;28mprint\u001b[39m(x)\n\u001b[0;32m      4\u001b[0m demo()\n\u001b[1;32m----> 5\u001b[0m \u001b[38;5;28mprint\u001b[39m(x)\n",
      "\u001b[1;31mNameError\u001b[0m: name 'x' is not defined"
     ]
    }
   ],
   "source": [
    "def demo():\n",
    "    x = \"global\"\n",
    "    print(x)\n",
    "demo()\n",
    "print(x)"
   ]
  },
  {
   "cell_type": "markdown",
   "id": "7f6ddc1d-acaf-4c99-9519-6939fdb233da",
   "metadata": {},
   "source": [
    "## return global variable "
   ]
  },
  {
   "cell_type": "code",
   "execution_count": 2,
   "id": "f868810a-384d-4330-b28b-333d2c6fa981",
   "metadata": {
    "tags": []
   },
   "outputs": [
    {
     "name": "stdout",
     "output_type": "stream",
     "text": [
      "x inside function : global\n",
      "x outside function : global\n"
     ]
    }
   ],
   "source": [
    "x = \"global\"\n",
    "def demo1():\n",
    "    print(\"x inside function :\" ,x)\n",
    "demo1()\n",
    "print(\"x outside function :\",x)"
   ]
  },
  {
   "cell_type": "code",
   "execution_count": 12,
   "id": "7ae93972-b52b-44b0-a137-4ded717a3254",
   "metadata": {
    "tags": []
   },
   "outputs": [
    {
     "name": "stdout",
     "output_type": "stream",
     "text": [
      "python is awesome \n"
     ]
    }
   ],
   "source": [
    "x = \" awesome \"\n",
    "\n",
    "def fun():\n",
    "    print(\"python is\" + x)\n",
    "fun()\n"
   ]
  },
  {
   "cell_type": "code",
   "execution_count": 3,
   "id": "6cbe6ffd-b98a-4a75-ab3f-980a7abe86a3",
   "metadata": {
    "tags": []
   },
   "outputs": [
    {
     "name": "stdout",
     "output_type": "stream",
     "text": [
      "local x : 10\n",
      "global x : 5\n"
     ]
    }
   ],
   "source": [
    "x = 5 \n",
    "def fn1():\n",
    "    x = 10\n",
    "    print(\"local x :\", x)\n",
    "fn1()\n",
    "print(\"global x :\", x)"
   ]
  },
  {
   "cell_type": "code",
   "execution_count": 4,
   "id": "5156835a-4810-41ea-b099-37b2e8547c2e",
   "metadata": {
    "tags": []
   },
   "outputs": [
    {
     "name": "stdout",
     "output_type": "stream",
     "text": [
      "local x : 10\n",
      "global x : 5\n",
      " this is my global \n"
     ]
    }
   ],
   "source": [
    "x = 5 \n",
    "def fn1():\n",
    "    global a\n",
    "    a = \" this is my global \"\n",
    "    x = 10\n",
    "    print(\"local x :\", x)\n",
    "fn1()\n",
    "print(\"global x :\", x)\n",
    "print(a)"
   ]
  },
  {
   "cell_type": "markdown",
   "id": "7c2352d2-4692-414b-9047-2cb3bca37240",
   "metadata": {},
   "source": [
    "# function"
   ]
  },
  {
   "cell_type": "code",
   "execution_count": 1,
   "id": "9b555691-5610-48f1-b9ed-429ae3936088",
   "metadata": {
    "tags": []
   },
   "outputs": [
    {
     "name": "stdout",
     "output_type": "stream",
     "text": [
      "this is my print\n"
     ]
    }
   ],
   "source": [
    "print(\"this is my print\")"
   ]
  },
  {
   "cell_type": "code",
   "execution_count": 21,
   "id": "b9d8af82-ba1d-4e8d-b38b-c89bc7f2de5e",
   "metadata": {
    "tags": []
   },
   "outputs": [
    {
     "data": {
      "text/plain": [
       "' this is my srting'"
      ]
     },
     "execution_count": 21,
     "metadata": {},
     "output_type": "execute_result"
    }
   ],
   "source": [
    "def f():\n",
    "    return \" this is my srting\"\n",
    "f()"
   ]
  },
  {
   "cell_type": "code",
   "execution_count": null,
   "id": "64e2206d-6803-4700-8179-4503055b9d70",
   "metadata": {},
   "outputs": [],
   "source": []
  },
  {
   "cell_type": "code",
   "execution_count": 1,
   "id": "72802542-20b6-4fc9-b1f1-bfd0421670d4",
   "metadata": {
    "tags": []
   },
   "outputs": [],
   "source": [
    "def test1():\n",
    "    print(\"this is my first function\")"
   ]
  },
  {
   "cell_type": "code",
   "execution_count": 2,
   "id": "a2b9ae4b-45a0-4c49-bec8-06f0a9d9f59c",
   "metadata": {
    "tags": []
   },
   "outputs": [
    {
     "name": "stdout",
     "output_type": "stream",
     "text": [
      "this is my first function\n"
     ]
    }
   ],
   "source": [
    "test1()"
   ]
  },
  {
   "cell_type": "code",
   "execution_count": 3,
   "id": "d402f61e-26b5-41e3-ac5f-7dccfe05afb3",
   "metadata": {
    "tags": []
   },
   "outputs": [
    {
     "name": "stdout",
     "output_type": "stream",
     "text": [
      "this is my first function\n"
     ]
    },
    {
     "ename": "TypeError",
     "evalue": "unsupported operand type(s) for +: 'NoneType' and 'str'",
     "output_type": "error",
     "traceback": [
      "\u001b[1;31m---------------------------------------------------------------------------\u001b[0m",
      "\u001b[1;31mTypeError\u001b[0m                                 Traceback (most recent call last)",
      "Cell \u001b[1;32mIn[3], line 1\u001b[0m\n\u001b[1;32m----> 1\u001b[0m test1()\u001b[38;5;241m+\u001b[39m\u001b[38;5;124m\"\u001b[39m\u001b[38;5;124msudh\u001b[39m\u001b[38;5;124m\"\u001b[39m\n",
      "\u001b[1;31mTypeError\u001b[0m: unsupported operand type(s) for +: 'NoneType' and 'str'"
     ]
    }
   ],
   "source": [
    "test1()+\"sudh\""
   ]
  },
  {
   "cell_type": "markdown",
   "id": "1c34d5c1-38eb-4d95-a3af-5de64a53d1a2",
   "metadata": {},
   "source": [
    "### print does not store my value"
   ]
  },
  {
   "cell_type": "code",
   "execution_count": 7,
   "id": "c69815c7-0578-4f5f-a050-ce664fcf736e",
   "metadata": {
    "tags": []
   },
   "outputs": [],
   "source": [
    "def test2():\n",
    "    return \"this is my first retuen\""
   ]
  },
  {
   "cell_type": "code",
   "execution_count": 8,
   "id": "92512646-3922-413e-a045-823662e9602c",
   "metadata": {
    "tags": []
   },
   "outputs": [
    {
     "data": {
      "text/plain": [
       "'this is my first retuen'"
      ]
     },
     "execution_count": 8,
     "metadata": {},
     "output_type": "execute_result"
    }
   ],
   "source": [
    "test2()"
   ]
  },
  {
   "cell_type": "code",
   "execution_count": 9,
   "id": "a5b8fad4-85bf-4bf5-949b-2a7d2fe3177a",
   "metadata": {
    "tags": []
   },
   "outputs": [
    {
     "data": {
      "text/plain": [
       "'this is my first retuensudh'"
      ]
     },
     "execution_count": 9,
     "metadata": {},
     "output_type": "execute_result"
    }
   ],
   "source": [
    "test2()+\"sudh\""
   ]
  },
  {
   "cell_type": "code",
   "execution_count": 12,
   "id": "5511edde-104b-4676-a170-4eff1c3fc60b",
   "metadata": {
    "tags": []
   },
   "outputs": [],
   "source": [
    "def test3():\n",
    "    return \"sudh\" ,23,345.56,[1,2,3,3]"
   ]
  },
  {
   "cell_type": "code",
   "execution_count": 13,
   "id": "1e668a34-0fab-4be8-a3d8-6c1957558329",
   "metadata": {
    "tags": []
   },
   "outputs": [
    {
     "data": {
      "text/plain": [
       "('sudh', 23, 345.56, [1, 2, 3, 3])"
      ]
     },
     "execution_count": 13,
     "metadata": {},
     "output_type": "execute_result"
    }
   ],
   "source": [
    "test3()"
   ]
  },
  {
   "cell_type": "code",
   "execution_count": 14,
   "id": "064634ff-e863-4744-9e63-f444c641b9d4",
   "metadata": {
    "tags": []
   },
   "outputs": [],
   "source": [
    "a,b,c,d = test3()"
   ]
  },
  {
   "cell_type": "code",
   "execution_count": 15,
   "id": "de59684e-1930-44ff-8ada-7aa915828997",
   "metadata": {
    "tags": []
   },
   "outputs": [
    {
     "data": {
      "text/plain": [
       "'sudh'"
      ]
     },
     "execution_count": 15,
     "metadata": {},
     "output_type": "execute_result"
    }
   ],
   "source": [
    "a"
   ]
  },
  {
   "cell_type": "code",
   "execution_count": 16,
   "id": "2db17f70-4aaa-49e0-a39a-fd683076c832",
   "metadata": {
    "tags": []
   },
   "outputs": [
    {
     "data": {
      "text/plain": [
       "23"
      ]
     },
     "execution_count": 16,
     "metadata": {},
     "output_type": "execute_result"
    }
   ],
   "source": [
    "b"
   ]
  },
  {
   "cell_type": "code",
   "execution_count": 17,
   "id": "3a65fa29-d2d0-4e85-8329-7f865160b7eb",
   "metadata": {
    "tags": []
   },
   "outputs": [
    {
     "data": {
      "text/plain": [
       "345.56"
      ]
     },
     "execution_count": 17,
     "metadata": {},
     "output_type": "execute_result"
    }
   ],
   "source": [
    "c"
   ]
  },
  {
   "cell_type": "code",
   "execution_count": 18,
   "id": "0edc4a4e-1e13-4bbe-b3d8-cb90e1e35b73",
   "metadata": {
    "tags": []
   },
   "outputs": [
    {
     "data": {
      "text/plain": [
       "[1, 2, 3, 3]"
      ]
     },
     "execution_count": 18,
     "metadata": {},
     "output_type": "execute_result"
    }
   ],
   "source": [
    "d"
   ]
  },
  {
   "cell_type": "code",
   "execution_count": 19,
   "id": "53283f90-19be-4b9b-9e40-dc8652470fc1",
   "metadata": {
    "tags": []
   },
   "outputs": [],
   "source": [
    "def test4():\n",
    "    a=5+6/7\n",
    "    return a\n"
   ]
  },
  {
   "cell_type": "code",
   "execution_count": 20,
   "id": "54c28cb2-ad78-4ee1-bcbf-41062d9ac189",
   "metadata": {
    "tags": []
   },
   "outputs": [
    {
     "data": {
      "text/plain": [
       "5.857142857142857"
      ]
     },
     "execution_count": 20,
     "metadata": {},
     "output_type": "execute_result"
    }
   ],
   "source": [
    "test4()"
   ]
  },
  {
   "cell_type": "code",
   "execution_count": 21,
   "id": "d9d25c6b-ed0e-47d8-b89c-a8708d1b1aa4",
   "metadata": {
    "tags": []
   },
   "outputs": [],
   "source": [
    "def test5(a,b,c):\n",
    "    d=a+b/c\n",
    "    return d"
   ]
  },
  {
   "cell_type": "code",
   "execution_count": 22,
   "id": "9122ddef-1b45-44fc-a483-bd106d446d89",
   "metadata": {
    "tags": []
   },
   "outputs": [
    {
     "data": {
      "text/plain": [
       "4.5"
      ]
     },
     "execution_count": 22,
     "metadata": {},
     "output_type": "execute_result"
    }
   ],
   "source": [
    "test5(2,5,2)"
   ]
  },
  {
   "cell_type": "code",
   "execution_count": 24,
   "id": "751519ee-0027-421c-af36-d6ecb3822097",
   "metadata": {
    "tags": []
   },
   "outputs": [],
   "source": [
    "def test6(a,b):\n",
    "    return a+b\n"
   ]
  },
  {
   "cell_type": "code",
   "execution_count": 25,
   "id": "4e6aadde-8ec8-425a-943b-13a80f7fb086",
   "metadata": {
    "tags": []
   },
   "outputs": [
    {
     "data": {
      "text/plain": [
       "6"
      ]
     },
     "execution_count": 25,
     "metadata": {},
     "output_type": "execute_result"
    }
   ],
   "source": [
    "test6(2,4)"
   ]
  },
  {
   "cell_type": "code",
   "execution_count": 26,
   "id": "dd738a81-1b5d-4a3b-9cb2-1d142b49dd2e",
   "metadata": {
    "tags": []
   },
   "outputs": [
    {
     "data": {
      "text/plain": [
       "'sitaRam'"
      ]
     },
     "execution_count": 26,
     "metadata": {},
     "output_type": "execute_result"
    }
   ],
   "source": [
    "test6(\"sita\",\"Ram\")"
   ]
  },
  {
   "cell_type": "code",
   "execution_count": 27,
   "id": "8cfa9ad7-6322-4650-adc0-95778212c3d5",
   "metadata": {
    "tags": []
   },
   "outputs": [
    {
     "data": {
      "text/plain": [
       "[1, 2, 3, 4, 3, 6, 7]"
      ]
     },
     "execution_count": 27,
     "metadata": {},
     "output_type": "execute_result"
    }
   ],
   "source": [
    "test6([1,2,3,4],[3,6,7])"
   ]
  },
  {
   "cell_type": "code",
   "execution_count": null,
   "id": "5f8cea55-ea1e-4061-b7d5-7c29522d64be",
   "metadata": {},
   "outputs": [],
   "source": []
  },
  {
   "cell_type": "code",
   "execution_count": 3,
   "id": "12327880-719b-43f9-809b-59649f769552",
   "metadata": {},
   "outputs": [],
   "source": [
    "def even_odd(x):\n",
    "    if x%2 ==0:\n",
    "        print(x,\"is even\")\n",
    "    else:\n",
    "        print(x,\"is odd\")\n",
    "        return x"
   ]
  },
  {
   "cell_type": "code",
   "execution_count": 4,
   "id": "7f6d7102-526c-4002-814e-45cf0711191d",
   "metadata": {
    "tags": []
   },
   "outputs": [
    {
     "name": "stdout",
     "output_type": "stream",
     "text": [
      "6 is even\n"
     ]
    }
   ],
   "source": [
    "even_odd(6)"
   ]
  },
  {
   "cell_type": "code",
   "execution_count": 5,
   "id": "11e76c02-6caf-477d-bcd5-3dc74ed50ef3",
   "metadata": {
    "tags": []
   },
   "outputs": [
    {
     "name": "stdout",
     "output_type": "stream",
     "text": [
      "9 is odd\n"
     ]
    },
    {
     "data": {
      "text/plain": [
       "9"
      ]
     },
     "execution_count": 5,
     "metadata": {},
     "output_type": "execute_result"
    }
   ],
   "source": [
    "even_odd(9)"
   ]
  },
  {
   "cell_type": "markdown",
   "id": "2175e736-facc-479e-b9e2-1c6e4c76087a",
   "metadata": {},
   "source": [
    "### *args = use to store n number of argument inside the function \n",
    "### it store argument in the tuple "
   ]
  },
  {
   "cell_type": "code",
   "execution_count": 21,
   "id": "b4a8a64c-a3af-403a-9580-003bb43952dc",
   "metadata": {
    "tags": []
   },
   "outputs": [],
   "source": [
    "def test7(*args):\n",
    "    return args"
   ]
  },
  {
   "cell_type": "code",
   "execution_count": 22,
   "id": "19445284-c0ed-4cbc-b65e-7244b53127fd",
   "metadata": {
    "tags": []
   },
   "outputs": [
    {
     "data": {
      "text/plain": [
       "(1, 2, 3, 4, 'a', 'True', True, 'ram')"
      ]
     },
     "execution_count": 22,
     "metadata": {},
     "output_type": "execute_result"
    }
   ],
   "source": [
    "test7(1,2,3,4,\"a\",\"True\",True,\"ram\")"
   ]
  },
  {
   "cell_type": "code",
   "execution_count": 24,
   "id": "e0a30c58-8e5b-4adf-bb99-9c131a206140",
   "metadata": {
    "tags": []
   },
   "outputs": [],
   "source": [
    "def test8(*args ,a):\n",
    "    return args , a"
   ]
  },
  {
   "cell_type": "code",
   "execution_count": 25,
   "id": "fadddb4d-3f93-45e6-b565-9694ade8c20d",
   "metadata": {
    "tags": []
   },
   "outputs": [
    {
     "data": {
      "text/plain": [
       "((12, 34, 5), 'K')"
      ]
     },
     "execution_count": 25,
     "metadata": {},
     "output_type": "execute_result"
    }
   ],
   "source": [
    "test8(12,34,5 , a=\"K\")"
   ]
  },
  {
   "cell_type": "code",
   "execution_count": 27,
   "id": "5236b190-4a08-477b-9313-15b97f1873a6",
   "metadata": {
    "tags": []
   },
   "outputs": [],
   "source": [
    " def test9(c,d,a=9,b=6):\n",
    "    return a,b,c,d"
   ]
  },
  {
   "cell_type": "code",
   "execution_count": 28,
   "id": "2605a2bf-1ffc-42a5-a86b-10e4276c7c02",
   "metadata": {
    "tags": []
   },
   "outputs": [
    {
     "ename": "TypeError",
     "evalue": "test9() missing 2 required positional arguments: 'c' and 'd'",
     "output_type": "error",
     "traceback": [
      "\u001b[1;31m---------------------------------------------------------------------------\u001b[0m",
      "\u001b[1;31mTypeError\u001b[0m                                 Traceback (most recent call last)",
      "Cell \u001b[1;32mIn[28], line 1\u001b[0m\n\u001b[1;32m----> 1\u001b[0m test9()\n",
      "\u001b[1;31mTypeError\u001b[0m: test9() missing 2 required positional arguments: 'c' and 'd'"
     ]
    }
   ],
   "source": [
    "test9()"
   ]
  },
  {
   "cell_type": "code",
   "execution_count": 30,
   "id": "b22ea51c-ad25-4cb9-a86e-908666110860",
   "metadata": {
    "tags": []
   },
   "outputs": [
    {
     "data": {
      "text/plain": [
       "(9, 6, 5, 7)"
      ]
     },
     "execution_count": 30,
     "metadata": {},
     "output_type": "execute_result"
    }
   ],
   "source": [
    "test9(5,7)"
   ]
  },
  {
   "cell_type": "code",
   "execution_count": 32,
   "id": "251c65d3-9658-41f4-9bba-8f16258500c0",
   "metadata": {
    "tags": []
   },
   "outputs": [
    {
     "data": {
      "text/plain": [
       "(99, 6, 12, 89)"
      ]
     },
     "execution_count": 32,
     "metadata": {},
     "output_type": "execute_result"
    }
   ],
   "source": [
    "test9(12,89,a=99)"
   ]
  },
  {
   "cell_type": "markdown",
   "id": "976ed064-dc4d-40c7-b967-552d7682ef49",
   "metadata": {},
   "source": [
    "#     ** is used for dictonary"
   ]
  },
  {
   "cell_type": "code",
   "execution_count": 33,
   "id": "22871dfb-d7c4-4af1-9c6a-684788857b69",
   "metadata": {
    "tags": []
   },
   "outputs": [],
   "source": [
    "def test10(**dictArgs):\n",
    "    return dictArgs\n"
   ]
  },
  {
   "cell_type": "code",
   "execution_count": 34,
   "id": "9f4be6b9-408f-46c8-b486-8d07d8f454d9",
   "metadata": {
    "tags": []
   },
   "outputs": [
    {
     "data": {
      "text/plain": [
       "{'a': [1, 2, 3], 'b': ('q', 'E'), 'c': True}"
      ]
     },
     "execution_count": 34,
     "metadata": {},
     "output_type": "execute_result"
    }
   ],
   "source": [
    "test10(a=[1,2,3],b=(\"q\",\"E\"),c=True)"
   ]
  },
  {
   "cell_type": "code",
   "execution_count": 1,
   "id": "c7d5a916-4135-40df-a1db-b77a480042a9",
   "metadata": {},
   "outputs": [],
   "source": [
    "s=\"sudh\""
   ]
  },
  {
   "cell_type": "code",
   "execution_count": 2,
   "id": "04be53b8-8556-4684-92ca-1c5ddd44f6d8",
   "metadata": {
    "tags": []
   },
   "outputs": [
    {
     "name": "stdout",
     "output_type": "stream",
     "text": [
      "s\n",
      "u\n",
      "d\n",
      "h\n"
     ]
    }
   ],
   "source": [
    "for i in s:\n",
    "    print(i)"
   ]
  },
  {
   "cell_type": "markdown",
   "id": "aea83e15-b996-44f3-9fe1-c31ee93f64e3",
   "metadata": {},
   "source": [
    "### iterator and iterable(string , tuple ,list, range object,set,dict)\n",
    "#### integer is not iterable"
   ]
  },
  {
   "cell_type": "code",
   "execution_count": 5,
   "id": "83e9d7a2-d0d4-488d-b2ed-ec7433c2ab57",
   "metadata": {
    "tags": []
   },
   "outputs": [],
   "source": [
    "s = \"sudh\""
   ]
  },
  {
   "cell_type": "code",
   "execution_count": 6,
   "id": "fd406832-536e-44ef-9e3e-1a35011bb639",
   "metadata": {
    "tags": []
   },
   "outputs": [],
   "source": [
    "s1 = iter(s)"
   ]
  },
  {
   "cell_type": "code",
   "execution_count": 7,
   "id": "7b3a6e4c-23b1-42f2-a150-d9181f5fb552",
   "metadata": {
    "tags": []
   },
   "outputs": [
    {
     "data": {
      "text/plain": [
       "'s'"
      ]
     },
     "execution_count": 7,
     "metadata": {},
     "output_type": "execute_result"
    }
   ],
   "source": [
    "next(s1)"
   ]
  },
  {
   "cell_type": "code",
   "execution_count": 8,
   "id": "f0ba2021-27c6-4a18-88d9-0a83dc093505",
   "metadata": {
    "tags": []
   },
   "outputs": [
    {
     "data": {
      "text/plain": [
       "'u'"
      ]
     },
     "execution_count": 8,
     "metadata": {},
     "output_type": "execute_result"
    }
   ],
   "source": [
    "next(s1)"
   ]
  },
  {
   "cell_type": "code",
   "execution_count": 9,
   "id": "d1575c16-6355-451a-b1db-709edd80eb32",
   "metadata": {
    "tags": []
   },
   "outputs": [
    {
     "data": {
      "text/plain": [
       "'d'"
      ]
     },
     "execution_count": 9,
     "metadata": {},
     "output_type": "execute_result"
    }
   ],
   "source": [
    "next(s1)"
   ]
  },
  {
   "cell_type": "code",
   "execution_count": 10,
   "id": "4f740442-0722-498d-8ff7-876655da05a0",
   "metadata": {
    "tags": []
   },
   "outputs": [
    {
     "data": {
      "text/plain": [
       "'h'"
      ]
     },
     "execution_count": 10,
     "metadata": {},
     "output_type": "execute_result"
    }
   ],
   "source": [
    "next(s1)"
   ]
  },
  {
   "cell_type": "code",
   "execution_count": 11,
   "id": "00c95633-dabf-4e60-933b-3c86e7f6dc1a",
   "metadata": {
    "tags": []
   },
   "outputs": [
    {
     "ename": "StopIteration",
     "evalue": "",
     "output_type": "error",
     "traceback": [
      "\u001b[1;31m---------------------------------------------------------------------------\u001b[0m",
      "\u001b[1;31mStopIteration\u001b[0m                             Traceback (most recent call last)",
      "Cell \u001b[1;32mIn[11], line 1\u001b[0m\n\u001b[1;32m----> 1\u001b[0m \u001b[38;5;28mnext\u001b[39m(s1)\n",
      "\u001b[1;31mStopIteration\u001b[0m: "
     ]
    }
   ],
   "source": [
    "next(s1)"
   ]
  },
  {
   "cell_type": "code",
   "execution_count": null,
   "id": "451e002a-b5a4-44fc-b4d2-82d459d0f1e4",
   "metadata": {},
   "outputs": [],
   "source": [
    "''' yield (keyword)= return the value which we required at a time \n",
    " return (keyword)= return all value at a time\n",
    "'''"
   ]
  },
  {
   "cell_type": "markdown",
   "id": "c2baa905-80b6-405c-9eee-84ba2e8c6ec8",
   "metadata": {},
   "source": [
    "## generator function = yield is used \n",
    "## for memory utilization"
   ]
  },
  {
   "cell_type": "code",
   "execution_count": 6,
   "id": "eafdc2b6-9688-4c88-b070-3e9b46e9e940",
   "metadata": {
    "tags": []
   },
   "outputs": [],
   "source": [
    "def my_generator():\n",
    "    for i in range(500):\n",
    "        yield i"
   ]
  },
  {
   "cell_type": "code",
   "execution_count": 7,
   "id": "9ec7185b-ad80-469a-b098-5a3c95c627b5",
   "metadata": {
    "tags": []
   },
   "outputs": [
    {
     "name": "stdout",
     "output_type": "stream",
     "text": [
      "0\n",
      "1\n"
     ]
    }
   ],
   "source": [
    "gen = my_generator()\n",
    "print(next(gen))\n",
    "print(next(gen))"
   ]
  },
  {
   "cell_type": "code",
   "execution_count": 8,
   "id": "f4359918-6e86-400d-b184-805a9fb4d0c6",
   "metadata": {
    "tags": []
   },
   "outputs": [
    {
     "data": {
      "text/plain": [
       "2"
      ]
     },
     "execution_count": 8,
     "metadata": {},
     "output_type": "execute_result"
    }
   ],
   "source": [
    "next(gen)"
   ]
  },
  {
   "cell_type": "code",
   "execution_count": 1,
   "id": "474a0e0f-f983-4e8e-a77a-038afafdeebb",
   "metadata": {
    "tags": []
   },
   "outputs": [],
   "source": [
    "def my_gen1():\n",
    "    a=\"string\"\n",
    "    for i in a:\n",
    "        yield i"
   ]
  },
  {
   "cell_type": "code",
   "execution_count": 2,
   "id": "82143ea5-9466-48ef-879d-e97f8c009e7f",
   "metadata": {
    "tags": []
   },
   "outputs": [],
   "source": [
    "g=my_gen1()"
   ]
  },
  {
   "cell_type": "code",
   "execution_count": 3,
   "id": "136d9c12-6aa1-4c29-b5c5-e014d52ea16f",
   "metadata": {
    "tags": []
   },
   "outputs": [
    {
     "data": {
      "text/plain": [
       "'s'"
      ]
     },
     "execution_count": 3,
     "metadata": {},
     "output_type": "execute_result"
    }
   ],
   "source": [
    "next(g)"
   ]
  },
  {
   "cell_type": "code",
   "execution_count": 4,
   "id": "68f63fde-9dee-49c2-a5d8-777b4a394159",
   "metadata": {
    "tags": []
   },
   "outputs": [
    {
     "data": {
      "text/plain": [
       "'t'"
      ]
     },
     "execution_count": 4,
     "metadata": {},
     "output_type": "execute_result"
    }
   ],
   "source": [
    "next(g)"
   ]
  },
  {
   "cell_type": "code",
   "execution_count": null,
   "id": "731ba53b-1c28-444b-8208-b3fb54364ac3",
   "metadata": {},
   "outputs": [],
   "source": []
  },
  {
   "cell_type": "code",
   "execution_count": 5,
   "id": "d80be5cd-db3d-4b25-b1a2-849e660ba760",
   "metadata": {
    "tags": []
   },
   "outputs": [],
   "source": [
    "## iter function"
   ]
  },
  {
   "cell_type": "code",
   "execution_count": 7,
   "id": "cb62ab10-6e7f-48b0-b61a-1c3e3132f1a4",
   "metadata": {
    "tags": []
   },
   "outputs": [],
   "source": [
    "t1=(\"a\",1,3,\"k\")\n"
   ]
  },
  {
   "cell_type": "code",
   "execution_count": 9,
   "id": "11b75cab-1e6d-47c6-b982-a1a335aad933",
   "metadata": {
    "tags": []
   },
   "outputs": [],
   "source": [
    "t = iter(t1)"
   ]
  },
  {
   "cell_type": "code",
   "execution_count": 10,
   "id": "6fd24586-bd4a-41f5-a6fd-61f57841288d",
   "metadata": {
    "tags": []
   },
   "outputs": [
    {
     "data": {
      "text/plain": [
       "'a'"
      ]
     },
     "execution_count": 10,
     "metadata": {},
     "output_type": "execute_result"
    }
   ],
   "source": [
    "next(t)"
   ]
  },
  {
   "cell_type": "code",
   "execution_count": 11,
   "id": "53adf9a1-6378-40ff-a08f-ea8fa338a2a3",
   "metadata": {
    "tags": []
   },
   "outputs": [
    {
     "data": {
      "text/plain": [
       "1"
      ]
     },
     "execution_count": 11,
     "metadata": {},
     "output_type": "execute_result"
    }
   ],
   "source": [
    "next(t)"
   ]
  },
  {
   "cell_type": "code",
   "execution_count": null,
   "id": "e2fd4ee6-a7c3-4ec5-9b76-34815b8ece46",
   "metadata": {},
   "outputs": [],
   "source": []
  },
  {
   "cell_type": "code",
   "execution_count": null,
   "id": "74b5ea99-5e08-47db-aa32-2238ddc80283",
   "metadata": {},
   "outputs": [],
   "source": []
  },
  {
   "cell_type": "code",
   "execution_count": null,
   "id": "0c563f6a-d849-4e9a-b5d3-1ab451048fdc",
   "metadata": {},
   "outputs": [],
   "source": []
  },
  {
   "cell_type": "markdown",
   "id": "355196b7-5dd0-4869-956a-d3f604b57cf0",
   "metadata": {},
   "source": [
    "# lambda function= one linear function or anonymous function "
   ]
  },
  {
   "cell_type": "markdown",
   "id": "3df0e784-f87f-4e87-9f99-68b812a5f596",
   "metadata": {},
   "source": [
    "### f = lambda x: x*1\n",
    "### f = lambda x,y : x+y"
   ]
  },
  {
   "cell_type": "code",
   "execution_count": 1,
   "id": "3b86dfa8-fd69-4a9e-b80d-fd168d624416",
   "metadata": {
    "tags": []
   },
   "outputs": [],
   "source": [
    "def square(x):\n",
    "    return x**2"
   ]
  },
  {
   "cell_type": "code",
   "execution_count": 2,
   "id": "451680d3-b27f-4260-917f-64da8c615930",
   "metadata": {
    "tags": []
   },
   "outputs": [
    {
     "data": {
      "text/plain": [
       "25"
      ]
     },
     "execution_count": 2,
     "metadata": {},
     "output_type": "execute_result"
    }
   ],
   "source": [
    "square(5)"
   ]
  },
  {
   "cell_type": "code",
   "execution_count": 5,
   "id": "8cef4d69-5524-4b40-9a1b-2290eac39437",
   "metadata": {
    "tags": []
   },
   "outputs": [
    {
     "name": "stdout",
     "output_type": "stream",
     "text": [
      "9\n"
     ]
    }
   ],
   "source": [
    "sqr = lambda x : x**2\n",
    "print(sqr(3))\n"
   ]
  },
  {
   "cell_type": "code",
   "execution_count": 4,
   "id": "afc69981-8a41-4f08-8021-569b502aad98",
   "metadata": {
    "tags": []
   },
   "outputs": [
    {
     "data": {
      "text/plain": [
       "8"
      ]
     },
     "execution_count": 4,
     "metadata": {},
     "output_type": "execute_result"
    }
   ],
   "source": [
    "def cube(x):\n",
    "    return x**3\n",
    "cube(2)"
   ]
  },
  {
   "cell_type": "code",
   "execution_count": 7,
   "id": "5fb0833c-332b-4ebc-b3d1-cc35f5092dff",
   "metadata": {
    "tags": []
   },
   "outputs": [
    {
     "data": {
      "text/plain": [
       "8"
      ]
     },
     "execution_count": 7,
     "metadata": {},
     "output_type": "execute_result"
    }
   ],
   "source": [
    "cube1=lambda x:x**3 \n",
    "cube1(2)"
   ]
  },
  {
   "cell_type": "code",
   "execution_count": 9,
   "id": "36d3fbbd-d1af-441a-b479-f7c2444cfde9",
   "metadata": {
    "tags": []
   },
   "outputs": [
    {
     "data": {
      "text/plain": [
       "5"
      ]
     },
     "execution_count": 9,
     "metadata": {},
     "output_type": "execute_result"
    }
   ],
   "source": [
    "def sum1(x,y):\n",
    "    return x+y\n",
    "sum1(2,3)\n"
   ]
  },
  {
   "cell_type": "code",
   "execution_count": 15,
   "id": "3f04e731-4b2b-476c-ba03-d5e99ef031b0",
   "metadata": {
    "tags": []
   },
   "outputs": [
    {
     "data": {
      "text/plain": [
       "5"
      ]
     },
     "execution_count": 15,
     "metadata": {},
     "output_type": "execute_result"
    }
   ],
   "source": [
    "sum2=lambda x,y: x+y\n",
    "sum2(2,3)"
   ]
  },
  {
   "cell_type": "code",
   "execution_count": 7,
   "id": "57ddb3d9-f92e-48a3-b9cc-dd5b2bd4b1cb",
   "metadata": {
    "tags": []
   },
   "outputs": [
    {
     "name": "stdout",
     "output_type": "stream",
     "text": [
      "72\n"
     ]
    }
   ],
   "source": [
    "f = lambda x ,y :x+2+y-20\n",
    "print(f(60,30))"
   ]
  },
  {
   "cell_type": "code",
   "execution_count": null,
   "id": "d2fc7d40-af73-438a-9a1c-b051bbc11a0e",
   "metadata": {},
   "outputs": [],
   "source": []
  },
  {
   "cell_type": "code",
   "execution_count": 18,
   "id": "2845aa37-cc5d-4e85-9172-562deef39a82",
   "metadata": {
    "tags": []
   },
   "outputs": [
    {
     "data": {
      "text/plain": [
       "False"
      ]
     },
     "execution_count": 18,
     "metadata": {},
     "output_type": "execute_result"
    }
   ],
   "source": [
    "def even_odd(x):\n",
    "    if x%2==0:\n",
    "        return True\n",
    "    else:\n",
    "        return False\n",
    "        \n",
    "even_odd(5)"
   ]
  },
  {
   "cell_type": "code",
   "execution_count": null,
   "id": "e9815672-a990-46c8-a182-fd0b4af04b08",
   "metadata": {},
   "outputs": [],
   "source": []
  },
  {
   "cell_type": "code",
   "execution_count": 19,
   "id": "de6b5a96-a9a4-4283-8c6c-9829f8b99b2c",
   "metadata": {
    "tags": []
   },
   "outputs": [
    {
     "data": {
      "text/plain": [
       "True"
      ]
     },
     "execution_count": 19,
     "metadata": {},
     "output_type": "execute_result"
    }
   ],
   "source": [
    "odd_even = lambda x :True if x%2==0 else False\n",
    "odd_even(6)"
   ]
  },
  {
   "cell_type": "code",
   "execution_count": null,
   "id": "d8462bf7-7227-4542-85ec-cdb3cf26b541",
   "metadata": {},
   "outputs": [],
   "source": []
  },
  {
   "cell_type": "code",
   "execution_count": 23,
   "id": "cbb7b503-9ec1-4b7c-a09b-c535f5bee261",
   "metadata": {
    "tags": []
   },
   "outputs": [
    {
     "data": {
      "text/plain": [
       "'k'"
      ]
     },
     "execution_count": 23,
     "metadata": {},
     "output_type": "execute_result"
    }
   ],
   "source": [
    "def first_name(x):\n",
    "    return x[0]\n",
    "first_name(\"kartik\")"
   ]
  },
  {
   "cell_type": "code",
   "execution_count": 20,
   "id": "1e936775-9d1b-4443-9eda-e972b9bca00a",
   "metadata": {
    "tags": []
   },
   "outputs": [
    {
     "data": {
      "text/plain": [
       "'p'"
      ]
     },
     "execution_count": 20,
     "metadata": {},
     "output_type": "execute_result"
    }
   ],
   "source": [
    "name = lambda x :x[0]\n",
    "name(\"physics\")"
   ]
  },
  {
   "cell_type": "code",
   "execution_count": 21,
   "id": "6c643cd3-6faf-4df0-8aa6-5f921a5a1e6a",
   "metadata": {
    "tags": []
   },
   "outputs": [
    {
     "data": {
      "text/plain": [
       "'c'"
      ]
     },
     "execution_count": 21,
     "metadata": {},
     "output_type": "execute_result"
    }
   ],
   "source": [
    "name = lambda x :x[5]\n",
    "name(\"physics\")"
   ]
  },
  {
   "cell_type": "code",
   "execution_count": 25,
   "id": "c4ebb52f-57d2-4bb1-a150-4644871d3d8a",
   "metadata": {
    "tags": []
   },
   "outputs": [
    {
     "data": {
      "text/plain": [
       "False"
      ]
     },
     "execution_count": 25,
     "metadata": {},
     "output_type": "execute_result"
    }
   ],
   "source": [
    "compare=lambda x,y: True if x>y else False\n",
    "compare(3,5)"
   ]
  },
  {
   "cell_type": "markdown",
   "id": "91c9e0e8-4035-4b33-82c3-f8b4b0a590f2",
   "metadata": {},
   "source": [
    "**add,difference,multiply,divide**\n",
    "**square , cube , <,>**"
   ]
  },
  {
   "cell_type": "code",
   "execution_count": null,
   "id": "821a09fa-877f-44dc-9d39-1f6852d6bf16",
   "metadata": {},
   "outputs": [],
   "source": []
  },
  {
   "cell_type": "markdown",
   "id": "70bf0c2e-0a77-48c8-9b0a-6077244577cd",
   "metadata": {},
   "source": [
    "# map"
   ]
  },
  {
   "cell_type": "code",
   "execution_count": 40,
   "id": "96fe7774-12b3-4188-8262-a879bf81c4cf",
   "metadata": {
    "tags": []
   },
   "outputs": [
    {
     "data": {
      "text/plain": [
       "(0, 4, 16, 25)"
      ]
     },
     "execution_count": 40,
     "metadata": {},
     "output_type": "execute_result"
    }
   ],
   "source": [
    "def sqr_fun(a):\n",
    "    return a*a\n",
    "tuple(map(sqr_fun ,[0,2,4,5]))\n"
   ]
  },
  {
   "cell_type": "code",
   "execution_count": 42,
   "id": "808e96e8-f6ca-4b64-9f7e-e4cbe6d9402e",
   "metadata": {
    "tags": []
   },
   "outputs": [
    {
     "data": {
      "text/plain": [
       "{5, 6, 8, 9}"
      ]
     },
     "execution_count": 42,
     "metadata": {},
     "output_type": "execute_result"
    }
   ],
   "source": [
    "def addd(a):\n",
    "    return a+5\n",
    "set(map(addd,(0,1,1,3,4)))"
   ]
  },
  {
   "cell_type": "code",
   "execution_count": null,
   "id": "896e63a9-fcbf-4a45-811a-72b109668e3e",
   "metadata": {},
   "outputs": [],
   "source": []
  },
  {
   "cell_type": "code",
   "execution_count": 43,
   "id": "e7e6d0b5-1898-4d0c-9090-5ccad56c28ea",
   "metadata": {
    "tags": []
   },
   "outputs": [
    {
     "data": {
      "text/plain": [
       "[0, 1, 4, 9, 16]"
      ]
     },
     "execution_count": 43,
     "metadata": {},
     "output_type": "execute_result"
    }
   ],
   "source": [
    "list(map(lambda a:a**2,[0,1,2,3,4]))"
   ]
  },
  {
   "cell_type": "code",
   "execution_count": null,
   "id": "196b141c-dd80-4c33-ba85-e876a5f6d4af",
   "metadata": {},
   "outputs": [],
   "source": []
  },
  {
   "cell_type": "code",
   "execution_count": 46,
   "id": "9b668739-a697-4fd3-90da-220875c09feb",
   "metadata": {
    "tags": []
   },
   "outputs": [],
   "source": [
    "list1=(map(lambda x:abs(x),(-1,2,-3,4,-5)))"
   ]
  },
  {
   "cell_type": "code",
   "execution_count": 47,
   "id": "1d771751-82b6-49df-b6ad-a5f296e39882",
   "metadata": {
    "tags": []
   },
   "outputs": [
    {
     "data": {
      "text/plain": [
       "<map at 0x267a9f352a0>"
      ]
     },
     "execution_count": 47,
     "metadata": {},
     "output_type": "execute_result"
    }
   ],
   "source": [
    "list1"
   ]
  },
  {
   "cell_type": "code",
   "execution_count": 49,
   "id": "0ff71b08-9e7d-46f6-92e6-774b07ad2caa",
   "metadata": {
    "tags": []
   },
   "outputs": [
    {
     "data": {
      "text/plain": [
       "(1, 2, 3, 4, 5)"
      ]
     },
     "execution_count": 49,
     "metadata": {},
     "output_type": "execute_result"
    }
   ],
   "source": [
    "tuple(list1)"
   ]
  },
  {
   "cell_type": "code",
   "execution_count": null,
   "id": "00b2b755-508a-46a0-be82-53c76027c3c3",
   "metadata": {},
   "outputs": [],
   "source": []
  },
  {
   "cell_type": "code",
   "execution_count": 55,
   "id": "3da495c3-6ccc-4ba0-8807-c82e3aefdf3e",
   "metadata": {
    "tags": []
   },
   "outputs": [
    {
     "data": {
      "text/plain": [
       "[0, -1, -2, -3]"
      ]
     },
     "execution_count": 55,
     "metadata": {},
     "output_type": "execute_result"
    }
   ],
   "source": [
    "l1=[-1,-2,-3,-4]\n",
    "\n",
    "list(map(lambda x:x+1,l1))"
   ]
  },
  {
   "cell_type": "code",
   "execution_count": 62,
   "id": "8b4a848d-5eab-4f4e-b9e1-2116bc2814e9",
   "metadata": {
    "tags": []
   },
   "outputs": [
    {
     "data": {
      "text/plain": [
       "[0, 0, 0]"
      ]
     },
     "execution_count": 62,
     "metadata": {},
     "output_type": "execute_result"
    }
   ],
   "source": [
    "list1=[1,2,3]\n",
    "list2=[1,2,3]\n",
    "list(map(lambda x,y:x-y,list1,list2))"
   ]
  },
  {
   "cell_type": "code",
   "execution_count": 63,
   "id": "21edc477-733d-4971-8b48-284b88cd42b2",
   "metadata": {
    "tags": []
   },
   "outputs": [
    {
     "data": {
      "text/plain": [
       "[0, 4, 9]"
      ]
     },
     "execution_count": 63,
     "metadata": {},
     "output_type": "execute_result"
    }
   ],
   "source": [
    "list10=[1,2,3]\n",
    "list20=[0,2,3]\n",
    "list(map(lambda x,y:x*y,list10,list20))"
   ]
  },
  {
   "cell_type": "code",
   "execution_count": null,
   "id": "cf17ef6b-7410-4b91-a49a-e79435c8c145",
   "metadata": {},
   "outputs": [],
   "source": []
  },
  {
   "cell_type": "markdown",
   "id": "e420a7e5-03ee-45c2-a799-b732e89bc3ea",
   "metadata": {},
   "source": [
    "# filter "
   ]
  },
  {
   "cell_type": "code",
   "execution_count": 72,
   "id": "e81c4f6f-6749-49f6-8af7-8ac14f6c98c6",
   "metadata": {
    "tags": []
   },
   "outputs": [
    {
     "data": {
      "text/plain": [
       "[4, 5]"
      ]
     },
     "execution_count": 72,
     "metadata": {},
     "output_type": "execute_result"
    }
   ],
   "source": [
    "list(filter(lambda x:True if x>1 else False,[-1,-2,4,5]))"
   ]
  },
  {
   "cell_type": "code",
   "execution_count": null,
   "id": "0c0d36a6-1d03-4a46-ac4f-d0656dd03626",
   "metadata": {},
   "outputs": [],
   "source": []
  },
  {
   "cell_type": "code",
   "execution_count": 73,
   "id": "db0a0d44-7652-40eb-8b39-699b8a45da9c",
   "metadata": {
    "tags": []
   },
   "outputs": [
    {
     "data": {
      "text/plain": [
       "[-2, 4]"
      ]
     },
     "execution_count": 73,
     "metadata": {},
     "output_type": "execute_result"
    }
   ],
   "source": [
    "list(filter(lambda x:True if x%2==0 else False,[-1,-2,4,5]))"
   ]
  },
  {
   "cell_type": "code",
   "execution_count": null,
   "id": "9baae26c-1b47-49d6-b899-822a838c2a19",
   "metadata": {},
   "outputs": [],
   "source": []
  },
  {
   "cell_type": "markdown",
   "id": "c1c5e777-e21f-4030-a577-18861fd50998",
   "metadata": {},
   "source": [
    "# reduce --> it is not a function "
   ]
  },
  {
   "cell_type": "code",
   "execution_count": 1,
   "id": "8e6974e0-74ef-44c4-acc7-4bbc1b643360",
   "metadata": {
    "tags": []
   },
   "outputs": [],
   "source": [
    "from functools import reduce"
   ]
  },
  {
   "cell_type": "code",
   "execution_count": 2,
   "id": "19797f91-9a4a-480a-9df2-26c6323d8dd1",
   "metadata": {
    "tags": []
   },
   "outputs": [],
   "source": [
    "def sum4(a,b):\n",
    "    return a+b\n"
   ]
  },
  {
   "cell_type": "code",
   "execution_count": 3,
   "id": "4d00a603-372c-4db2-8c8d-e455f2a27e0e",
   "metadata": {
    "tags": []
   },
   "outputs": [
    {
     "data": {
      "text/plain": [
       "10"
      ]
     },
     "execution_count": 3,
     "metadata": {},
     "output_type": "execute_result"
    }
   ],
   "source": [
    "reduce(sum4,[1,2,3,4])"
   ]
  },
  {
   "cell_type": "code",
   "execution_count": 4,
   "id": "ae7648a1-bc2c-4a67-b090-262db88f96f2",
   "metadata": {
    "tags": []
   },
   "outputs": [
    {
     "data": {
      "text/plain": [
       "10"
      ]
     },
     "execution_count": 4,
     "metadata": {},
     "output_type": "execute_result"
    }
   ],
   "source": [
    "reduce(lambda x,y:x+y,[1,2,3,4])"
   ]
  },
  {
   "cell_type": "code",
   "execution_count": null,
   "id": "fbcf9fee-97fc-4c01-9f64-5740bfb888ef",
   "metadata": {},
   "outputs": [],
   "source": []
  },
  {
   "cell_type": "code",
   "execution_count": 5,
   "id": "0c497c9a-38da-4bf7-985b-79a57946b04a",
   "metadata": {
    "tags": []
   },
   "outputs": [
    {
     "data": {
      "text/plain": [
       "6778"
      ]
     },
     "execution_count": 5,
     "metadata": {},
     "output_type": "execute_result"
    }
   ],
   "source": [
    "list7=[0,1,23,45,6778]\n",
    "reduce(lambda x,y: max(x,y),list7)"
   ]
  },
  {
   "cell_type": "code",
   "execution_count": 6,
   "id": "9ce6bcff-0bdc-41a7-8a69-451909fe3a1e",
   "metadata": {
    "tags": []
   },
   "outputs": [
    {
     "data": {
      "text/plain": [
       "0"
      ]
     },
     "execution_count": 6,
     "metadata": {},
     "output_type": "execute_result"
    }
   ],
   "source": [
    "list7=[0,1,23,45,6778]\n",
    "reduce(lambda x,y: min(x,y),list7)"
   ]
  },
  {
   "cell_type": "code",
   "execution_count": 7,
   "id": "a716bdc1-5c3a-4e2e-8bd8-d59ba6397b5b",
   "metadata": {
    "tags": []
   },
   "outputs": [
    {
     "data": {
      "text/plain": [
       "6778"
      ]
     },
     "execution_count": 7,
     "metadata": {},
     "output_type": "execute_result"
    }
   ],
   "source": [
    "list7=[0,1,23,45,6778,6778]\n",
    "reduce(lambda x,y: max(x,y),list7)"
   ]
  },
  {
   "cell_type": "code",
   "execution_count": 8,
   "id": "c55a2e48-189d-4571-8dd3-ba9739706cb0",
   "metadata": {
    "tags": []
   },
   "outputs": [
    {
     "data": {
      "text/plain": [
       "6778"
      ]
     },
     "execution_count": 8,
     "metadata": {},
     "output_type": "execute_result"
    }
   ],
   "source": [
    "set7={0,1,23,45,6778,6778}\n",
    "reduce(lambda x,y: max(x,y),set7)"
   ]
  },
  {
   "cell_type": "code",
   "execution_count": null,
   "id": "4fd3e474-2268-45c2-8635-c578c1f71ead",
   "metadata": {},
   "outputs": [],
   "source": []
  }
 ],
 "metadata": {
  "kernelspec": {
   "display_name": "Python 3 (ipykernel)",
   "language": "python",
   "name": "python3"
  },
  "language_info": {
   "codemirror_mode": {
    "name": "ipython",
    "version": 3
   },
   "file_extension": ".py",
   "mimetype": "text/x-python",
   "name": "python",
   "nbconvert_exporter": "python",
   "pygments_lexer": "ipython3",
   "version": "3.11.5"
  }
 },
 "nbformat": 4,
 "nbformat_minor": 5
}
