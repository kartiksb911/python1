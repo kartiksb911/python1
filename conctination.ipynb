{
 "cells": [
  {
   "cell_type": "markdown",
   "id": "df503c8d-fc26-44ee-8394-bbb4aabe5611",
   "metadata": {},
   "source": [
    " # *concatination of string*"
   ]
  },
  {
   "cell_type": "code",
   "execution_count": 1,
   "id": "a2d0d1ae-c0f9-41ff-ab5c-cbee64118163",
   "metadata": {
    "tags": []
   },
   "outputs": [],
   "source": [
    "s1 = \"kartik\"\n",
    "s2 = \"sharma\"\n",
    "\n",
    "s3=s1+\" \"+s2"
   ]
  },
  {
   "cell_type": "code",
   "execution_count": 2,
   "id": "ab699f81-e4cb-4666-b056-4df2f3d1709c",
   "metadata": {
    "tags": []
   },
   "outputs": [
    {
     "data": {
      "text/plain": [
       "'kartik sharma'"
      ]
     },
     "execution_count": 2,
     "metadata": {},
     "output_type": "execute_result"
    }
   ],
   "source": [
    "s3"
   ]
  },
  {
   "cell_type": "code",
   "execution_count": null,
   "id": "6fda4ff1-82f5-42af-8f03-d41856c9b51d",
   "metadata": {},
   "outputs": [],
   "source": []
  },
  {
   "cell_type": "markdown",
   "id": "622323c7-587a-40c2-90cf-0ba2c8e8af9c",
   "metadata": {},
   "source": [
    "# 2nd method"
   ]
  },
  {
   "cell_type": "code",
   "execution_count": 3,
   "id": "547de205-3cf8-43fc-8d95-0bce0c37452a",
   "metadata": {
    "tags": []
   },
   "outputs": [],
   "source": [
    "var1= \"hello\"\n",
    "var2=\"world\"\n",
    "\n",
    "var3= \" \".join([var1,var2])"
   ]
  },
  {
   "cell_type": "code",
   "execution_count": 4,
   "id": "6f6528be-6554-4f5a-883e-242fbbee25fc",
   "metadata": {
    "tags": []
   },
   "outputs": [
    {
     "data": {
      "text/plain": [
       "'hello world'"
      ]
     },
     "execution_count": 4,
     "metadata": {},
     "output_type": "execute_result"
    }
   ],
   "source": [
    "var3"
   ]
  },
  {
   "cell_type": "code",
   "execution_count": null,
   "id": "d3ffb030-4079-4160-9999-4a7bc41edd32",
   "metadata": {},
   "outputs": [],
   "source": []
  },
  {
   "cell_type": "code",
   "execution_count": 5,
   "id": "a836ddd1-9c77-402b-83d7-6775fa99e617",
   "metadata": {
    "tags": []
   },
   "outputs": [],
   "source": [
    "list1=[\"hi\",\"how\",\"are\",\"you\"]\n",
    "\n",
    "var4=\"-\".join(list1)"
   ]
  },
  {
   "cell_type": "code",
   "execution_count": 6,
   "id": "839a92b6-593f-41a5-8cef-0a4e42f6d228",
   "metadata": {
    "tags": []
   },
   "outputs": [
    {
     "data": {
      "text/plain": [
       "'hi-how-are-you'"
      ]
     },
     "execution_count": 6,
     "metadata": {},
     "output_type": "execute_result"
    }
   ],
   "source": [
    "var4"
   ]
  },
  {
   "cell_type": "code",
   "execution_count": null,
   "id": "91e910d3-6dea-451d-aa16-d972fabc6107",
   "metadata": {},
   "outputs": [],
   "source": []
  },
  {
   "cell_type": "markdown",
   "id": "ad768985-dd8d-41be-8667-59076a6ed159",
   "metadata": {},
   "source": [
    "# 3rd method"
   ]
  },
  {
   "cell_type": "code",
   "execution_count": 7,
   "id": "98cb432d-f473-4507-ab92-4f3e518519d4",
   "metadata": {
    "tags": []
   },
   "outputs": [
    {
     "name": "stdout",
     "output_type": "stream",
     "text": [
      "1 2 3\n"
     ]
    }
   ],
   "source": [
    "x=\"1\"\n",
    "y=\"2\"\n",
    "z=\"3\"\n",
    "print(x,y,z)"
   ]
  },
  {
   "cell_type": "markdown",
   "id": "3a856511-bf60-4507-8a23-27c595bd23ed",
   "metadata": {},
   "source": [
    "# 4th"
   ]
  },
  {
   "cell_type": "code",
   "execution_count": 8,
   "id": "dcf172c6-cef3-4f6f-a5da-9afd1ee3c1cf",
   "metadata": {
    "tags": []
   },
   "outputs": [
    {
     "name": "stdout",
     "output_type": "stream",
     "text": [
      "hello world\n"
     ]
    }
   ],
   "source": [
    "var1= \"hello\"\n",
    "var2=\"world\"\n",
    "\n",
    "fstring = print(f\"{var1} {var2}\")"
   ]
  },
  {
   "cell_type": "code",
   "execution_count": null,
   "id": "bab8decd-7d41-4f05-ba30-78640a90fb76",
   "metadata": {},
   "outputs": [],
   "source": []
  },
  {
   "cell_type": "code",
   "execution_count": 9,
   "id": "ff765eb3-5971-4fb4-8414-37d9f1f0eacd",
   "metadata": {
    "tags": []
   },
   "outputs": [
    {
     "name": "stdout",
     "output_type": "stream",
     "text": [
      "hello world\n"
     ]
    }
   ],
   "source": [
    "var1= \"hello\"\n",
    "var2=\"world\"\n",
    "\n",
    "print(\"{} {}\" .format(var1,var2))"
   ]
  },
  {
   "cell_type": "code",
   "execution_count": null,
   "id": "dcfeebe1-4571-4b4e-97a8-6bbe1f1f4c37",
   "metadata": {},
   "outputs": [],
   "source": []
  },
  {
   "cell_type": "markdown",
   "id": "375369b1-6166-41d5-ac0d-350e54cdd713",
   "metadata": {},
   "source": [
    "# *tuples*"
   ]
  },
  {
   "cell_type": "code",
   "execution_count": 10,
   "id": "61f1afce-b26f-4941-a4d1-c3a1b8fc6fba",
   "metadata": {
    "tags": []
   },
   "outputs": [],
   "source": [
    "tup1=(1,2)\n",
    "tup2=(3,4)\n",
    "tup=tup1+tup2"
   ]
  },
  {
   "cell_type": "code",
   "execution_count": 11,
   "id": "e6a1fbbe-c17e-4351-b8f2-c19f23da36bd",
   "metadata": {
    "tags": []
   },
   "outputs": [
    {
     "data": {
      "text/plain": [
       "(1, 2, 3, 4)"
      ]
     },
     "execution_count": 11,
     "metadata": {},
     "output_type": "execute_result"
    }
   ],
   "source": [
    "tup"
   ]
  },
  {
   "cell_type": "code",
   "execution_count": null,
   "id": "58795af7-560c-4f3e-a857-88a7a5f9681d",
   "metadata": {},
   "outputs": [],
   "source": []
  },
  {
   "cell_type": "code",
   "execution_count": 12,
   "id": "2cb6baf3-21e3-42e7-ab77-65a7fdf6e321",
   "metadata": {
    "tags": []
   },
   "outputs": [],
   "source": [
    "from functools import reduce"
   ]
  },
  {
   "cell_type": "code",
   "execution_count": 13,
   "id": "01295f7a-4289-4525-a26c-3c8242850d4d",
   "metadata": {
    "tags": []
   },
   "outputs": [
    {
     "data": {
      "text/plain": [
       "(1, 2, 3, 4)"
      ]
     },
     "execution_count": 13,
     "metadata": {},
     "output_type": "execute_result"
    }
   ],
   "source": [
    "tup1=(1,2)\n",
    "tup2=(3,4)\n",
    "\n",
    "\n",
    "reduce(lambda x,y:x+y,[tup1,tup2])"
   ]
  },
  {
   "cell_type": "code",
   "execution_count": null,
   "id": "1117194f-a762-49dc-a41a-81fbd9231a02",
   "metadata": {},
   "outputs": [],
   "source": []
  },
  {
   "cell_type": "markdown",
   "id": "830b0a51-9d91-4ba4-a260-7897e0147e37",
   "metadata": {},
   "source": [
    "# list"
   ]
  },
  {
   "cell_type": "code",
   "execution_count": 14,
   "id": "535ba40d-5cb0-404c-b957-a30d59f616ec",
   "metadata": {
    "tags": []
   },
   "outputs": [],
   "source": [
    "l1=[1,2]\n",
    "l2=[3,4]\n",
    "\n",
    "l =l1+l2"
   ]
  },
  {
   "cell_type": "code",
   "execution_count": 15,
   "id": "ec35e0c6-4179-4419-99ab-2134bbc5ecc0",
   "metadata": {
    "tags": []
   },
   "outputs": [
    {
     "data": {
      "text/plain": [
       "[1, 2, 3, 4]"
      ]
     },
     "execution_count": 15,
     "metadata": {},
     "output_type": "execute_result"
    }
   ],
   "source": [
    "l"
   ]
  },
  {
   "cell_type": "code",
   "execution_count": null,
   "id": "42c05744-3d12-48b2-a00e-7e513a4db3e6",
   "metadata": {},
   "outputs": [],
   "source": []
  },
  {
   "cell_type": "code",
   "execution_count": 16,
   "id": "1fab7a21-e278-4cdb-aab9-4138b294f829",
   "metadata": {
    "tags": []
   },
   "outputs": [
    {
     "data": {
      "text/plain": [
       "[1, 2, 3, 4]"
      ]
     },
     "execution_count": 16,
     "metadata": {},
     "output_type": "execute_result"
    }
   ],
   "source": [
    "l1=[1,2]\n",
    "l2=[3,4]\n",
    "\n",
    "reduce(lambda x,y:x+y ,[l1,l2])"
   ]
  },
  {
   "cell_type": "code",
   "execution_count": null,
   "id": "7fd2598e-0eed-4d4e-ba08-18ad67ca2656",
   "metadata": {},
   "outputs": [],
   "source": []
  },
  {
   "cell_type": "code",
   "execution_count": 17,
   "id": "d0beac65-7a06-4287-b555-f0ad5130ebf6",
   "metadata": {
    "tags": []
   },
   "outputs": [],
   "source": [
    "l1=[1,2]\n",
    "l2=[3,4]\n",
    "\n",
    "l1.extend(l2)\n"
   ]
  },
  {
   "cell_type": "code",
   "execution_count": 18,
   "id": "7fbb9541-6210-461a-bbd8-76d918fd6795",
   "metadata": {
    "tags": []
   },
   "outputs": [
    {
     "data": {
      "text/plain": [
       "[1, 2, 3, 4]"
      ]
     },
     "execution_count": 18,
     "metadata": {},
     "output_type": "execute_result"
    }
   ],
   "source": [
    "l1"
   ]
  },
  {
   "cell_type": "code",
   "execution_count": null,
   "id": "052c69b5-cd30-4496-8cf3-e63e1c4f2a65",
   "metadata": {},
   "outputs": [],
   "source": []
  },
  {
   "cell_type": "code",
   "execution_count": 19,
   "id": "049f0aac-a0a2-41b2-a629-a3cabf89733a",
   "metadata": {
    "tags": []
   },
   "outputs": [],
   "source": [
    "l3=[5,6]\n",
    "l4=[7,8]\n",
    "l3.append(l4)"
   ]
  },
  {
   "cell_type": "code",
   "execution_count": 20,
   "id": "80598810-dd5d-43f3-b961-3cc0843b21e2",
   "metadata": {
    "tags": []
   },
   "outputs": [
    {
     "data": {
      "text/plain": [
       "[5, 6, [7, 8]]"
      ]
     },
     "execution_count": 20,
     "metadata": {},
     "output_type": "execute_result"
    }
   ],
   "source": [
    "l3"
   ]
  },
  {
   "cell_type": "code",
   "execution_count": null,
   "id": "d56cf2d9-c4d0-4060-a6df-f1f82f344ef9",
   "metadata": {},
   "outputs": [],
   "source": []
  },
  {
   "cell_type": "code",
   "execution_count": 21,
   "id": "673fb24d-29bd-42cd-ab13-b9d644ea005c",
   "metadata": {
    "tags": []
   },
   "outputs": [
    {
     "data": {
      "text/plain": [
       "[10, 11, 12, 13]"
      ]
     },
     "execution_count": 21,
     "metadata": {},
     "output_type": "execute_result"
    }
   ],
   "source": [
    "import itertools\n",
    "l5=[10,11]\n",
    "l6=[12,13]\n",
    "\n",
    "sorted(itertools.chain(l5,l6))"
   ]
  },
  {
   "cell_type": "code",
   "execution_count": null,
   "id": "1326d833-31c6-4517-aecd-adde27619aa6",
   "metadata": {},
   "outputs": [],
   "source": []
  },
  {
   "cell_type": "code",
   "execution_count": null,
   "id": "75a6cc91-929a-4356-85b1-98d500571347",
   "metadata": {},
   "outputs": [],
   "source": []
  },
  {
   "cell_type": "markdown",
   "id": "cc5c9035-35aa-47d9-a08c-e62095cbc072",
   "metadata": {},
   "source": [
    "# set"
   ]
  },
  {
   "cell_type": "code",
   "execution_count": 31,
   "id": "308cb80a-7696-4039-9776-e8107df68290",
   "metadata": {
    "tags": []
   },
   "outputs": [],
   "source": [
    "set1={1,2,3}\n",
    "set2={4,5,6}\n",
    "\n",
    "result=list(set1)+list(set2)"
   ]
  },
  {
   "cell_type": "code",
   "execution_count": 33,
   "id": "5681d313-5644-42e6-813e-a3e17e73d1ea",
   "metadata": {
    "tags": []
   },
   "outputs": [
    {
     "data": {
      "text/plain": [
       "{1, 2, 3, 4, 5, 6}"
      ]
     },
     "execution_count": 33,
     "metadata": {},
     "output_type": "execute_result"
    }
   ],
   "source": [
    "set(result)"
   ]
  },
  {
   "cell_type": "code",
   "execution_count": null,
   "id": "885741d1-9352-4228-aee6-a4e5dba06120",
   "metadata": {},
   "outputs": [],
   "source": []
  },
  {
   "cell_type": "code",
   "execution_count": null,
   "id": "72542424-0573-45ba-a228-fe6eb0dc8442",
   "metadata": {},
   "outputs": [],
   "source": []
  },
  {
   "cell_type": "code",
   "execution_count": 36,
   "id": "a86f6886-bb51-410a-9597-3f73f2347195",
   "metadata": {
    "tags": []
   },
   "outputs": [],
   "source": [
    "s1 = {1,2,3}\n",
    "s2 = {4,5,6}\n",
    "s3 =s1.union(s2)\n",
    "\n"
   ]
  },
  {
   "cell_type": "code",
   "execution_count": 37,
   "id": "2b8ffd66-6b4f-422e-9eb5-d669059aef09",
   "metadata": {
    "tags": []
   },
   "outputs": [
    {
     "data": {
      "text/plain": [
       "{1, 2, 3, 4, 5, 6}"
      ]
     },
     "execution_count": 37,
     "metadata": {},
     "output_type": "execute_result"
    }
   ],
   "source": [
    "s3"
   ]
  },
  {
   "cell_type": "code",
   "execution_count": null,
   "id": "4f6ff4aa-6784-4a36-b72d-1d19b2e1ae34",
   "metadata": {},
   "outputs": [],
   "source": []
  },
  {
   "cell_type": "markdown",
   "id": "fb410023-ce23-469d-864a-0055db6fb132",
   "metadata": {},
   "source": [
    " # union() === |"
   ]
  },
  {
   "cell_type": "code",
   "execution_count": 38,
   "id": "b8fa48f4-177f-4518-9324-46663519aff3",
   "metadata": {
    "tags": []
   },
   "outputs": [],
   "source": [
    "s4={\"a\",\"b\"}\n",
    "s3=s1|s2|s4"
   ]
  },
  {
   "cell_type": "code",
   "execution_count": 39,
   "id": "5faf1953-394f-44a0-be26-7e168f8787c4",
   "metadata": {
    "tags": []
   },
   "outputs": [
    {
     "data": {
      "text/plain": [
       "{1, 2, 3, 4, 5, 6, 'a', 'b'}"
      ]
     },
     "execution_count": 39,
     "metadata": {},
     "output_type": "execute_result"
    }
   ],
   "source": [
    "s3"
   ]
  },
  {
   "cell_type": "code",
   "execution_count": null,
   "id": "a1b8f68a-dab9-4b54-95e5-3ec24e85d988",
   "metadata": {},
   "outputs": [],
   "source": []
  },
  {
   "cell_type": "code",
   "execution_count": 42,
   "id": "9832da37-30e7-4c44-857b-f00672cb7aa5",
   "metadata": {
    "tags": []
   },
   "outputs": [],
   "source": [
    "set_1={1,2}\n",
    "set_2={3,4}\n",
    "set_1.update(set_2)"
   ]
  },
  {
   "cell_type": "code",
   "execution_count": 43,
   "id": "cf45de95-e525-42ae-a0c5-d7656eb46825",
   "metadata": {
    "tags": []
   },
   "outputs": [
    {
     "data": {
      "text/plain": [
       "{1, 2, 3, 4}"
      ]
     },
     "execution_count": 43,
     "metadata": {},
     "output_type": "execute_result"
    }
   ],
   "source": [
    "set_1"
   ]
  },
  {
   "cell_type": "code",
   "execution_count": null,
   "id": "351082ff-1cac-4aab-98d5-1fbfb433943a",
   "metadata": {},
   "outputs": [],
   "source": []
  },
  {
   "cell_type": "code",
   "execution_count": 46,
   "id": "01a27ea9-16d7-4ca8-9c6d-209f93df73f7",
   "metadata": {
    "tags": []
   },
   "outputs": [],
   "source": [
    "a={9,8}\n",
    "b={7,0}\n",
    "\n",
    "final = set((*a,*b))"
   ]
  },
  {
   "cell_type": "code",
   "execution_count": 47,
   "id": "5591dff4-3905-43a4-9f90-ee8c88b2dcf6",
   "metadata": {
    "tags": []
   },
   "outputs": [
    {
     "data": {
      "text/plain": [
       "{0, 7, 8, 9}"
      ]
     },
     "execution_count": 47,
     "metadata": {},
     "output_type": "execute_result"
    }
   ],
   "source": [
    "final"
   ]
  },
  {
   "cell_type": "code",
   "execution_count": null,
   "id": "a0ccbb70-cde1-493d-a75f-cefefb937a54",
   "metadata": {},
   "outputs": [],
   "source": []
  },
  {
   "cell_type": "markdown",
   "id": "c9c2cf8f-7008-4a81-8cd6-91f034011030",
   "metadata": {},
   "source": [
    "# dict"
   ]
  },
  {
   "cell_type": "code",
   "execution_count": 58,
   "id": "0afa8577-8ec1-499a-b012-c8301e15a28a",
   "metadata": {
    "tags": []
   },
   "outputs": [],
   "source": [
    "dict1={\"a\":1}\n",
    "dict2={\"b\":3}\n",
    "dict1.update(dict2)"
   ]
  },
  {
   "cell_type": "code",
   "execution_count": 59,
   "id": "35cb0643-3d74-4d84-b50f-0f748dd2f578",
   "metadata": {
    "tags": []
   },
   "outputs": [
    {
     "data": {
      "text/plain": [
       "{'a': 1, 'b': 3}"
      ]
     },
     "execution_count": 59,
     "metadata": {},
     "output_type": "execute_result"
    }
   ],
   "source": [
    "dict1"
   ]
  },
  {
   "cell_type": "code",
   "execution_count": null,
   "id": "a61d7e46-7d9d-4cf1-bb6d-b583c1066257",
   "metadata": {},
   "outputs": [],
   "source": []
  }
 ],
 "metadata": {
  "kernelspec": {
   "display_name": "Python 3 (ipykernel)",
   "language": "python",
   "name": "python3"
  },
  "language_info": {
   "codemirror_mode": {
    "name": "ipython",
    "version": 3
   },
   "file_extension": ".py",
   "mimetype": "text/x-python",
   "name": "python",
   "nbconvert_exporter": "python",
   "pygments_lexer": "ipython3",
   "version": "3.11.5"
  }
 },
 "nbformat": 4,
 "nbformat_minor": 5
}
