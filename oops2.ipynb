{
 "cells": [
  {
   "cell_type": "markdown",
   "id": "11290ef2-8cf0-44f0-9ed8-3291ab840e48",
   "metadata": {
    "tags": []
   },
   "source": [
    "# *inheritence*"
   ]
  },
  {
   "cell_type": "code",
   "execution_count": null,
   "id": "8be888d7-f731-4686-9353-e7a44368fcac",
   "metadata": {},
   "outputs": [],
   "source": []
  },
  {
   "cell_type": "code",
   "execution_count": null,
   "id": "06772465-094e-4d62-a408-1c43ef81293e",
   "metadata": {},
   "outputs": [],
   "source": []
  },
  {
   "cell_type": "code",
   "execution_count": 2,
   "id": "8b8fc1e5-bb8d-493d-8ab0-4fc06982875e",
   "metadata": {
    "tags": []
   },
   "outputs": [],
   "source": [
    "class instagram:\n",
    "    def login(self):\n",
    "        print(\"logged in\")\n",
    "    def logout(self):\n",
    "        print(\"logged out\")"
   ]
  },
  {
   "cell_type": "code",
   "execution_count": 4,
   "id": "950ffd0a-fef8-422f-a5d6-a8ef07ceb508",
   "metadata": {
    "tags": []
   },
   "outputs": [],
   "source": [
    "class user(instagram):\n",
    "    pass\n",
    "    "
   ]
  },
  {
   "cell_type": "code",
   "execution_count": 5,
   "id": "2d4d5662-c13f-4cf7-8497-e1efd325b978",
   "metadata": {
    "tags": []
   },
   "outputs": [],
   "source": [
    "user1 = user()"
   ]
  },
  {
   "cell_type": "code",
   "execution_count": 6,
   "id": "9d8ff745-92f8-4eaf-898e-df68665d3dba",
   "metadata": {
    "tags": []
   },
   "outputs": [
    {
     "name": "stdout",
     "output_type": "stream",
     "text": [
      "logged in\n"
     ]
    }
   ],
   "source": [
    "user1.login()"
   ]
  },
  {
   "cell_type": "code",
   "execution_count": 7,
   "id": "51ee0c40-4eed-4d85-8bdb-23fb7bf1ab7c",
   "metadata": {
    "tags": []
   },
   "outputs": [
    {
     "name": "stdout",
     "output_type": "stream",
     "text": [
      "logged out\n"
     ]
    }
   ],
   "source": [
    "user1.logout()"
   ]
  },
  {
   "cell_type": "code",
   "execution_count": null,
   "id": "48e10885-c008-46c8-81cb-d00306cf38e8",
   "metadata": {},
   "outputs": [],
   "source": []
  },
  {
   "cell_type": "code",
   "execution_count": null,
   "id": "3a75643c-d4c7-4d2e-ae07-3eaf018da10e",
   "metadata": {},
   "outputs": [],
   "source": []
  },
  {
   "cell_type": "code",
   "execution_count": 8,
   "id": "9cb380fb-24d5-49f3-9335-3282356f8028",
   "metadata": {
    "tags": []
   },
   "outputs": [],
   "source": [
    "class facebook:\n",
    "    def __init__(self,name,address,email):\n",
    "        self.name=name\n",
    "        self.address=address\n",
    "        self.__email=email\n",
    "    def show(self):\n",
    "        print(self.name,self.address,self.__email)"
   ]
  },
  {
   "cell_type": "code",
   "execution_count": 20,
   "id": "e6033ee4-100c-4b33-b5fd-3ea0fb429d26",
   "metadata": {
    "tags": []
   },
   "outputs": [],
   "source": [
    "class user(facebook):\n",
    "    pass\n",
    "    "
   ]
  },
  {
   "cell_type": "code",
   "execution_count": 21,
   "id": "c4aae818-70dc-43c7-8bcb-e4bd12e12464",
   "metadata": {
    "tags": []
   },
   "outputs": [],
   "source": [
    "user1=user(\"karik\",\"india\",\"k@gmail.com\")"
   ]
  },
  {
   "cell_type": "code",
   "execution_count": 22,
   "id": "ff4f240a-7f51-4de7-8d64-d846f1c26dfb",
   "metadata": {
    "tags": []
   },
   "outputs": [
    {
     "data": {
      "text/plain": [
       "'karik'"
      ]
     },
     "execution_count": 22,
     "metadata": {},
     "output_type": "execute_result"
    }
   ],
   "source": [
    "user1.name"
   ]
  },
  {
   "cell_type": "code",
   "execution_count": 23,
   "id": "741fa626-740d-4854-a0f5-12551a723f69",
   "metadata": {
    "tags": []
   },
   "outputs": [
    {
     "name": "stdout",
     "output_type": "stream",
     "text": [
      "karik india k@gmail.com\n"
     ]
    }
   ],
   "source": [
    "user1.show()"
   ]
  },
  {
   "cell_type": "code",
   "execution_count": null,
   "id": "28b14b8a-d022-4cbf-b7d2-946e536581ee",
   "metadata": {},
   "outputs": [],
   "source": []
  },
  {
   "cell_type": "code",
   "execution_count": null,
   "id": "9a38fba2-7f8e-4051-84dc-611776e9dfb5",
   "metadata": {},
   "outputs": [],
   "source": []
  },
  {
   "cell_type": "code",
   "execution_count": 30,
   "id": "febfdd38-a4ef-43fb-8d69-7e5e21a3547e",
   "metadata": {
    "tags": []
   },
   "outputs": [],
   "source": [
    "class company:\n",
    "    def __init__(self,name,salary):\n",
    "        self.name=name\n",
    "        self.salary=salary\n",
    "    def showName(self):\n",
    "        print(self.name)\n",
    "    def getSalary(self):\n",
    "        print(self.salary)"
   ]
  },
  {
   "cell_type": "code",
   "execution_count": 31,
   "id": "05f02e6e-cad7-405b-ba4d-08161dc0fdc6",
   "metadata": {
    "tags": []
   },
   "outputs": [],
   "source": [
    "class employee(company):\n",
    "    def __init__(self,name,salary):\n",
    "        self.name=name\n",
    "        self.salary=salary\n",
    "    def showName(self):\n",
    "        print(self.name)\n",
    "        print(\"my child class\")\n",
    "    def getSalary(self):\n",
    "        print(self.salary)\n",
    "        print(\"my child class\")"
   ]
  },
  {
   "cell_type": "code",
   "execution_count": 32,
   "id": "fb3cdf1e-8614-47d3-ac3b-d578ce244aba",
   "metadata": {
    "tags": []
   },
   "outputs": [],
   "source": [
    "e1=company(\"kartik\",\"80k\")"
   ]
  },
  {
   "cell_type": "code",
   "execution_count": 33,
   "id": "57b0d19d-5411-47b6-b67a-2e0092708951",
   "metadata": {
    "tags": []
   },
   "outputs": [
    {
     "name": "stdout",
     "output_type": "stream",
     "text": [
      "80k\n"
     ]
    }
   ],
   "source": [
    "e1.getSalary()"
   ]
  },
  {
   "cell_type": "code",
   "execution_count": 34,
   "id": "a59cb4bc-86cd-40f9-b72e-3c4b98061611",
   "metadata": {
    "tags": []
   },
   "outputs": [],
   "source": [
    "e2=employee(\"harry\",\"50k\")"
   ]
  },
  {
   "cell_type": "code",
   "execution_count": 35,
   "id": "2454440b-7fe8-4759-8567-d01701b19b7c",
   "metadata": {
    "tags": []
   },
   "outputs": [
    {
     "name": "stdout",
     "output_type": "stream",
     "text": [
      "50k\n",
      "my child class\n"
     ]
    }
   ],
   "source": [
    "e2.getSalary()"
   ]
  },
  {
   "cell_type": "code",
   "execution_count": null,
   "id": "f69a4747-cb16-4cf4-bc81-2f8cd01613f9",
   "metadata": {},
   "outputs": [],
   "source": []
  },
  {
   "cell_type": "markdown",
   "id": "b71bd95e-c72a-4eb6-aa6a-363b3fc29f25",
   "metadata": {},
   "source": [
    "## *it will give first perfernce to the child class*"
   ]
  },
  {
   "cell_type": "code",
   "execution_count": null,
   "id": "2cb7e2af-bc5c-4732-9fa0-b51c565b2abd",
   "metadata": {},
   "outputs": [],
   "source": []
  },
  {
   "cell_type": "code",
   "execution_count": null,
   "id": "b7b23dd6-98ea-49d3-97df-e65317351d40",
   "metadata": {},
   "outputs": [],
   "source": []
  },
  {
   "cell_type": "markdown",
   "id": "cd5f264b-5d1b-420f-bd5e-98167e513f56",
   "metadata": {},
   "source": [
    "# *super() function = use to access the property from the parent calss*"
   ]
  },
  {
   "cell_type": "code",
   "execution_count": 46,
   "id": "dbc3fe29-5703-463c-9923-932520da3c00",
   "metadata": {
    "tags": []
   },
   "outputs": [],
   "source": [
    "class person:\n",
    "    def __init__(self,fname,lname):\n",
    "        self.fname=fname\n",
    "        self.lname=lname\n",
    "    def info(self):\n",
    "        print(self.fname,self.lname)"
   ]
  },
  {
   "cell_type": "code",
   "execution_count": 47,
   "id": "f7d18dd7-f6ba-43cf-90e4-03f063d61335",
   "metadata": {
    "tags": []
   },
   "outputs": [],
   "source": [
    "class student(person):\n",
    "    def __init__(self,fname,lname,email):\n",
    "        super().__init__(fname,lname)\n",
    "        self.email=email"
   ]
  },
  {
   "cell_type": "code",
   "execution_count": 48,
   "id": "c7fccf01-23c4-4ebd-bf69-97da669446b6",
   "metadata": {
    "tags": []
   },
   "outputs": [],
   "source": [
    "s1=student(\"karik\",\"bhardwaj\",\"k@gmailcom\")"
   ]
  },
  {
   "cell_type": "code",
   "execution_count": 49,
   "id": "0b6e53bd-7b0b-4ab2-960c-74a9fc5173e9",
   "metadata": {
    "tags": []
   },
   "outputs": [
    {
     "data": {
      "text/plain": [
       "'karik'"
      ]
     },
     "execution_count": 49,
     "metadata": {},
     "output_type": "execute_result"
    }
   ],
   "source": [
    "s1.fname"
   ]
  },
  {
   "cell_type": "code",
   "execution_count": 50,
   "id": "77d36fc7-45b8-4850-8a3f-5c24aafdca6b",
   "metadata": {
    "tags": []
   },
   "outputs": [
    {
     "name": "stdout",
     "output_type": "stream",
     "text": [
      "karik bhardwaj\n"
     ]
    }
   ],
   "source": [
    "s1.info()"
   ]
  },
  {
   "cell_type": "code",
   "execution_count": 51,
   "id": "13bb23c0-e4f6-4794-9506-8723782e3680",
   "metadata": {
    "tags": []
   },
   "outputs": [
    {
     "data": {
      "text/plain": [
       "'k@gmailcom'"
      ]
     },
     "execution_count": 51,
     "metadata": {},
     "output_type": "execute_result"
    }
   ],
   "source": [
    "s1.email"
   ]
  },
  {
   "cell_type": "code",
   "execution_count": null,
   "id": "98fafeb9-a449-4031-a151-c469ee513422",
   "metadata": {},
   "outputs": [],
   "source": []
  },
  {
   "cell_type": "code",
   "execution_count": null,
   "id": "8bd007d3-75a3-4d90-ac11-93b4288507d5",
   "metadata": {},
   "outputs": [],
   "source": []
  },
  {
   "cell_type": "markdown",
   "id": "bcaf1b80-c011-4886-9e8c-11d1bf0ce303",
   "metadata": {},
   "source": [
    "### *class method---> this method is belong to the class but not instance ,its first argument is class not self*\n"
   ]
  },
  {
   "cell_type": "code",
   "execution_count": null,
   "id": "e465d55b-3033-4518-962b-17f308a66212",
   "metadata": {},
   "outputs": [],
   "source": []
  },
  {
   "cell_type": "code",
   "execution_count": 22,
   "id": "128fe995-d38f-4f5a-a5c3-1cfc5025ecd5",
   "metadata": {
    "tags": []
   },
   "outputs": [],
   "source": [
    "class employee:\n",
    "    salary = 25000 # class variable\n",
    "    def __init__(self,name,department):\n",
    "        # instance variable\n",
    "        self.name = name\n",
    "        self.department=department\n",
    "        \n",
    "    #  method to access instance variable\n",
    "    def infoo(self):\n",
    "        print(self.name , self.department)\n",
    "    \n",
    "    @classmethod\n",
    "    def change_salary(cls,salary):\n",
    "        cls.salary=salary\n"
   ]
  },
  {
   "cell_type": "code",
   "execution_count": 23,
   "id": "728f0d3a-dd0a-459f-813d-6a2a0b231ccb",
   "metadata": {
    "tags": []
   },
   "outputs": [],
   "source": [
    "emp1=employee(\"karik\",\"IT\")"
   ]
  },
  {
   "cell_type": "code",
   "execution_count": 24,
   "id": "26422b07-6e91-4a28-a5c0-ccb568dfa011",
   "metadata": {
    "tags": []
   },
   "outputs": [
    {
     "name": "stdout",
     "output_type": "stream",
     "text": [
      "karik IT\n"
     ]
    }
   ],
   "source": [
    "emp1.infoo()"
   ]
  },
  {
   "cell_type": "code",
   "execution_count": 25,
   "id": "d5623ff5-0bff-4d0d-87b3-3995dc65e868",
   "metadata": {
    "tags": []
   },
   "outputs": [
    {
     "data": {
      "text/plain": [
       "25000"
      ]
     },
     "execution_count": 25,
     "metadata": {},
     "output_type": "execute_result"
    }
   ],
   "source": [
    "emp1.salary"
   ]
  },
  {
   "cell_type": "code",
   "execution_count": 26,
   "id": "9c8a3005-b070-4f35-8190-b8410a84385d",
   "metadata": {
    "tags": []
   },
   "outputs": [],
   "source": [
    "emp1.change_salary(45000)"
   ]
  },
  {
   "cell_type": "code",
   "execution_count": 27,
   "id": "38e1170a-0e77-445c-8fab-92f8888b962f",
   "metadata": {
    "tags": []
   },
   "outputs": [
    {
     "data": {
      "text/plain": [
       "45000"
      ]
     },
     "execution_count": 27,
     "metadata": {},
     "output_type": "execute_result"
    }
   ],
   "source": [
    "emp1.salary"
   ]
  },
  {
   "cell_type": "code",
   "execution_count": 28,
   "id": "d4930363-c791-4a24-8beb-a43545a0a45c",
   "metadata": {
    "tags": []
   },
   "outputs": [
    {
     "data": {
      "text/plain": [
       "45000"
      ]
     },
     "execution_count": 28,
     "metadata": {},
     "output_type": "execute_result"
    }
   ],
   "source": [
    "employee.salary"
   ]
  },
  {
   "cell_type": "code",
   "execution_count": null,
   "id": "cc74c6ef-7f95-4fdc-8e41-24d96f34d50b",
   "metadata": {},
   "outputs": [],
   "source": []
  },
  {
   "cell_type": "markdown",
   "id": "e1589034-2a6d-43a0-acfc-93c8fab341e9",
   "metadata": {},
   "source": [
    "### *static method--->> those method which doesn't belongs to class nor instance , neither use self nor class*"
   ]
  },
  {
   "cell_type": "code",
   "execution_count": null,
   "id": "504e9208-6c19-4992-a3b9-04f832406130",
   "metadata": {},
   "outputs": [],
   "source": []
  },
  {
   "cell_type": "code",
   "execution_count": 31,
   "id": "5f7b2d97-5952-41e1-aab8-b1516e0dab22",
   "metadata": {
    "tags": []
   },
   "outputs": [],
   "source": [
    "class Employee:\n",
    "    @staticmethod\n",
    "    def sample():\n",
    "        print(\"this is my static\")\n",
    "        "
   ]
  },
  {
   "cell_type": "code",
   "execution_count": 32,
   "id": "6a7fb05d-8aeb-43b0-af9f-f3f1d0f3ecf4",
   "metadata": {
    "tags": []
   },
   "outputs": [],
   "source": [
    "emp=Employee()"
   ]
  },
  {
   "cell_type": "code",
   "execution_count": 33,
   "id": "705cd60d-26e8-4191-ae6c-54b5bf516a69",
   "metadata": {
    "tags": []
   },
   "outputs": [
    {
     "name": "stdout",
     "output_type": "stream",
     "text": [
      "this is my static\n"
     ]
    }
   ],
   "source": [
    "# can call by instance\n",
    "\n",
    "emp.sample()"
   ]
  },
  {
   "cell_type": "code",
   "execution_count": null,
   "id": "2891a4be-11c9-481c-a1e4-072fb329bef7",
   "metadata": {},
   "outputs": [],
   "source": []
  },
  {
   "cell_type": "code",
   "execution_count": 34,
   "id": "1ad4e5ef-e4e4-4dd5-a52e-52e8b4bc5a72",
   "metadata": {
    "tags": []
   },
   "outputs": [
    {
     "name": "stdout",
     "output_type": "stream",
     "text": [
      "this is my static\n"
     ]
    }
   ],
   "source": [
    "# can be call by class\n",
    "\n",
    "Employee.sample()"
   ]
  },
  {
   "cell_type": "code",
   "execution_count": null,
   "id": "3ffe7516-5e31-4d13-919c-17b29bc9b309",
   "metadata": {},
   "outputs": [],
   "source": []
  }
 ],
 "metadata": {
  "kernelspec": {
   "display_name": "Python 3 (ipykernel)",
   "language": "python",
   "name": "python3"
  },
  "language_info": {
   "codemirror_mode": {
    "name": "ipython",
    "version": 3
   },
   "file_extension": ".py",
   "mimetype": "text/x-python",
   "name": "python",
   "nbconvert_exporter": "python",
   "pygments_lexer": "ipython3",
   "version": "3.11.5"
  }
 },
 "nbformat": 4,
 "nbformat_minor": 5
}
