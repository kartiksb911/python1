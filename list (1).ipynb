{
 "cells": [
  {
   "cell_type": "markdown",
   "id": "72f9b714-1c8d-485e-bbd7-510d410b1f22",
   "metadata": {},
   "source": [
    "**list can be homogenous and hetrogeneus \n",
    ": duplicate allowed \n",
    ": ordered \n",
    ": indexig and slicing\n",
    ": mutable\n",
    ": sequential**"
   ]
  },
  {
   "cell_type": "code",
   "execution_count": 4,
   "id": "b4acb0a5-54f3-4c0d-8ec2-a508d14b20a9",
   "metadata": {
    "tags": []
   },
   "outputs": [],
   "source": [
    "l1 = [ 1, 'kartik' , 3.14 ,True , 5+9j]"
   ]
  },
  {
   "cell_type": "code",
   "execution_count": 4,
   "id": "4bdc62b0-71c0-40a2-8918-ad339a02aa34",
   "metadata": {
    "tags": []
   },
   "outputs": [
    {
     "data": {
      "text/plain": [
       "5"
      ]
     },
     "execution_count": 4,
     "metadata": {},
     "output_type": "execute_result"
    }
   ],
   "source": [
    "len(l1)"
   ]
  },
  {
   "cell_type": "code",
   "execution_count": 5,
   "id": "c2e33183-cde2-4885-925c-0db7a0ea9442",
   "metadata": {
    "tags": []
   },
   "outputs": [
    {
     "data": {
      "text/plain": [
       "list"
      ]
     },
     "execution_count": 5,
     "metadata": {},
     "output_type": "execute_result"
    }
   ],
   "source": [
    "type(l1)"
   ]
  },
  {
   "cell_type": "code",
   "execution_count": 6,
   "id": "9d7c1f27-5e84-42f1-8e55-98c378bfb01c",
   "metadata": {
    "tags": []
   },
   "outputs": [
    {
     "data": {
      "text/plain": [
       "(5+9j)"
      ]
     },
     "execution_count": 6,
     "metadata": {},
     "output_type": "execute_result"
    }
   ],
   "source": [
    "l1[-1]"
   ]
  },
  {
   "cell_type": "code",
   "execution_count": 7,
   "id": "97d891cc-043c-41fe-8f0a-3c4ad0ba3473",
   "metadata": {
    "tags": []
   },
   "outputs": [
    {
     "data": {
      "text/plain": [
       "['kartik', 3.14, True]"
      ]
     },
     "execution_count": 7,
     "metadata": {},
     "output_type": "execute_result"
    }
   ],
   "source": [
    "l1[1:4]"
   ]
  },
  {
   "cell_type": "code",
   "execution_count": 8,
   "id": "6b410c79-c582-4c7e-be99-a2729c96b565",
   "metadata": {
    "tags": []
   },
   "outputs": [
    {
     "data": {
      "text/plain": [
       "['kartik', 3.14, True, (5+9j)]"
      ]
     },
     "execution_count": 8,
     "metadata": {},
     "output_type": "execute_result"
    }
   ],
   "source": [
    "l1[1:20]"
   ]
  },
  {
   "cell_type": "code",
   "execution_count": 2,
   "id": "b7e783f5-8b07-4cbb-99a2-53394a22ae81",
   "metadata": {
    "tags": []
   },
   "outputs": [
    {
     "data": {
      "text/plain": [
       "'i'"
      ]
     },
     "execution_count": 2,
     "metadata": {},
     "output_type": "execute_result"
    }
   ],
   "source": [
    "l1[1][4]"
   ]
  },
  {
   "cell_type": "markdown",
   "id": "74a7e668-b2de-4596-8cce-854de50ccec7",
   "metadata": {},
   "source": [
    "# function                                     \n",
    "1. type()\n",
    "2. len()\n",
    "3. max()\n",
    "4. min()\n",
    "5. sorted()\n",
    "6. any()\n",
    "7. all()\n",
    "8. sum()\n"
   ]
  },
  {
   "cell_type": "markdown",
   "id": "68a47f3e-d662-42af-adc3-ecddb0e94b8d",
   "metadata": {},
   "source": [
    "# method\n",
    ".append()\n",
    ".extent()\n",
    ".insert()\n",
    ".pop()\n",
    ".remove()\n",
    ".clear()\n",
    ".index()\n",
    ".count()\n",
    ".sort()\n",
    ".reverse()"
   ]
  },
  {
   "cell_type": "markdown",
   "id": "fb94832c-93ff-40b3-bf4b-e5644509cf29",
   "metadata": {},
   "source": [
    "# modification of list \n",
    "*************************"
   ]
  },
  {
   "cell_type": "code",
   "execution_count": 17,
   "id": "a3d7f95b-6b6a-4e6e-8945-23445d772cf5",
   "metadata": {
    "tags": []
   },
   "outputs": [],
   "source": [
    "l1[0]=100"
   ]
  },
  {
   "cell_type": "code",
   "execution_count": 18,
   "id": "bc55d54c-9860-4432-961e-42661ad7a0b9",
   "metadata": {
    "tags": []
   },
   "outputs": [
    {
     "data": {
      "text/plain": [
       "[100, 'kartik', 3.14, True, (5+9j)]"
      ]
     },
     "execution_count": 18,
     "metadata": {},
     "output_type": "execute_result"
    }
   ],
   "source": [
    "l1"
   ]
  },
  {
   "cell_type": "code",
   "execution_count": 2,
   "id": "70aa6705-76ba-4d7d-8bb7-16da7d5d25dc",
   "metadata": {
    "tags": []
   },
   "outputs": [],
   "source": [
    "lw = [1,2,(3,4),[5,6]]"
   ]
  },
  {
   "cell_type": "code",
   "execution_count": 3,
   "id": "9ad1df32-bc57-435d-87c1-fc6d5f8ba354",
   "metadata": {
    "tags": []
   },
   "outputs": [],
   "source": [
    "lw[3][1]=\"k\""
   ]
  },
  {
   "cell_type": "code",
   "execution_count": 4,
   "id": "065519ae-fa7a-4ab9-b4fa-0bac5e57482a",
   "metadata": {
    "tags": []
   },
   "outputs": [
    {
     "data": {
      "text/plain": [
       "[1, 2, (3, 4), [5, 'k']]"
      ]
     },
     "execution_count": 4,
     "metadata": {},
     "output_type": "execute_result"
    }
   ],
   "source": [
    "lw"
   ]
  },
  {
   "cell_type": "code",
   "execution_count": 5,
   "id": "ba767c27-4b7a-4c19-873b-b358e9645f11",
   "metadata": {
    "tags": []
   },
   "outputs": [
    {
     "ename": "TypeError",
     "evalue": "'tuple' object does not support item assignment",
     "output_type": "error",
     "traceback": [
      "\u001b[1;31m---------------------------------------------------------------------------\u001b[0m",
      "\u001b[1;31mTypeError\u001b[0m                                 Traceback (most recent call last)",
      "Cell \u001b[1;32mIn[5], line 1\u001b[0m\n\u001b[1;32m----> 1\u001b[0m lw[\u001b[38;5;241m2\u001b[39m][\u001b[38;5;241m1\u001b[39m]\u001b[38;5;241m=\u001b[39m\u001b[38;5;124m\"\u001b[39m\u001b[38;5;124ms\u001b[39m\u001b[38;5;124m\"\u001b[39m\n",
      "\u001b[1;31mTypeError\u001b[0m: 'tuple' object does not support item assignment"
     ]
    }
   ],
   "source": [
    "lw[2][1]=\"s\""
   ]
  },
  {
   "cell_type": "code",
   "execution_count": 6,
   "id": "6079b210-1022-42c4-a8ec-742adce9b276",
   "metadata": {
    "tags": []
   },
   "outputs": [],
   "source": [
    "lw[2]=\"b\""
   ]
  },
  {
   "cell_type": "code",
   "execution_count": 7,
   "id": "75831831-7d45-4bd2-a236-565add90c1c8",
   "metadata": {
    "tags": []
   },
   "outputs": [
    {
     "data": {
      "text/plain": [
       "[1, 2, 'b', [5, 'k']]"
      ]
     },
     "execution_count": 7,
     "metadata": {},
     "output_type": "execute_result"
    }
   ],
   "source": [
    "lw"
   ]
  },
  {
   "cell_type": "markdown",
   "id": "0c27aba8-6c23-445c-89dc-9133a0549850",
   "metadata": {},
   "source": [
    "### append only one argument at the end\n"
   ]
  },
  {
   "cell_type": "code",
   "execution_count": 19,
   "id": "44b01e34-f8f8-4694-9c68-74e53e4ad92c",
   "metadata": {
    "tags": []
   },
   "outputs": [],
   "source": [
    "l1.append('bhardwaj')"
   ]
  },
  {
   "cell_type": "code",
   "execution_count": 20,
   "id": "4eefd428-c0fd-4144-9281-782e1358cc15",
   "metadata": {
    "tags": []
   },
   "outputs": [
    {
     "data": {
      "text/plain": [
       "[100, 'kartik', 3.14, True, (5+9j), 'bhardwaj']"
      ]
     },
     "execution_count": 20,
     "metadata": {},
     "output_type": "execute_result"
    }
   ],
   "source": [
    "l1"
   ]
  },
  {
   "cell_type": "markdown",
   "id": "f7bb917e-b8f5-4f2d-b97c-53c0cdfd3223",
   "metadata": {},
   "source": [
    "### extend = only one iterable argument at the end"
   ]
  },
  {
   "cell_type": "code",
   "execution_count": 21,
   "id": "4cbab64e-47ed-48e7-94e9-59c8f6942237",
   "metadata": {
    "tags": []
   },
   "outputs": [],
   "source": [
    "l1.extend('sharma')"
   ]
  },
  {
   "cell_type": "code",
   "execution_count": 22,
   "id": "9ab50d12-e9ee-423e-82cd-86b32694045b",
   "metadata": {
    "tags": []
   },
   "outputs": [
    {
     "data": {
      "text/plain": [
       "[100, 'kartik', 3.14, True, (5+9j), 'bhardwaj', 's', 'h', 'a', 'r', 'm', 'a']"
      ]
     },
     "execution_count": 22,
     "metadata": {},
     "output_type": "execute_result"
    }
   ],
   "source": [
    "l1"
   ]
  },
  {
   "cell_type": "code",
   "execution_count": null,
   "id": "6dc02497-9bab-4f97-96fd-45f3d2d26eb5",
   "metadata": {},
   "outputs": [],
   "source": []
  },
  {
   "cell_type": "code",
   "execution_count": 3,
   "id": "2b086d64-ca79-49e3-9889-33f51650f073",
   "metadata": {
    "tags": []
   },
   "outputs": [],
   "source": [
    "ap=[1,2,3]\n",
    "ap1=[4,5]\n",
    "ap.append(ap1)"
   ]
  },
  {
   "cell_type": "code",
   "execution_count": 4,
   "id": "74ce39a0-8b45-4146-a936-830ba13fd792",
   "metadata": {
    "tags": []
   },
   "outputs": [
    {
     "data": {
      "text/plain": [
       "[1, 2, 3, [4, 5]]"
      ]
     },
     "execution_count": 4,
     "metadata": {},
     "output_type": "execute_result"
    }
   ],
   "source": [
    "ap"
   ]
  },
  {
   "cell_type": "code",
   "execution_count": null,
   "id": "8c001ee7-1729-4415-9ed1-3f6e8a1ad818",
   "metadata": {},
   "outputs": [],
   "source": []
  },
  {
   "cell_type": "code",
   "execution_count": 6,
   "id": "1cb0fd81-d0ec-4400-a837-ad89c4cd7f75",
   "metadata": {
    "tags": []
   },
   "outputs": [],
   "source": [
    "ext=[1,2,3]\n",
    "ext1=[4,5]\n",
    "ext.extend(ext1)"
   ]
  },
  {
   "cell_type": "code",
   "execution_count": 7,
   "id": "58eeb492-0aaa-4fb4-887e-6ee5ebff6028",
   "metadata": {
    "tags": []
   },
   "outputs": [
    {
     "data": {
      "text/plain": [
       "[1, 2, 3, 4, 5]"
      ]
     },
     "execution_count": 7,
     "metadata": {},
     "output_type": "execute_result"
    }
   ],
   "source": [
    "ext"
   ]
  },
  {
   "cell_type": "code",
   "execution_count": null,
   "id": "9ffd7a1b-d09b-4102-8ac7-066433e4203a",
   "metadata": {},
   "outputs": [],
   "source": []
  },
  {
   "cell_type": "code",
   "execution_count": null,
   "id": "20254f1f-ba04-417a-857c-62879a45b6f9",
   "metadata": {},
   "outputs": [],
   "source": []
  },
  {
   "cell_type": "markdown",
   "id": "c3b3511c-eac2-40dc-b82d-f60d471226e0",
   "metadata": {},
   "source": [
    " # insert = only one argument"
   ]
  },
  {
   "cell_type": "code",
   "execution_count": 5,
   "id": "f636fc1d-02c2-48bf-8b50-d175bb8e768a",
   "metadata": {
    "tags": []
   },
   "outputs": [],
   "source": [
    "l1.insert(3,'sita')"
   ]
  },
  {
   "cell_type": "code",
   "execution_count": 6,
   "id": "7ebfeef3-c196-4d9c-b9e2-1046a5bf3ada",
   "metadata": {
    "tags": []
   },
   "outputs": [
    {
     "data": {
      "text/plain": [
       "[1, 'kartik', 3.14, 'sita', True, (5+9j)]"
      ]
     },
     "execution_count": 6,
     "metadata": {},
     "output_type": "execute_result"
    }
   ],
   "source": [
    "l1"
   ]
  },
  {
   "cell_type": "code",
   "execution_count": 1,
   "id": "b646c470-1c73-4bdc-b6f3-5b1f89d1e601",
   "metadata": {
    "tags": []
   },
   "outputs": [
    {
     "data": {
      "text/plain": [
       "[1, 2, 3, ['ram', 6]]"
      ]
     },
     "execution_count": 1,
     "metadata": {},
     "output_type": "execute_result"
    }
   ],
   "source": [
    "op = [ 1,2,3]\n",
    "op.insert(99,[\"ram\",6])\n",
    "op"
   ]
  },
  {
   "cell_type": "code",
   "execution_count": null,
   "id": "320f4dd1-032a-4ca7-aa51-cf9d75e54402",
   "metadata": {},
   "outputs": [],
   "source": []
  },
  {
   "cell_type": "code",
   "execution_count": 7,
   "id": "cecce380-3a91-4cb5-97ea-bd985c5d9ced",
   "metadata": {
    "tags": []
   },
   "outputs": [
    {
     "data": {
      "text/plain": [
       "(5+9j)"
      ]
     },
     "execution_count": 7,
     "metadata": {},
     "output_type": "execute_result"
    }
   ],
   "source": [
    "l1.pop() #return and remove the value"
   ]
  },
  {
   "cell_type": "code",
   "execution_count": 26,
   "id": "2a483821-8b22-4d99-8d16-fbe392216603",
   "metadata": {
    "tags": []
   },
   "outputs": [
    {
     "data": {
      "text/plain": [
       "[100,\n",
       " 'kartik',\n",
       " 3.14,\n",
       " 'sita',\n",
       " True,\n",
       " (5+9j),\n",
       " 'bhardwaj',\n",
       " 's',\n",
       " 'h',\n",
       " 'a',\n",
       " 'r',\n",
       " 'm']"
      ]
     },
     "execution_count": 26,
     "metadata": {},
     "output_type": "execute_result"
    }
   ],
   "source": [
    "l1"
   ]
  },
  {
   "cell_type": "markdown",
   "id": "6ed35336-2f06-4b43-b28d-2a6966ccc13e",
   "metadata": {},
   "source": [
    "### remove only one argument at a time"
   ]
  },
  {
   "cell_type": "code",
   "execution_count": 27,
   "id": "92036527-a47b-489e-a4d4-b8ff77a6885b",
   "metadata": {
    "tags": []
   },
   "outputs": [],
   "source": [
    "l1.remove(100)"
   ]
  },
  {
   "cell_type": "code",
   "execution_count": 28,
   "id": "2d39466f-0310-46b4-9807-16654ae5f640",
   "metadata": {
    "tags": []
   },
   "outputs": [
    {
     "data": {
      "text/plain": [
       "['kartik', 3.14, 'sita', True, (5+9j), 'bhardwaj', 's', 'h', 'a', 'r', 'm']"
      ]
     },
     "execution_count": 28,
     "metadata": {},
     "output_type": "execute_result"
    }
   ],
   "source": [
    "l1"
   ]
  },
  {
   "cell_type": "code",
   "execution_count": 29,
   "id": "07203eee-c759-41c6-8c8e-765314a46e41",
   "metadata": {
    "tags": []
   },
   "outputs": [],
   "source": [
    "l1.append('a')"
   ]
  },
  {
   "cell_type": "code",
   "execution_count": 30,
   "id": "269169b8-c9bc-4f7d-90f7-3cfafdcc8b48",
   "metadata": {
    "tags": []
   },
   "outputs": [
    {
     "data": {
      "text/plain": [
       "['kartik',\n",
       " 3.14,\n",
       " 'sita',\n",
       " True,\n",
       " (5+9j),\n",
       " 'bhardwaj',\n",
       " 's',\n",
       " 'h',\n",
       " 'a',\n",
       " 'r',\n",
       " 'm',\n",
       " 'a']"
      ]
     },
     "execution_count": 30,
     "metadata": {},
     "output_type": "execute_result"
    }
   ],
   "source": [
    "l1"
   ]
  },
  {
   "cell_type": "code",
   "execution_count": 31,
   "id": "03185307-4c54-4dae-9a7d-565e5f5903d0",
   "metadata": {
    "tags": []
   },
   "outputs": [],
   "source": [
    "l1.reverse()"
   ]
  },
  {
   "cell_type": "code",
   "execution_count": 32,
   "id": "cde18d17-3f55-466a-b05b-2e262ce097a9",
   "metadata": {
    "tags": []
   },
   "outputs": [
    {
     "data": {
      "text/plain": [
       "['a',\n",
       " 'm',\n",
       " 'r',\n",
       " 'a',\n",
       " 'h',\n",
       " 's',\n",
       " 'bhardwaj',\n",
       " (5+9j),\n",
       " True,\n",
       " 'sita',\n",
       " 3.14,\n",
       " 'kartik']"
      ]
     },
     "execution_count": 32,
     "metadata": {},
     "output_type": "execute_result"
    }
   ],
   "source": [
    "l1"
   ]
  },
  {
   "cell_type": "code",
   "execution_count": 36,
   "id": "c4918e19-5bd3-42dc-8193-e6b0f9f98d7a",
   "metadata": {
    "tags": []
   },
   "outputs": [],
   "source": [
    "l1 =[ 'mango','orange','banana','cherry']"
   ]
  },
  {
   "cell_type": "code",
   "execution_count": 38,
   "id": "9b582338-3c48-4f8b-ad5b-52645c99e8eb",
   "metadata": {
    "tags": []
   },
   "outputs": [
    {
     "data": {
      "text/plain": [
       "['banana', 'cherry', 'mango', 'orange', 'banana', 'cherry', 'mango', 'orange']"
      ]
     },
     "execution_count": 38,
     "metadata": {},
     "output_type": "execute_result"
    }
   ],
   "source": [
    "l1*2"
   ]
  },
  {
   "cell_type": "code",
   "execution_count": 39,
   "id": "21c91de4-3c13-45fb-ac05-8b562c750d77",
   "metadata": {
    "tags": []
   },
   "outputs": [],
   "source": [
    "l2=[1,4,5]"
   ]
  },
  {
   "cell_type": "code",
   "execution_count": 40,
   "id": "04a02e44-b47d-41c1-a40b-f3cf16837cbe",
   "metadata": {
    "tags": []
   },
   "outputs": [
    {
     "data": {
      "text/plain": [
       "['banana', 'cherry', 'mango', 'orange', 1, 4, 5]"
      ]
     },
     "execution_count": 40,
     "metadata": {},
     "output_type": "execute_result"
    }
   ],
   "source": [
    "l1+l2"
   ]
  },
  {
   "cell_type": "code",
   "execution_count": null,
   "id": "352c063c-56a7-4748-b10b-6ddafffe4fa4",
   "metadata": {},
   "outputs": [],
   "source": []
  },
  {
   "cell_type": "code",
   "execution_count": 43,
   "id": "e27e43b3-9a65-4f25-ac26-e63d357d7c17",
   "metadata": {
    "tags": []
   },
   "outputs": [],
   "source": [
    "l1=[0,56,78,9,0,-2,-76]"
   ]
  },
  {
   "cell_type": "code",
   "execution_count": 44,
   "id": "d4d3b6bf-a6ab-40a9-a8a3-083ac137752a",
   "metadata": {
    "tags": []
   },
   "outputs": [],
   "source": [
    "l1.sort()"
   ]
  },
  {
   "cell_type": "code",
   "execution_count": 45,
   "id": "5e7b9cc3-eb6c-4e46-a291-643300d78aab",
   "metadata": {
    "tags": []
   },
   "outputs": [
    {
     "data": {
      "text/plain": [
       "[-76, -2, 0, 0, 9, 56, 78]"
      ]
     },
     "execution_count": 45,
     "metadata": {},
     "output_type": "execute_result"
    }
   ],
   "source": [
    "l1"
   ]
  },
  {
   "cell_type": "code",
   "execution_count": 47,
   "id": "165ef129-c8e6-473b-9d3b-212416a85a4b",
   "metadata": {
    "tags": []
   },
   "outputs": [],
   "source": [
    "l2= ['k' ,'t' ,'g' ,'v' ,'k',' g','j']"
   ]
  },
  {
   "cell_type": "code",
   "execution_count": 48,
   "id": "17cbaf9e-5fab-47e9-8f45-e132b8a56a83",
   "metadata": {
    "tags": []
   },
   "outputs": [],
   "source": [
    "l2.sort()"
   ]
  },
  {
   "cell_type": "code",
   "execution_count": 49,
   "id": "31dfdce0-b8e6-42e6-bd22-e33746c15f1a",
   "metadata": {
    "tags": []
   },
   "outputs": [
    {
     "data": {
      "text/plain": [
       "[' g', 'g', 'j', 'k', 'k', 't', 'v']"
      ]
     },
     "execution_count": 49,
     "metadata": {},
     "output_type": "execute_result"
    }
   ],
   "source": [
    "l2"
   ]
  },
  {
   "cell_type": "code",
   "execution_count": 1,
   "id": "6291a679-4686-4364-9f59-5c0abd4d85e9",
   "metadata": {},
   "outputs": [],
   "source": [
    "l = [ 1 ,1,1, 3, 4, 5 ,5 ,6]"
   ]
  },
  {
   "cell_type": "code",
   "execution_count": 2,
   "id": "cf2e5df9-691f-45d9-b801-6c1b322e237f",
   "metadata": {
    "tags": []
   },
   "outputs": [
    {
     "data": {
      "text/plain": [
       "3"
      ]
     },
     "execution_count": 2,
     "metadata": {},
     "output_type": "execute_result"
    }
   ],
   "source": [
    "l.count(1)"
   ]
  },
  {
   "cell_type": "code",
   "execution_count": 3,
   "id": "6ba7a7a1-2c2e-43f8-bcaa-f25c22ced1f8",
   "metadata": {
    "tags": []
   },
   "outputs": [
    {
     "data": {
      "text/plain": [
       "2"
      ]
     },
     "execution_count": 3,
     "metadata": {},
     "output_type": "execute_result"
    }
   ],
   "source": [
    "l.count(5)"
   ]
  },
  {
   "cell_type": "code",
   "execution_count": 4,
   "id": "6b298cff-7867-479a-89eb-0f40f97d465e",
   "metadata": {
    "tags": []
   },
   "outputs": [
    {
     "data": {
      "text/plain": [
       "0"
      ]
     },
     "execution_count": 4,
     "metadata": {},
     "output_type": "execute_result"
    }
   ],
   "source": [
    "l.count(80)"
   ]
  },
  {
   "cell_type": "code",
   "execution_count": 5,
   "id": "1ac03db7-ec15-4bca-a1ca-b6b2174f0720",
   "metadata": {
    "tags": []
   },
   "outputs": [],
   "source": [
    "l = [2,55,8.9,56,2,44]"
   ]
  },
  {
   "cell_type": "code",
   "execution_count": 6,
   "id": "75afe693-44cd-44b0-be5b-47d8dfeb1be3",
   "metadata": {
    "tags": []
   },
   "outputs": [],
   "source": [
    "l.sort()"
   ]
  },
  {
   "cell_type": "code",
   "execution_count": 7,
   "id": "d19bdafc-29b7-427e-99db-d7be9abf97ed",
   "metadata": {
    "tags": []
   },
   "outputs": [
    {
     "data": {
      "text/plain": [
       "[2, 2, 8.9, 44, 55, 56]"
      ]
     },
     "execution_count": 7,
     "metadata": {},
     "output_type": "execute_result"
    }
   ],
   "source": [
    "l"
   ]
  },
  {
   "cell_type": "code",
   "execution_count": 8,
   "id": "9152a3d9-6564-44b7-af4c-4f7b3e61de2a",
   "metadata": {
    "tags": []
   },
   "outputs": [],
   "source": [
    "l= [ 'a' , 'hen', 'india' , ' cricket' , 'catch']"
   ]
  },
  {
   "cell_type": "code",
   "execution_count": 10,
   "id": "e3e0540c-fbff-405f-a497-d9b28a4b2b80",
   "metadata": {
    "tags": []
   },
   "outputs": [],
   "source": [
    "l.sort()"
   ]
  },
  {
   "cell_type": "code",
   "execution_count": 11,
   "id": "eafb54f9-062d-43c0-84dc-f03462e94e69",
   "metadata": {
    "tags": []
   },
   "outputs": [
    {
     "data": {
      "text/plain": [
       "[' cricket', 'a', 'catch', 'hen', 'india']"
      ]
     },
     "execution_count": 11,
     "metadata": {},
     "output_type": "execute_result"
    }
   ],
   "source": [
    "l"
   ]
  },
  {
   "cell_type": "code",
   "execution_count": 8,
   "id": "036752b3-a400-4fae-b37b-6fc76e42694e",
   "metadata": {},
   "outputs": [],
   "source": [
    "x = [1,3,4,5,6,7,1,3,9]"
   ]
  },
  {
   "cell_type": "code",
   "execution_count": 9,
   "id": "a0ca2cbd-1732-435c-a23f-b31d9f32a028",
   "metadata": {
    "tags": []
   },
   "outputs": [],
   "source": [
    "x.sort()"
   ]
  },
  {
   "cell_type": "code",
   "execution_count": 5,
   "id": "57afc92a-aebc-4e60-b70d-de754b269458",
   "metadata": {
    "tags": []
   },
   "outputs": [
    {
     "data": {
      "text/plain": [
       "[1, 1, 3, 3, 4, 5, 6, 7, 9]"
      ]
     },
     "execution_count": 5,
     "metadata": {},
     "output_type": "execute_result"
    }
   ],
   "source": [
    "x"
   ]
  },
  {
   "cell_type": "code",
   "execution_count": 10,
   "id": "6aae5e71-3ff6-47da-bf42-a2cdc545c3b1",
   "metadata": {
    "tags": []
   },
   "outputs": [
    {
     "data": {
      "text/plain": [
       "[1, 1, 3, 3, 4, 5, 6, 7, 9]"
      ]
     },
     "execution_count": 10,
     "metadata": {},
     "output_type": "execute_result"
    }
   ],
   "source": [
    "sorted(x)"
   ]
  },
  {
   "cell_type": "code",
   "execution_count": null,
   "id": "8c5ed360-2bca-4573-a085-d927b7c790c1",
   "metadata": {},
   "outputs": [],
   "source": []
  },
  {
   "cell_type": "code",
   "execution_count": 6,
   "id": "a211eebc-6668-4c8d-8d46-410ea8740064",
   "metadata": {
    "tags": []
   },
   "outputs": [],
   "source": [
    "x.sort(reverse = True)"
   ]
  },
  {
   "cell_type": "code",
   "execution_count": 7,
   "id": "a7e0d9f6-0eb0-4e36-a1ca-41b4696c3af1",
   "metadata": {
    "tags": []
   },
   "outputs": [
    {
     "name": "stdout",
     "output_type": "stream",
     "text": [
      "[9, 7, 6, 5, 4, 3, 3, 1, 1]\n"
     ]
    }
   ],
   "source": [
    "print(x)"
   ]
  },
  {
   "cell_type": "code",
   "execution_count": null,
   "id": "9a457817-24c6-4a3b-87c5-1abdf6d10389",
   "metadata": {},
   "outputs": [],
   "source": []
  },
  {
   "cell_type": "markdown",
   "id": "6c19a001-a323-4c56-a3a7-6ca4c54a55d0",
   "metadata": {},
   "source": [
    "### any and all "
   ]
  },
  {
   "cell_type": "code",
   "execution_count": 1,
   "id": "1c323b28-025a-45a0-a42f-2a456b7e2d9a",
   "metadata": {},
   "outputs": [
    {
     "data": {
      "text/plain": [
       "False"
      ]
     },
     "execution_count": 1,
     "metadata": {},
     "output_type": "execute_result"
    }
   ],
   "source": [
    "any_list = [ False , 0 ,0+0,0+0j]\n",
    "any(any_list)"
   ]
  },
  {
   "cell_type": "code",
   "execution_count": 2,
   "id": "261b52cb-8fc6-4829-9c8f-bc93a6b91809",
   "metadata": {
    "tags": []
   },
   "outputs": [
    {
     "name": "stdout",
     "output_type": "stream",
     "text": [
      "True\n"
     ]
    }
   ],
   "source": [
    "any_list = [ False , 0 ,0+0,0+0j,4]\n",
    "print(any(any_list))"
   ]
  },
  {
   "cell_type": "code",
   "execution_count": 3,
   "id": "584bdd60-c96b-4d8e-b71d-3e1e3a9ce92b",
   "metadata": {
    "tags": []
   },
   "outputs": [
    {
     "data": {
      "text/plain": [
       "False"
      ]
     },
     "execution_count": 3,
     "metadata": {},
     "output_type": "execute_result"
    }
   ],
   "source": [
    "all_list = [ 1,3,4,0,False]\n",
    "all(all_list)"
   ]
  },
  {
   "cell_type": "code",
   "execution_count": 4,
   "id": "f5cb7af6-3e49-4327-b5df-3b4c1c49bb3f",
   "metadata": {
    "tags": []
   },
   "outputs": [
    {
     "data": {
      "text/plain": [
       "True"
      ]
     },
     "execution_count": 4,
     "metadata": {},
     "output_type": "execute_result"
    }
   ],
   "source": [
    "all_list = [ 1,3,4,3]\n",
    "all(all_list)"
   ]
  },
  {
   "cell_type": "markdown",
   "id": "22291427-16df-47b9-b1a7-d06d1615914e",
   "metadata": {},
   "source": [
    "# membership in list"
   ]
  },
  {
   "cell_type": "code",
   "execution_count": 16,
   "id": "2bc5982a-dece-4bb5-9c4f-7e03da3766c5",
   "metadata": {
    "tags": []
   },
   "outputs": [],
   "source": [
    "ml = [ 1,2,3, \"physics\" ,True ,[\"first\",\"second\"]]"
   ]
  },
  {
   "cell_type": "code",
   "execution_count": 17,
   "id": "2f3e1b3f-5b8d-4d48-86e5-3bc81dbb1203",
   "metadata": {
    "tags": []
   },
   "outputs": [
    {
     "data": {
      "text/plain": [
       "True"
      ]
     },
     "execution_count": 17,
     "metadata": {},
     "output_type": "execute_result"
    }
   ],
   "source": [
    "1 in ml"
   ]
  },
  {
   "cell_type": "code",
   "execution_count": 18,
   "id": "5f9f9608-0427-431c-b790-30e746f7f55e",
   "metadata": {
    "tags": []
   },
   "outputs": [
    {
     "data": {
      "text/plain": [
       "False"
      ]
     },
     "execution_count": 18,
     "metadata": {},
     "output_type": "execute_result"
    }
   ],
   "source": [
    "13 in ml"
   ]
  },
  {
   "cell_type": "code",
   "execution_count": 21,
   "id": "3d2b9aa0-406e-4190-acc5-e4615eebedfc",
   "metadata": {
    "tags": []
   },
   "outputs": [
    {
     "data": {
      "text/plain": [
       "True"
      ]
     },
     "execution_count": 21,
     "metadata": {},
     "output_type": "execute_result"
    }
   ],
   "source": [
    "\"physics\"  in ml"
   ]
  },
  {
   "cell_type": "code",
   "execution_count": 22,
   "id": "78f66be7-e8d2-4118-bde1-1056f0dad556",
   "metadata": {
    "tags": []
   },
   "outputs": [
    {
     "data": {
      "text/plain": [
       "False"
      ]
     },
     "execution_count": 22,
     "metadata": {},
     "output_type": "execute_result"
    }
   ],
   "source": [
    "\"first\" in ml"
   ]
  },
  {
   "cell_type": "code",
   "execution_count": 23,
   "id": "0f097ff6-e531-4ed1-982c-5156a18e0dec",
   "metadata": {
    "tags": []
   },
   "outputs": [
    {
     "data": {
      "text/plain": [
       "True"
      ]
     },
     "execution_count": 23,
     "metadata": {},
     "output_type": "execute_result"
    }
   ],
   "source": [
    "[\"first\" , \"second\"] in ml"
   ]
  },
  {
   "cell_type": "markdown",
   "id": "20808f19-3a8a-4097-900a-f490a5d637b7",
   "metadata": {},
   "source": [
    "### sum "
   ]
  },
  {
   "cell_type": "code",
   "execution_count": 25,
   "id": "5d76b839-ddf3-4f3e-b526-c09a1a3f6d04",
   "metadata": {
    "tags": []
   },
   "outputs": [
    {
     "data": {
      "text/plain": [
       "52"
      ]
     },
     "execution_count": 25,
     "metadata": {},
     "output_type": "execute_result"
    }
   ],
   "source": [
    "sum_list1 = [ 1,2,4,5,6,7,8,9,10]\n",
    "sum(sum_list1)"
   ]
  },
  {
   "cell_type": "code",
   "execution_count": 27,
   "id": "325556cd-89a4-4e06-9777-4da3916f2f1b",
   "metadata": {
    "tags": []
   },
   "outputs": [
    {
     "ename": "TypeError",
     "evalue": "unsupported operand type(s) for +: 'int' and 'str'",
     "output_type": "error",
     "traceback": [
      "\u001b[1;31m---------------------------------------------------------------------------\u001b[0m",
      "\u001b[1;31mTypeError\u001b[0m                                 Traceback (most recent call last)",
      "Cell \u001b[1;32mIn[27], line 2\u001b[0m\n\u001b[0;32m      1\u001b[0m sum_list2 \u001b[38;5;241m=\u001b[39m [ \u001b[38;5;124m\"\u001b[39m\u001b[38;5;124mk\u001b[39m\u001b[38;5;124m\"\u001b[39m ,\u001b[38;5;124m\"\u001b[39m\u001b[38;5;124mARTIK\u001b[39m\u001b[38;5;124m\"\u001b[39m]\n\u001b[1;32m----> 2\u001b[0m \u001b[38;5;28msum\u001b[39m(sum_list2)\n",
      "\u001b[1;31mTypeError\u001b[0m: unsupported operand type(s) for +: 'int' and 'str'"
     ]
    }
   ],
   "source": [
    "# concatination\n",
    "sum_list2 = [ \"k\" ,\"ARTIK\"]\n",
    "sum(sum_list2)"
   ]
  },
  {
   "cell_type": "markdown",
   "id": "3e3d9bae-5c17-4216-90d4-3a40fc1a2fca",
   "metadata": {},
   "source": [
    "# list comprehension"
   ]
  },
  {
   "cell_type": "code",
   "execution_count": 2,
   "id": "7bb6908a-7d03-4e2f-9479-f544b818ee24",
   "metadata": {
    "tags": []
   },
   "outputs": [
    {
     "name": "stdout",
     "output_type": "stream",
     "text": [
      "['apple', 'banana']\n"
     ]
    }
   ],
   "source": [
    "fruits = [ \"apple\", \"banana\" , \"cherry\",\"kiwi\"]\n",
    "newlist = []\n",
    "for i in fruits:\n",
    "    if \"a\" in i :\n",
    "        newlist.append(i)\n",
    "print(newlist)        "
   ]
  },
  {
   "cell_type": "code",
   "execution_count": 3,
   "id": "458dd256-d0e4-4f07-b79b-155f58fb7ee2",
   "metadata": {
    "tags": []
   },
   "outputs": [
    {
     "name": "stdout",
     "output_type": "stream",
     "text": [
      "['apple', 'banana']\n"
     ]
    }
   ],
   "source": [
    " ### 2nd method\n",
    "newlist =   [i for i in fruits if \"a\" in i ]\n",
    "print(newlist)"
   ]
  },
  {
   "cell_type": "code",
   "execution_count": 4,
   "id": "5896ae3e-96c6-4407-81af-9ab8f2c5a33d",
   "metadata": {
    "tags": []
   },
   "outputs": [
    {
     "data": {
      "text/plain": [
       "['hello', 'hello', 'hello', 'hello']"
      ]
     },
     "execution_count": 4,
     "metadata": {},
     "output_type": "execute_result"
    }
   ],
   "source": [
    "newlist = [\"hello\" for i in fruits ]\n",
    "newlist"
   ]
  },
  {
   "cell_type": "code",
   "execution_count": null,
   "id": "8cf1c094-b2ad-488b-bbaf-7dc112666104",
   "metadata": {},
   "outputs": [],
   "source": []
  },
  {
   "cell_type": "code",
   "execution_count": null,
   "id": "8e7249aa-4a74-4c52-b689-71d72cd96cf4",
   "metadata": {},
   "outputs": [],
   "source": []
  },
  {
   "cell_type": "code",
   "execution_count": null,
   "id": "82523f53-c3fe-4062-99d0-4e497da27532",
   "metadata": {},
   "outputs": [],
   "source": [
    " # WAP to create a list of first 10 natural number"
   ]
  },
  {
   "cell_type": "code",
   "execution_count": 1,
   "id": "33f2d49b-8e13-4b24-96f1-faad55a53e38",
   "metadata": {
    "tags": []
   },
   "outputs": [],
   "source": [
    "la = []\n",
    "for i in range(1,11):\n",
    "    la.append(i)"
   ]
  },
  {
   "cell_type": "code",
   "execution_count": 2,
   "id": "c6e15140-ac17-44fb-ab54-cf53b44d3a81",
   "metadata": {
    "tags": []
   },
   "outputs": [
    {
     "data": {
      "text/plain": [
       "[1, 2, 3, 4, 5, 6, 7, 8, 9, 10]"
      ]
     },
     "execution_count": 2,
     "metadata": {},
     "output_type": "execute_result"
    }
   ],
   "source": [
    "la"
   ]
  },
  {
   "cell_type": "code",
   "execution_count": null,
   "id": "b80afaa7-de71-45db-8577-7a4099dd3fa6",
   "metadata": {},
   "outputs": [],
   "source": [
    "# 2nd method "
   ]
  },
  {
   "cell_type": "code",
   "execution_count": 5,
   "id": "fe929161-ea74-4645-9d89-5972fec3b8c4",
   "metadata": {
    "tags": []
   },
   "outputs": [
    {
     "data": {
      "text/plain": [
       "[1, 2, 3, 4, 5, 6, 7, 8, 9, 10]"
      ]
     },
     "execution_count": 5,
     "metadata": {},
     "output_type": "execute_result"
    }
   ],
   "source": [
    " [ i for i in range(1,11) ]"
   ]
  },
  {
   "cell_type": "code",
   "execution_count": 18,
   "id": "1fccc79f-4213-4cbc-8a37-ea5344636810",
   "metadata": {
    "tags": []
   },
   "outputs": [
    {
     "data": {
      "text/plain": [
       "['hello', 'hello', 'hello']"
      ]
     },
     "execution_count": 18,
     "metadata": {},
     "output_type": "execute_result"
    }
   ],
   "source": [
    "[\"hello\" for i in range(3)]"
   ]
  },
  {
   "cell_type": "code",
   "execution_count": 19,
   "id": "840cdac5-dca1-4696-982d-30cac5ae9f06",
   "metadata": {
    "tags": []
   },
   "outputs": [
    {
     "data": {
      "text/plain": [
       "[5, 5]"
      ]
     },
     "execution_count": 19,
     "metadata": {},
     "output_type": "execute_result"
    }
   ],
   "source": [
    "[ 5 for i in range(2)]"
   ]
  },
  {
   "cell_type": "code",
   "execution_count": null,
   "id": "bfde7a66-33a6-44c9-a855-e663cae7cb54",
   "metadata": {},
   "outputs": [],
   "source": [
    " # WAP to store first 10 even num list"
   ]
  },
  {
   "cell_type": "code",
   "execution_count": 6,
   "id": "22adb816-767b-463c-b736-4e3fe8400fc9",
   "metadata": {
    "tags": []
   },
   "outputs": [],
   "source": [
    "lb = []\n",
    "for num in range(0,19,2):\n",
    "    lb.append(num)"
   ]
  },
  {
   "cell_type": "code",
   "execution_count": 7,
   "id": "8752832a-a9b6-4ab3-9125-7bf244938aeb",
   "metadata": {
    "tags": []
   },
   "outputs": [
    {
     "data": {
      "text/plain": [
       "[0, 2, 4, 6, 8, 10, 12, 14, 16, 18]"
      ]
     },
     "execution_count": 7,
     "metadata": {},
     "output_type": "execute_result"
    }
   ],
   "source": [
    "lb"
   ]
  },
  {
   "cell_type": "code",
   "execution_count": 8,
   "id": "f601a1d1-a897-4294-a7d0-61a5660be955",
   "metadata": {
    "tags": []
   },
   "outputs": [
    {
     "data": {
      "text/plain": [
       "[0, 2, 4, 6, 8, 10, 12, 14, 16, 18]"
      ]
     },
     "execution_count": 8,
     "metadata": {},
     "output_type": "execute_result"
    }
   ],
   "source": [
    "[ num for num in range(0,19,2) ]"
   ]
  },
  {
   "cell_type": "code",
   "execution_count": null,
   "id": "6fb0e378-be62-4fc2-abbe-331ddf7e523e",
   "metadata": {},
   "outputs": [],
   "source": []
  },
  {
   "cell_type": "code",
   "execution_count": 9,
   "id": "ee2fa332-ea3a-4000-b6b6-a0dcee4e4f6c",
   "metadata": {
    "tags": []
   },
   "outputs": [
    {
     "data": {
      "text/plain": [
       "[2, 3, 4, 5, 6, 7, 8, 9, 10, 11]"
      ]
     },
     "execution_count": 9,
     "metadata": {},
     "output_type": "execute_result"
    }
   ],
   "source": [
    "[i+1 for i in range(1,11) ]"
   ]
  },
  {
   "cell_type": "code",
   "execution_count": 10,
   "id": "ed9e4efa-f4af-4cac-a4e9-1c8dec9ebbdb",
   "metadata": {
    "tags": []
   },
   "outputs": [
    {
     "data": {
      "text/plain": [
       "[1, 4, 9, 16, 25, 36, 49, 64, 81, 100]"
      ]
     },
     "execution_count": 10,
     "metadata": {},
     "output_type": "execute_result"
    }
   ],
   "source": [
    "[ i*i for i in range(1,11) ]"
   ]
  },
  {
   "cell_type": "markdown",
   "id": "a94006d4-121e-4c05-8ab5-394a4f6e0c6a",
   "metadata": {},
   "source": [
    "# 2-d"
   ]
  },
  {
   "cell_type": "code",
   "execution_count": 21,
   "id": "89f3cc12-a28e-4365-bfd5-40b963b891b2",
   "metadata": {
    "tags": []
   },
   "outputs": [
    {
     "data": {
      "text/plain": [
       "[0, 0, 0, 0, 1, 1, 1, 1]"
      ]
     },
     "execution_count": 21,
     "metadata": {},
     "output_type": "execute_result"
    }
   ],
   "source": [
    " [j for j in range(2) for i in range(4)]"
   ]
  },
  {
   "cell_type": "code",
   "execution_count": 22,
   "id": "090d0d4c-77d9-44b8-89b8-22af93cbd5d1",
   "metadata": {
    "tags": []
   },
   "outputs": [
    {
     "data": {
      "text/plain": [
       "[[0, 1], [0, 1], [0, 1], [0, 1]]"
      ]
     },
     "execution_count": 22,
     "metadata": {},
     "output_type": "execute_result"
    }
   ],
   "source": [
    " [[j for j in range(2)] for i in range(4)]"
   ]
  },
  {
   "cell_type": "code",
   "execution_count": null,
   "id": "8c14d545-86b1-429f-8425-570c651c596b",
   "metadata": {},
   "outputs": [],
   "source": []
  },
  {
   "cell_type": "markdown",
   "id": "ca486baf-eb2e-4067-a00a-70c57e0edcd7",
   "metadata": {},
   "source": [
    "**odd element-->> removed and even are in list**"
   ]
  },
  {
   "cell_type": "code",
   "execution_count": 5,
   "id": "b39e794f-2350-43ef-bc60-fce9e48d68cd",
   "metadata": {},
   "outputs": [],
   "source": [
    "n=[10,20,39,94,5]\n",
    "for i in n:\n",
    "    (n.remove(i))"
   ]
  },
  {
   "cell_type": "code",
   "execution_count": 6,
   "id": "5d49598f-13f9-453b-85cc-8135282cf85d",
   "metadata": {
    "tags": []
   },
   "outputs": [
    {
     "data": {
      "text/plain": [
       "[20, 94]"
      ]
     },
     "execution_count": 6,
     "metadata": {},
     "output_type": "execute_result"
    }
   ],
   "source": [
    "n"
   ]
  },
  {
   "cell_type": "code",
   "execution_count": 7,
   "id": "5f2283ec-e801-4a80-946b-28ea92c8fe57",
   "metadata": {
    "tags": []
   },
   "outputs": [],
   "source": [
    "n=[10,20,39,94,5,4]\n",
    "for i in n:\n",
    "    (n.remove(i))"
   ]
  },
  {
   "cell_type": "code",
   "execution_count": 8,
   "id": "11c0fcdd-1245-48ec-902c-e3d4e4a3e115",
   "metadata": {
    "tags": []
   },
   "outputs": [
    {
     "data": {
      "text/plain": [
       "[20, 94, 4]"
      ]
     },
     "execution_count": 8,
     "metadata": {},
     "output_type": "execute_result"
    }
   ],
   "source": [
    "n"
   ]
  },
  {
   "cell_type": "code",
   "execution_count": null,
   "id": "0a62376a-548f-4430-918d-81b0b607b5c6",
   "metadata": {},
   "outputs": [],
   "source": []
  },
  {
   "cell_type": "markdown",
   "id": "aa7608af-6aef-4a82-9366-43f102f871da",
   "metadata": {},
   "source": [
    "**odd element-->> removed and even are in list**"
   ]
  },
  {
   "cell_type": "code",
   "execution_count": 9,
   "id": "622bd39a-eb8c-447a-b1e8-619edb115a6a",
   "metadata": {
    "tags": []
   },
   "outputs": [],
   "source": [
    "m =[\"a\",\"B\",\"c\",\"D\",\"e\",\"F\"]\n",
    "for i in m:\n",
    "    m.remove(i)"
   ]
  },
  {
   "cell_type": "code",
   "execution_count": 10,
   "id": "8564ebb8-9608-43d4-90fd-44a5d5e86db0",
   "metadata": {
    "tags": []
   },
   "outputs": [
    {
     "data": {
      "text/plain": [
       "['B', 'D', 'F']"
      ]
     },
     "execution_count": 10,
     "metadata": {},
     "output_type": "execute_result"
    }
   ],
   "source": [
    "m"
   ]
  },
  {
   "cell_type": "code",
   "execution_count": 11,
   "id": "7e6850d6-eddd-4c75-9f8a-8be369a959f6",
   "metadata": {
    "tags": []
   },
   "outputs": [],
   "source": [
    "m1 =[\"a\",\"B\",\"c\",\"D\",\"e\",\"F\",\"g\"]\n",
    "for i in m1:\n",
    "    m1.remove(i)"
   ]
  },
  {
   "cell_type": "code",
   "execution_count": 12,
   "id": "df7dae21-287b-472f-959c-b06a119132e9",
   "metadata": {
    "tags": []
   },
   "outputs": [
    {
     "data": {
      "text/plain": [
       "['B', 'D', 'F']"
      ]
     },
     "execution_count": 12,
     "metadata": {},
     "output_type": "execute_result"
    }
   ],
   "source": [
    "m1"
   ]
  },
  {
   "cell_type": "code",
   "execution_count": 13,
   "id": "3c5092a4-56b9-4247-834c-1561f706cf9a",
   "metadata": {
    "tags": []
   },
   "outputs": [],
   "source": [
    "m2 =[\"a\",\"B\",\"c\",\"D\",\"e\",\"F\",\"g\",\"H\"]\n",
    "for i in m2:\n",
    "    m2.remove(i)"
   ]
  },
  {
   "cell_type": "code",
   "execution_count": 14,
   "id": "f7de3e7c-1597-42e6-be40-84a1c8621ca9",
   "metadata": {
    "tags": []
   },
   "outputs": [
    {
     "data": {
      "text/plain": [
       "['B', 'D', 'F', 'H']"
      ]
     },
     "execution_count": 14,
     "metadata": {},
     "output_type": "execute_result"
    }
   ],
   "source": [
    "m2"
   ]
  },
  {
   "cell_type": "code",
   "execution_count": null,
   "id": "f8e3da38-9c5d-42bb-a729-077d0f1eac55",
   "metadata": {},
   "outputs": [],
   "source": []
  },
  {
   "cell_type": "code",
   "execution_count": 15,
   "id": "48aaf1b0-674d-40eb-8805-6238372318db",
   "metadata": {
    "tags": []
   },
   "outputs": [],
   "source": [
    "j=[\"ram\",1,\"sita\"]\n",
    "for i in j:\n",
    "    j.remove(i)"
   ]
  },
  {
   "cell_type": "code",
   "execution_count": 16,
   "id": "6dee8a8f-9b82-43d5-bf5f-4140a33ac1c0",
   "metadata": {
    "tags": []
   },
   "outputs": [
    {
     "data": {
      "text/plain": [
       "[1]"
      ]
     },
     "execution_count": 16,
     "metadata": {},
     "output_type": "execute_result"
    }
   ],
   "source": [
    "j"
   ]
  },
  {
   "cell_type": "code",
   "execution_count": null,
   "id": "b6bf177a-dda8-44ae-b545-952d45fb3e66",
   "metadata": {},
   "outputs": [],
   "source": []
  },
  {
   "cell_type": "code",
   "execution_count": 8,
   "id": "4e0d95f9-0d3c-4f6b-985e-ed74e1d155c7",
   "metadata": {
    "tags": []
   },
   "outputs": [
    {
     "ename": "TypeError",
     "evalue": "list.remove() takes exactly one argument (0 given)",
     "output_type": "error",
     "traceback": [
      "\u001b[1;31m---------------------------------------------------------------------------\u001b[0m",
      "\u001b[1;31mTypeError\u001b[0m                                 Traceback (most recent call last)",
      "Cell \u001b[1;32mIn[8], line 2\u001b[0m\n\u001b[0;32m      1\u001b[0m ml\u001b[38;5;241m=\u001b[39m[\u001b[38;5;241m1\u001b[39m,\u001b[38;5;241m2\u001b[39m,\u001b[38;5;241m3\u001b[39m,\u001b[38;5;241m1\u001b[39m]\n\u001b[1;32m----> 2\u001b[0m ml\u001b[38;5;241m.\u001b[39mremove()\n",
      "\u001b[1;31mTypeError\u001b[0m: list.remove() takes exactly one argument (0 given)"
     ]
    }
   ],
   "source": [
    "ml=[1,2,3,1]\n",
    "ml.remove()"
   ]
  },
  {
   "cell_type": "code",
   "execution_count": null,
   "id": "132b682d-4550-4f82-818b-d38e424c3b55",
   "metadata": {},
   "outputs": [],
   "source": []
  },
  {
   "cell_type": "code",
   "execution_count": 9,
   "id": "d6dc0529-c9aa-4f9e-904d-0edede6846bb",
   "metadata": {
    "tags": []
   },
   "outputs": [
    {
     "ename": "ValueError",
     "evalue": "list.remove(x): x not in list",
     "output_type": "error",
     "traceback": [
      "\u001b[1;31m---------------------------------------------------------------------------\u001b[0m",
      "\u001b[1;31mValueError\u001b[0m                                Traceback (most recent call last)",
      "Cell \u001b[1;32mIn[9], line 1\u001b[0m\n\u001b[1;32m----> 1\u001b[0m ml\u001b[38;5;241m.\u001b[39mremove(\u001b[38;5;241m100\u001b[39m)\n",
      "\u001b[1;31mValueError\u001b[0m: list.remove(x): x not in list"
     ]
    }
   ],
   "source": [
    "ml.remove(100)"
   ]
  },
  {
   "cell_type": "code",
   "execution_count": null,
   "id": "744cbe85-e707-4ff3-b75d-dbc346b9076f",
   "metadata": {},
   "outputs": [],
   "source": []
  },
  {
   "cell_type": "code",
   "execution_count": 10,
   "id": "60277695-7590-4e53-88a6-f6ed25a31eca",
   "metadata": {
    "tags": []
   },
   "outputs": [],
   "source": [
    "ml.remove(1)"
   ]
  },
  {
   "cell_type": "code",
   "execution_count": 11,
   "id": "9e173f08-1be6-4606-bf2a-4fea5cc955d4",
   "metadata": {
    "tags": []
   },
   "outputs": [
    {
     "data": {
      "text/plain": [
       "[2, 3, 1]"
      ]
     },
     "execution_count": 11,
     "metadata": {},
     "output_type": "execute_result"
    }
   ],
   "source": [
    "ml"
   ]
  },
  {
   "cell_type": "code",
   "execution_count": null,
   "id": "23ad82f4-7194-4932-a5e5-31aba4f78f08",
   "metadata": {},
   "outputs": [],
   "source": []
  },
  {
   "cell_type": "code",
   "execution_count": 1,
   "id": "abb03512-6950-4c27-9d32-d2ecf6caeb68",
   "metadata": {
    "tags": []
   },
   "outputs": [
    {
     "name": "stdout",
     "output_type": "stream",
     "text": [
      "[10, 2, 3]\n"
     ]
    }
   ],
   "source": [
    "x= [1,2,3]\n",
    "y = x\n",
    "y[0] = 10\n",
    "\n",
    "print(x)"
   ]
  },
  {
   "cell_type": "code",
   "execution_count": null,
   "id": "167f4078-d682-49a3-989b-003c15a919ae",
   "metadata": {},
   "outputs": [],
   "source": []
  }
 ],
 "metadata": {
  "kernelspec": {
   "display_name": "Python 3 (ipykernel)",
   "language": "python",
   "name": "python3"
  },
  "language_info": {
   "codemirror_mode": {
    "name": "ipython",
    "version": 3
   },
   "file_extension": ".py",
   "mimetype": "text/x-python",
   "name": "python",
   "nbconvert_exporter": "python",
   "pygments_lexer": "ipython3",
   "version": "3.11.5"
  }
 },
 "nbformat": 4,
 "nbformat_minor": 5
}
