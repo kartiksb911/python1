{
 "cells": [
  {
   "cell_type": "code",
   "execution_count": 1,
   "id": "cd00e7ea-8696-46d2-b80f-859a17c3b19a",
   "metadata": {
    "tags": []
   },
   "outputs": [],
   "source": [
    "st=\"\""
   ]
  },
  {
   "cell_type": "code",
   "execution_count": 2,
   "id": "7904fc6e-7aa2-4a98-9364-038d821ee4e3",
   "metadata": {
    "tags": []
   },
   "outputs": [
    {
     "data": {
      "text/plain": [
       "0"
      ]
     },
     "execution_count": 2,
     "metadata": {},
     "output_type": "execute_result"
    }
   ],
   "source": [
    "len(st)"
   ]
  },
  {
   "cell_type": "code",
   "execution_count": 3,
   "id": "a2708665-3a80-45f4-99fa-d480d067f78d",
   "metadata": {
    "tags": []
   },
   "outputs": [
    {
     "name": "stdout",
     "output_type": "stream",
     "text": [
      "2\n"
     ]
    }
   ],
   "source": [
    "st1=\"  \"\n",
    "print(len(st1))"
   ]
  },
  {
   "cell_type": "code",
   "execution_count": null,
   "id": "e71bd4eb-dee2-4283-8749-2856340d58dc",
   "metadata": {},
   "outputs": [],
   "source": []
  },
  {
   "cell_type": "markdown",
   "id": "43bed0b2-f2a4-4139-96da-be41006a0ae8",
   "metadata": {},
   "source": [
    "### membership in string"
   ]
  },
  {
   "cell_type": "code",
   "execution_count": 9,
   "id": "1446c649-6a75-4952-a5ec-a104e467d35a",
   "metadata": {
    "tags": []
   },
   "outputs": [],
   "source": [
    "st3=\"Python123\""
   ]
  },
  {
   "cell_type": "code",
   "execution_count": 10,
   "id": "c8f57c76-ba98-4ecf-a901-fb1749ccae38",
   "metadata": {
    "tags": []
   },
   "outputs": [
    {
     "data": {
      "text/plain": [
       "False"
      ]
     },
     "execution_count": 10,
     "metadata": {},
     "output_type": "execute_result"
    }
   ],
   "source": [
    "\"p\" in st3"
   ]
  },
  {
   "cell_type": "code",
   "execution_count": 11,
   "id": "8a682d16-b4fb-4006-a78b-7d17a2deb08d",
   "metadata": {
    "tags": []
   },
   "outputs": [
    {
     "data": {
      "text/plain": [
       "True"
      ]
     },
     "execution_count": 11,
     "metadata": {},
     "output_type": "execute_result"
    }
   ],
   "source": [
    "\"123\" in st3"
   ]
  },
  {
   "cell_type": "code",
   "execution_count": 16,
   "id": "c879c602-1833-4c6c-ba5c-f52b0f72a3f0",
   "metadata": {
    "tags": []
   },
   "outputs": [
    {
     "data": {
      "text/plain": [
       "False"
      ]
     },
     "execution_count": 16,
     "metadata": {},
     "output_type": "execute_result"
    }
   ],
   "source": [
    "\"tyn\" in st3"
   ]
  },
  {
   "cell_type": "code",
   "execution_count": 17,
   "id": "bb0a06d2-3b75-41dc-b807-ad25096f0639",
   "metadata": {
    "tags": []
   },
   "outputs": [
    {
     "data": {
      "text/plain": [
       "True"
      ]
     },
     "execution_count": 17,
     "metadata": {},
     "output_type": "execute_result"
    }
   ],
   "source": [
    "\"yth\" in st3"
   ]
  },
  {
   "cell_type": "code",
   "execution_count": null,
   "id": "b77146f8-a901-4713-9d34-2159d2c7bfc1",
   "metadata": {},
   "outputs": [],
   "source": []
  },
  {
   "cell_type": "markdown",
   "id": "c6ecfe8d-ddbc-464a-8ff7-57708ce28f64",
   "metadata": {},
   "source": [
    "### compersion in string (lexicograph)"
   ]
  },
  {
   "cell_type": "markdown",
   "id": "bc0fa83d-6280-4ced-a308-05735a54db34",
   "metadata": {
    "tags": []
   },
   "source": [
    "## \"A\" = 65\n",
    "## \"a\" = 97"
   ]
  },
  {
   "cell_type": "code",
   "execution_count": 24,
   "id": "bd54c429-5f1c-47a1-b4d5-65847a851f42",
   "metadata": {
    "tags": []
   },
   "outputs": [
    {
     "data": {
      "text/plain": [
       "'0'"
      ]
     },
     "execution_count": 24,
     "metadata": {},
     "output_type": "execute_result"
    }
   ],
   "source": [
    "chr(48)"
   ]
  },
  {
   "cell_type": "code",
   "execution_count": 25,
   "id": "30cbefa8-167b-4eee-b458-2d6281d4655d",
   "metadata": {
    "tags": []
   },
   "outputs": [
    {
     "name": "stdout",
     "output_type": "stream",
     "text": [
      "A\n",
      "a\n"
     ]
    }
   ],
   "source": [
    "print(chr(65))\n",
    "print(chr(97))"
   ]
  },
  {
   "cell_type": "code",
   "execution_count": 27,
   "id": "cde8fb76-4173-4e0a-b372-f3ac46b30791",
   "metadata": {
    "tags": []
   },
   "outputs": [
    {
     "data": {
      "text/plain": [
       "97"
      ]
     },
     "execution_count": 27,
     "metadata": {},
     "output_type": "execute_result"
    }
   ],
   "source": [
    "ord(\"a\")"
   ]
  },
  {
   "cell_type": "code",
   "execution_count": 28,
   "id": "6d3c3979-68d2-4aa8-a4b4-4cf4c1ad088a",
   "metadata": {
    "tags": []
   },
   "outputs": [
    {
     "data": {
      "text/plain": [
       "48"
      ]
     },
     "execution_count": 28,
     "metadata": {},
     "output_type": "execute_result"
    }
   ],
   "source": [
    "ord(\"0\")"
   ]
  },
  {
   "cell_type": "code",
   "execution_count": 30,
   "id": "699b26e8-d3d1-4496-bbae-c9d55790c705",
   "metadata": {
    "tags": []
   },
   "outputs": [
    {
     "data": {
      "text/plain": [
       "True"
      ]
     },
     "execution_count": 30,
     "metadata": {},
     "output_type": "execute_result"
    }
   ],
   "source": [
    "\"Xbc\" <\"a\""
   ]
  },
  {
   "cell_type": "code",
   "execution_count": null,
   "id": "1e5fa10d-e76a-4cf3-ba89-3a4857fc1724",
   "metadata": {},
   "outputs": [],
   "source": []
  },
  {
   "cell_type": "markdown",
   "id": "49309ad9-1f94-4dbc-a2e1-d4a4fb48dd6d",
   "metadata": {
    "tags": []
   },
   "source": [
    "### identity in string"
   ]
  },
  {
   "cell_type": "code",
   "execution_count": 32,
   "id": "bc2836f7-d053-4ab0-bf8e-6b453e54daaf",
   "metadata": {
    "tags": []
   },
   "outputs": [],
   "source": [
    "a1=\"apple\"\n",
    "b1=\"ball\""
   ]
  },
  {
   "cell_type": "code",
   "execution_count": 33,
   "id": "db2204e4-c089-4894-9a63-71e1419fe4cb",
   "metadata": {
    "tags": []
   },
   "outputs": [
    {
     "data": {
      "text/plain": [
       "False"
      ]
     },
     "execution_count": 33,
     "metadata": {},
     "output_type": "execute_result"
    }
   ],
   "source": [
    "a1 is b1"
   ]
  },
  {
   "cell_type": "code",
   "execution_count": 36,
   "id": "82eb681a-1430-4b70-8ac9-3ecf82fc2ec4",
   "metadata": {
    "tags": []
   },
   "outputs": [
    {
     "name": "stdout",
     "output_type": "stream",
     "text": [
      "1808394043504\n",
      "1808394055792\n"
     ]
    }
   ],
   "source": [
    "print(id(a1))\n",
    "print(id(b1))\n"
   ]
  },
  {
   "cell_type": "code",
   "execution_count": 34,
   "id": "d8c9c3a3-8ccd-4245-9b82-4a3598a7223a",
   "metadata": {
    "tags": []
   },
   "outputs": [],
   "source": [
    "c1=\"2\"\n",
    "d1=\"2\""
   ]
  },
  {
   "cell_type": "code",
   "execution_count": 35,
   "id": "23cc5272-f2f5-41b9-a923-6c250164b1a3",
   "metadata": {
    "tags": []
   },
   "outputs": [
    {
     "data": {
      "text/plain": [
       "True"
      ]
     },
     "execution_count": 35,
     "metadata": {},
     "output_type": "execute_result"
    }
   ],
   "source": [
    "c1 is d1"
   ]
  },
  {
   "cell_type": "code",
   "execution_count": 37,
   "id": "17d1d974-5fff-4468-8f27-fded3b1f1f2e",
   "metadata": {
    "tags": []
   },
   "outputs": [
    {
     "name": "stdout",
     "output_type": "stream",
     "text": [
      "140735848463544\n",
      "140735848463544\n"
     ]
    }
   ],
   "source": [
    "print(id(c1))\n",
    "print(id(d1))\n"
   ]
  },
  {
   "cell_type": "code",
   "execution_count": null,
   "id": "9f8eb67d-630e-450c-a44d-5059a363b8fa",
   "metadata": {},
   "outputs": [],
   "source": []
  },
  {
   "cell_type": "code",
   "execution_count": null,
   "id": "fdeba209-d40d-4ec1-a2af-fb6e5985076b",
   "metadata": {},
   "outputs": [],
   "source": []
  },
  {
   "cell_type": "markdown",
   "id": "e486f97a-90d1-4ffc-98a9-25d03d0beb2a",
   "metadata": {},
   "source": [
    "# extracting the individual characters\n"
   ]
  },
  {
   "cell_type": "code",
   "execution_count": 2,
   "id": "d324a530-2f96-4990-abf9-0341f07dbb09",
   "metadata": {
    "tags": []
   },
   "outputs": [],
   "source": [
    "my_string = 'My_name_is_pooran'"
   ]
  },
  {
   "cell_type": "code",
   "execution_count": 16,
   "id": "190b5c52-da39-4f55-a77b-bc4ca62c75ad",
   "metadata": {
    "tags": []
   },
   "outputs": [
    {
     "data": {
      "text/plain": [
       "'M'"
      ]
     },
     "execution_count": 16,
     "metadata": {},
     "output_type": "execute_result"
    }
   ],
   "source": [
    "my_string[0]"
   ]
  },
  {
   "cell_type": "code",
   "execution_count": 17,
   "id": "b33fab96-5f3a-4167-a289-55776e70941a",
   "metadata": {
    "tags": []
   },
   "outputs": [
    {
     "data": {
      "text/plain": [
       "'o'"
      ]
     },
     "execution_count": 17,
     "metadata": {},
     "output_type": "execute_result"
    }
   ],
   "source": [
    "my_string[-4]"
   ]
  },
  {
   "cell_type": "code",
   "execution_count": 18,
   "id": "b454ddd7-d67a-4a42-96b6-9264a4a0a7f0",
   "metadata": {
    "tags": []
   },
   "outputs": [
    {
     "ename": "IndexError",
     "evalue": "string index out of range",
     "output_type": "error",
     "traceback": [
      "\u001b[1;31m---------------------------------------------------------------------------\u001b[0m",
      "\u001b[1;31mIndexError\u001b[0m                                Traceback (most recent call last)",
      "Cell \u001b[1;32mIn[18], line 1\u001b[0m\n\u001b[1;32m----> 1\u001b[0m my_string[\u001b[38;5;241m34\u001b[39m]\n",
      "\u001b[1;31mIndexError\u001b[0m: string index out of range"
     ]
    }
   ],
   "source": [
    "my_string[34]"
   ]
  },
  {
   "cell_type": "code",
   "execution_count": 11,
   "id": "5389f278-51e4-4ae2-91b6-85a77a42435c",
   "metadata": {
    "tags": []
   },
   "outputs": [
    {
     "data": {
      "text/plain": [
       "'name'"
      ]
     },
     "execution_count": 11,
     "metadata": {},
     "output_type": "execute_result"
    }
   ],
   "source": [
    "my_string[3:7]"
   ]
  },
  {
   "cell_type": "code",
   "execution_count": 12,
   "id": "f0a8e7e3-c1cf-4a23-be50-8e5d411848c3",
   "metadata": {
    "tags": []
   },
   "outputs": [
    {
     "data": {
      "text/plain": [
       "'pooran'"
      ]
     },
     "execution_count": 12,
     "metadata": {},
     "output_type": "execute_result"
    }
   ],
   "source": [
    "my_string[11:18]"
   ]
  },
  {
   "cell_type": "code",
   "execution_count": 13,
   "id": "23603384-a3f8-41d4-919c-a1d8756895d4",
   "metadata": {
    "tags": []
   },
   "outputs": [
    {
     "data": {
      "text/plain": [
       "'Mnesoa'"
      ]
     },
     "execution_count": 13,
     "metadata": {},
     "output_type": "execute_result"
    }
   ],
   "source": [
    "my_string[0:17:3]"
   ]
  },
  {
   "cell_type": "code",
   "execution_count": 16,
   "id": "4e350b82-3a99-4d6d-b8dd-c8de786c5a0a",
   "metadata": {
    "tags": []
   },
   "outputs": [
    {
     "data": {
      "text/plain": [
       "'_name'"
      ]
     },
     "execution_count": 16,
     "metadata": {},
     "output_type": "execute_result"
    }
   ],
   "source": [
    "my_string[-15:-10]"
   ]
  },
  {
   "cell_type": "code",
   "execution_count": 17,
   "id": "cd401812-cd50-455b-b96a-02457552505f",
   "metadata": {
    "tags": []
   },
   "outputs": [
    {
     "data": {
      "text/plain": [
       "'ny'"
      ]
     },
     "execution_count": 17,
     "metadata": {},
     "output_type": "execute_result"
    }
   ],
   "source": [
    "my_string[3::-2]"
   ]
  },
  {
   "cell_type": "code",
   "execution_count": 18,
   "id": "d2df97eb-0d35-4bab-87b4-177bf861dfc2",
   "metadata": {
    "tags": []
   },
   "outputs": [
    {
     "data": {
      "text/plain": [
       "'My_name_is_pooran'"
      ]
     },
     "execution_count": 18,
     "metadata": {},
     "output_type": "execute_result"
    }
   ],
   "source": [
    "my_string[::]"
   ]
  },
  {
   "cell_type": "code",
   "execution_count": 19,
   "id": "44972a40-9e37-4c86-9a11-f1a48b028087",
   "metadata": {
    "tags": []
   },
   "outputs": [
    {
     "data": {
      "text/plain": [
       "'_name_is_pooran'"
      ]
     },
     "execution_count": 19,
     "metadata": {},
     "output_type": "execute_result"
    }
   ],
   "source": [
    "my_string[2::]"
   ]
  },
  {
   "cell_type": "code",
   "execution_count": null,
   "id": "1b78b301-03ea-4fb9-a6a2-38dc43707ac8",
   "metadata": {},
   "outputs": [],
   "source": []
  },
  {
   "cell_type": "code",
   "execution_count": null,
   "id": "5d6aea9d-2475-4657-beea-287a5ab5daa7",
   "metadata": {},
   "outputs": [],
   "source": []
  },
  {
   "cell_type": "code",
   "execution_count": 1,
   "id": "1e086dd2-120c-49cc-b207-a0bfc0f3355a",
   "metadata": {
    "tags": []
   },
   "outputs": [],
   "source": [
    "r =\"python\""
   ]
  },
  {
   "cell_type": "code",
   "execution_count": 3,
   "id": "fc3ea47c-128f-4eca-b1fa-3b54ecc9c271",
   "metadata": {
    "tags": []
   },
   "outputs": [
    {
     "data": {
      "text/plain": [
       "'python'"
      ]
     },
     "execution_count": 3,
     "metadata": {},
     "output_type": "execute_result"
    }
   ],
   "source": [
    "r[::1]"
   ]
  },
  {
   "cell_type": "code",
   "execution_count": 2,
   "id": "62a1c28e-3cd9-4bd9-b1f1-5f01b034cb55",
   "metadata": {
    "tags": []
   },
   "outputs": [
    {
     "data": {
      "text/plain": [
       "'nohtyp'"
      ]
     },
     "execution_count": 2,
     "metadata": {},
     "output_type": "execute_result"
    }
   ],
   "source": [
    "r[::-1]"
   ]
  },
  {
   "cell_type": "code",
   "execution_count": 5,
   "id": "cd67184c-7d24-48de-b81e-02ba4fdae721",
   "metadata": {
    "tags": []
   },
   "outputs": [
    {
     "data": {
      "text/plain": [
       "'nohtyp'"
      ]
     },
     "execution_count": 5,
     "metadata": {},
     "output_type": "execute_result"
    }
   ],
   "source": [
    "r[-1:-7:-1]"
   ]
  },
  {
   "cell_type": "code",
   "execution_count": 3,
   "id": "322d820d-2d8f-4a40-926f-edfd96fdd429",
   "metadata": {
    "tags": []
   },
   "outputs": [
    {
     "data": {
      "text/plain": [
       "'python'"
      ]
     },
     "execution_count": 3,
     "metadata": {},
     "output_type": "execute_result"
    }
   ],
   "source": [
    "r[0:100]"
   ]
  },
  {
   "cell_type": "code",
   "execution_count": 4,
   "id": "529a2163-9dd7-45a0-9eaa-5304beb900d9",
   "metadata": {
    "tags": []
   },
   "outputs": [
    {
     "data": {
      "text/plain": [
       "'n'"
      ]
     },
     "execution_count": 4,
     "metadata": {},
     "output_type": "execute_result"
    }
   ],
   "source": [
    "r[5:40]"
   ]
  },
  {
   "cell_type": "code",
   "execution_count": 5,
   "id": "ea4452c9-a8b3-46c1-8ccf-5b960aba2aff",
   "metadata": {
    "tags": []
   },
   "outputs": [
    {
     "data": {
      "text/plain": [
       "''"
      ]
     },
     "execution_count": 5,
     "metadata": {},
     "output_type": "execute_result"
    }
   ],
   "source": [
    "r[7:10]"
   ]
  },
  {
   "cell_type": "code",
   "execution_count": 6,
   "id": "96ae15df-64bc-4f41-bc1f-06a1f157b071",
   "metadata": {
    "tags": []
   },
   "outputs": [
    {
     "data": {
      "text/plain": [
       "'tho'"
      ]
     },
     "execution_count": 6,
     "metadata": {},
     "output_type": "execute_result"
    }
   ],
   "source": [
    "r[-4:-1]"
   ]
  },
  {
   "cell_type": "code",
   "execution_count": 7,
   "id": "a7040c7e-4d51-4bb5-9f5e-b0c545d5e0dc",
   "metadata": {
    "tags": []
   },
   "outputs": [
    {
     "data": {
      "text/plain": [
       "''"
      ]
     },
     "execution_count": 7,
     "metadata": {},
     "output_type": "execute_result"
    }
   ],
   "source": [
    "r[-1:-4]"
   ]
  },
  {
   "cell_type": "code",
   "execution_count": 8,
   "id": "40ea13ba-6cd8-4995-a36c-8d5450d6ca6e",
   "metadata": {
    "tags": []
   },
   "outputs": [
    {
     "data": {
      "text/plain": [
       "''"
      ]
     },
     "execution_count": 8,
     "metadata": {},
     "output_type": "execute_result"
    }
   ],
   "source": [
    "r[5:3]"
   ]
  },
  {
   "cell_type": "code",
   "execution_count": 9,
   "id": "c9d6112a-f93a-4edc-919a-4b345a872d82",
   "metadata": {
    "tags": []
   },
   "outputs": [
    {
     "data": {
      "text/plain": [
       "''"
      ]
     },
     "execution_count": 9,
     "metadata": {},
     "output_type": "execute_result"
    }
   ],
   "source": [
    "r[2:2]"
   ]
  },
  {
   "cell_type": "code",
   "execution_count": 9,
   "id": "fe5c0330-bb71-41e2-84fc-3bda4284b647",
   "metadata": {
    "tags": []
   },
   "outputs": [
    {
     "data": {
      "text/plain": [
       "'no'"
      ]
     },
     "execution_count": 9,
     "metadata": {},
     "output_type": "execute_result"
    }
   ],
   "source": [
    "r[5:3:-1]"
   ]
  },
  {
   "cell_type": "code",
   "execution_count": 10,
   "id": "39fa392c-c11d-40ab-8945-ee42100d9c71",
   "metadata": {
    "tags": []
   },
   "outputs": [
    {
     "data": {
      "text/plain": [
       "''"
      ]
     },
     "execution_count": 10,
     "metadata": {},
     "output_type": "execute_result"
    }
   ],
   "source": [
    "r[3:5:-1]"
   ]
  },
  {
   "cell_type": "code",
   "execution_count": 11,
   "id": "f71a5b0f-54e9-49de-854b-5d564aac8321",
   "metadata": {
    "tags": []
   },
   "outputs": [
    {
     "data": {
      "text/plain": [
       "'oht'"
      ]
     },
     "execution_count": 11,
     "metadata": {},
     "output_type": "execute_result"
    }
   ],
   "source": [
    "r[-2:-5:-1]"
   ]
  },
  {
   "cell_type": "code",
   "execution_count": 12,
   "id": "389a8e72-1fb4-4eeb-87c8-7ef1debc7ae3",
   "metadata": {
    "tags": []
   },
   "outputs": [
    {
     "data": {
      "text/plain": [
       "''"
      ]
     },
     "execution_count": 12,
     "metadata": {},
     "output_type": "execute_result"
    }
   ],
   "source": [
    "r[-5:-2:-1]"
   ]
  },
  {
   "cell_type": "code",
   "execution_count": 13,
   "id": "2a4d0a24-1feb-48a7-ad6e-8b10bd5f1823",
   "metadata": {
    "tags": []
   },
   "outputs": [
    {
     "data": {
      "text/plain": [
       "'thon'"
      ]
     },
     "execution_count": 13,
     "metadata": {},
     "output_type": "execute_result"
    }
   ],
   "source": [
    "r[2:len(r)]"
   ]
  },
  {
   "cell_type": "markdown",
   "id": "c567c082-06aa-42e2-81a1-08b74b7d71e3",
   "metadata": {
    "tags": []
   },
   "source": [
    "### string functions\n"
   ]
  },
  {
   "cell_type": "code",
   "execution_count": null,
   "id": "8aca9069-74c0-4fa7-a012-c404482a154d",
   "metadata": {},
   "outputs": [],
   "source": [
    "### len()\n",
    "    max() , min()\n",
    "    ord(), chr()\n",
    "    "
   ]
  },
  {
   "cell_type": "code",
   "execution_count": 38,
   "id": "89e18abc-ee99-456c-87de-095c2c1a2450",
   "metadata": {
    "tags": []
   },
   "outputs": [],
   "source": [
    "q = \"queen\""
   ]
  },
  {
   "cell_type": "code",
   "execution_count": 43,
   "id": "27612b85-3477-441e-b0fe-27f4c54beedf",
   "metadata": {
    "tags": []
   },
   "outputs": [
    {
     "name": "stdout",
     "output_type": "stream",
     "text": [
      "u\n",
      "e\n"
     ]
    }
   ],
   "source": [
    "print(max(q))\n",
    "print(min(q))\n"
   ]
  },
  {
   "cell_type": "code",
   "execution_count": 45,
   "id": "08e65566-5a8b-4114-9b7e-44ce7bbb50f3",
   "metadata": {
    "tags": []
   },
   "outputs": [
    {
     "data": {
      "text/plain": [
       "'My_name_is_pooran'"
      ]
     },
     "execution_count": 45,
     "metadata": {},
     "output_type": "execute_result"
    }
   ],
   "source": [
    "my_string"
   ]
  },
  {
   "cell_type": "code",
   "execution_count": null,
   "id": "a79339a1-a075-4244-b13d-addce344aca4",
   "metadata": {},
   "outputs": [],
   "source": []
  },
  {
   "cell_type": "code",
   "execution_count": 21,
   "id": "e833585a-6759-4c81-b1d5-5e16a27fc4ee",
   "metadata": {
    "tags": []
   },
   "outputs": [
    {
     "data": {
      "text/plain": [
       "17"
      ]
     },
     "execution_count": 21,
     "metadata": {},
     "output_type": "execute_result"
    }
   ],
   "source": [
    "len(my_string)"
   ]
  },
  {
   "cell_type": "code",
   "execution_count": 1,
   "id": "64e8c832-7311-4bb7-ad9d-87162e874495",
   "metadata": {
    "tags": []
   },
   "outputs": [
    {
     "data": {
      "text/plain": [
       "1"
      ]
     },
     "execution_count": 1,
     "metadata": {},
     "output_type": "execute_result"
    }
   ],
   "source": [
    "s=\"*\"\n",
    "len(s)"
   ]
  },
  {
   "cell_type": "code",
   "execution_count": 2,
   "id": "59223a09-3c61-4947-ba81-37ebc2c7a689",
   "metadata": {
    "tags": []
   },
   "outputs": [
    {
     "name": "stdout",
     "output_type": "stream",
     "text": [
      "1\n",
      "4\n"
     ]
    }
   ],
   "source": [
    "s1=\"1\"\n",
    "s2=\"2.34\"\n",
    "print(len(s1))\n",
    "print(len(s2))"
   ]
  },
  {
   "cell_type": "code",
   "execution_count": null,
   "id": "b495e432-ce15-4cdb-b4dd-586dbde8690e",
   "metadata": {},
   "outputs": [],
   "source": []
  },
  {
   "cell_type": "markdown",
   "id": "25ae742c-63b4-462d-a4da-c11ba153c959",
   "metadata": {},
   "source": [
    "### methods of string"
   ]
  },
  {
   "cell_type": "code",
   "execution_count": null,
   "id": "d905db6e-e657-40a1-bcd2-efaa057b593b",
   "metadata": {},
   "outputs": [],
   "source": []
  },
  {
   "cell_type": "code",
   "execution_count": 22,
   "id": "04f21a72-a34d-4e32-ad1f-16988bacdeca",
   "metadata": {
    "tags": []
   },
   "outputs": [
    {
     "data": {
      "text/plain": [
       "'MY_NAME_IS_POORAN'"
      ]
     },
     "execution_count": 22,
     "metadata": {},
     "output_type": "execute_result"
    }
   ],
   "source": [
    "my_string.upper()"
   ]
  },
  {
   "cell_type": "code",
   "execution_count": null,
   "id": "1260e5b9-4f49-47ab-baaa-66ae0d4dafce",
   "metadata": {},
   "outputs": [],
   "source": []
  },
  {
   "cell_type": "code",
   "execution_count": 46,
   "id": "d2b7430e-3cb4-47ab-8802-44f2281e16a2",
   "metadata": {
    "tags": []
   },
   "outputs": [
    {
     "data": {
      "text/plain": [
       "'My_name_is_pooran'"
      ]
     },
     "execution_count": 46,
     "metadata": {},
     "output_type": "execute_result"
    }
   ],
   "source": [
    "my_string.capitalize() # only first element is capital"
   ]
  },
  {
   "cell_type": "code",
   "execution_count": null,
   "id": "2d45d660-c7f1-4e8d-ad14-93c57a072ba3",
   "metadata": {},
   "outputs": [],
   "source": []
  },
  {
   "cell_type": "code",
   "execution_count": 47,
   "id": "7439eed2-013c-476a-87d9-011e00a3bea7",
   "metadata": {
    "tags": []
   },
   "outputs": [
    {
     "data": {
      "text/plain": [
       "'My_Name_Is_Pooran'"
      ]
     },
     "execution_count": 47,
     "metadata": {},
     "output_type": "execute_result"
    }
   ],
   "source": [
    "my_string.title() # each fist element is capital"
   ]
  },
  {
   "cell_type": "code",
   "execution_count": null,
   "id": "7ad0b463-7e87-46bf-bc7c-f06a5318c889",
   "metadata": {},
   "outputs": [],
   "source": []
  },
  {
   "cell_type": "code",
   "execution_count": 4,
   "id": "65e55f12-0001-4e08-92d1-ffb77f2393bb",
   "metadata": {
    "tags": []
   },
   "outputs": [
    {
     "data": {
      "text/plain": [
       "'my_name_is_pooran'"
      ]
     },
     "execution_count": 4,
     "metadata": {},
     "output_type": "execute_result"
    }
   ],
   "source": [
    "my_string.casefold() "
   ]
  },
  {
   "cell_type": "code",
   "execution_count": null,
   "id": "473bffe1-6070-419d-9ad8-29f758781820",
   "metadata": {},
   "outputs": [],
   "source": []
  },
  {
   "cell_type": "code",
   "execution_count": 26,
   "id": "b09dc1e1-0a49-4ed6-a826-4e4ae710b5e9",
   "metadata": {
    "tags": []
   },
   "outputs": [
    {
     "data": {
      "text/plain": [
       "2"
      ]
     },
     "execution_count": 26,
     "metadata": {},
     "output_type": "execute_result"
    }
   ],
   "source": [
    "my_string.count(\"n\")"
   ]
  },
  {
   "cell_type": "code",
   "execution_count": 27,
   "id": "e683faba-5fbf-4806-80fa-7adec4f8c052",
   "metadata": {
    "tags": []
   },
   "outputs": [
    {
     "data": {
      "text/plain": [
       "3"
      ]
     },
     "execution_count": 27,
     "metadata": {},
     "output_type": "execute_result"
    }
   ],
   "source": [
    "my_string.find('name')"
   ]
  },
  {
   "cell_type": "markdown",
   "id": "bc0687c4-158b-4c56-a173-2041de5f3d49",
   "metadata": {},
   "source": [
    "## replace the substring or index\n",
    "****************************************"
   ]
  },
  {
   "cell_type": "code",
   "execution_count": 14,
   "id": "9a56b086-f26e-44fd-a54a-6b6edad33ade",
   "metadata": {
    "tags": []
   },
   "outputs": [],
   "source": [
    "m1 = ' my name is kartik'"
   ]
  },
  {
   "cell_type": "code",
   "execution_count": 15,
   "id": "c195c414-fa84-4308-8899-565187606606",
   "metadata": {
    "tags": []
   },
   "outputs": [
    {
     "data": {
      "text/plain": [
       "' mk2 name is kartik'"
      ]
     },
     "execution_count": 15,
     "metadata": {},
     "output_type": "execute_result"
    }
   ],
   "source": [
    "m1.replace(\"y\",'k2')"
   ]
  },
  {
   "cell_type": "code",
   "execution_count": 16,
   "id": "8f93294d-2182-4075-9331-e9b23029e70d",
   "metadata": {
    "tags": []
   },
   "outputs": [],
   "source": [
    "m2= ' where are you'"
   ]
  },
  {
   "cell_type": "code",
   "execution_count": 17,
   "id": "e0b4e32f-46fd-4202-8784-0dc3ab5f8fdb",
   "metadata": {
    "tags": []
   },
   "outputs": [
    {
     "data": {
      "text/plain": [
       "' 5ere are you'"
      ]
     },
     "execution_count": 17,
     "metadata": {},
     "output_type": "execute_result"
    }
   ],
   "source": [
    "m2.replace('wh','5')"
   ]
  },
  {
   "cell_type": "code",
   "execution_count": 3,
   "id": "0ed3fdf9-1291-44c4-91ba-e8eed77332b6",
   "metadata": {
    "tags": []
   },
   "outputs": [
    {
     "data": {
      "text/plain": [
       "'atom !@ the smallest particle'"
      ]
     },
     "execution_count": 3,
     "metadata": {},
     "output_type": "execute_result"
    }
   ],
   "source": [
    "s3=\"atom is the smallest particle\"\n",
    "s3.replace(\"is\",\"!@\")"
   ]
  },
  {
   "cell_type": "code",
   "execution_count": 4,
   "id": "6f9a1ff4-84a1-4d1f-a892-045dd5a450c5",
   "metadata": {
    "tags": []
   },
   "outputs": [
    {
     "data": {
      "text/plain": [
       "'123tom is the sm123llest p123rticle'"
      ]
     },
     "execution_count": 4,
     "metadata": {},
     "output_type": "execute_result"
    }
   ],
   "source": [
    "s3.replace('a',\"123\")"
   ]
  },
  {
   "cell_type": "code",
   "execution_count": 1,
   "id": "e76d59a6-df54-42db-b3fe-f80731d3e109",
   "metadata": {
    "tags": []
   },
   "outputs": [],
   "source": [
    "I = \"interview\""
   ]
  },
  {
   "cell_type": "code",
   "execution_count": 2,
   "id": "04441748-4f66-421e-87ed-00b0969bca8e",
   "metadata": {
    "tags": []
   },
   "outputs": [
    {
     "ename": "TypeError",
     "evalue": "replace() argument 2 must be str, not int",
     "output_type": "error",
     "traceback": [
      "\u001b[1;31m---------------------------------------------------------------------------\u001b[0m",
      "\u001b[1;31mTypeError\u001b[0m                                 Traceback (most recent call last)",
      "Cell \u001b[1;32mIn[2], line 1\u001b[0m\n\u001b[1;32m----> 1\u001b[0m I\u001b[38;5;241m.\u001b[39mreplace(\u001b[38;5;124m\"\u001b[39m\u001b[38;5;124me\u001b[39m\u001b[38;5;124m\"\u001b[39m, \u001b[38;5;241m4\u001b[39m)\n",
      "\u001b[1;31mTypeError\u001b[0m: replace() argument 2 must be str, not int"
     ]
    }
   ],
   "source": [
    "# replacing word must be string not an integer \n",
    "I.replace(\"e\", 4)"
   ]
  },
  {
   "cell_type": "code",
   "execution_count": 5,
   "id": "eda8c0e4-4062-4861-9ab7-cc7d802e23f2",
   "metadata": {
    "tags": []
   },
   "outputs": [
    {
     "data": {
      "text/plain": [
       "'interview'"
      ]
     },
     "execution_count": 5,
     "metadata": {},
     "output_type": "execute_result"
    }
   ],
   "source": [
    "I"
   ]
  },
  {
   "cell_type": "code",
   "execution_count": 6,
   "id": "82904389-c2ab-4ce6-a47b-a166fd73b044",
   "metadata": {
    "tags": []
   },
   "outputs": [
    {
     "data": {
      "text/plain": [
       "'int-rview'"
      ]
     },
     "execution_count": 6,
     "metadata": {},
     "output_type": "execute_result"
    }
   ],
   "source": [
    "I.replace(\"e\",\"-\",1)"
   ]
  },
  {
   "cell_type": "code",
   "execution_count": 7,
   "id": "db17cae8-6670-4487-89d4-869baf523dac",
   "metadata": {
    "tags": []
   },
   "outputs": [
    {
     "data": {
      "text/plain": [
       "'int-rvi-w'"
      ]
     },
     "execution_count": 7,
     "metadata": {},
     "output_type": "execute_result"
    }
   ],
   "source": [
    "I.replace(\"e\",\"-\",2)"
   ]
  },
  {
   "cell_type": "code",
   "execution_count": 8,
   "id": "2fe9ffcf-d113-43ec-9f66-afee19fbaf12",
   "metadata": {
    "tags": []
   },
   "outputs": [
    {
     "data": {
      "text/plain": [
       "'int-rvi-w'"
      ]
     },
     "execution_count": 8,
     "metadata": {},
     "output_type": "execute_result"
    }
   ],
   "source": [
    "I.replace(\"e\",\"-\",4)"
   ]
  },
  {
   "cell_type": "code",
   "execution_count": 9,
   "id": "094bf60c-2d6d-444b-8c62-00f5f98c3bc5",
   "metadata": {},
   "outputs": [
    {
     "data": {
      "text/plain": [
       "'interview'"
      ]
     },
     "execution_count": 9,
     "metadata": {},
     "output_type": "execute_result"
    }
   ],
   "source": [
    "I"
   ]
  },
  {
   "cell_type": "raw",
   "id": "fa5ef878-36b2-40b3-8bd5-011fa02b1e83",
   "metadata": {},
   "source": [
    "# we see that after replacing the value of string  it remain same its mean string is immutable \n",
    "hence we can't change the value inside the string i.e we can't modify value inside the string"
   ]
  },
  {
   "cell_type": "code",
   "execution_count": 1,
   "id": "119bd3b7-6d8c-43a4-9220-076806c09ac4",
   "metadata": {
    "tags": []
   },
   "outputs": [
    {
     "data": {
      "text/plain": [
       "'thIS IS my pen'"
      ]
     },
     "execution_count": 1,
     "metadata": {},
     "output_type": "execute_result"
    }
   ],
   "source": [
    "_ = \"this is my pen\"\n",
    "_.replace(\"is\",\"IS\",3)\n"
   ]
  },
  {
   "cell_type": "code",
   "execution_count": null,
   "id": "780c61b6-e238-4383-b3fe-f64e8beffb16",
   "metadata": {},
   "outputs": [],
   "source": []
  },
  {
   "cell_type": "code",
   "execution_count": null,
   "id": "ea5c752e-a7f2-45b6-be55-11b5e4278ded",
   "metadata": {},
   "outputs": [],
   "source": []
  },
  {
   "cell_type": "markdown",
   "id": "e037e0a5-0a5f-46f2-bd53-b32e35745c79",
   "metadata": {},
   "source": [
    "**split**"
   ]
  },
  {
   "cell_type": "code",
   "execution_count": null,
   "id": "a8957f8d-f0c5-476a-a47f-f5f4275698de",
   "metadata": {},
   "outputs": [],
   "source": []
  },
  {
   "cell_type": "code",
   "execution_count": 3,
   "id": "69a9cf6e-5b58-4907-9af5-3bbb8520e270",
   "metadata": {
    "tags": []
   },
   "outputs": [],
   "source": [
    "fruits = \" i like mango apple orange grapes\""
   ]
  },
  {
   "cell_type": "code",
   "execution_count": 4,
   "id": "5c2a21d6-4c57-4756-8e7e-cbf20b5f7498",
   "metadata": {
    "tags": []
   },
   "outputs": [
    {
     "data": {
      "text/plain": [
       "['i', 'like', 'mango', 'apple', 'orange', 'grapes']"
      ]
     },
     "execution_count": 4,
     "metadata": {},
     "output_type": "execute_result"
    }
   ],
   "source": [
    "fruits.split()"
   ]
  },
  {
   "cell_type": "code",
   "execution_count": null,
   "id": "569f105f-b450-4335-aa9f-c9bbbd575025",
   "metadata": {},
   "outputs": [],
   "source": []
  },
  {
   "cell_type": "code",
   "execution_count": null,
   "id": "cf6051a7-c22b-42e7-8bea-84c935408bc4",
   "metadata": {},
   "outputs": [],
   "source": []
  },
  {
   "cell_type": "markdown",
   "id": "71cc9c61-409b-4b62-b56d-d2d6792e509f",
   "metadata": {},
   "source": [
    "### string + string \n",
    "*************************"
   ]
  },
  {
   "cell_type": "code",
   "execution_count": 7,
   "id": "524e9e63-dda2-410e-9201-6d8ec7001363",
   "metadata": {
    "tags": []
   },
   "outputs": [],
   "source": [
    "p='physics'\n",
    "p1 = 'is my favourite subject'"
   ]
  },
  {
   "cell_type": "code",
   "execution_count": 8,
   "id": "cece7188-1644-4181-8a52-76492fd0404c",
   "metadata": {
    "tags": []
   },
   "outputs": [
    {
     "data": {
      "text/plain": [
       "'physicsis my favourite subject'"
      ]
     },
     "execution_count": 8,
     "metadata": {},
     "output_type": "execute_result"
    }
   ],
   "source": [
    "p+p1"
   ]
  },
  {
   "cell_type": "code",
   "execution_count": 19,
   "id": "def09bd0-1a5b-4b94-b2bd-2c747b3362d7",
   "metadata": {
    "tags": []
   },
   "outputs": [
    {
     "name": "stdout",
     "output_type": "stream",
     "text": [
      "helloworld\n"
     ]
    }
   ],
   "source": [
    "print(\"hello\"+\"world\")"
   ]
  },
  {
   "cell_type": "code",
   "execution_count": 20,
   "id": "6e1f1d87-9b68-4784-a10a-c6c9ef0f0168",
   "metadata": {
    "tags": []
   },
   "outputs": [
    {
     "data": {
      "text/plain": [
       "'electrom neutron 1'"
      ]
     },
     "execution_count": 20,
     "metadata": {},
     "output_type": "execute_result"
    }
   ],
   "source": [
    "\"electrom\"+\" \" +\"neutron\" + \" \" +\"1\""
   ]
  },
  {
   "cell_type": "markdown",
   "id": "f118fa22-ae9f-4f04-aad3-6eba952e7f78",
   "metadata": {},
   "source": [
    "### string + int = not possible\n",
    "************************************"
   ]
  },
  {
   "cell_type": "code",
   "execution_count": 9,
   "id": "49ec2a2b-cdb2-445e-a7b8-7d1536b59247",
   "metadata": {
    "tags": []
   },
   "outputs": [],
   "source": [
    "p = 'dog'\n",
    "p1= 2"
   ]
  },
  {
   "cell_type": "code",
   "execution_count": 10,
   "id": "33ac6e28-2a81-4313-a480-d86bc0784f70",
   "metadata": {
    "tags": []
   },
   "outputs": [
    {
     "ename": "TypeError",
     "evalue": "can only concatenate str (not \"int\") to str",
     "output_type": "error",
     "traceback": [
      "\u001b[1;31m---------------------------------------------------------------------------\u001b[0m",
      "\u001b[1;31mTypeError\u001b[0m                                 Traceback (most recent call last)",
      "Cell \u001b[1;32mIn[10], line 1\u001b[0m\n\u001b[1;32m----> 1\u001b[0m p\u001b[38;5;241m+\u001b[39mp1\n",
      "\u001b[1;31mTypeError\u001b[0m: can only concatenate str (not \"int\") to str"
     ]
    }
   ],
   "source": [
    "p+p1"
   ]
  },
  {
   "cell_type": "code",
   "execution_count": 1,
   "id": "62cdb464-54f7-4eec-9faa-b4e0391071b5",
   "metadata": {},
   "outputs": [
    {
     "name": "stdout",
     "output_type": "stream",
     "text": [
      "starstarstar\n"
     ]
    }
   ],
   "source": [
    "x = \"star\"\n",
    "print(x*3)"
   ]
  },
  {
   "cell_type": "markdown",
   "id": "e164f420-28c6-4580-87b9-3ef0b1f5f030",
   "metadata": {},
   "source": [
    "### method of string   ------------------>>>>>>>>>>>    \n",
    ".upper()\n",
    ".lower()\n",
    ".capitalize()\n",
    ".title()\n",
    ".find()\n",
    ".count()\n",
    ".index()\n",
    ".replace()\n",
    ".startswith()\n",
    ".endswith()\n",
    ".split()\n",
    ".join()\n",
    ".strip()\n",
    ".isnumeric()"
   ]
  },
  {
   "cell_type": "code",
   "execution_count": 9,
   "id": "26ceb8db-a725-4de9-9834-07fbebdb33ed",
   "metadata": {
    "tags": []
   },
   "outputs": [
    {
     "data": {
      "text/plain": [
       "'hello'"
      ]
     },
     "execution_count": 9,
     "metadata": {},
     "output_type": "execute_result"
    }
   ],
   "source": [
    "\"   hello   \".strip()"
   ]
  },
  {
   "cell_type": "code",
   "execution_count": null,
   "id": "2583e214-d5ca-44e5-be6a-177102888096",
   "metadata": {},
   "outputs": [],
   "source": []
  },
  {
   "cell_type": "code",
   "execution_count": 2,
   "id": "024b55bf-5256-4f4f-812b-0924f98a5c3b",
   "metadata": {
    "tags": []
   },
   "outputs": [
    {
     "data": {
      "text/plain": [
       "'hello   '"
      ]
     },
     "execution_count": 2,
     "metadata": {},
     "output_type": "execute_result"
    }
   ],
   "source": [
    "\"   hello   \".lstrip()"
   ]
  },
  {
   "cell_type": "code",
   "execution_count": null,
   "id": "ddae3654-673b-4a95-8bd0-e7725b93c58e",
   "metadata": {},
   "outputs": [],
   "source": []
  },
  {
   "cell_type": "code",
   "execution_count": 1,
   "id": "fed157fc-7a1c-42e2-a28b-e312351fa8fe",
   "metadata": {
    "tags": []
   },
   "outputs": [
    {
     "data": {
      "text/plain": [
       "'   hello'"
      ]
     },
     "execution_count": 1,
     "metadata": {},
     "output_type": "execute_result"
    }
   ],
   "source": [
    "\"   hello   \".rstrip()"
   ]
  },
  {
   "cell_type": "code",
   "execution_count": null,
   "id": "d81946f7-64f2-487c-8ed8-b3629cc5984a",
   "metadata": {},
   "outputs": [],
   "source": []
  },
  {
   "cell_type": "code",
   "execution_count": 7,
   "id": "49c9b6fb-9f08-49a6-a000-3d2741c94658",
   "metadata": {
    "tags": []
   },
   "outputs": [],
   "source": [
    "y=\"**h**I**\""
   ]
  },
  {
   "cell_type": "code",
   "execution_count": 9,
   "id": "991d8427-8520-4eaa-84f5-df7a57705dd3",
   "metadata": {
    "tags": []
   },
   "outputs": [
    {
     "data": {
      "text/plain": [
       "'h**I'"
      ]
     },
     "execution_count": 9,
     "metadata": {},
     "output_type": "execute_result"
    }
   ],
   "source": [
    "y.strip(\"*\")"
   ]
  },
  {
   "cell_type": "code",
   "execution_count": null,
   "id": "75840eac-465f-41f7-b6e9-82d39b7a4321",
   "metadata": {},
   "outputs": [],
   "source": []
  },
  {
   "cell_type": "code",
   "execution_count": 10,
   "id": "f94bb003-92d1-46eb-ad16-8e88f6706db9",
   "metadata": {
    "tags": []
   },
   "outputs": [
    {
     "data": {
      "text/plain": [
       "'**h**I'"
      ]
     },
     "execution_count": 10,
     "metadata": {},
     "output_type": "execute_result"
    }
   ],
   "source": [
    "y.rstrip(\"*\")"
   ]
  },
  {
   "cell_type": "code",
   "execution_count": null,
   "id": "540fb0b7-b526-4565-9e39-27398decb88d",
   "metadata": {},
   "outputs": [],
   "source": []
  },
  {
   "cell_type": "code",
   "execution_count": 11,
   "id": "7d30a15d-3ef2-4c16-8322-63978c2f942c",
   "metadata": {
    "tags": []
   },
   "outputs": [
    {
     "data": {
      "text/plain": [
       "'h**I**'"
      ]
     },
     "execution_count": 11,
     "metadata": {},
     "output_type": "execute_result"
    }
   ],
   "source": [
    "y.lstrip(\"*\")"
   ]
  },
  {
   "cell_type": "code",
   "execution_count": null,
   "id": "6c90e3d1-0873-49f3-b400-46ae58feb7fe",
   "metadata": {},
   "outputs": [],
   "source": []
  },
  {
   "cell_type": "code",
   "execution_count": 11,
   "id": "fac96b96-3f08-4875-a68b-371ea5490e54",
   "metadata": {
    "tags": []
   },
   "outputs": [
    {
     "data": {
      "text/plain": [
       "True"
      ]
     },
     "execution_count": 11,
     "metadata": {},
     "output_type": "execute_result"
    }
   ],
   "source": [
    "\"hello\".endswith(\"lo\")"
   ]
  },
  {
   "cell_type": "code",
   "execution_count": 12,
   "id": "dc1305bf-4d98-4f81-8578-aa5f9f205b13",
   "metadata": {
    "tags": []
   },
   "outputs": [
    {
     "ename": "TypeError",
     "evalue": "str.join() takes exactly one argument (2 given)",
     "output_type": "error",
     "traceback": [
      "\u001b[1;31m---------------------------------------------------------------------------\u001b[0m",
      "\u001b[1;31mTypeError\u001b[0m                                 Traceback (most recent call last)",
      "Cell \u001b[1;32mIn[12], line 1\u001b[0m\n\u001b[1;32m----> 1\u001b[0m \u001b[38;5;124m\"\u001b[39m\u001b[38;5;124m_\u001b[39m\u001b[38;5;124m\"\u001b[39m\u001b[38;5;241m.\u001b[39mjoin(\u001b[38;5;124m\"\u001b[39m\u001b[38;5;124mk\u001b[39m\u001b[38;5;124m\"\u001b[39m,\u001b[38;5;124m\"\u001b[39m\u001b[38;5;124mram\u001b[39m\u001b[38;5;124m\"\u001b[39m)\n",
      "\u001b[1;31mTypeError\u001b[0m: str.join() takes exactly one argument (2 given)"
     ]
    }
   ],
   "source": [
    "\"_\".join(\"k\",\"ram\")"
   ]
  },
  {
   "cell_type": "code",
   "execution_count": 14,
   "id": "e8d2446d-c34a-42d7-aa2f-d3ba1f2cdf1a",
   "metadata": {
    "tags": []
   },
   "outputs": [
    {
     "data": {
      "text/plain": [
       "'r-a-m'"
      ]
     },
     "execution_count": 14,
     "metadata": {},
     "output_type": "execute_result"
    }
   ],
   "source": [
    "\"-\".join(\"ram\")"
   ]
  },
  {
   "cell_type": "code",
   "execution_count": 49,
   "id": "e531498f-cc12-455c-9b0c-7b7e671fcc18",
   "metadata": {
    "tags": []
   },
   "outputs": [
    {
     "data": {
      "text/plain": [
       "'A12@B12@C'"
      ]
     },
     "execution_count": 49,
     "metadata": {},
     "output_type": "execute_result"
    }
   ],
   "source": [
    "\"12@\".join(\"ABC\")"
   ]
  },
  {
   "cell_type": "code",
   "execution_count": null,
   "id": "d21836f5-8375-41ee-89a2-14cbbde6d578",
   "metadata": {},
   "outputs": [],
   "source": []
  },
  {
   "cell_type": "code",
   "execution_count": 17,
   "id": "b2e3e3ca-ea6a-4713-92c5-eb1b63d3445f",
   "metadata": {
    "tags": []
   },
   "outputs": [
    {
     "data": {
      "text/plain": [
       "True"
      ]
     },
     "execution_count": 17,
     "metadata": {},
     "output_type": "execute_result"
    }
   ],
   "source": [
    "\"123\".isnumeric()"
   ]
  },
  {
   "cell_type": "code",
   "execution_count": 18,
   "id": "0994e3a0-3247-4416-b74b-b6d0318b892d",
   "metadata": {
    "tags": []
   },
   "outputs": [
    {
     "data": {
      "text/plain": [
       "False"
      ]
     },
     "execution_count": 18,
     "metadata": {},
     "output_type": "execute_result"
    }
   ],
   "source": [
    "\"12t\".isnumeric()"
   ]
  },
  {
   "cell_type": "code",
   "execution_count": null,
   "id": "f82f2864-5aa0-4aa6-bd39-1be985528746",
   "metadata": {},
   "outputs": [],
   "source": []
  },
  {
   "cell_type": "code",
   "execution_count": 50,
   "id": "a63a461c-f84e-4920-b8c5-7abcab5d3340",
   "metadata": {},
   "outputs": [],
   "source": [
    "swc = \"AbCdEf\""
   ]
  },
  {
   "cell_type": "code",
   "execution_count": 51,
   "id": "477a99bb-e19a-4b4d-9bea-351346fdb9ee",
   "metadata": {
    "tags": []
   },
   "outputs": [
    {
     "data": {
      "text/plain": [
       "'aBcDeF'"
      ]
     },
     "execution_count": 51,
     "metadata": {},
     "output_type": "execute_result"
    }
   ],
   "source": [
    "swc.swapcase()"
   ]
  },
  {
   "cell_type": "code",
   "execution_count": null,
   "id": "2c63c11a-6cc0-4290-9b4a-25782c51baef",
   "metadata": {},
   "outputs": [],
   "source": []
  },
  {
   "cell_type": "code",
   "execution_count": 1,
   "id": "0a68333e-e1a0-4661-bf0f-776c47c7d063",
   "metadata": {
    "tags": []
   },
   "outputs": [
    {
     "data": {
      "text/plain": [
       "True"
      ]
     },
     "execution_count": 1,
     "metadata": {},
     "output_type": "execute_result"
    }
   ],
   "source": [
    "mystr=\"abc12\"\n",
    "mystr.isalnum()"
   ]
  },
  {
   "cell_type": "code",
   "execution_count": null,
   "id": "4bdfae41-c31e-4cc5-b9c5-5cb39771ce56",
   "metadata": {},
   "outputs": [],
   "source": []
  },
  {
   "cell_type": "code",
   "execution_count": 4,
   "id": "fac55bab-794b-44a8-a5e2-9c7612e142a8",
   "metadata": {
    "tags": []
   },
   "outputs": [
    {
     "data": {
      "text/plain": [
       "'    w     '"
      ]
     },
     "execution_count": 4,
     "metadata": {},
     "output_type": "execute_result"
    }
   ],
   "source": [
    "str1=\"w\"\n",
    "str1.center(10)"
   ]
  },
  {
   "cell_type": "code",
   "execution_count": null,
   "id": "b868f361-eefc-44fe-a7b5-802060db3849",
   "metadata": {},
   "outputs": [],
   "source": []
  },
  {
   "cell_type": "code",
   "execution_count": 8,
   "id": "292f5b14-819f-4cd2-be58-d2e17ddaf574",
   "metadata": {
    "tags": []
   },
   "outputs": [
    {
     "data": {
      "text/plain": [
       "'2222w22222'"
      ]
     },
     "execution_count": 8,
     "metadata": {},
     "output_type": "execute_result"
    }
   ],
   "source": [
    "str1.center(10,\"2\")"
   ]
  },
  {
   "cell_type": "code",
   "execution_count": null,
   "id": "1c977cb7-6d31-4e73-8a37-ed5d38c3c6b6",
   "metadata": {},
   "outputs": [],
   "source": []
  },
  {
   "cell_type": "code",
   "execution_count": 9,
   "id": "fc6278dd-6056-47fd-91d8-07c9215c2ec2",
   "metadata": {
    "tags": []
   },
   "outputs": [
    {
     "data": {
      "text/plain": [
       "'         w'"
      ]
     },
     "execution_count": 9,
     "metadata": {},
     "output_type": "execute_result"
    }
   ],
   "source": [
    "str1.rjust(10)"
   ]
  },
  {
   "cell_type": "code",
   "execution_count": 10,
   "id": "46143eb8-7239-4803-b9d6-4d7d67344202",
   "metadata": {
    "tags": []
   },
   "outputs": [
    {
     "data": {
      "text/plain": [
       "'*********w'"
      ]
     },
     "execution_count": 10,
     "metadata": {},
     "output_type": "execute_result"
    }
   ],
   "source": [
    "str1.rjust(10,\"*\")"
   ]
  },
  {
   "cell_type": "code",
   "execution_count": null,
   "id": "ce7a7c35-a614-469d-b49a-1fb30ad2a397",
   "metadata": {},
   "outputs": [],
   "source": []
  },
  {
   "cell_type": "markdown",
   "id": "8d9a68d4-e73c-4daf-871b-a1c11cff9ee2",
   "metadata": {},
   "source": [
    "## f string / string interpolation"
   ]
  },
  {
   "cell_type": "code",
   "execution_count": 11,
   "id": "b5662511-b1c9-4faf-ab10-ff6535ff2660",
   "metadata": {
    "tags": []
   },
   "outputs": [
    {
     "name": "stdout",
     "output_type": "stream",
     "text": [
      "my number is a and b\n"
     ]
    }
   ],
   "source": [
    "a,b = 10 ,20\n",
    "print(\"my number is a and b\")"
   ]
  },
  {
   "cell_type": "code",
   "execution_count": 12,
   "id": "2f4e268a-76f2-4dde-9d35-a2a6d9d399b2",
   "metadata": {
    "tags": []
   },
   "outputs": [
    {
     "name": "stdout",
     "output_type": "stream",
     "text": [
      "my number is 10 and 20\n"
     ]
    }
   ],
   "source": [
    "print(f\"my number is {a} and {b}\")"
   ]
  },
  {
   "cell_type": "code",
   "execution_count": 13,
   "id": "c66fc4c6-7de2-4fb8-a241-b3036be6c905",
   "metadata": {
    "tags": []
   },
   "outputs": [
    {
     "name": "stdout",
     "output_type": "stream",
     "text": [
      "my number is 10 and 20 \n"
     ]
    }
   ],
   "source": [
    "### 2nd method\n",
    "print(\"my number is {} and {} \".format(a,b))"
   ]
  },
  {
   "cell_type": "code",
   "execution_count": 14,
   "id": "97786c0f-dcb1-4dc1-ad22-c59aa75260de",
   "metadata": {},
   "outputs": [
    {
     "name": "stdout",
     "output_type": "stream",
     "text": [
      "10,20\n"
     ]
    }
   ],
   "source": [
    "print(\"{},{}\".format(a,b))"
   ]
  },
  {
   "cell_type": "code",
   "execution_count": null,
   "id": "1af331de-6f22-43c7-b368-6c2d1628378e",
   "metadata": {},
   "outputs": [],
   "source": []
  }
 ],
 "metadata": {
  "kernelspec": {
   "display_name": "Python 3 (ipykernel)",
   "language": "python",
   "name": "python3"
  },
  "language_info": {
   "codemirror_mode": {
    "name": "ipython",
    "version": 3
   },
   "file_extension": ".py",
   "mimetype": "text/x-python",
   "name": "python",
   "nbconvert_exporter": "python",
   "pygments_lexer": "ipython3",
   "version": "3.11.5"
  }
 },
 "nbformat": 4,
 "nbformat_minor": 5
}
