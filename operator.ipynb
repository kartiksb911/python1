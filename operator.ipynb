{
 "cells": [
  {
   "cell_type": "code",
   "execution_count": 2,
   "id": "495dd6b8-4f64-4ca2-b558-c3ff7675bb74",
   "metadata": {
    "tags": []
   },
   "outputs": [
    {
     "name": "stdout",
     "output_type": "stream",
     "text": [
      "6/4\n"
     ]
    }
   ],
   "source": [
    "str1 = \"6/4\"\n",
    "print(str1)"
   ]
  },
  {
   "cell_type": "code",
   "execution_count": null,
   "id": "04744b8f-c7d1-412b-9697-fdd37644bd53",
   "metadata": {},
   "outputs": [],
   "source": []
  },
  {
   "cell_type": "code",
   "execution_count": 3,
   "id": "eafbb411-e705-4913-817a-c3c2b8c48c80",
   "metadata": {
    "tags": []
   },
   "outputs": [
    {
     "name": "stdout",
     "output_type": "stream",
     "text": [
      "str1\n"
     ]
    }
   ],
   "source": [
    "str1 = \"6/4\"\n",
    "print(\"str1\")"
   ]
  },
  {
   "cell_type": "code",
   "execution_count": null,
   "id": "fb88462e-d661-4822-aceb-3ca7d298952d",
   "metadata": {},
   "outputs": [],
   "source": []
  },
  {
   "cell_type": "code",
   "execution_count": null,
   "id": "2b86ac99-1d13-4942-bd4e-1d417121cf69",
   "metadata": {},
   "outputs": [],
   "source": []
  },
  {
   "cell_type": "markdown",
   "id": "1143eecf-4b0d-4c16-81a1-be2e219d6c57",
   "metadata": {},
   "source": [
    "#### airthmetic operator  "
   ]
  },
  {
   "cell_type": "code",
   "execution_count": 1,
   "id": "7092c559-ee81-44b7-bdbd-d44207022ef6",
   "metadata": {
    "tags": []
   },
   "outputs": [
    {
     "name": "stdout",
     "output_type": "stream",
     "text": [
      "335\n",
      "-331\n",
      "15\n"
     ]
    }
   ],
   "source": [
    "print(2+333)\n",
    "print(2-333)\n",
    "print(5*3)"
   ]
  },
  {
   "cell_type": "code",
   "execution_count": 2,
   "id": "42546efe-e865-4a32-af13-059b9829d9f2",
   "metadata": {
    "tags": []
   },
   "outputs": [
    {
     "data": {
      "text/plain": [
       "1"
      ]
     },
     "execution_count": 2,
     "metadata": {},
     "output_type": "execute_result"
    }
   ],
   "source": [
    "\"\"\" moduls----->>>> remainder \"\"\"\n",
    "6%5"
   ]
  },
  {
   "cell_type": "code",
   "execution_count": 6,
   "id": "d8878bd2",
   "metadata": {},
   "outputs": [
    {
     "data": {
      "text/plain": [
       "1.2"
      ]
     },
     "execution_count": 6,
     "metadata": {},
     "output_type": "execute_result"
    }
   ],
   "source": [
    " ### divide ---->>>> quotient\n",
    "6/5"
   ]
  },
  {
   "cell_type": "code",
   "execution_count": 4,
   "id": "93996415-c625-447b-8bf7-a14839eb6736",
   "metadata": {
    "tags": []
   },
   "outputs": [
    {
     "data": {
      "text/plain": [
       "1"
      ]
     },
     "execution_count": 4,
     "metadata": {},
     "output_type": "execute_result"
    }
   ],
   "source": [
    "### floor division ---->>> quotient integer\n",
    "6//5"
   ]
  },
  {
   "cell_type": "code",
   "execution_count": 2,
   "id": "cd4bf591-e862-4673-bc58-a3624f9601dd",
   "metadata": {
    "tags": []
   },
   "outputs": [
    {
     "name": "stdout",
     "output_type": "stream",
     "text": [
      "358\n",
      "420\n",
      "45\n"
     ]
    }
   ],
   "source": [
    "print(2+356)\n",
    "print(876-456)\n",
    "print(5*9)"
   ]
  },
  {
   "cell_type": "markdown",
   "id": "6bbe5393-2e0b-412f-b6d2-7be6f6db275d",
   "metadata": {},
   "source": [
    "# exponantial"
   ]
  },
  {
   "cell_type": "code",
   "execution_count": 7,
   "id": "c6530a9e",
   "metadata": {},
   "outputs": [
    {
     "data": {
      "text/plain": [
       "9"
      ]
     },
     "execution_count": 7,
     "metadata": {},
     "output_type": "execute_result"
    }
   ],
   "source": [
    "3**2"
   ]
  },
  {
   "cell_type": "markdown",
   "id": "b2688ba7-3cbe-4fea-8cd7-908490f66320",
   "metadata": {
    "tags": []
   },
   "source": [
    "### relational or comparision = gives answer in true or false"
   ]
  },
  {
   "cell_type": "code",
   "execution_count": 10,
   "id": "d6ef0c60",
   "metadata": {
    "tags": []
   },
   "outputs": [
    {
     "data": {
      "text/plain": [
       "False"
      ]
     },
     "execution_count": 10,
     "metadata": {},
     "output_type": "execute_result"
    }
   ],
   "source": [
    "2==3   # it check value"
   ]
  },
  {
   "cell_type": "code",
   "execution_count": 3,
   "id": "fe5a0fa9-9977-45f1-bed4-45f5daaa4534",
   "metadata": {
    "tags": []
   },
   "outputs": [
    {
     "data": {
      "text/plain": [
       "False"
      ]
     },
     "execution_count": 3,
     "metadata": {},
     "output_type": "execute_result"
    }
   ],
   "source": [
    "j=\"4\"\n",
    "k=4\n",
    "j==k"
   ]
  },
  {
   "cell_type": "code",
   "execution_count": 5,
   "id": "e8a51a4f-a2d0-4000-8ead-f02e85235a8e",
   "metadata": {
    "tags": []
   },
   "outputs": [
    {
     "data": {
      "text/plain": [
       "True"
      ]
     },
     "execution_count": 5,
     "metadata": {},
     "output_type": "execute_result"
    }
   ],
   "source": [
    "m=\"harry\"\n",
    "n=\"harry\"\n",
    "m==n"
   ]
  },
  {
   "cell_type": "code",
   "execution_count": 6,
   "id": "676a4e25-998e-4930-80d1-4a008bf27907",
   "metadata": {
    "tags": []
   },
   "outputs": [
    {
     "data": {
      "text/plain": [
       "True"
      ]
     },
     "execution_count": 6,
     "metadata": {},
     "output_type": "execute_result"
    }
   ],
   "source": [
    "g=[1,2]\n",
    "h=[1,2]\n",
    "g==h"
   ]
  },
  {
   "cell_type": "code",
   "execution_count": 7,
   "id": "097adce2-4fc4-4c33-afbb-de12d1bc9b3a",
   "metadata": {
    "tags": []
   },
   "outputs": [
    {
     "name": "stdout",
     "output_type": "stream",
     "text": [
      "2272388215296\n",
      "2272388144704\n"
     ]
    }
   ],
   "source": [
    "print(id(g))\n",
    "print(id(h))"
   ]
  },
  {
   "cell_type": "code",
   "execution_count": null,
   "id": "2ca92bdf-ac93-4946-bf38-e85ace34ff25",
   "metadata": {},
   "outputs": [],
   "source": []
  },
  {
   "cell_type": "code",
   "execution_count": 9,
   "id": "bbe80889",
   "metadata": {},
   "outputs": [
    {
     "data": {
      "text/plain": [
       "True"
      ]
     },
     "execution_count": 9,
     "metadata": {},
     "output_type": "execute_result"
    }
   ],
   "source": [
    "4>=2\n"
   ]
  },
  {
   "cell_type": "code",
   "execution_count": 11,
   "id": "53d9e2cc",
   "metadata": {},
   "outputs": [
    {
     "data": {
      "text/plain": [
       "True"
      ]
     },
     "execution_count": 11,
     "metadata": {},
     "output_type": "execute_result"
    }
   ],
   "source": [
    "True>=True"
   ]
  },
  {
   "cell_type": "code",
   "execution_count": 12,
   "id": "396ce682",
   "metadata": {},
   "outputs": [
    {
     "data": {
      "text/plain": [
       "True"
      ]
     },
     "execution_count": 12,
     "metadata": {},
     "output_type": "execute_result"
    }
   ],
   "source": [
    "True>=False"
   ]
  },
  {
   "cell_type": "code",
   "execution_count": 13,
   "id": "7210d010",
   "metadata": {},
   "outputs": [
    {
     "data": {
      "text/plain": [
       "False"
      ]
     },
     "execution_count": 13,
     "metadata": {},
     "output_type": "execute_result"
    }
   ],
   "source": [
    "True!=True"
   ]
  },
  {
   "cell_type": "code",
   "execution_count": 14,
   "id": "aa54f335",
   "metadata": {},
   "outputs": [
    {
     "data": {
      "text/plain": [
       "True"
      ]
     },
     "execution_count": 14,
     "metadata": {},
     "output_type": "execute_result"
    }
   ],
   "source": [
    "True!=False"
   ]
  },
  {
   "cell_type": "code",
   "execution_count": 15,
   "id": "e23c1ba9",
   "metadata": {},
   "outputs": [
    {
     "data": {
      "text/plain": [
       "False"
      ]
     },
     "execution_count": 15,
     "metadata": {},
     "output_type": "execute_result"
    }
   ],
   "source": [
    "1>=2"
   ]
  },
  {
   "cell_type": "code",
   "execution_count": 11,
   "id": "be20334f-6874-4756-80bf-454a89fb6970",
   "metadata": {
    "tags": []
   },
   "outputs": [
    {
     "data": {
      "text/plain": [
       "False"
      ]
     },
     "execution_count": 11,
     "metadata": {},
     "output_type": "execute_result"
    }
   ],
   "source": [
    "\"a\" == \"A\""
   ]
  },
  {
   "cell_type": "code",
   "execution_count": 13,
   "id": "e862f9c0-f73b-4efc-8ac9-a52ed5ef3b49",
   "metadata": {
    "tags": []
   },
   "outputs": [
    {
     "name": "stdout",
     "output_type": "stream",
     "text": [
      "65\n",
      "97\n"
     ]
    }
   ],
   "source": [
    "print(ord(\"A\"))\n",
    "print(ord(\"a\"))   "
   ]
  },
  {
   "cell_type": "code",
   "execution_count": 8,
   "id": "37abdaee-a525-475c-86a6-a871eeeeb99a",
   "metadata": {
    "tags": []
   },
   "outputs": [
    {
     "data": {
      "text/plain": [
       "True"
      ]
     },
     "execution_count": 8,
     "metadata": {},
     "output_type": "execute_result"
    }
   ],
   "source": [
    "\"xyz\">\"xya\""
   ]
  },
  {
   "cell_type": "markdown",
   "id": "1c0dd598-3e8a-451d-9f66-e719ea29982b",
   "metadata": {},
   "source": [
    "### x=x (true)\n",
    " y =y (true)\n",
    " z>a (true) that is the reason of first one is true"
   ]
  },
  {
   "cell_type": "code",
   "execution_count": 9,
   "id": "f9856366-8dba-4a84-bd92-a0b550713c8f",
   "metadata": {
    "tags": []
   },
   "outputs": [
    {
     "data": {
      "text/plain": [
       "False"
      ]
     },
     "execution_count": 9,
     "metadata": {},
     "output_type": "execute_result"
    }
   ],
   "source": [
    "\"xyzzz\" > \"z\""
   ]
  },
  {
   "cell_type": "raw",
   "id": "aff33031-b479-4d55-8bae-148b4bd953ca",
   "metadata": {},
   "source": [
    "# x > z (false)"
   ]
  },
  {
   "cell_type": "markdown",
   "id": "08b1a24d-4460-4134-aa24-0cbebbe43d12",
   "metadata": {},
   "source": [
    "## logical operator ( and or not)"
   ]
  },
  {
   "cell_type": "code",
   "execution_count": 16,
   "id": "0527adec",
   "metadata": {},
   "outputs": [
    {
     "data": {
      "text/plain": [
       "False"
      ]
     },
     "execution_count": 16,
     "metadata": {},
     "output_type": "execute_result"
    }
   ],
   "source": [
    "True and False"
   ]
  },
  {
   "cell_type": "code",
   "execution_count": 17,
   "id": "3cf31d8e",
   "metadata": {},
   "outputs": [
    {
     "data": {
      "text/plain": [
       "1"
      ]
     },
     "execution_count": 17,
     "metadata": {},
     "output_type": "execute_result"
    }
   ],
   "source": [
    "1 and 1"
   ]
  },
  {
   "cell_type": "code",
   "execution_count": 18,
   "id": "88b076ea",
   "metadata": {},
   "outputs": [
    {
     "data": {
      "text/plain": [
       "0"
      ]
     },
     "execution_count": 18,
     "metadata": {},
     "output_type": "execute_result"
    }
   ],
   "source": [
    "1 and 0"
   ]
  },
  {
   "cell_type": "code",
   "execution_count": 19,
   "id": "2f649ad7",
   "metadata": {},
   "outputs": [
    {
     "data": {
      "text/plain": [
       "1"
      ]
     },
     "execution_count": 19,
     "metadata": {},
     "output_type": "execute_result"
    }
   ],
   "source": [
    "1 or 1"
   ]
  },
  {
   "cell_type": "code",
   "execution_count": 20,
   "id": "c20d2de7",
   "metadata": {},
   "outputs": [
    {
     "data": {
      "text/plain": [
       "True"
      ]
     },
     "execution_count": 20,
     "metadata": {},
     "output_type": "execute_result"
    }
   ],
   "source": [
    "True or False"
   ]
  },
  {
   "cell_type": "code",
   "execution_count": 10,
   "id": "f78ebf31-c47d-41cc-ab0f-5644a31b9b4b",
   "metadata": {
    "tags": []
   },
   "outputs": [
    {
     "data": {
      "text/plain": [
       "10"
      ]
     },
     "execution_count": 10,
     "metadata": {},
     "output_type": "execute_result"
    }
   ],
   "source": [
    "\"sachin\" and 10"
   ]
  },
  {
   "cell_type": "code",
   "execution_count": 11,
   "id": "2b28a925-eead-45e9-9f3a-bcb63a411f7b",
   "metadata": {
    "tags": []
   },
   "outputs": [
    {
     "data": {
      "text/plain": [
       "'sachin'"
      ]
     },
     "execution_count": 11,
     "metadata": {},
     "output_type": "execute_result"
    }
   ],
   "source": [
    "\"sachin\" or 10"
   ]
  },
  {
   "cell_type": "code",
   "execution_count": 12,
   "id": "32d66a6a-460a-4855-876d-7e24cc8644c9",
   "metadata": {
    "tags": []
   },
   "outputs": [
    {
     "data": {
      "text/plain": [
       "'mumbai'"
      ]
     },
     "execution_count": 12,
     "metadata": {},
     "output_type": "execute_result"
    }
   ],
   "source": [
    "\"bombay\" and \"mumbai\""
   ]
  },
  {
   "cell_type": "code",
   "execution_count": 13,
   "id": "ad3ce38a-0730-4f88-808d-11d2c9bbad16",
   "metadata": {
    "tags": []
   },
   "outputs": [
    {
     "data": {
      "text/plain": [
       "'bombay'"
      ]
     },
     "execution_count": 13,
     "metadata": {},
     "output_type": "execute_result"
    }
   ],
   "source": [
    "\"bombay\" or \"mumbai\""
   ]
  },
  {
   "cell_type": "code",
   "execution_count": 14,
   "id": "2c0ce24a-e487-408c-a823-e827752f2ed8",
   "metadata": {
    "tags": []
   },
   "outputs": [
    {
     "data": {
      "text/plain": [
       "0"
      ]
     },
     "execution_count": 14,
     "metadata": {},
     "output_type": "execute_result"
    }
   ],
   "source": [
    "0 and \"hello\""
   ]
  },
  {
   "cell_type": "code",
   "execution_count": 15,
   "id": "e64ba52c-59f0-4071-99b1-8e6b157e3b14",
   "metadata": {
    "tags": []
   },
   "outputs": [
    {
     "data": {
      "text/plain": [
       "'hello'"
      ]
     },
     "execution_count": 15,
     "metadata": {},
     "output_type": "execute_result"
    }
   ],
   "source": [
    "0 or \"hello\""
   ]
  },
  {
   "cell_type": "code",
   "execution_count": 1,
   "id": "a3571d00-2bf3-487c-b6aa-51075c19d109",
   "metadata": {
    "tags": []
   },
   "outputs": [
    {
     "data": {
      "text/plain": [
       "0"
      ]
     },
     "execution_count": 1,
     "metadata": {},
     "output_type": "execute_result"
    }
   ],
   "source": [
    "10&4"
   ]
  },
  {
   "cell_type": "code",
   "execution_count": 24,
   "id": "145ce342",
   "metadata": {},
   "outputs": [
    {
     "data": {
      "text/plain": [
       "'0b1010'"
      ]
     },
     "execution_count": 24,
     "metadata": {},
     "output_type": "execute_result"
    }
   ],
   "source": [
    "bin(10)"
   ]
  },
  {
   "cell_type": "code",
   "execution_count": 25,
   "id": "f2d8d827",
   "metadata": {},
   "outputs": [
    {
     "data": {
      "text/plain": [
       "'0b100'"
      ]
     },
     "execution_count": 25,
     "metadata": {},
     "output_type": "execute_result"
    }
   ],
   "source": [
    "bin(4)"
   ]
  },
  {
   "cell_type": "code",
   "execution_count": 26,
   "id": "35dc09fc",
   "metadata": {},
   "outputs": [
    {
     "data": {
      "text/plain": [
       "20"
      ]
     },
     "execution_count": 26,
     "metadata": {},
     "output_type": "execute_result"
    }
   ],
   "source": [
    "23&20"
   ]
  },
  {
   "cell_type": "code",
   "execution_count": 27,
   "id": "84d9cdb7",
   "metadata": {},
   "outputs": [
    {
     "data": {
      "text/plain": [
       "'0b10111'"
      ]
     },
     "execution_count": 27,
     "metadata": {},
     "output_type": "execute_result"
    }
   ],
   "source": [
    "bin(23)"
   ]
  },
  {
   "cell_type": "code",
   "execution_count": 28,
   "id": "63951441",
   "metadata": {},
   "outputs": [
    {
     "data": {
      "text/plain": [
       "'0b10100'"
      ]
     },
     "execution_count": 28,
     "metadata": {},
     "output_type": "execute_result"
    }
   ],
   "source": [
    "bin(20)"
   ]
  },
  {
   "cell_type": "code",
   "execution_count": 30,
   "id": "5850e6bd",
   "metadata": {},
   "outputs": [
    {
     "data": {
      "text/plain": [
       "20"
      ]
     },
     "execution_count": 30,
     "metadata": {},
     "output_type": "execute_result"
    }
   ],
   "source": [
    "20 or 4"
   ]
  },
  {
   "cell_type": "code",
   "execution_count": 31,
   "id": "a6214dd4",
   "metadata": {},
   "outputs": [
    {
     "data": {
      "text/plain": [
       "'0b10100'"
      ]
     },
     "execution_count": 31,
     "metadata": {},
     "output_type": "execute_result"
    }
   ],
   "source": [
    "bin(20)"
   ]
  },
  {
   "cell_type": "code",
   "execution_count": 32,
   "id": "97d03922",
   "metadata": {},
   "outputs": [
    {
     "data": {
      "text/plain": [
       "'0b100'"
      ]
     },
     "execution_count": 32,
     "metadata": {},
     "output_type": "execute_result"
    }
   ],
   "source": [
    "bin(4)"
   ]
  },
  {
   "cell_type": "markdown",
   "id": "016d8693-2ac1-4a81-9ea3-c0b3e60e7627",
   "metadata": {},
   "source": [
    "# assingment operator"
   ]
  },
  {
   "cell_type": "code",
   "execution_count": 1,
   "id": "a4220ffe-7200-4943-877c-8fddce8d6703",
   "metadata": {
    "tags": []
   },
   "outputs": [],
   "source": [
    "a,b =10,20"
   ]
  },
  {
   "cell_type": "code",
   "execution_count": 2,
   "id": "de21506a-e9c1-4cf8-b19d-4650e212fbf2",
   "metadata": {
    "tags": []
   },
   "outputs": [
    {
     "name": "stdout",
     "output_type": "stream",
     "text": [
      "10 20\n"
     ]
    }
   ],
   "source": [
    "print(a,b)"
   ]
  },
  {
   "cell_type": "code",
   "execution_count": 4,
   "id": "250b9077-00e8-4f6d-bfc0-a4929c43a848",
   "metadata": {
    "tags": []
   },
   "outputs": [],
   "source": [
    "a=b=10"
   ]
  },
  {
   "cell_type": "code",
   "execution_count": 5,
   "id": "0c13b90f-745e-4ba0-80c6-6820cc99e5b1",
   "metadata": {
    "tags": []
   },
   "outputs": [
    {
     "name": "stdout",
     "output_type": "stream",
     "text": [
      "10 10\n"
     ]
    }
   ],
   "source": [
    "print(a,b)"
   ]
  },
  {
   "cell_type": "code",
   "execution_count": 6,
   "id": "4fc5cdc0-cd5b-4bc3-a0b8-0bc80f180ea9",
   "metadata": {
    "tags": []
   },
   "outputs": [
    {
     "ename": "TypeError",
     "evalue": "cannot unpack non-iterable int object",
     "output_type": "error",
     "traceback": [
      "\u001b[1;31m---------------------------------------------------------------------------\u001b[0m",
      "\u001b[1;31mTypeError\u001b[0m                                 Traceback (most recent call last)",
      "Cell \u001b[1;32mIn[6], line 1\u001b[0m\n\u001b[1;32m----> 1\u001b[0m a,b \u001b[38;5;241m=\u001b[39m \u001b[38;5;241m10\u001b[39m\n",
      "\u001b[1;31mTypeError\u001b[0m: cannot unpack non-iterable int object"
     ]
    }
   ],
   "source": [
    "a,b = 10"
   ]
  },
  {
   "cell_type": "code",
   "execution_count": 9,
   "id": "ebaab974-6108-46c6-96f7-cf28088df567",
   "metadata": {
    "tags": []
   },
   "outputs": [
    {
     "ename": "ValueError",
     "evalue": "too many values to unpack (expected 3)",
     "output_type": "error",
     "traceback": [
      "\u001b[1;31m---------------------------------------------------------------------------\u001b[0m",
      "\u001b[1;31mValueError\u001b[0m                                Traceback (most recent call last)",
      "Cell \u001b[1;32mIn[9], line 1\u001b[0m\n\u001b[1;32m----> 1\u001b[0m a,b,c \u001b[38;5;241m=\u001b[39m \u001b[38;5;241m10\u001b[39m , \u001b[38;5;241m20\u001b[39m ,\u001b[38;5;241m30\u001b[39m ,\u001b[38;5;241m40\u001b[39m\n",
      "\u001b[1;31mValueError\u001b[0m: too many values to unpack (expected 3)"
     ]
    }
   ],
   "source": [
    "a,b,c = 10 , 20 ,30 ,40"
   ]
  },
  {
   "cell_type": "code",
   "execution_count": null,
   "id": "6310d4f6-238c-4e8d-916a-f3792ab3b79f",
   "metadata": {},
   "outputs": [],
   "source": []
  },
  {
   "cell_type": "code",
   "execution_count": 33,
   "id": "c399ad70",
   "metadata": {},
   "outputs": [],
   "source": [
    "a=10"
   ]
  },
  {
   "cell_type": "code",
   "execution_count": 36,
   "id": "879af020",
   "metadata": {},
   "outputs": [],
   "source": [
    "a+=3"
   ]
  },
  {
   "cell_type": "code",
   "execution_count": 37,
   "id": "11be7ce8",
   "metadata": {},
   "outputs": [
    {
     "data": {
      "text/plain": [
       "13"
      ]
     },
     "execution_count": 37,
     "metadata": {},
     "output_type": "execute_result"
    }
   ],
   "source": [
    "a"
   ]
  },
  {
   "cell_type": "code",
   "execution_count": 43,
   "id": "e8d09ff4",
   "metadata": {},
   "outputs": [],
   "source": [
    "b=3"
   ]
  },
  {
   "cell_type": "code",
   "execution_count": 44,
   "id": "5d838ed1",
   "metadata": {},
   "outputs": [
    {
     "data": {
      "text/plain": [
       "3"
      ]
     },
     "execution_count": 44,
     "metadata": {},
     "output_type": "execute_result"
    }
   ],
   "source": [
    "b"
   ]
  },
  {
   "cell_type": "code",
   "execution_count": 45,
   "id": "9873c0b8",
   "metadata": {},
   "outputs": [],
   "source": [
    "b -= 2"
   ]
  },
  {
   "cell_type": "code",
   "execution_count": 46,
   "id": "a433eae4",
   "metadata": {},
   "outputs": [
    {
     "data": {
      "text/plain": [
       "1"
      ]
     },
     "execution_count": 46,
     "metadata": {},
     "output_type": "execute_result"
    }
   ],
   "source": [
    "b"
   ]
  },
  {
   "cell_type": "markdown",
   "id": "d1baab46-4ec8-48aa-9263-d732112f1cf2",
   "metadata": {},
   "source": [
    "### identity operator = is , is not --->>> true / false"
   ]
  },
  {
   "cell_type": "code",
   "execution_count": 14,
   "id": "16d9d117-d568-48ea-8101-adc464d39e5d",
   "metadata": {
    "tags": []
   },
   "outputs": [
    {
     "data": {
      "text/plain": [
       "140719781090376"
      ]
     },
     "execution_count": 14,
     "metadata": {},
     "output_type": "execute_result"
    }
   ],
   "source": [
    "a = 10  # it return true until the id is same\n",
    "id(a)"
   ]
  },
  {
   "cell_type": "code",
   "execution_count": 2,
   "id": "f3f63cb4-4ecb-423a-95a3-099709c97c76",
   "metadata": {
    "tags": []
   },
   "outputs": [
    {
     "data": {
      "text/plain": [
       "2587254941168"
      ]
     },
     "execution_count": 2,
     "metadata": {},
     "output_type": "execute_result"
    }
   ],
   "source": [
    "m = \"mayank\"\n",
    "id(m)"
   ]
  },
  {
   "cell_type": "code",
   "execution_count": 3,
   "id": "cd5f1ead-d55b-46d6-b12b-42efc0787a66",
   "metadata": {
    "tags": []
   },
   "outputs": [
    {
     "data": {
      "text/plain": [
       "140704136205128"
      ]
     },
     "execution_count": 3,
     "metadata": {},
     "output_type": "execute_result"
    }
   ],
   "source": [
    "b=2\n",
    "id(b)"
   ]
  },
  {
   "cell_type": "code",
   "execution_count": 12,
   "id": "70ce5466-c066-40ba-b72b-6f75f5a12c4b",
   "metadata": {
    "tags": []
   },
   "outputs": [
    {
     "data": {
      "text/plain": [
       "140704136205128"
      ]
     },
     "execution_count": 12,
     "metadata": {},
     "output_type": "execute_result"
    }
   ],
   "source": [
    "c=2\n",
    "id(c)"
   ]
  },
  {
   "cell_type": "code",
   "execution_count": 7,
   "id": "0a0a274a-c0f6-4250-aa85-b4aa6ff509ed",
   "metadata": {
    "tags": []
   },
   "outputs": [
    {
     "data": {
      "text/plain": [
       "140704136205192"
      ]
     },
     "execution_count": 7,
     "metadata": {},
     "output_type": "execute_result"
    }
   ],
   "source": [
    "d=4\n",
    "id(d)"
   ]
  },
  {
   "cell_type": "code",
   "execution_count": 8,
   "id": "b6fc2c9a-4c11-4c07-9632-a4ff0583e664",
   "metadata": {
    "tags": []
   },
   "outputs": [
    {
     "data": {
      "text/plain": [
       "False"
      ]
     },
     "execution_count": 8,
     "metadata": {},
     "output_type": "execute_result"
    }
   ],
   "source": [
    "a , b = 2, 3\n",
    "a is b"
   ]
  },
  {
   "cell_type": "code",
   "execution_count": 9,
   "id": "47ff9259-e381-4465-a12d-fce1969917f1",
   "metadata": {
    "tags": []
   },
   "outputs": [
    {
     "data": {
      "text/plain": [
       "True"
      ]
     },
     "execution_count": 9,
     "metadata": {},
     "output_type": "execute_result"
    }
   ],
   "source": [
    "m , n = 2,2\n",
    "m is n"
   ]
  },
  {
   "cell_type": "code",
   "execution_count": 10,
   "id": "b9cf849c-5893-4ca2-9e1e-2bc70eecee3e",
   "metadata": {
    "tags": []
   },
   "outputs": [
    {
     "data": {
      "text/plain": [
       "False"
      ]
     },
     "execution_count": 10,
     "metadata": {},
     "output_type": "execute_result"
    }
   ],
   "source": [
    "x = 2\n",
    "type(x) is float"
   ]
  },
  {
   "cell_type": "code",
   "execution_count": 11,
   "id": "033b4646-6e62-455e-8d61-b598d6b9ca6c",
   "metadata": {
    "tags": []
   },
   "outputs": [
    {
     "data": {
      "text/plain": [
       "True"
      ]
     },
     "execution_count": 11,
     "metadata": {},
     "output_type": "execute_result"
    }
   ],
   "source": [
    "s1 =\"BLR\"\n",
    "s2 =\"blr\"\n",
    "s1 is not s2"
   ]
  },
  {
   "cell_type": "markdown",
   "id": "c70ff47d-6c74-448b-9332-c51676e8cdc1",
   "metadata": {},
   "source": [
    "### membership operator = in , not in (in sequence) ----->>> true / false"
   ]
  },
  {
   "cell_type": "code",
   "execution_count": null,
   "id": "b16dd731-827c-4a30-8c59-3772653c4902",
   "metadata": {},
   "outputs": [],
   "source": [
    "# kernal restart"
   ]
  },
  {
   "cell_type": "code",
   "execution_count": 1,
   "id": "baecba00-775a-40c1-853a-0ee011d4ceca",
   "metadata": {
    "tags": []
   },
   "outputs": [],
   "source": [
    "m = \"mayank\"\n",
    "a = \"a\""
   ]
  },
  {
   "cell_type": "code",
   "execution_count": 2,
   "id": "bfa1eccb-735c-4b7f-9fa6-efc8aeceee7c",
   "metadata": {
    "tags": []
   },
   "outputs": [
    {
     "data": {
      "text/plain": [
       "True"
      ]
     },
     "execution_count": 2,
     "metadata": {},
     "output_type": "execute_result"
    }
   ],
   "source": [
    " \"y\" in m"
   ]
  },
  {
   "cell_type": "code",
   "execution_count": 3,
   "id": "86c3fa29-5bf2-41ac-919e-cb22dbdd9dfb",
   "metadata": {
    "tags": []
   },
   "outputs": [
    {
     "data": {
      "text/plain": [
       "False"
      ]
     },
     "execution_count": 3,
     "metadata": {},
     "output_type": "execute_result"
    }
   ],
   "source": [
    "'i' in m"
   ]
  },
  {
   "cell_type": "code",
   "execution_count": 4,
   "id": "ebd1637e-e753-4df0-a574-ef59961205fa",
   "metadata": {
    "tags": []
   },
   "outputs": [
    {
     "data": {
      "text/plain": [
       "True"
      ]
     },
     "execution_count": 4,
     "metadata": {},
     "output_type": "execute_result"
    }
   ],
   "source": [
    "\"\" in m"
   ]
  },
  {
   "cell_type": "code",
   "execution_count": 5,
   "id": "06ba20b3-f536-4ed2-a3c1-a003af0e49fa",
   "metadata": {
    "tags": []
   },
   "outputs": [
    {
     "data": {
      "text/plain": [
       "False"
      ]
     },
     "execution_count": 5,
     "metadata": {},
     "output_type": "execute_result"
    }
   ],
   "source": [
    "\" \" in m"
   ]
  },
  {
   "cell_type": "code",
   "execution_count": 7,
   "id": "e68f1a51-0cae-4b16-b68b-dd233b94a5d9",
   "metadata": {
    "tags": []
   },
   "outputs": [
    {
     "data": {
      "text/plain": [
       "True"
      ]
     },
     "execution_count": 7,
     "metadata": {},
     "output_type": "execute_result"
    }
   ],
   "source": [
    "\"aya\" in m"
   ]
  },
  {
   "cell_type": "code",
   "execution_count": 8,
   "id": "385c5176-e2be-4908-b601-d1b803fc67cc",
   "metadata": {
    "tags": []
   },
   "outputs": [
    {
     "data": {
      "text/plain": [
       "False"
      ]
     },
     "execution_count": 8,
     "metadata": {},
     "output_type": "execute_result"
    }
   ],
   "source": [
    "\"myk\" in m"
   ]
  },
  {
   "cell_type": "code",
   "execution_count": 9,
   "id": "80e2cc4f-a755-4027-bcba-7f4da50f72e0",
   "metadata": {
    "tags": []
   },
   "outputs": [
    {
     "data": {
      "text/plain": [
       "False"
      ]
     },
     "execution_count": 9,
     "metadata": {},
     "output_type": "execute_result"
    }
   ],
   "source": [
    "\"kna\" in m"
   ]
  },
  {
   "cell_type": "code",
   "execution_count": null,
   "id": "8ae289a9-507e-475a-afd5-f6840b1691d5",
   "metadata": {},
   "outputs": [],
   "source": []
  },
  {
   "cell_type": "code",
   "execution_count": 6,
   "id": "debefaae-df52-4c4d-a122-e3e637a1b2ae",
   "metadata": {
    "tags": []
   },
   "outputs": [],
   "source": [
    "primes = [ 2,3,5,7,11]"
   ]
  },
  {
   "cell_type": "code",
   "execution_count": 10,
   "id": "1c9af9bf-0817-4f26-92ce-d1e4fe853223",
   "metadata": {
    "tags": []
   },
   "outputs": [
    {
     "data": {
      "text/plain": [
       "True"
      ]
     },
     "execution_count": 10,
     "metadata": {},
     "output_type": "execute_result"
    }
   ],
   "source": [
    " 3 in primes"
   ]
  },
  {
   "cell_type": "markdown",
   "id": "dccba9ac-ace4-41ce-93f9-b355dcc5c6c6",
   "metadata": {},
   "source": [
    "# bitwise operator"
   ]
  },
  {
   "cell_type": "code",
   "execution_count": 47,
   "id": "fe1ed2f8",
   "metadata": {},
   "outputs": [
    {
     "data": {
      "text/plain": [
       "15"
      ]
     },
     "execution_count": 47,
     "metadata": {},
     "output_type": "execute_result"
    }
   ],
   "source": [
    "12|3"
   ]
  },
  {
   "cell_type": "code",
   "execution_count": 48,
   "id": "f08913c4",
   "metadata": {},
   "outputs": [
    {
     "data": {
      "text/plain": [
       "'0b1100'"
      ]
     },
     "execution_count": 48,
     "metadata": {},
     "output_type": "execute_result"
    }
   ],
   "source": [
    "bin(12)"
   ]
  },
  {
   "cell_type": "code",
   "execution_count": 49,
   "id": "b7bdf7a4",
   "metadata": {},
   "outputs": [
    {
     "data": {
      "text/plain": [
       "'0b11'"
      ]
     },
     "execution_count": 49,
     "metadata": {},
     "output_type": "execute_result"
    }
   ],
   "source": [
    "bin(3)"
   ]
  },
  {
   "cell_type": "code",
   "execution_count": 50,
   "id": "772f4c0a",
   "metadata": {},
   "outputs": [
    {
     "data": {
      "text/plain": [
       "'0b1111'"
      ]
     },
     "execution_count": 50,
     "metadata": {},
     "output_type": "execute_result"
    }
   ],
   "source": [
    "bin(15)"
   ]
  },
  {
   "cell_type": "code",
   "execution_count": 51,
   "id": "43d0eb0b",
   "metadata": {},
   "outputs": [
    {
     "data": {
      "text/plain": [
       "-21"
      ]
     },
     "execution_count": 51,
     "metadata": {},
     "output_type": "execute_result"
    }
   ],
   "source": [
    "~20"
   ]
  },
  {
   "cell_type": "code",
   "execution_count": 52,
   "id": "5bc0cdbb",
   "metadata": {},
   "outputs": [
    {
     "data": {
      "text/plain": [
       "'0b10100'"
      ]
     },
     "execution_count": 52,
     "metadata": {},
     "output_type": "execute_result"
    }
   ],
   "source": [
    "bin(20)"
   ]
  },
  {
   "cell_type": "code",
   "execution_count": 10,
   "id": "a4860916",
   "metadata": {
    "scrolled": true,
    "tags": []
   },
   "outputs": [
    {
     "data": {
      "text/plain": [
       "'0b10101'"
      ]
     },
     "execution_count": 10,
     "metadata": {},
     "output_type": "execute_result"
    }
   ],
   "source": [
    "bin(21)"
   ]
  },
  {
   "cell_type": "code",
   "execution_count": 69,
   "id": "925603c1",
   "metadata": {},
   "outputs": [
    {
     "data": {
      "text/plain": [
       "80"
      ]
     },
     "execution_count": 69,
     "metadata": {},
     "output_type": "execute_result"
    }
   ],
   "source": [
    "20<<2"
   ]
  },
  {
   "cell_type": "code",
   "execution_count": 70,
   "id": "074548ca",
   "metadata": {},
   "outputs": [
    {
     "data": {
      "text/plain": [
       "'0b10100'"
      ]
     },
     "execution_count": 70,
     "metadata": {},
     "output_type": "execute_result"
    }
   ],
   "source": [
    "bin(20)"
   ]
  },
  {
   "cell_type": "code",
   "execution_count": null,
   "id": "6447970d",
   "metadata": {},
   "outputs": [],
   "source": []
  },
  {
   "cell_type": "markdown",
   "id": "50250097-a4b0-46a3-a465-ea11fb9f9eda",
   "metadata": {},
   "source": [
    "### none type---->>>> 0 ,0+0j,false,[],(),0*0"
   ]
  },
  {
   "cell_type": "code",
   "execution_count": null,
   "id": "27a7a8c2-ad72-436d-b25d-798d2ae3f1d3",
   "metadata": {},
   "outputs": [],
   "source": []
  },
  {
   "cell_type": "markdown",
   "id": "e5f2fc93-5aca-47ea-a3b3-70e5f2dfc499",
   "metadata": {},
   "source": [
    "# is / == operator"
   ]
  },
  {
   "cell_type": "markdown",
   "id": "57d11902-79c1-441e-a4b0-1594adc78e52",
   "metadata": {},
   "source": [
    "**(==)------> return true until the value is same**"
   ]
  },
  {
   "cell_type": "markdown",
   "id": "4caf73fc-f774-4bfd-aafc-ee963eff53eb",
   "metadata": {},
   "source": [
    "*(is)------> return true when id of both is same*"
   ]
  },
  {
   "cell_type": "code",
   "execution_count": null,
   "id": "929a83e6-affa-48b5-a1e1-9b9b6501a068",
   "metadata": {},
   "outputs": [],
   "source": [
    "# restart kernal"
   ]
  },
  {
   "cell_type": "code",
   "execution_count": 3,
   "id": "74b868cf-29bb-48eb-be30-d3822fc2692c",
   "metadata": {
    "tags": []
   },
   "outputs": [
    {
     "name": "stdout",
     "output_type": "stream",
     "text": [
      "False\n",
      "False\n",
      "140724196184968\n",
      "140724196228392\n"
     ]
    }
   ],
   "source": [
    "a= 4\n",
    "b =\"4\"\n",
    "\n",
    "print(a is b)    #exact location of object in the memory location\n",
    "\n",
    "print(a==b)# compare value\n",
    "print(id(a))\n",
    "print(id(b))"
   ]
  },
  {
   "cell_type": "code",
   "execution_count": null,
   "id": "89cbd5c1-378f-4604-8e25-07edf6be2c26",
   "metadata": {},
   "outputs": [],
   "source": []
  },
  {
   "cell_type": "code",
   "execution_count": 4,
   "id": "99091b2b-8e75-482e-ad97-364e3875f10c",
   "metadata": {
    "tags": []
   },
   "outputs": [
    {
     "name": "stdout",
     "output_type": "stream",
     "text": [
      "True\n",
      "True\n",
      "140724196184936\n",
      "140724196184936\n"
     ]
    }
   ],
   "source": [
    "a1 = 3 \n",
    "b1 = 3\n",
    "\n",
    "print(a1 is b1)\n",
    "print(a1==b1)\n",
    "print(id(a1))\n",
    "print(id(b1))"
   ]
  },
  {
   "cell_type": "markdown",
   "id": "084edf0e-fb1c-4efa-9664-45b06f9d3a83",
   "metadata": {},
   "source": [
    "**is----->>>>>for constant(*int*) and immutable(*string,tuple*) it store same memory location**"
   ]
  },
  {
   "cell_type": "code",
   "execution_count": 1,
   "id": "cb12863f-90fa-42b3-9162-e34dabc4b431",
   "metadata": {
    "tags": []
   },
   "outputs": [
    {
     "name": "stdout",
     "output_type": "stream",
     "text": [
      "True\n",
      "True\n"
     ]
    }
   ],
   "source": [
    "c=\"jerry\"\n",
    "d=\"jerry\"\n",
    "print(c is d)\n",
    "print(c==d)"
   ]
  },
  {
   "cell_type": "code",
   "execution_count": null,
   "id": "a42eed28-ea48-40a6-a370-389d2cc4f3f5",
   "metadata": {},
   "outputs": [],
   "source": []
  },
  {
   "cell_type": "code",
   "execution_count": 20,
   "id": "322331b0-35af-4f6a-876b-dd93a1d0bdbb",
   "metadata": {
    "tags": []
   },
   "outputs": [
    {
     "name": "stdout",
     "output_type": "stream",
     "text": [
      "False\n",
      "True\n"
     ]
    }
   ],
   "source": [
    "c1=[1,2]\n",
    "d1=[1,2]\n",
    "print(c1 is d1)\n",
    "print(c1==d1)\n"
   ]
  },
  {
   "cell_type": "code",
   "execution_count": 23,
   "id": "64fc2ff2-eb04-4600-bf74-f80116d4b6fa",
   "metadata": {
    "tags": []
   },
   "outputs": [
    {
     "name": "stdout",
     "output_type": "stream",
     "text": [
      "2519211975808\n"
     ]
    },
    {
     "data": {
      "text/plain": [
       "2519211967168"
      ]
     },
     "execution_count": 23,
     "metadata": {},
     "output_type": "execute_result"
    }
   ],
   "source": [
    "print(id(c1))\n",
    "id(d1)"
   ]
  },
  {
   "cell_type": "code",
   "execution_count": null,
   "id": "f2122eb5-622a-4949-8855-6fc5d87cf03a",
   "metadata": {},
   "outputs": [],
   "source": []
  },
  {
   "cell_type": "code",
   "execution_count": 32,
   "id": "b77fef7a-e8b0-472f-9016-ea9ce14fbc23",
   "metadata": {
    "tags": []
   },
   "outputs": [
    {
     "name": "stdout",
     "output_type": "stream",
     "text": [
      "False 3 4 5\n"
     ]
    }
   ],
   "source": [
    "x= 2,3,4,5         # x=2 , x=3 , x=4 , x=5\n",
    "print(x==2,3,4,5)"
   ]
  },
  {
   "cell_type": "code",
   "execution_count": 31,
   "id": "8c62c213-bce5-40cb-a7e1-2b729b3373a7",
   "metadata": {
    "tags": []
   },
   "outputs": [
    {
     "name": "stdout",
     "output_type": "stream",
     "text": [
      "140724196184904\n",
      "140724196184936\n"
     ]
    }
   ],
   "source": [
    "print(id(2))\n",
    "print(id(3))"
   ]
  },
  {
   "cell_type": "code",
   "execution_count": 27,
   "id": "1608f29c-9944-44c2-8aea-b5ba75a11371",
   "metadata": {
    "tags": []
   },
   "outputs": [
    {
     "data": {
      "text/plain": [
       "(False, 45, 56)"
      ]
     },
     "execution_count": 27,
     "metadata": {},
     "output_type": "execute_result"
    }
   ],
   "source": [
    "z=34,45,56\n",
    "z==34,45,56"
   ]
  },
  {
   "cell_type": "code",
   "execution_count": null,
   "id": "e86bf6bf-ec99-44b0-9863-a853eb90d1a6",
   "metadata": {},
   "outputs": [],
   "source": []
  }
 ],
 "metadata": {
  "kernelspec": {
   "display_name": "Python 3 (ipykernel)",
   "language": "python",
   "name": "python3"
  },
  "language_info": {
   "codemirror_mode": {
    "name": "ipython",
    "version": 3
   },
   "file_extension": ".py",
   "mimetype": "text/x-python",
   "name": "python",
   "nbconvert_exporter": "python",
   "pygments_lexer": "ipython3",
   "version": "3.11.5"
  }
 },
 "nbformat": 4,
 "nbformat_minor": 5
}
