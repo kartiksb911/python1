{
 "cells": [
  {
   "cell_type": "markdown",
   "id": "307b00be-5802-4b5b-b77b-411764fda165",
   "metadata": {},
   "source": [
    "### \"w\" mode"
   ]
  },
  {
   "cell_type": "code",
   "execution_count": 1,
   "id": "f2fce1ab-a097-44e9-a55a-c25c77911534",
   "metadata": {
    "tags": []
   },
   "outputs": [],
   "source": [
    "file = open(\"text.txt\" ,\"w\")\n",
    "\n"
   ]
  },
  {
   "cell_type": "code",
   "execution_count": 2,
   "id": "e2da6f9c-e28e-4913-9a31-72229ffb1b15",
   "metadata": {
    "tags": []
   },
   "outputs": [],
   "source": [
    "file.write(\"this is my file\")\n",
    "file.close()"
   ]
  },
  {
   "cell_type": "code",
   "execution_count": 3,
   "id": "a476a71d-1e7c-40d2-a7dd-5cfd9a271902",
   "metadata": {
    "tags": []
   },
   "outputs": [],
   "source": [
    "file = open(\"text.txt\" ,\"w\")"
   ]
  },
  {
   "cell_type": "code",
   "execution_count": 4,
   "id": "cb4dc8f3-ae90-4126-a71b-26d2d6e548fd",
   "metadata": {
    "tags": []
   },
   "outputs": [],
   "source": [
    "file.write(\"none\")\n",
    "file.close()"
   ]
  },
  {
   "cell_type": "markdown",
   "id": "6ba370d8-641a-4db9-affd-b0a4aa22fd69",
   "metadata": {},
   "source": [
    "### \"a\" mode"
   ]
  },
  {
   "cell_type": "code",
   "execution_count": 11,
   "id": "395e2b06-c0ad-4446-bc35-473acbf04af1",
   "metadata": {
    "tags": []
   },
   "outputs": [],
   "source": [
    "file = open(\"text.txt\" ,\"a\")"
   ]
  },
  {
   "cell_type": "code",
   "execution_count": 12,
   "id": "1a8b52a4-2c36-4b74-820d-7805f96c4f1c",
   "metadata": {
    "tags": []
   },
   "outputs": [
    {
     "data": {
      "text/plain": [
       "132"
      ]
     },
     "execution_count": 12,
     "metadata": {},
     "output_type": "execute_result"
    }
   ],
   "source": [
    "file.write(\"The Machine Learning Bootcamp is an immersive, computational program designed to teach artificial intelligence and machine learning.\")\n"
   ]
  },
  {
   "cell_type": "code",
   "execution_count": 13,
   "id": "46489816-f1b5-402e-8119-2c849ba49730",
   "metadata": {
    "tags": []
   },
   "outputs": [],
   "source": [
    "file.close()"
   ]
  },
  {
   "cell_type": "markdown",
   "id": "5d5fb6fd-31b1-4a33-95c5-3f1e534a3884",
   "metadata": {},
   "source": [
    "### reading a file "
   ]
  },
  {
   "cell_type": "code",
   "execution_count": null,
   "id": "9b3ad409-328f-4874-b00a-3f1c147503a3",
   "metadata": {},
   "outputs": [],
   "source": []
  },
  {
   "cell_type": "markdown",
   "id": "cbabf2a0-9e30-4cca-9128-1cbe6300bc5a",
   "metadata": {},
   "source": [
    "#### \"r\" mode"
   ]
  },
  {
   "cell_type": "code",
   "execution_count": 19,
   "id": "053a3da0-f35c-4de1-8ca9-453b2c9f0b74",
   "metadata": {
    "tags": []
   },
   "outputs": [],
   "source": [
    "data = open(\"text.txt\" ,\"r\")"
   ]
  },
  {
   "cell_type": "code",
   "execution_count": 20,
   "id": "e98f6ff9-fbc7-4b58-8731-ab39908b7669",
   "metadata": {
    "tags": []
   },
   "outputs": [
    {
     "data": {
      "text/plain": [
       "'noneThe Machine Learning Bootcamp is an immersive, computational program designed to teach artificial intelligence and machine learning.The Machine Learning Bootcamp is an immersive, computational program designed to teach artificial intelligence and machine learning.'"
      ]
     },
     "execution_count": 20,
     "metadata": {},
     "output_type": "execute_result"
    }
   ],
   "source": [
    "data.read()"
   ]
  },
  {
   "cell_type": "code",
   "execution_count": 21,
   "id": "d875c480-bd78-4541-93ff-2117da903982",
   "metadata": {
    "tags": []
   },
   "outputs": [
    {
     "data": {
      "text/plain": [
       "20"
      ]
     },
     "execution_count": 21,
     "metadata": {},
     "output_type": "execute_result"
    }
   ],
   "source": [
    "data.seek(20)"
   ]
  },
  {
   "cell_type": "code",
   "execution_count": 22,
   "id": "f4b354f5-d8bc-44d1-842f-428f6be498a4",
   "metadata": {
    "tags": []
   },
   "outputs": [
    {
     "data": {
      "text/plain": [
       "'ning Bootcamp is an immersive, computational program designed to teach artificial intelligence and machine learning.The Machine Learning Bootcamp is an immersive, computational program designed to teach artificial intelligence and machine learning.'"
      ]
     },
     "execution_count": 22,
     "metadata": {},
     "output_type": "execute_result"
    }
   ],
   "source": [
    "data.readline()"
   ]
  },
  {
   "cell_type": "markdown",
   "id": "edcf2b8d-1e1d-4eb5-aea9-75ea8aa6dee4",
   "metadata": {},
   "source": [
    "### 2nd method"
   ]
  },
  {
   "cell_type": "code",
   "execution_count": 25,
   "id": "cdf28cba-59bf-4f2a-857f-94c18aa6b642",
   "metadata": {
    "tags": []
   },
   "outputs": [],
   "source": [
    "data = open(\"text.txt\" ,\"r\")"
   ]
  },
  {
   "cell_type": "code",
   "execution_count": 26,
   "id": "a18d632f-4e4a-4b66-8cbe-f28fbad163f6",
   "metadata": {
    "tags": []
   },
   "outputs": [
    {
     "name": "stdout",
     "output_type": "stream",
     "text": [
      "noneThe Machine Learning Bootcamp is an immersive, computational program designed to teach artificial intelligence and machine learning.The Machine Learning Bootcamp is an immersive, computational program designed to teach artificial intelligence and machine learning.\n"
     ]
    }
   ],
   "source": [
    "for i in data:\n",
    "    print(i)"
   ]
  },
  {
   "cell_type": "code",
   "execution_count": null,
   "id": "ae191f84-8736-4458-9bbf-c84ef5d07499",
   "metadata": {},
   "outputs": [],
   "source": []
  },
  {
   "cell_type": "markdown",
   "id": "0002bb35-0a98-4f0c-a146-795c2d52115f",
   "metadata": {},
   "source": [
    "### os --->>> module "
   ]
  },
  {
   "cell_type": "code",
   "execution_count": 27,
   "id": "f8478340-5449-4e7c-9470-4635d937a2cf",
   "metadata": {
    "tags": []
   },
   "outputs": [],
   "source": [
    "import os"
   ]
  },
  {
   "cell_type": "code",
   "execution_count": 32,
   "id": "ed5a865b-cd3e-4cc6-ae04-9a2701c585dc",
   "metadata": {
    "tags": []
   },
   "outputs": [],
   "source": [
    "f = open(\"file.txt\" ,\"w\")"
   ]
  },
  {
   "cell_type": "code",
   "execution_count": 33,
   "id": "3adc74ff-0db4-4415-ac16-40515b528c53",
   "metadata": {
    "tags": []
   },
   "outputs": [],
   "source": [
    "f.write(\"india is my country\")\n",
    "f.close()"
   ]
  },
  {
   "cell_type": "code",
   "execution_count": 34,
   "id": "5357dd94-77b5-4e34-9330-a91f5819599b",
   "metadata": {
    "tags": []
   },
   "outputs": [
    {
     "data": {
      "text/plain": [
       "19"
      ]
     },
     "execution_count": 34,
     "metadata": {},
     "output_type": "execute_result"
    }
   ],
   "source": [
    "os.path.getsize(\"file.txt\")"
   ]
  },
  {
   "cell_type": "code",
   "execution_count": 35,
   "id": "8504430a-6ce5-4b24-9fa9-07e8328948cd",
   "metadata": {
    "tags": []
   },
   "outputs": [],
   "source": [
    "### rename the file\n",
    "\n",
    "os.rename(\"file.txt\",\"new.txt\")"
   ]
  },
  {
   "cell_type": "markdown",
   "id": "8181b66c-2544-4b20-8406-a4dba89d9419",
   "metadata": {},
   "source": [
    "#### copy the file"
   ]
  },
  {
   "cell_type": "code",
   "execution_count": 36,
   "id": "07dcc9e1-07b2-47c1-8d9e-ef8986035683",
   "metadata": {
    "tags": []
   },
   "outputs": [],
   "source": [
    "import shutil"
   ]
  },
  {
   "cell_type": "code",
   "execution_count": 37,
   "id": "4a9d188a-845e-45ac-ae86-14f92a18fbb4",
   "metadata": {
    "tags": []
   },
   "outputs": [
    {
     "data": {
      "text/plain": [
       "'new1.txt'"
      ]
     },
     "execution_count": 37,
     "metadata": {},
     "output_type": "execute_result"
    }
   ],
   "source": [
    "shutil.copy(\"new.txt\",\"new1.txt\")"
   ]
  },
  {
   "cell_type": "markdown",
   "id": "9eceef06-8b7f-43db-9eb6-ae356b0f8a94",
   "metadata": {},
   "source": [
    "### 2nd method to write and read file"
   ]
  },
  {
   "cell_type": "code",
   "execution_count": 8,
   "id": "4b6cbf84-415a-45c9-9ec2-24fa8f0116a5",
   "metadata": {
    "tags": []
   },
   "outputs": [],
   "source": [
    "with open(\"test.txt\",\"a\") as file1:\n",
    "    file1.write(\"this is my second method\")"
   ]
  },
  {
   "cell_type": "code",
   "execution_count": 9,
   "id": "0e7733c4-6a35-41ec-9ff1-58fc23db7d04",
   "metadata": {
    "tags": []
   },
   "outputs": [],
   "source": [
    "file1.close()"
   ]
  },
  {
   "cell_type": "code",
   "execution_count": 12,
   "id": "6def611a-7a7d-4ca6-a5ed-f95df8493c5f",
   "metadata": {
    "tags": []
   },
   "outputs": [],
   "source": [
    "with open(\"test.txt\",\"a\") as file1:\n",
    "    file1.write(\"all is good\")"
   ]
  },
  {
   "cell_type": "code",
   "execution_count": 13,
   "id": "68a244b5-c61c-4add-a1fa-54ea28f28ee8",
   "metadata": {
    "tags": []
   },
   "outputs": [],
   "source": [
    "file1.close()"
   ]
  },
  {
   "cell_type": "code",
   "execution_count": null,
   "id": "9fc29e2e-54ee-47bf-b439-d4244e9b600d",
   "metadata": {},
   "outputs": [],
   "source": []
  },
  {
   "cell_type": "markdown",
   "id": "5241a9a1-ed3b-42a2-83b7-ca73916b4c6a",
   "metadata": {},
   "source": [
    "### json "
   ]
  },
  {
   "cell_type": "code",
   "execution_count": 20,
   "id": "566894bf-b42a-4cad-9eb2-edbaa2926575",
   "metadata": {
    "tags": []
   },
   "outputs": [],
   "source": [
    "data = {\n",
    "    \"name\":\"kartik\",\n",
    "    \"phone\":34524577,\n",
    "    \"address\":\"lj\"\n",
    "   \n",
    "    \n",
    "}"
   ]
  },
  {
   "cell_type": "code",
   "execution_count": 21,
   "id": "6ecf43da-e64a-4efb-891b-5870d1ab6be5",
   "metadata": {
    "tags": []
   },
   "outputs": [],
   "source": [
    "import json"
   ]
  },
  {
   "cell_type": "code",
   "execution_count": 25,
   "id": "99eb6546-e4e9-4f8c-bf7d-e53412d81bce",
   "metadata": {
    "tags": []
   },
   "outputs": [],
   "source": [
    "with open(\"data.json\",\"w\")as f:\n",
    "    json.dump(data,f)\n",
    "    \n",
    "    \n"
   ]
  },
  {
   "cell_type": "code",
   "execution_count": 27,
   "id": "e004a1a0-463e-46f8-8639-c062930ebec0",
   "metadata": {
    "tags": []
   },
   "outputs": [
    {
     "name": "stdout",
     "output_type": "stream",
     "text": [
      "{\"name\": \"kartik\", \"phone\": 34524577, \"address\": \"lj\"}\n"
     ]
    }
   ],
   "source": [
    "with open(\"data.json\",\"r\") as f:\n",
    "    print(f.read())"
   ]
  },
  {
   "cell_type": "code",
   "execution_count": null,
   "id": "ec8a9d30-f0bc-415a-95d2-b74a808a280c",
   "metadata": {},
   "outputs": [],
   "source": []
  },
  {
   "cell_type": "markdown",
   "id": "4349bbef-f69c-4ca9-82cf-d52cb0dd23f1",
   "metadata": {},
   "source": [
    "### csv ---->>>> comma separated value"
   ]
  },
  {
   "cell_type": "code",
   "execution_count": 3,
   "id": "6e009b35-e8b7-40bc-aabd-10b5a2c51df1",
   "metadata": {
    "tags": []
   },
   "outputs": [],
   "source": [
    "import csv"
   ]
  },
  {
   "cell_type": "code",
   "execution_count": 4,
   "id": "10087ecf-f096-46c6-856c-508e9898733a",
   "metadata": {
    "tags": []
   },
   "outputs": [],
   "source": [
    "data = [ [\"name\",\"class\",\"roll no.\"],\n",
    "        [\"kartik\",12,21],\n",
    "        [\"shubham\",12,23],\n",
    "        [\"ankit\",12,25]\n",
    "       ]"
   ]
  },
  {
   "cell_type": "code",
   "execution_count": 5,
   "id": "5ef53253-30d6-4343-ad71-bf6168ebfc66",
   "metadata": {
    "tags": []
   },
   "outputs": [],
   "source": [
    "with open(\"data.csv\",\"w\") as f:\n",
    "    w=csv.writer(f)\n",
    "    for i in data:\n",
    "        w.writerow(i)"
   ]
  },
  {
   "cell_type": "code",
   "execution_count": null,
   "id": "85edb32f-a350-40f0-985d-cf6b31bd1eec",
   "metadata": {},
   "outputs": [],
   "source": []
  },
  {
   "cell_type": "code",
   "execution_count": 8,
   "id": "3dd588aa-8dbc-4eae-a82d-6c30cfd4c399",
   "metadata": {
    "tags": []
   },
   "outputs": [
    {
     "ename": "TypeError",
     "evalue": "a bytes-like object is required, not 'str'",
     "output_type": "error",
     "traceback": [
      "\u001b[1;31m---------------------------------------------------------------------------\u001b[0m",
      "\u001b[1;31mTypeError\u001b[0m                                 Traceback (most recent call last)",
      "Cell \u001b[1;32mIn[8], line 2\u001b[0m\n\u001b[0;32m      1\u001b[0m \u001b[38;5;28;01mwith\u001b[39;00m \u001b[38;5;28mopen\u001b[39m(\u001b[38;5;124m\"\u001b[39m\u001b[38;5;124ma.bin\u001b[39m\u001b[38;5;124m\"\u001b[39m,\u001b[38;5;124m\"\u001b[39m\u001b[38;5;124mwb\u001b[39m\u001b[38;5;124m\"\u001b[39m) \u001b[38;5;28;01mas\u001b[39;00m file:\n\u001b[1;32m----> 2\u001b[0m     file\u001b[38;5;241m.\u001b[39mwrite(\u001b[38;5;124m\"\u001b[39m\u001b[38;5;124mabdd\u001b[39m\u001b[38;5;124m\"\u001b[39m)\n\u001b[0;32m      3\u001b[0m     file\u001b[38;5;241m.\u001b[39mclose()\n",
      "\u001b[1;31mTypeError\u001b[0m: a bytes-like object is required, not 'str'"
     ]
    }
   ],
   "source": [
    "with open(\"a.bin\",\"wb\") as file:\n",
    "    file.write(\"abdd\")\n",
    "    file.close()"
   ]
  },
  {
   "cell_type": "code",
   "execution_count": null,
   "id": "c3adb3e4-8612-4083-b466-aef8975fc8bd",
   "metadata": {},
   "outputs": [],
   "source": []
  }
 ],
 "metadata": {
  "kernelspec": {
   "display_name": "Python 3 (ipykernel)",
   "language": "python",
   "name": "python3"
  },
  "language_info": {
   "codemirror_mode": {
    "name": "ipython",
    "version": 3
   },
   "file_extension": ".py",
   "mimetype": "text/x-python",
   "name": "python",
   "nbconvert_exporter": "python",
   "pygments_lexer": "ipython3",
   "version": "3.11.5"
  }
 },
 "nbformat": 4,
 "nbformat_minor": 5
}
