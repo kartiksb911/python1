{
 "cells": [
  {
   "cell_type": "markdown",
   "id": "215fd3cb-f4ac-48c8-bc96-06dd7936e8b7",
   "metadata": {},
   "source": [
    "## type casting --->>> Implicite & explicite"
   ]
  },
  {
   "cell_type": "code",
   "execution_count": null,
   "id": "063027d2-1081-4570-9a96-46008e1b7504",
   "metadata": {},
   "outputs": [],
   "source": [
    "  \n",
    "    "
   ]
  },
  {
   "cell_type": "markdown",
   "id": "81ac595d-821f-45c1-8e25-b20955a28c5a",
   "metadata": {},
   "source": [
    "**implicite**"
   ]
  },
  {
   "cell_type": "code",
   "execution_count": 2,
   "id": "1e4a2e47-fe2b-412a-bb5d-8d4519d84a19",
   "metadata": {
    "tags": []
   },
   "outputs": [
    {
     "name": "stdout",
     "output_type": "stream",
     "text": [
      "7.5\n"
     ]
    }
   ],
   "source": [
    "a = 3\n",
    "b = 4.5\n",
    "print(a+b)"
   ]
  },
  {
   "cell_type": "code",
   "execution_count": null,
   "id": "b539364a-d23a-4aec-a8da-63b2f21aa0f7",
   "metadata": {},
   "outputs": [],
   "source": []
  },
  {
   "cell_type": "markdown",
   "id": "c65b28c5-1f8d-4711-9959-a48a98931eae",
   "metadata": {},
   "source": [
    "**explicite**"
   ]
  },
  {
   "cell_type": "code",
   "execution_count": 4,
   "id": "00e85ba6-156a-48c6-8d3a-a0f8c58e35df",
   "metadata": {
    "tags": []
   },
   "outputs": [
    {
     "name": "stdout",
     "output_type": "stream",
     "text": [
      "3\n",
      "3\n",
      "3\n"
     ]
    }
   ],
   "source": [
    "print(int(3))\n",
    "\n",
    "print(int(3.8))\n",
    "\n",
    "print(int(\"3\"))\n",
    "\n"
   ]
  },
  {
   "cell_type": "code",
   "execution_count": 6,
   "id": "b916ef16-a1d5-4e02-8dde-73a6562f5c4e",
   "metadata": {
    "tags": []
   },
   "outputs": [
    {
     "ename": "ValueError",
     "evalue": "invalid literal for int() with base 10: '3.9'",
     "output_type": "error",
     "traceback": [
      "\u001b[1;31m---------------------------------------------------------------------------\u001b[0m",
      "\u001b[1;31mValueError\u001b[0m                                Traceback (most recent call last)",
      "Cell \u001b[1;32mIn[6], line 1\u001b[0m\n\u001b[1;32m----> 1\u001b[0m \u001b[38;5;28mprint\u001b[39m(\u001b[38;5;28mint\u001b[39m(\u001b[38;5;124m\"\u001b[39m\u001b[38;5;124m3.9\u001b[39m\u001b[38;5;124m\"\u001b[39m))\n",
      "\u001b[1;31mValueError\u001b[0m: invalid literal for int() with base 10: '3.9'"
     ]
    }
   ],
   "source": [
    "print(int(\"3.9\"))\n"
   ]
  },
  {
   "cell_type": "code",
   "execution_count": 7,
   "id": "7d59f94d-9f9c-4143-9ded-c1c665450b83",
   "metadata": {
    "tags": []
   },
   "outputs": [
    {
     "ename": "TypeError",
     "evalue": "int() argument must be a string, a bytes-like object or a real number, not 'complex'",
     "output_type": "error",
     "traceback": [
      "\u001b[1;31m---------------------------------------------------------------------------\u001b[0m",
      "\u001b[1;31mTypeError\u001b[0m                                 Traceback (most recent call last)",
      "Cell \u001b[1;32mIn[7], line 1\u001b[0m\n\u001b[1;32m----> 1\u001b[0m \u001b[38;5;28mprint\u001b[39m(\u001b[38;5;28mint\u001b[39m(\u001b[38;5;241m3\u001b[39m\u001b[38;5;241m+\u001b[39m\u001b[38;5;241m9\u001b[39mj))\n",
      "\u001b[1;31mTypeError\u001b[0m: int() argument must be a string, a bytes-like object or a real number, not 'complex'"
     ]
    }
   ],
   "source": [
    "print(int(3+9j))"
   ]
  },
  {
   "cell_type": "code",
   "execution_count": 8,
   "id": "22da8abb-5e99-4df9-abae-2d6c0eed1a72",
   "metadata": {
    "tags": []
   },
   "outputs": [
    {
     "ename": "SyntaxError",
     "evalue": "unterminated string literal (detected at line 1) (1511711759.py, line 1)",
     "output_type": "error",
     "traceback": [
      "\u001b[1;36m  Cell \u001b[1;32mIn[8], line 1\u001b[1;36m\u001b[0m\n\u001b[1;33m    print(int(\"0b1001))\u001b[0m\n\u001b[1;37m              ^\u001b[0m\n\u001b[1;31mSyntaxError\u001b[0m\u001b[1;31m:\u001b[0m unterminated string literal (detected at line 1)\n"
     ]
    }
   ],
   "source": [
    "print(int(\"0b1001))"
   ]
  },
  {
   "cell_type": "code",
   "execution_count": null,
   "id": "ab86a779-6bdd-4f52-a3e8-f87d492a8a3d",
   "metadata": {},
   "outputs": [],
   "source": []
  },
  {
   "cell_type": "markdown",
   "id": "e2cc22a6-b7a2-47f8-b7d3-f3407e3836e4",
   "metadata": {},
   "source": [
    "# float"
   ]
  },
  {
   "cell_type": "code",
   "execution_count": 9,
   "id": "982cd021-de2e-4fd4-9dde-6774618c3300",
   "metadata": {
    "tags": []
   },
   "outputs": [
    {
     "name": "stdout",
     "output_type": "stream",
     "text": [
      "5.0\n",
      "5.6\n",
      "5.0\n",
      "5.8\n"
     ]
    }
   ],
   "source": [
    "print(float(5))\n",
    "print(float(5.6))\n",
    "print(float(\"5\"))\n",
    "print(float(\"5.8\"))"
   ]
  },
  {
   "cell_type": "code",
   "execution_count": null,
   "id": "82e42e89-4913-4030-a381-f91a0e1b19a0",
   "metadata": {},
   "outputs": [],
   "source": []
  },
  {
   "cell_type": "code",
   "execution_count": 11,
   "id": "88c29d94-2e41-4f8f-8524-d540f3d5ce78",
   "metadata": {
    "tags": []
   },
   "outputs": [
    {
     "ename": "TypeError",
     "evalue": "float() argument must be a string or a real number, not 'complex'",
     "output_type": "error",
     "traceback": [
      "\u001b[1;31m---------------------------------------------------------------------------\u001b[0m",
      "\u001b[1;31mTypeError\u001b[0m                                 Traceback (most recent call last)",
      "Cell \u001b[1;32mIn[11], line 2\u001b[0m\n\u001b[0;32m      1\u001b[0m \u001b[38;5;66;03m# complex and binary not allowed\u001b[39;00m\n\u001b[1;32m----> 2\u001b[0m \u001b[38;5;28mprint\u001b[39m(\u001b[38;5;28mfloat\u001b[39m(\u001b[38;5;241m5\u001b[39m\u001b[38;5;241m+\u001b[39m\u001b[38;5;241m8\u001b[39mj))\n\u001b[0;32m      3\u001b[0m \u001b[38;5;28mprint\u001b[39m(\u001b[38;5;28mfloat\u001b[39m(\u001b[38;5;124m\"\u001b[39m\u001b[38;5;124m0b0110\u001b[39m\u001b[38;5;124m\"\u001b[39m))\n",
      "\u001b[1;31mTypeError\u001b[0m: float() argument must be a string or a real number, not 'complex'"
     ]
    }
   ],
   "source": [
    "# complex and binary not allowed\n",
    "print(float(5+8j))\n",
    "print(float(\"0b0110\"))"
   ]
  },
  {
   "cell_type": "code",
   "execution_count": null,
   "id": "85b09421-e7ed-4e00-b264-9cc676f102d9",
   "metadata": {},
   "outputs": [],
   "source": []
  },
  {
   "cell_type": "markdown",
   "id": "8b0139c6-3354-46e7-b977-4d493493afbc",
   "metadata": {},
   "source": [
    "# bool --->> for bool false value is : () ,[] ,{},None,0,0*0,0+0j"
   ]
  },
  {
   "cell_type": "code",
   "execution_count": 30,
   "id": "704fef72-9136-417d-9f1d-d8cb1b1aa2c6",
   "metadata": {
    "tags": []
   },
   "outputs": [
    {
     "data": {
      "text/plain": [
       "True"
      ]
     },
     "execution_count": 30,
     "metadata": {},
     "output_type": "execute_result"
    }
   ],
   "source": [
    "bool(5)"
   ]
  },
  {
   "cell_type": "code",
   "execution_count": null,
   "id": "9b000f0f-76a5-4c02-8c0f-df06484bc231",
   "metadata": {},
   "outputs": [],
   "source": []
  },
  {
   "cell_type": "code",
   "execution_count": 31,
   "id": "21b095ab-5078-4a3a-9fe7-3d552c120130",
   "metadata": {
    "tags": []
   },
   "outputs": [
    {
     "data": {
      "text/plain": [
       "True"
      ]
     },
     "execution_count": 31,
     "metadata": {},
     "output_type": "execute_result"
    }
   ],
   "source": [
    "bool(-1)"
   ]
  },
  {
   "cell_type": "code",
   "execution_count": 32,
   "id": "6e996db1-650b-47a2-b997-9c201033a881",
   "metadata": {
    "tags": []
   },
   "outputs": [
    {
     "data": {
      "text/plain": [
       "False"
      ]
     },
     "execution_count": 32,
     "metadata": {},
     "output_type": "execute_result"
    }
   ],
   "source": [
    "bool(0)"
   ]
  },
  {
   "cell_type": "code",
   "execution_count": 35,
   "id": "517dc6b5-a1ac-4fb3-9ace-4b2610c04403",
   "metadata": {
    "tags": []
   },
   "outputs": [
    {
     "data": {
      "text/plain": [
       "False"
      ]
     },
     "execution_count": 35,
     "metadata": {},
     "output_type": "execute_result"
    }
   ],
   "source": [
    "bool(None)    # None is a data type which contain nothing"
   ]
  },
  {
   "cell_type": "code",
   "execution_count": null,
   "id": "e31364ca-667a-44c1-a5dc-df686020b6e5",
   "metadata": {},
   "outputs": [],
   "source": []
  },
  {
   "cell_type": "code",
   "execution_count": null,
   "id": "97345382-5e43-4b0f-b019-12e085fe9e7a",
   "metadata": {},
   "outputs": [],
   "source": []
  },
  {
   "cell_type": "code",
   "execution_count": null,
   "id": "e78107cf-ddd8-4d23-8c2c-cf7742d0dffa",
   "metadata": {},
   "outputs": [],
   "source": []
  },
  {
   "cell_type": "markdown",
   "id": "357dec46-e998-40d8-8d66-8544e3d42fcf",
   "metadata": {},
   "source": [
    "#complex"
   ]
  },
  {
   "cell_type": "code",
   "execution_count": 12,
   "id": "6516b4ca-2100-49cd-a3a8-c8e4db8f1233",
   "metadata": {
    "tags": []
   },
   "outputs": [
    {
     "data": {
      "text/plain": [
       "(3+0j)"
      ]
     },
     "execution_count": 12,
     "metadata": {},
     "output_type": "execute_result"
    }
   ],
   "source": [
    "complex(3)"
   ]
  },
  {
   "cell_type": "code",
   "execution_count": 13,
   "id": "d095a550-abe7-47d8-92a4-0cd8e284397d",
   "metadata": {
    "tags": []
   },
   "outputs": [
    {
     "data": {
      "text/plain": [
       "(2.3+0j)"
      ]
     },
     "execution_count": 13,
     "metadata": {},
     "output_type": "execute_result"
    }
   ],
   "source": [
    "complex(\"2.3\")"
   ]
  },
  {
   "cell_type": "code",
   "execution_count": 14,
   "id": "ee5d64b3-1c86-411a-8b34-0f62337aac8a",
   "metadata": {
    "tags": []
   },
   "outputs": [
    {
     "ename": "ValueError",
     "evalue": "complex() arg is a malformed string",
     "output_type": "error",
     "traceback": [
      "\u001b[1;31m---------------------------------------------------------------------------\u001b[0m",
      "\u001b[1;31mValueError\u001b[0m                                Traceback (most recent call last)",
      "Cell \u001b[1;32mIn[14], line 1\u001b[0m\n\u001b[1;32m----> 1\u001b[0m \u001b[38;5;28mcomplex\u001b[39m(\u001b[38;5;124m\"\u001b[39m\u001b[38;5;124m0b111\u001b[39m\u001b[38;5;124m\"\u001b[39m)\n",
      "\u001b[1;31mValueError\u001b[0m: complex() arg is a malformed string"
     ]
    }
   ],
   "source": [
    "complex(\"0b111\")"
   ]
  },
  {
   "cell_type": "code",
   "execution_count": null,
   "id": "b780d0f2-22a6-4902-bace-6bb9929ce209",
   "metadata": {},
   "outputs": [],
   "source": []
  },
  {
   "cell_type": "markdown",
   "id": "b9c33710-2753-4212-921d-48436f912e1d",
   "metadata": {},
   "source": [
    "## only iterable object is converted in list ,tuple ,set ,dict"
   ]
  },
  {
   "cell_type": "code",
   "execution_count": 16,
   "id": "14f3900a-48a8-44c2-9ef8-4581e7ea35ad",
   "metadata": {
    "tags": []
   },
   "outputs": [
    {
     "name": "stdout",
     "output_type": "stream",
     "text": [
      "<class 'str'>\n"
     ]
    }
   ],
   "source": [
    "a = \"ram\"\n",
    "print(type(a))"
   ]
  },
  {
   "cell_type": "code",
   "execution_count": 17,
   "id": "5ac9e709-f776-4c12-a825-9315c4644fc5",
   "metadata": {
    "tags": []
   },
   "outputs": [
    {
     "data": {
      "text/plain": [
       "['r', 'a', 'm']"
      ]
     },
     "execution_count": 17,
     "metadata": {},
     "output_type": "execute_result"
    }
   ],
   "source": [
    "list(a)"
   ]
  },
  {
   "cell_type": "code",
   "execution_count": 18,
   "id": "cfc5e5e5-a840-4732-bdca-ffe705164993",
   "metadata": {
    "tags": []
   },
   "outputs": [
    {
     "data": {
      "text/plain": [
       "('r', 'a', 'm')"
      ]
     },
     "execution_count": 18,
     "metadata": {},
     "output_type": "execute_result"
    }
   ],
   "source": [
    "tuple(a)"
   ]
  },
  {
   "cell_type": "code",
   "execution_count": 19,
   "id": "f9fc0dac-2d31-4361-862a-0192df60eb25",
   "metadata": {
    "tags": []
   },
   "outputs": [
    {
     "data": {
      "text/plain": [
       "{'a', 'm', 'r'}"
      ]
     },
     "execution_count": 19,
     "metadata": {},
     "output_type": "execute_result"
    }
   ],
   "source": [
    "set(a)"
   ]
  },
  {
   "cell_type": "code",
   "execution_count": 20,
   "id": "e9888016-08c9-4199-b531-d6aefa1d1d0f",
   "metadata": {
    "tags": []
   },
   "outputs": [
    {
     "ename": "ValueError",
     "evalue": "dictionary update sequence element #0 has length 1; 2 is required",
     "output_type": "error",
     "traceback": [
      "\u001b[1;31m---------------------------------------------------------------------------\u001b[0m",
      "\u001b[1;31mValueError\u001b[0m                                Traceback (most recent call last)",
      "Cell \u001b[1;32mIn[20], line 1\u001b[0m\n\u001b[1;32m----> 1\u001b[0m \u001b[38;5;28mdict\u001b[39m(a)\n",
      "\u001b[1;31mValueError\u001b[0m: dictionary update sequence element #0 has length 1; 2 is required"
     ]
    }
   ],
   "source": [
    "dict(a)"
   ]
  },
  {
   "cell_type": "code",
   "execution_count": null,
   "id": "8f164501-e3b3-4ce5-bd1e-579dc9af2504",
   "metadata": {},
   "outputs": [],
   "source": []
  },
  {
   "cell_type": "code",
   "execution_count": 21,
   "id": "d148c73a-be5e-4bd8-a66c-1deb6c131235",
   "metadata": {
    "tags": []
   },
   "outputs": [],
   "source": [
    "b= 2"
   ]
  },
  {
   "cell_type": "code",
   "execution_count": 22,
   "id": "1bdff60f-6c95-4780-a2ff-b431383551b6",
   "metadata": {
    "tags": []
   },
   "outputs": [
    {
     "ename": "TypeError",
     "evalue": "'int' object is not iterable",
     "output_type": "error",
     "traceback": [
      "\u001b[1;31m---------------------------------------------------------------------------\u001b[0m",
      "\u001b[1;31mTypeError\u001b[0m                                 Traceback (most recent call last)",
      "Cell \u001b[1;32mIn[22], line 1\u001b[0m\n\u001b[1;32m----> 1\u001b[0m \u001b[38;5;28mtuple\u001b[39m(\u001b[38;5;241m2\u001b[39m)\n",
      "\u001b[1;31mTypeError\u001b[0m: 'int' object is not iterable"
     ]
    }
   ],
   "source": [
    "tuple(2)"
   ]
  },
  {
   "cell_type": "code",
   "execution_count": 23,
   "id": "4bd538a2-ff87-4dc3-911a-b4c609e44349",
   "metadata": {
    "tags": []
   },
   "outputs": [
    {
     "ename": "TypeError",
     "evalue": "'int' object is not iterable",
     "output_type": "error",
     "traceback": [
      "\u001b[1;31m---------------------------------------------------------------------------\u001b[0m",
      "\u001b[1;31mTypeError\u001b[0m                                 Traceback (most recent call last)",
      "Cell \u001b[1;32mIn[23], line 1\u001b[0m\n\u001b[1;32m----> 1\u001b[0m \u001b[38;5;28mlist\u001b[39m(\u001b[38;5;241m2\u001b[39m)\n",
      "\u001b[1;31mTypeError\u001b[0m: 'int' object is not iterable"
     ]
    }
   ],
   "source": [
    "list(2)"
   ]
  },
  {
   "cell_type": "code",
   "execution_count": null,
   "id": "41ae7f78-a1ae-41ce-b975-a66bb9b6ddf2",
   "metadata": {},
   "outputs": [],
   "source": []
  },
  {
   "cell_type": "code",
   "execution_count": 24,
   "id": "57a80236-63b1-4aac-89a5-b4daa407963b",
   "metadata": {
    "tags": []
   },
   "outputs": [
    {
     "data": {
      "text/plain": [
       "[1, 2, 'sita']"
      ]
     },
     "execution_count": 24,
     "metadata": {},
     "output_type": "execute_result"
    }
   ],
   "source": [
    "tup = (1,2,\"sita\")\n",
    "list(tup)"
   ]
  },
  {
   "cell_type": "code",
   "execution_count": null,
   "id": "4fdf898d-1b86-428e-90fe-e5e85eacc37f",
   "metadata": {},
   "outputs": [],
   "source": []
  },
  {
   "cell_type": "code",
   "execution_count": 25,
   "id": "fafff3f4-5a7a-40fa-80fc-9315a9d20dad",
   "metadata": {
    "tags": []
   },
   "outputs": [],
   "source": [
    "_ = [1,2,1,2,1,2]"
   ]
  },
  {
   "cell_type": "code",
   "execution_count": 27,
   "id": "c85aedf4-1320-4446-8128-67ff5082fab0",
   "metadata": {
    "tags": []
   },
   "outputs": [
    {
     "data": {
      "text/plain": [
       "{1, 2}"
      ]
     },
     "execution_count": 27,
     "metadata": {},
     "output_type": "execute_result"
    }
   ],
   "source": [
    "set(_)"
   ]
  },
  {
   "cell_type": "code",
   "execution_count": null,
   "id": "fc7abe91-f4e2-4998-bd15-a9f184247fa2",
   "metadata": {},
   "outputs": [],
   "source": []
  },
  {
   "cell_type": "code",
   "execution_count": 29,
   "id": "f1656b77-ea14-4de2-bf2a-f1a6a6937c68",
   "metadata": {
    "tags": []
   },
   "outputs": [
    {
     "name": "stdout",
     "output_type": "stream",
     "text": [
      "[1, 2]\n"
     ]
    }
   ],
   "source": [
    "_1 = {1,1,1,2,2}\n",
    "print(list(_1))"
   ]
  },
  {
   "cell_type": "code",
   "execution_count": null,
   "id": "72bef552-53b8-49b8-a80e-84520c594f26",
   "metadata": {},
   "outputs": [],
   "source": []
  },
  {
   "cell_type": "code",
   "execution_count": 38,
   "id": "93f42abd-dff8-44d8-a714-2cc444f95c68",
   "metadata": {
    "tags": []
   },
   "outputs": [],
   "source": [
    "# local is not a keyword"
   ]
  },
  {
   "cell_type": "code",
   "execution_count": 36,
   "id": "07198ebd-253f-4e9c-b75f-87accb22fbbe",
   "metadata": {
    "tags": []
   },
   "outputs": [],
   "source": [
    "local = [1,2,\"ram\"]"
   ]
  },
  {
   "cell_type": "code",
   "execution_count": 37,
   "id": "6a083685-5b74-4dd2-b9e8-bc6283575c11",
   "metadata": {
    "tags": []
   },
   "outputs": [
    {
     "data": {
      "text/plain": [
       "\"[1, 2, 'ram']\""
      ]
     },
     "execution_count": 37,
     "metadata": {},
     "output_type": "execute_result"
    }
   ],
   "source": [
    "str(local)"
   ]
  },
  {
   "cell_type": "code",
   "execution_count": null,
   "id": "9721e2a1-47f1-4698-8101-9a2a5509c6e2",
   "metadata": {},
   "outputs": [],
   "source": []
  },
  {
   "cell_type": "code",
   "execution_count": null,
   "id": "7ed4472c-f5c7-46dd-9484-e634d36af2a1",
   "metadata": {},
   "outputs": [],
   "source": []
  },
  {
   "cell_type": "code",
   "execution_count": null,
   "id": "85ff7b98-df2a-4711-a1eb-d95118afaa9a",
   "metadata": {},
   "outputs": [],
   "source": []
  }
 ],
 "metadata": {
  "kernelspec": {
   "display_name": "Python 3 (ipykernel)",
   "language": "python",
   "name": "python3"
  },
  "language_info": {
   "codemirror_mode": {
    "name": "ipython",
    "version": 3
   },
   "file_extension": ".py",
   "mimetype": "text/x-python",
   "name": "python",
   "nbconvert_exporter": "python",
   "pygments_lexer": "ipython3",
   "version": "3.11.5"
  }
 },
 "nbformat": 4,
 "nbformat_minor": 5
}
